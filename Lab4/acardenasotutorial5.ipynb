{
  "nbformat": 4,
  "nbformat_minor": 0,
  "metadata": {
    "colab": {
      "name": "acardenasotutorial5.ipynb",
      "provenance": [],
      "collapsed_sections": []
    },
    "kernelspec": {
      "display_name": "Python 3",
      "name": "python3"
    },
    "language_info": {
      "name": "python"
    }
  },
  "cells": [
    {
      "cell_type": "markdown",
      "metadata": {
        "id": "N4q1ZnSVzIbA"
      },
      "source": [
        "#**Introduction to Financial Python**\n",
        "##Pandas-Resampling and DataFrame"
      ]
    },
    {
      "cell_type": "markdown",
      "metadata": {
        "id": "9xYoOvKR0UkG"
      },
      "source": [
        "###**Introduction**"
      ]
    },
    {
      "cell_type": "markdown",
      "metadata": {
        "id": "xnR2PD1cnnnF"
      },
      "source": [
        "In the last chapter we had a glimpse of Pandas. In this chapter we will learn about resampling methods and the DataFrame object, which is a powerful tool for financial data analysis."
      ]
    },
    {
      "cell_type": "markdown",
      "metadata": {
        "id": "9eG5JOwqntyV"
      },
      "source": [
        "###**Fetching Data**"
      ]
    },
    {
      "cell_type": "markdown",
      "metadata": {
        "id": "RmF8Pf3moENm"
      },
      "source": [
        "Here we use the Quandl API to retrieve data."
      ]
    },
    {
      "cell_type": "code",
      "metadata": {
        "colab": {
          "base_uri": "https://localhost:8080/"
        },
        "id": "Df9jnHdGp5tn",
        "outputId": "b57883fe-d086-48e8-c67b-729d9c43575c"
      },
      "source": [
        "!pip3 install quandl"
      ],
      "execution_count": null,
      "outputs": [
        {
          "output_type": "stream",
          "text": [
            "Collecting quandl\n",
            "  Downloading https://files.pythonhosted.org/packages/8b/2b/feefb36015beaecc5c0f9f2533e815b409621d9fa7b50b2aac621796f828/Quandl-3.6.1-py2.py3-none-any.whl\n",
            "Requirement already satisfied: pandas>=0.14 in /usr/local/lib/python3.7/dist-packages (from quandl) (1.1.5)\n",
            "Requirement already satisfied: numpy>=1.8 in /usr/local/lib/python3.7/dist-packages (from quandl) (1.19.5)\n",
            "Requirement already satisfied: more-itertools in /usr/local/lib/python3.7/dist-packages (from quandl) (8.7.0)\n",
            "Requirement already satisfied: six in /usr/local/lib/python3.7/dist-packages (from quandl) (1.15.0)\n",
            "Requirement already satisfied: requests>=2.7.0 in /usr/local/lib/python3.7/dist-packages (from quandl) (2.23.0)\n",
            "Requirement already satisfied: python-dateutil in /usr/local/lib/python3.7/dist-packages (from quandl) (2.8.1)\n",
            "Collecting inflection>=0.3.1\n",
            "  Downloading https://files.pythonhosted.org/packages/59/91/aa6bde563e0085a02a435aa99b49ef75b0a4b062635e606dab23ce18d720/inflection-0.5.1-py2.py3-none-any.whl\n",
            "Requirement already satisfied: pytz>=2017.2 in /usr/local/lib/python3.7/dist-packages (from pandas>=0.14->quandl) (2018.9)\n",
            "Requirement already satisfied: certifi>=2017.4.17 in /usr/local/lib/python3.7/dist-packages (from requests>=2.7.0->quandl) (2020.12.5)\n",
            "Requirement already satisfied: urllib3!=1.25.0,!=1.25.1,<1.26,>=1.21.1 in /usr/local/lib/python3.7/dist-packages (from requests>=2.7.0->quandl) (1.24.3)\n",
            "Requirement already satisfied: idna<3,>=2.5 in /usr/local/lib/python3.7/dist-packages (from requests>=2.7.0->quandl) (2.10)\n",
            "Requirement already satisfied: chardet<4,>=3.0.2 in /usr/local/lib/python3.7/dist-packages (from requests>=2.7.0->quandl) (3.0.4)\n",
            "Installing collected packages: inflection, quandl\n",
            "Successfully installed inflection-0.5.1 quandl-3.6.1\n"
          ],
          "name": "stdout"
        }
      ]
    },
    {
      "cell_type": "code",
      "metadata": {
        "id": "l5HGeiTzoJxP"
      },
      "source": [
        "import quandl\n",
        "quandl.ApiConfig.api_key = 'TWQ9Jm65-UXz3qV75FhB'"
      ],
      "execution_count": null,
      "outputs": []
    },
    {
      "cell_type": "markdown",
      "metadata": {
        "id": "qR7M_qvitzaQ"
      },
      "source": [
        "We will create a Series named \"aapl\" whose values are Apple's daily closing prices, which are of course indexed by dates:"
      ]
    },
    {
      "cell_type": "code",
      "metadata": {
        "colab": {
          "base_uri": "https://localhost:8080/"
        },
        "id": "PVMmWtgJuMGA",
        "outputId": "2031287d-c0f7-4455-cf7f-7fc2dc2709a9"
      },
      "source": [
        "aapl_table = quandl.get('WIKI/AAPL')\n",
        "aapl = aapl_table['Adj. Close']['2017']\n",
        "print (aapl)"
      ],
      "execution_count": null,
      "outputs": [
        {
          "output_type": "stream",
          "text": [
            "Date\n",
            "2017-01-03    114.715378\n",
            "2017-01-04    114.586983\n",
            "2017-01-05    115.169696\n",
            "2017-01-06    116.453639\n",
            "2017-01-09    117.520300\n",
            "                 ...    \n",
            "2017-12-22    175.010000\n",
            "2017-12-26    170.570000\n",
            "2017-12-27    170.600000\n",
            "2017-12-28    171.080000\n",
            "2017-12-29    169.230000\n",
            "Name: Adj. Close, Length: 249, dtype: float64\n"
          ],
          "name": "stdout"
        }
      ]
    },
    {
      "cell_type": "code",
      "metadata": {
        "colab": {
          "base_uri": "https://localhost:8080/"
        },
        "id": "D7FWYNig1yM8",
        "outputId": "a98d9f4d-a1ce-44d4-ec9c-4ef6efb22822"
      },
      "source": [
        "#Mi ejemplo\n",
        "aapl_2_table = quandl.get('WIKI/AAPL')\n",
        "aapl_2 = aapl_2_table['Adj. Close']['2018']\n",
        "print (aapl_2)"
      ],
      "execution_count": null,
      "outputs": [
        {
          "output_type": "stream",
          "text": [
            "Date\n",
            "2018-01-02    172.260\n",
            "2018-01-03    172.230\n",
            "2018-01-04    173.030\n",
            "2018-01-05    175.000\n",
            "2018-01-08    174.350\n",
            "2018-01-09    174.330\n",
            "2018-01-10    174.290\n",
            "2018-01-11    175.280\n",
            "2018-01-12    177.090\n",
            "2018-01-16    176.190\n",
            "2018-01-17    179.100\n",
            "2018-01-18    179.260\n",
            "2018-01-19    178.460\n",
            "2018-01-22    177.000\n",
            "2018-01-23    177.040\n",
            "2018-01-24    174.220\n",
            "2018-01-25    171.110\n",
            "2018-01-26    171.510\n",
            "2018-01-29    167.960\n",
            "2018-01-30    166.970\n",
            "2018-01-31    167.430\n",
            "2018-02-01    167.780\n",
            "2018-02-02    160.370\n",
            "2018-02-05    157.490\n",
            "2018-02-06    163.030\n",
            "2018-02-07    159.540\n",
            "2018-02-08    155.320\n",
            "2018-02-09    155.970\n",
            "2018-02-12    162.710\n",
            "2018-02-13    164.340\n",
            "2018-02-14    167.370\n",
            "2018-02-15    172.990\n",
            "2018-02-16    172.430\n",
            "2018-02-20    171.850\n",
            "2018-02-21    171.070\n",
            "2018-02-22    172.600\n",
            "2018-02-23    175.555\n",
            "2018-02-26    178.970\n",
            "2018-02-27    178.390\n",
            "2018-02-28    178.120\n",
            "2018-03-01    175.000\n",
            "2018-03-02    176.210\n",
            "2018-03-05    176.820\n",
            "2018-03-06    176.670\n",
            "2018-03-07    175.030\n",
            "2018-03-08    176.940\n",
            "2018-03-09    179.980\n",
            "2018-03-12    181.720\n",
            "2018-03-13    179.970\n",
            "2018-03-14    178.440\n",
            "2018-03-15    178.650\n",
            "2018-03-16    178.020\n",
            "2018-03-19    175.300\n",
            "2018-03-20    175.240\n",
            "2018-03-21    171.270\n",
            "2018-03-22    168.845\n",
            "2018-03-23    164.940\n",
            "2018-03-26    172.770\n",
            "2018-03-27    168.340\n",
            "Name: Adj. Close, dtype: float64\n"
          ],
          "name": "stdout"
        }
      ]
    },
    {
      "cell_type": "markdown",
      "metadata": {
        "id": "GJecHTtY8Kjq"
      },
      "source": [
        "Or in several consecutive months:"
      ]
    },
    {
      "cell_type": "code",
      "metadata": {
        "colab": {
          "base_uri": "https://localhost:8080/"
        },
        "id": "6VcVsLWt8My4",
        "outputId": "d53daf7b-1214-452d-b96a-b1e57bcc3095"
      },
      "source": [
        "aapl['2017-2':'2017-4']"
      ],
      "execution_count": null,
      "outputs": [
        {
          "output_type": "execute_result",
          "data": {
            "text/plain": [
              "Date\n",
              "2017-02-01    127.159749\n",
              "2017-02-02    126.942467\n",
              "2017-02-03    127.485673\n",
              "2017-02-06    128.680728\n",
              "2017-02-07    129.905412\n",
              "                 ...    \n",
              "2017-04-24    142.476496\n",
              "2017-04-25    143.369205\n",
              "2017-04-26    142.487208\n",
              "2017-04-27    142.625281\n",
              "2017-04-28    142.486415\n",
              "Name: Adj. Close, Length: 61, dtype: float64"
            ]
          },
          "metadata": {
            "tags": []
          },
          "execution_count": 5
        }
      ]
    },
    {
      "cell_type": "code",
      "metadata": {
        "colab": {
          "base_uri": "https://localhost:8080/"
        },
        "id": "SascWASu8OKh",
        "outputId": "1e8b2a79-4b35-4e48-a718-42b13dfe95b8"
      },
      "source": [
        "#Mi ejemplo\n",
        "aapl_2['2018-1':'2018-2']"
      ],
      "execution_count": null,
      "outputs": [
        {
          "output_type": "execute_result",
          "data": {
            "text/plain": [
              "Date\n",
              "2018-01-02    172.260\n",
              "2018-01-03    172.230\n",
              "2018-01-04    173.030\n",
              "2018-01-05    175.000\n",
              "2018-01-08    174.350\n",
              "2018-01-09    174.330\n",
              "2018-01-10    174.290\n",
              "2018-01-11    175.280\n",
              "2018-01-12    177.090\n",
              "2018-01-16    176.190\n",
              "2018-01-17    179.100\n",
              "2018-01-18    179.260\n",
              "2018-01-19    178.460\n",
              "2018-01-22    177.000\n",
              "2018-01-23    177.040\n",
              "2018-01-24    174.220\n",
              "2018-01-25    171.110\n",
              "2018-01-26    171.510\n",
              "2018-01-29    167.960\n",
              "2018-01-30    166.970\n",
              "2018-01-31    167.430\n",
              "2018-02-01    167.780\n",
              "2018-02-02    160.370\n",
              "2018-02-05    157.490\n",
              "2018-02-06    163.030\n",
              "2018-02-07    159.540\n",
              "2018-02-08    155.320\n",
              "2018-02-09    155.970\n",
              "2018-02-12    162.710\n",
              "2018-02-13    164.340\n",
              "2018-02-14    167.370\n",
              "2018-02-15    172.990\n",
              "2018-02-16    172.430\n",
              "2018-02-20    171.850\n",
              "2018-02-21    171.070\n",
              "2018-02-22    172.600\n",
              "2018-02-23    175.555\n",
              "2018-02-26    178.970\n",
              "2018-02-27    178.390\n",
              "2018-02-28    178.120\n",
              "Name: Adj. Close, dtype: float64"
            ]
          },
          "metadata": {
            "tags": []
          },
          "execution_count": 6
        }
      ]
    },
    {
      "cell_type": "markdown",
      "metadata": {
        "id": "ThtL4pDU8pGA"
      },
      "source": [
        ".head(N) and .tail(N) are methods for quickly accessing the first or last N elements."
      ]
    },
    {
      "cell_type": "code",
      "metadata": {
        "colab": {
          "base_uri": "https://localhost:8080/"
        },
        "id": "F3LXNoq_9vUJ",
        "outputId": "c212db13-36da-4abd-bec5-c088f7ab6754"
      },
      "source": [
        "print (aapl.head())\n",
        "print (aapl.tail(10))"
      ],
      "execution_count": null,
      "outputs": [
        {
          "output_type": "stream",
          "text": [
            "Date\n",
            "2017-01-03    114.715378\n",
            "2017-01-04    114.586983\n",
            "2017-01-05    115.169696\n",
            "2017-01-06    116.453639\n",
            "2017-01-09    117.520300\n",
            "Name: Adj. Close, dtype: float64\n",
            "Date\n",
            "2017-12-15    173.87\n",
            "2017-12-18    176.42\n",
            "2017-12-19    174.54\n",
            "2017-12-20    174.35\n",
            "2017-12-21    175.01\n",
            "2017-12-22    175.01\n",
            "2017-12-26    170.57\n",
            "2017-12-27    170.60\n",
            "2017-12-28    171.08\n",
            "2017-12-29    169.23\n",
            "Name: Adj. Close, dtype: float64\n"
          ],
          "name": "stdout"
        }
      ]
    },
    {
      "cell_type": "code",
      "metadata": {
        "colab": {
          "base_uri": "https://localhost:8080/"
        },
        "id": "GrAysSmM951y",
        "outputId": "91624545-48a3-4c92-a80d-e50763d10783"
      },
      "source": [
        "#Mi ejemplo\n",
        "print (aapl_2.head())\n",
        "print (aapl_2.tail(10))"
      ],
      "execution_count": null,
      "outputs": [
        {
          "output_type": "stream",
          "text": [
            "Date\n",
            "2018-01-02    172.26\n",
            "2018-01-03    172.23\n",
            "2018-01-04    173.03\n",
            "2018-01-05    175.00\n",
            "2018-01-08    174.35\n",
            "Name: Adj. Close, dtype: float64\n",
            "Date\n",
            "2018-03-14    178.440\n",
            "2018-03-15    178.650\n",
            "2018-03-16    178.020\n",
            "2018-03-19    175.300\n",
            "2018-03-20    175.240\n",
            "2018-03-21    171.270\n",
            "2018-03-22    168.845\n",
            "2018-03-23    164.940\n",
            "2018-03-26    172.770\n",
            "2018-03-27    168.340\n",
            "Name: Adj. Close, dtype: float64\n"
          ],
          "name": "stdout"
        }
      ]
    },
    {
      "cell_type": "markdown",
      "metadata": {
        "id": "-hWoh0mXOufU"
      },
      "source": [
        "###**Resampling**"
      ]
    },
    {
      "cell_type": "markdown",
      "metadata": {
        "id": "uLtbGqpOO19b"
      },
      "source": [
        "**series.resample(freq)** is a class called \"DatetimeIndexResampler\" which groups data in a Series object into regular time intervals. The argument \"freq\" determines the length of each interval.\n",
        "\n",
        "**series.resample.mean()** is a complete statement that groups data into intervals, and then compute the mean of each interval. For example, if we want to aggregate the daily data into monthly data by mean:"
      ]
    },
    {
      "cell_type": "code",
      "metadata": {
        "colab": {
          "base_uri": "https://localhost:8080/"
        },
        "id": "XFBQrO_xTntd",
        "outputId": "31a43c44-2784-4d04-93fc-0156daa366ac"
      },
      "source": [
        "by_month = aapl.resample('M').mean()\n",
        "print (by_month)"
      ],
      "execution_count": null,
      "outputs": [
        {
          "output_type": "stream",
          "text": [
            "Date\n",
            "2017-01-31    118.093136\n",
            "2017-02-28    132.456268\n",
            "2017-03-31    139.478802\n",
            "2017-04-30    141.728436\n",
            "2017-05-31    151.386305\n",
            "2017-06-30    147.233064\n",
            "2017-07-31    147.706190\n",
            "2017-08-31    158.856375\n",
            "2017-09-30    157.606500\n",
            "2017-10-31    157.811627\n",
            "2017-11-30    172.214500\n",
            "2017-12-31    171.893100\n",
            "Freq: M, Name: Adj. Close, dtype: float64\n"
          ],
          "name": "stdout"
        }
      ]
    },
    {
      "cell_type": "code",
      "metadata": {
        "colab": {
          "base_uri": "https://localhost:8080/"
        },
        "id": "rRfjdjSoTxFc",
        "outputId": "0c27a313-68b7-4b7c-a01c-714db0d741a0"
      },
      "source": [
        "#Mi ejemplo\n",
        "by_month_2 = aapl_2.resample('M').mean()\n",
        "print (by_month_2)"
      ],
      "execution_count": null,
      "outputs": [
        {
          "output_type": "stream",
          "text": [
            "Date\n",
            "2018-01-31    174.005238\n",
            "2018-02-28    167.678684\n",
            "2018-03-31    175.271316\n",
            "Freq: M, Name: Adj. Close, dtype: float64\n"
          ],
          "name": "stdout"
        }
      ]
    },
    {
      "cell_type": "markdown",
      "metadata": {
        "id": "Ci3i9Nb0WUI0"
      },
      "source": [
        "We can also aggregate the data by week:"
      ]
    },
    {
      "cell_type": "code",
      "metadata": {
        "colab": {
          "base_uri": "https://localhost:8080/"
        },
        "id": "spC1DDuDWVUF",
        "outputId": "7c3b896d-d16b-426a-ae73-1511aee18182"
      },
      "source": [
        "by_week = aapl.resample('W').mean()\n",
        "print (by_week.head())"
      ],
      "execution_count": null,
      "outputs": [
        {
          "output_type": "stream",
          "text": [
            "Date\n",
            "2017-01-08    115.231424\n",
            "2017-01-15    117.755360\n",
            "2017-01-22    118.461035\n",
            "2017-01-29    119.667448\n",
            "2017-02-05    124.313346\n",
            "Freq: W-SUN, Name: Adj. Close, dtype: float64\n"
          ],
          "name": "stdout"
        }
      ]
    },
    {
      "cell_type": "code",
      "metadata": {
        "colab": {
          "base_uri": "https://localhost:8080/"
        },
        "id": "mFMc22URW0wX",
        "outputId": "33e19dc3-09ab-4ee0-ba30-b3627ba2260e"
      },
      "source": [
        "#Mi ejemplo\n",
        "by_week_2 = aapl_2.resample('W').mean()\n",
        "print (by_week_2.head())"
      ],
      "execution_count": null,
      "outputs": [
        {
          "output_type": "stream",
          "text": [
            "Date\n",
            "2018-01-07    173.1300\n",
            "2018-01-14    175.0680\n",
            "2018-01-21    178.2525\n",
            "2018-01-28    174.1760\n",
            "2018-02-04    166.1020\n",
            "Freq: W-SUN, Name: Adj. Close, dtype: float64\n"
          ],
          "name": "stdout"
        }
      ]
    },
    {
      "cell_type": "markdown",
      "metadata": {
        "id": "k0NEp7hsXCDu"
      },
      "source": [
        "We can choose almost any frequency by using the format 'nf', where 'n' is an integer and 'f' is M for month, W for week and D for day."
      ]
    },
    {
      "cell_type": "code",
      "metadata": {
        "id": "LJ4jOqvUXhoP"
      },
      "source": [
        "three_day = aapl.resample('3D').mean()\n",
        "two_week  = aapl.resample('2W').mean()\n",
        "two_month = aapl.resample('2M').mean()"
      ],
      "execution_count": null,
      "outputs": []
    },
    {
      "cell_type": "code",
      "metadata": {
        "id": "IwUf8ZwxXyM4"
      },
      "source": [
        "#Mi ejemplo\n",
        "three_day_2 = aapl_2.resample('3D').mean()\n",
        "two_week_2  = aapl_2.resample('2W').mean()\n",
        "two_month_2 = aapl_2.resample('2M').mean()"
      ],
      "execution_count": null,
      "outputs": []
    },
    {
      "cell_type": "markdown",
      "metadata": {
        "id": "o4RseaROY0RI"
      },
      "source": [
        "Besides the mean() method, other methods can also be used with the resampler:"
      ]
    },
    {
      "cell_type": "code",
      "metadata": {
        "id": "k7alYDYUZnwN"
      },
      "source": [
        "std = aapl.resample('W').std()    # standard deviation\n",
        "max = aapl.resample('W').max()    # maximum value\n",
        "min = aapl.resample('W').min()    # minimum value"
      ],
      "execution_count": null,
      "outputs": []
    },
    {
      "cell_type": "code",
      "metadata": {
        "id": "JA7jNaw7Z5-e"
      },
      "source": [
        "#Mi ejemplo\n",
        "std_2 = aapl_2.resample('W').std()    # standard deviation\n",
        "max_2 = aapl_2.resample('W').max()    # maximum value\n",
        "min_2 = aapl_2.resample('W').min()    # minimum value"
      ],
      "execution_count": null,
      "outputs": []
    },
    {
      "cell_type": "markdown",
      "metadata": {
        "id": "sKCHk3lOaLvL"
      },
      "source": [
        "Often we want to calculate monthly returns of a stock, based on prices on the last day of each month. To fetch those prices, we use the series.resample.agg() method:"
      ]
    },
    {
      "cell_type": "code",
      "metadata": {
        "colab": {
          "base_uri": "https://localhost:8080/"
        },
        "id": "GsXaZgQTabZo",
        "outputId": "461e26ff-d0f5-4480-8e9f-2dc28409407b"
      },
      "source": [
        "last_day = aapl.resample('M').agg(lambda x: x[-1])\n",
        "print (last_day)"
      ],
      "execution_count": null,
      "outputs": [
        {
          "output_type": "stream",
          "text": [
            "Date\n",
            "2017-01-31    119.851150\n",
            "2017-02-28    135.880362\n",
            "2017-03-31    142.496334\n",
            "2017-04-30    142.486415\n",
            "2017-05-31    152.142689\n",
            "2017-06-30    143.438008\n",
            "2017-07-31    148.248489\n",
            "2017-08-31    164.000000\n",
            "2017-09-30    154.120000\n",
            "2017-10-31    169.040000\n",
            "2017-11-30    171.850000\n",
            "2017-12-31    169.230000\n",
            "Freq: M, Name: Adj. Close, dtype: float64\n"
          ],
          "name": "stdout"
        }
      ]
    },
    {
      "cell_type": "code",
      "metadata": {
        "colab": {
          "base_uri": "https://localhost:8080/"
        },
        "id": "Hxj85KKNaejG",
        "outputId": "1e5e7eb5-76d4-4d18-e879-ecab309a61c8"
      },
      "source": [
        "#Mi ejemplo\n",
        "last_day_2 = aapl_2.resample('M').agg(lambda x: x[-1])\n",
        "print (last_day_2)"
      ],
      "execution_count": null,
      "outputs": [
        {
          "output_type": "stream",
          "text": [
            "Date\n",
            "2018-01-31    167.43\n",
            "2018-02-28    178.12\n",
            "2018-03-31    168.34\n",
            "Freq: M, Name: Adj. Close, dtype: float64\n"
          ],
          "name": "stdout"
        }
      ]
    },
    {
      "cell_type": "markdown",
      "metadata": {
        "id": "lgRAzd3Eat0Q"
      },
      "source": [
        "Or directly calculate the monthly rates of return using the data for the first day and the last day:"
      ]
    },
    {
      "cell_type": "code",
      "metadata": {
        "colab": {
          "base_uri": "https://localhost:8080/"
        },
        "id": "rB0M41x3av4e",
        "outputId": "ae5f943b-c43d-41aa-bef6-a141182dc940"
      },
      "source": [
        "monthly_return = aapl.resample('M').agg(lambda x: x[-1]/x[1] - 1)\n",
        "print (monthly_return)"
      ],
      "execution_count": null,
      "outputs": [
        {
          "output_type": "stream",
          "text": [
            "Date\n",
            "2017-01-31    0.045940\n",
            "2017-02-28    0.070409\n",
            "2017-03-31    0.033823\n",
            "2017-04-30   -0.007736\n",
            "2017-05-31    0.039829\n",
            "2017-06-30   -0.073528\n",
            "2017-07-31    0.033035\n",
            "2017-08-31    0.047890\n",
            "2017-09-30   -0.049112\n",
            "2017-10-31    0.094252\n",
            "2017-11-30    0.022247\n",
            "2017-12-31   -0.003357\n",
            "Freq: M, Name: Adj. Close, dtype: float64\n"
          ],
          "name": "stdout"
        }
      ]
    },
    {
      "cell_type": "code",
      "metadata": {
        "colab": {
          "base_uri": "https://localhost:8080/"
        },
        "id": "KmG0dXj3bJF-",
        "outputId": "edd10449-5d62-40fd-d897-a705948080f1"
      },
      "source": [
        "#Mi ejemplo\n",
        "monthly_return_2 = aapl_2.resample('M').agg(lambda x: x[-1]/x[1] - 1)\n",
        "print (monthly_return_2)"
      ],
      "execution_count": null,
      "outputs": [
        {
          "output_type": "stream",
          "text": [
            "Date\n",
            "2018-01-31   -0.027870\n",
            "2018-02-28    0.110682\n",
            "2018-03-31   -0.044663\n",
            "Freq: M, Name: Adj. Close, dtype: float64\n"
          ],
          "name": "stdout"
        }
      ]
    },
    {
      "cell_type": "markdown",
      "metadata": {
        "id": "6RuRNkgQbRpm"
      },
      "source": [
        "Series object also provides us some convenient methods to do some quick calculation."
      ]
    },
    {
      "cell_type": "code",
      "metadata": {
        "colab": {
          "base_uri": "https://localhost:8080/"
        },
        "id": "YnMH_r1PbUfm",
        "outputId": "16930cd4-dee0-4b24-f165-c3e3a7091b93"
      },
      "source": [
        "print (monthly_return.mean())\n",
        "print (monthly_return.std())\n",
        "print (monthly_return.max())"
      ],
      "execution_count": null,
      "outputs": [
        {
          "output_type": "stream",
          "text": [
            "0.02114094011940022\n",
            "0.04775652864223314\n",
            "0.09425168306576914\n"
          ],
          "name": "stdout"
        }
      ]
    },
    {
      "cell_type": "code",
      "metadata": {
        "colab": {
          "base_uri": "https://localhost:8080/"
        },
        "id": "ML9Kfs3Tb6qW",
        "outputId": "319b478a-b698-4644-f809-1c82c97bab4d"
      },
      "source": [
        "#Mi ejemplo\n",
        "print (monthly_return_2.mean())\n",
        "print (monthly_return_2.std())\n",
        "print (monthly_return_2.max())"
      ],
      "execution_count": null,
      "outputs": [
        {
          "output_type": "stream",
          "text": [
            "0.01271640711387112\n",
            "0.0852547782104408\n",
            "0.11068154891812676\n"
          ],
          "name": "stdout"
        }
      ]
    },
    {
      "cell_type": "markdown",
      "metadata": {
        "id": "Z_5lzh2xd85X"
      },
      "source": [
        "Another two methods frequently used on Series are .diff() and .pct_change(). The former calculates the difference between consecutive elements, and the latter calculates the percentage change."
      ]
    },
    {
      "cell_type": "code",
      "metadata": {
        "colab": {
          "base_uri": "https://localhost:8080/"
        },
        "id": "Nt-lDHiGd_Cn",
        "outputId": "489a40ae-b97e-41c1-90fc-8072cce58799"
      },
      "source": [
        "print (last_day.diff())\n",
        "print (last_day.pct_change())"
      ],
      "execution_count": null,
      "outputs": [
        {
          "output_type": "stream",
          "text": [
            "Date\n",
            "2017-01-31          NaN\n",
            "2017-02-28    16.029211\n",
            "2017-03-31     6.615972\n",
            "2017-04-30    -0.009919\n",
            "2017-05-31     9.656274\n",
            "2017-06-30    -8.704681\n",
            "2017-07-31     4.810482\n",
            "2017-08-31    15.751511\n",
            "2017-09-30    -9.880000\n",
            "2017-10-31    14.920000\n",
            "2017-11-30     2.810000\n",
            "2017-12-31    -2.620000\n",
            "Freq: M, Name: Adj. Close, dtype: float64\n",
            "Date\n",
            "2017-01-31         NaN\n",
            "2017-02-28    0.133743\n",
            "2017-03-31    0.048690\n",
            "2017-04-30   -0.000070\n",
            "2017-05-31    0.067770\n",
            "2017-06-30   -0.057214\n",
            "2017-07-31    0.033537\n",
            "2017-08-31    0.106251\n",
            "2017-09-30   -0.060244\n",
            "2017-10-31    0.096808\n",
            "2017-11-30    0.016623\n",
            "2017-12-31   -0.015246\n",
            "Freq: M, Name: Adj. Close, dtype: float64\n"
          ],
          "name": "stdout"
        }
      ]
    },
    {
      "cell_type": "code",
      "metadata": {
        "colab": {
          "base_uri": "https://localhost:8080/"
        },
        "id": "snwjY0vSeHH1",
        "outputId": "c8225e8a-920c-4bc0-ceab-376efc6f98ce"
      },
      "source": [
        "#Mi ejemplo\n",
        "print (last_day_2.diff())\n",
        "print (last_day_2.pct_change())"
      ],
      "execution_count": null,
      "outputs": [
        {
          "output_type": "stream",
          "text": [
            "Date\n",
            "2018-01-31      NaN\n",
            "2018-02-28    10.69\n",
            "2018-03-31    -9.78\n",
            "Freq: M, Name: Adj. Close, dtype: float64\n",
            "Date\n",
            "2018-01-31         NaN\n",
            "2018-02-28    0.063848\n",
            "2018-03-31   -0.054907\n",
            "Freq: M, Name: Adj. Close, dtype: float64\n"
          ],
          "name": "stdout"
        }
      ]
    },
    {
      "cell_type": "markdown",
      "metadata": {
        "id": "os6DRpCFfUVs"
      },
      "source": [
        "Notice that we induced a NaN value while calculating percentage changes i.e. returns.\n",
        "\n",
        "When dealing with NaN values, we usually either removing the data point or fill it with a specific value. Here we fill it with 0:"
      ]
    },
    {
      "cell_type": "code",
      "metadata": {
        "colab": {
          "base_uri": "https://localhost:8080/"
        },
        "id": "ZISkXue9fXUH",
        "outputId": "7710e889-6f82-4f43-ef36-255f59624a85"
      },
      "source": [
        "daily_return = last_day.pct_change()\n",
        "print (daily_return.fillna(0))"
      ],
      "execution_count": null,
      "outputs": [
        {
          "output_type": "stream",
          "text": [
            "Date\n",
            "2017-01-31    0.000000\n",
            "2017-02-28    0.133743\n",
            "2017-03-31    0.048690\n",
            "2017-04-30   -0.000070\n",
            "2017-05-31    0.067770\n",
            "2017-06-30   -0.057214\n",
            "2017-07-31    0.033537\n",
            "2017-08-31    0.106251\n",
            "2017-09-30   -0.060244\n",
            "2017-10-31    0.096808\n",
            "2017-11-30    0.016623\n",
            "2017-12-31   -0.015246\n",
            "Freq: M, Name: Adj. Close, dtype: float64\n"
          ],
          "name": "stdout"
        }
      ]
    },
    {
      "cell_type": "code",
      "metadata": {
        "colab": {
          "base_uri": "https://localhost:8080/"
        },
        "id": "23KsXKOVffYX",
        "outputId": "3369630d-c401-46fc-ca3b-af6312a79106"
      },
      "source": [
        "#Mi ejemplo\n",
        "daily_return_2 = last_day_2.pct_change()\n",
        "print (daily_return_2.fillna(0))"
      ],
      "execution_count": null,
      "outputs": [
        {
          "output_type": "stream",
          "text": [
            "Date\n",
            "2018-01-31    0.000000\n",
            "2018-02-28    0.063848\n",
            "2018-03-31   -0.054907\n",
            "Freq: M, Name: Adj. Close, dtype: float64\n"
          ],
          "name": "stdout"
        }
      ]
    },
    {
      "cell_type": "markdown",
      "metadata": {
        "id": "KMTZYGr5fdaX"
      },
      "source": [
        "Alternatively, we can fill a NaN with the next fitted value. This is called 'backward fill', or 'bfill' in short:"
      ]
    },
    {
      "cell_type": "code",
      "metadata": {
        "colab": {
          "base_uri": "https://localhost:8080/"
        },
        "id": "vlE5dvX-fqYP",
        "outputId": "e391cdf1-c7a3-495b-9b46-f361fa000d7e"
      },
      "source": [
        "daily_return = last_day.pct_change()\n",
        "print (daily_return.fillna(method = 'bfill'))"
      ],
      "execution_count": null,
      "outputs": [
        {
          "output_type": "stream",
          "text": [
            "Date\n",
            "2017-01-31    0.133743\n",
            "2017-02-28    0.133743\n",
            "2017-03-31    0.048690\n",
            "2017-04-30   -0.000070\n",
            "2017-05-31    0.067770\n",
            "2017-06-30   -0.057214\n",
            "2017-07-31    0.033537\n",
            "2017-08-31    0.106251\n",
            "2017-09-30   -0.060244\n",
            "2017-10-31    0.096808\n",
            "2017-11-30    0.016623\n",
            "2017-12-31   -0.015246\n",
            "Freq: M, Name: Adj. Close, dtype: float64\n"
          ],
          "name": "stdout"
        }
      ]
    },
    {
      "cell_type": "code",
      "metadata": {
        "colab": {
          "base_uri": "https://localhost:8080/"
        },
        "id": "VpSCS6r1f3QX",
        "outputId": "e6904ea3-6266-4cb0-faf3-9e9661c9745c"
      },
      "source": [
        "#Mi ejemplo\n",
        "daily_return_2 = last_day_2.pct_change()\n",
        "print (daily_return_2.fillna(method = 'bfill'))"
      ],
      "execution_count": null,
      "outputs": [
        {
          "output_type": "stream",
          "text": [
            "Date\n",
            "2018-01-31    0.063848\n",
            "2018-02-28    0.063848\n",
            "2018-03-31   -0.054907\n",
            "Freq: M, Name: Adj. Close, dtype: float64\n"
          ],
          "name": "stdout"
        }
      ]
    },
    {
      "cell_type": "markdown",
      "metadata": {
        "id": "C5Tzi8G9gETp"
      },
      "source": [
        "As expected, since there is a 'backward fill' method, there must be a 'forward fill' method, or 'ffill' in short. However we can't use it here because the NaN is the first value.\n",
        "\n",
        "We can also simply remove NaN values by **.dropna()**"
      ]
    },
    {
      "cell_type": "code",
      "metadata": {
        "colab": {
          "base_uri": "https://localhost:8080/"
        },
        "id": "X39kY69zgLKr",
        "outputId": "48f397fc-5cc9-428e-b934-911d2080f97e"
      },
      "source": [
        "daily_return = last_day.pct_change().dropna()\n",
        "print (daily_return)"
      ],
      "execution_count": null,
      "outputs": [
        {
          "output_type": "stream",
          "text": [
            "Date\n",
            "2017-02-28    0.133743\n",
            "2017-03-31    0.048690\n",
            "2017-04-30   -0.000070\n",
            "2017-05-31    0.067770\n",
            "2017-06-30   -0.057214\n",
            "2017-07-31    0.033537\n",
            "2017-08-31    0.106251\n",
            "2017-09-30   -0.060244\n",
            "2017-10-31    0.096808\n",
            "2017-11-30    0.016623\n",
            "2017-12-31   -0.015246\n",
            "Freq: M, Name: Adj. Close, dtype: float64\n"
          ],
          "name": "stdout"
        }
      ]
    },
    {
      "cell_type": "code",
      "metadata": {
        "colab": {
          "base_uri": "https://localhost:8080/"
        },
        "id": "uWsaUIIDgflP",
        "outputId": "ab7e7cd1-7944-4604-a798-9f6d2bd1dc81"
      },
      "source": [
        "#Mi ejemplo\n",
        "daily_return_2 = last_day_2.pct_change().dropna()\n",
        "print (daily_return_2)"
      ],
      "execution_count": null,
      "outputs": [
        {
          "output_type": "stream",
          "text": [
            "Date\n",
            "2018-02-28    0.063848\n",
            "2018-03-31   -0.054907\n",
            "Freq: M, Name: Adj. Close, dtype: float64\n"
          ],
          "name": "stdout"
        }
      ]
    },
    {
      "cell_type": "markdown",
      "metadata": {
        "id": "eqItT3kTiPPx"
      },
      "source": [
        "###**DataFrame**"
      ]
    },
    {
      "cell_type": "markdown",
      "metadata": {
        "id": "Rbtm2ddPiUcJ"
      },
      "source": [
        "The **DataFrame** is the most commonly used data structure in Pandas. It is essentially a table, just like an Excel spreadsheet.\n",
        "\n",
        "More precisely, a DataFrame is a collection of Series objects, each of which may contain different data types. A DataFrame can be created from various data types: dictionary, 2-D numpy.ndarray, a Series or another DataFrame."
      ]
    },
    {
      "cell_type": "markdown",
      "metadata": {
        "id": "viiuAz8IkDvA"
      },
      "source": [
        "**Create DataFrames**\n",
        "\n",
        "The most common method of creating a DataFrame is passing a dictionary:"
      ]
    },
    {
      "cell_type": "code",
      "metadata": {
        "colab": {
          "base_uri": "https://localhost:8080/"
        },
        "id": "ZozNK3OLkLqw",
        "outputId": "3f4f53bd-871f-4fd1-f523-5373896c110a"
      },
      "source": [
        "import pandas as pd\n",
        "dict = {'AAPL': [143.5,  144.09, 142.73, 144.18, 143.77],\n",
        "        'GOOG': [898.7,  911.71, 906.69, 918.59, 926.99],\n",
        "        'IBM':  [155.58, 153.67, 152.36, 152.94, 153.49]}\n",
        "dates = pd.date_range('2017-07-03', periods = 5, freq = 'D')\n",
        "df = pd.DataFrame(dict, index = dates)\n",
        "print (df)"
      ],
      "execution_count": null,
      "outputs": [
        {
          "output_type": "stream",
          "text": [
            "              AAPL    GOOG     IBM\n",
            "2017-07-03  143.50  898.70  155.58\n",
            "2017-07-04  144.09  911.71  153.67\n",
            "2017-07-05  142.73  906.69  152.36\n",
            "2017-07-06  144.18  918.59  152.94\n",
            "2017-07-07  143.77  926.99  153.49\n"
          ],
          "name": "stdout"
        }
      ]
    },
    {
      "cell_type": "code",
      "metadata": {
        "colab": {
          "base_uri": "https://localhost:8080/"
        },
        "id": "5Wgj9I-fkbFi",
        "outputId": "89767dd7-adeb-49f2-f2ea-b3b8ff352da7"
      },
      "source": [
        "#Mi ejemplo\n",
        "dict_2 = {'AAPL': [145.3,  144.09, 142.73, 144.18, 143.77],\n",
        "        'GOOG': [898.7,  911.71, 906.69, 918.59, 926.99],\n",
        "        'IBM':  [155.58, 153.67, 152.36, 152.94, 153.49]}\n",
        "dates = pd.date_range('2021-04-10', periods = 5, freq = 'D')\n",
        "df = pd.DataFrame(dict, index = dates)\n",
        "print (df)"
      ],
      "execution_count": null,
      "outputs": [
        {
          "output_type": "stream",
          "text": [
            "              AAPL    GOOG     IBM\n",
            "2021-04-10  143.50  898.70  155.58\n",
            "2021-04-11  144.09  911.71  153.67\n",
            "2021-04-12  142.73  906.69  152.36\n",
            "2021-04-13  144.18  918.59  152.94\n",
            "2021-04-14  143.77  926.99  153.49\n"
          ],
          "name": "stdout"
        }
      ]
    },
    {
      "cell_type": "markdown",
      "metadata": {
        "id": "Pg9Lkt0o5fCM"
      },
      "source": [
        "**Manipulating DataFrames**\n",
        "\n",
        "We can fetch values in a DataFrame by columns and index. Each column in a DataFrame is essentially a Pandas Series. We can fetch a column by square brackets: **df['column_name']**\n",
        "\n",
        "If a column name contains no spaces, then we can also use df.column_name to fetch a column:"
      ]
    },
    {
      "cell_type": "code",
      "metadata": {
        "colab": {
          "base_uri": "https://localhost:8080/"
        },
        "id": "_hEVn0Zz5shc",
        "outputId": "29313dda-8489-41e0-8e44-f9b725c8de63"
      },
      "source": [
        "df = aapl_table\n",
        "print (df.Close.tail(5))\n",
        "print (df['Adj. Volume'].tail(5))"
      ],
      "execution_count": null,
      "outputs": [
        {
          "output_type": "stream",
          "text": [
            "Date\n",
            "2018-03-21    171.270\n",
            "2018-03-22    168.845\n",
            "2018-03-23    164.940\n",
            "2018-03-26    172.770\n",
            "2018-03-27    168.340\n",
            "Name: Close, dtype: float64\n",
            "Date\n",
            "2018-03-21    35247358.0\n",
            "2018-03-22    41051076.0\n",
            "2018-03-23    40248954.0\n",
            "2018-03-26    36272617.0\n",
            "2018-03-27    38962839.0\n",
            "Name: Adj. Volume, dtype: float64\n"
          ],
          "name": "stdout"
        }
      ]
    },
    {
      "cell_type": "code",
      "metadata": {
        "colab": {
          "base_uri": "https://localhost:8080/"
        },
        "id": "qkW7D8fM5zxd",
        "outputId": "8434c2cd-7697-4caf-8974-cb61f7d104df"
      },
      "source": [
        "#Mi ejemplo\n",
        "df_2 = aapl_2_table\n",
        "print (df_2.Close.tail(5))\n",
        "print (df_2['Adj. Volume'].tail(5))"
      ],
      "execution_count": null,
      "outputs": [
        {
          "output_type": "stream",
          "text": [
            "Date\n",
            "2018-03-21    171.270\n",
            "2018-03-22    168.845\n",
            "2018-03-23    164.940\n",
            "2018-03-26    172.770\n",
            "2018-03-27    168.340\n",
            "Name: Close, dtype: float64\n",
            "Date\n",
            "2018-03-21    35247358.0\n",
            "2018-03-22    41051076.0\n",
            "2018-03-23    40248954.0\n",
            "2018-03-26    36272617.0\n",
            "2018-03-27    38962839.0\n",
            "Name: Adj. Volume, dtype: float64\n"
          ],
          "name": "stdout"
        }
      ]
    },
    {
      "cell_type": "markdown",
      "metadata": {
        "id": "hDYwWJcH6IE_"
      },
      "source": [
        "All the methods we applied to a Series index such as iloc[], loc[] and resampling methods, can also be applied to a DataFrame:"
      ]
    },
    {
      "cell_type": "code",
      "metadata": {
        "colab": {
          "base_uri": "https://localhost:8080/"
        },
        "id": "gIH1idRC6L4y",
        "outputId": "e2d7b61b-6243-47e8-bda1-9826b5ef3fd6"
      },
      "source": [
        "aapl_2016 = df['2016']\n",
        "aapl_month = aapl_2016.resample('M').agg(lambda x: x[-1])\n",
        "print (aapl_month)"
      ],
      "execution_count": null,
      "outputs": [
        {
          "output_type": "stream",
          "text": [
            "              Open      High     Low  ...    Adj. Low  Adj. Close  Adj. Volume\n",
            "Date                                  ...                                     \n",
            "2016-01-31   94.79   97.3400   94.35  ...   91.156128   94.044912   64416504.0\n",
            "2016-02-29   96.86   98.2300   96.65  ...   93.880927   93.919781   35216277.0\n",
            "2016-03-31  109.72  109.9000  108.88  ...  105.760531  105.867380   25888449.0\n",
            "2016-04-30   93.99   94.7200   92.51  ...   89.859540   91.054300   68531478.0\n",
            "2016-05-31   99.60  100.4000   98.82  ...   96.575559   97.591939   42307212.0\n",
            "2016-06-30   94.44   95.7700   94.30  ...   92.158220   93.428693   35836356.0\n",
            "2016-07-31  104.19  104.5500  103.68  ...  101.325177  101.843140   27733688.0\n",
            "2016-08-31  105.66  106.5699  105.64  ...  103.796505  104.248477   29662406.0\n",
            "2016-09-30  112.46  113.3700  111.80  ...  109.849008  111.077195   36379106.0\n",
            "2016-10-31  113.65  114.2300  113.20  ...  111.224577  111.558644   26419398.0\n",
            "2016-11-30  111.56  112.2000  110.27  ...  108.908004  109.154917   36162258.0\n",
            "2016-12-31  116.65  117.2000  115.43  ...  114.004271  114.389454   30586265.0\n",
            "\n",
            "[12 rows x 12 columns]\n"
          ],
          "name": "stdout"
        }
      ]
    },
    {
      "cell_type": "code",
      "metadata": {
        "colab": {
          "base_uri": "https://localhost:8080/"
        },
        "id": "T2Dh2s-K6TYl",
        "outputId": "0f03a592-089a-4dee-cd8f-f3e3c71f929a"
      },
      "source": [
        "#Mi ejemplo\n",
        "aapl_2_2015 = df['2015']\n",
        "aapl_2_month = aapl_2_2015.resample('M').agg(lambda x: x[-1])\n",
        "print (aapl_2_month)"
      ],
      "execution_count": null,
      "outputs": [
        {
          "output_type": "stream",
          "text": [
            "              Open      High      Low  ...    Adj. Low  Adj. Close  Adj. Volume\n",
            "Date                                   ...                                     \n",
            "2015-01-31  118.40  120.0000  116.850  ...  111.007989  111.302490   83745461.0\n",
            "2015-02-28  130.00  130.5700  128.240  ...  122.305937  122.515757   62014847.0\n",
            "2015-03-31  126.09  126.4900  124.355  ...  118.600708  118.672237   42090553.0\n",
            "2015-04-30  127.50  127.8800  124.580  ...  118.815296  119.358921   83195423.0\n",
            "2015-05-31  131.23  131.4500  129.900  ...  124.403432  124.767353   50884452.0\n",
            "2015-06-30  125.57  126.1200  124.860  ...  119.576694  120.117787   44370682.0\n",
            "2015-07-31  122.60  122.6425  120.910  ...  115.793834  116.167331   42884953.0\n",
            "2015-08-31  112.13  114.5300  112.000  ...  107.745308  108.476437   56229271.0\n",
            "2015-09-30  110.17  111.5400  108.730  ...  104.599530  105.773184   65041596.0\n",
            "2015-10-31  120.99  121.2200  119.450  ...  114.912295  114.960396   49365254.0\n",
            "2015-11-30  117.99  119.4100  117.750  ...  113.764007  114.295389   39180322.0\n",
            "2015-12-31  107.01  107.0300  104.820  ...  101.271705  101.696810   40912316.0\n",
            "\n",
            "[12 rows x 12 columns]\n"
          ],
          "name": "stdout"
        }
      ]
    },
    {
      "cell_type": "markdown",
      "metadata": {
        "id": "LVLUN_Xv645Y"
      },
      "source": [
        "We may select certain columns of a DataFrame using their names:"
      ]
    },
    {
      "cell_type": "code",
      "metadata": {
        "colab": {
          "base_uri": "https://localhost:8080/"
        },
        "id": "hyhzB5-u67nF",
        "outputId": "639da89a-d23a-412d-aa7c-346718298532"
      },
      "source": [
        "aapl_bar = aapl_month[['Open', 'High', 'Low', 'Close']]\n",
        "print (aapl_bar)"
      ],
      "execution_count": null,
      "outputs": [
        {
          "output_type": "stream",
          "text": [
            "              Open      High     Low   Close\n",
            "Date                                        \n",
            "2016-01-31   94.79   97.3400   94.35   97.34\n",
            "2016-02-29   96.86   98.2300   96.65   96.69\n",
            "2016-03-31  109.72  109.9000  108.88  108.99\n",
            "2016-04-30   93.99   94.7200   92.51   93.74\n",
            "2016-05-31   99.60  100.4000   98.82   99.86\n",
            "2016-06-30   94.44   95.7700   94.30   95.60\n",
            "2016-07-31  104.19  104.5500  103.68  104.21\n",
            "2016-08-31  105.66  106.5699  105.64  106.10\n",
            "2016-09-30  112.46  113.3700  111.80  113.05\n",
            "2016-10-31  113.65  114.2300  113.20  113.54\n",
            "2016-11-30  111.56  112.2000  110.27  110.52\n",
            "2016-12-31  116.65  117.2000  115.43  115.82\n"
          ],
          "name": "stdout"
        }
      ]
    },
    {
      "cell_type": "code",
      "metadata": {
        "colab": {
          "base_uri": "https://localhost:8080/"
        },
        "id": "iVSEDU2B7gid",
        "outputId": "79cb132c-dfc4-4bc9-bbe4-c249a6020aa8"
      },
      "source": [
        "#Mi ejemplo\n",
        "aapl_2_bar = aapl_2_month[['Open', 'High', 'Low', 'Close']]\n",
        "print (aapl_2_bar)"
      ],
      "execution_count": null,
      "outputs": [
        {
          "output_type": "stream",
          "text": [
            "              Open      High      Low    Close\n",
            "Date                                          \n",
            "2015-01-31  118.40  120.0000  116.850  117.160\n",
            "2015-02-28  130.00  130.5700  128.240  128.460\n",
            "2015-03-31  126.09  126.4900  124.355  124.430\n",
            "2015-04-30  127.50  127.8800  124.580  125.150\n",
            "2015-05-31  131.23  131.4500  129.900  130.280\n",
            "2015-06-30  125.57  126.1200  124.860  125.425\n",
            "2015-07-31  122.60  122.6425  120.910  121.300\n",
            "2015-08-31  112.13  114.5300  112.000  112.760\n",
            "2015-09-30  110.17  111.5400  108.730  109.950\n",
            "2015-10-31  120.99  121.2200  119.450  119.500\n",
            "2015-11-30  117.99  119.4100  117.750  118.300\n",
            "2015-12-31  107.01  107.0300  104.820  105.260\n"
          ],
          "name": "stdout"
        }
      ]
    },
    {
      "cell_type": "markdown",
      "metadata": {
        "id": "ECFPCjJd7SlQ"
      },
      "source": [
        "We can even specify both rows and columns using loc[]. The row indices and column names are separated by a comma:"
      ]
    },
    {
      "cell_type": "code",
      "metadata": {
        "colab": {
          "base_uri": "https://localhost:8080/"
        },
        "id": "CvsFeIbh7bFg",
        "outputId": "036d7e22-9b96-48d2-e621-07bb0e68f6d0"
      },
      "source": [
        "print (aapl_month.loc['2016-03':'2016-06', ['Open', 'High', 'Low', 'Close']])"
      ],
      "execution_count": null,
      "outputs": [
        {
          "output_type": "stream",
          "text": [
            "              Open    High     Low   Close\n",
            "Date                                      \n",
            "2016-03-31  109.72  109.90  108.88  108.99\n",
            "2016-04-30   93.99   94.72   92.51   93.74\n",
            "2016-05-31   99.60  100.40   98.82   99.86\n",
            "2016-06-30   94.44   95.77   94.30   95.60\n"
          ],
          "name": "stdout"
        }
      ]
    },
    {
      "cell_type": "code",
      "metadata": {
        "colab": {
          "base_uri": "https://localhost:8080/"
        },
        "id": "w56teGlT7ssr",
        "outputId": "12fe3148-ebc8-4196-f035-f2778950af40"
      },
      "source": [
        "#Mi ejemplo\n",
        "print (aapl_2_month.loc['2015-02':'2015-05', ['Open', 'High', 'Low', 'Close']])"
      ],
      "execution_count": null,
      "outputs": [
        {
          "output_type": "stream",
          "text": [
            "              Open    High      Low   Close\n",
            "Date                                       \n",
            "2015-02-28  130.00  130.57  128.240  128.46\n",
            "2015-03-31  126.09  126.49  124.355  124.43\n",
            "2015-04-30  127.50  127.88  124.580  125.15\n",
            "2015-05-31  131.23  131.45  129.900  130.28\n"
          ],
          "name": "stdout"
        }
      ]
    },
    {
      "cell_type": "markdown",
      "metadata": {
        "id": "pF05NNBI78J5"
      },
      "source": [
        "The subset methods in DataFrame is quite useful. By writing logical statements in square brackets, we can make customized subsets:"
      ]
    },
    {
      "cell_type": "code",
      "metadata": {
        "colab": {
          "base_uri": "https://localhost:8080/"
        },
        "id": "UhYZamKL7_qM",
        "outputId": "b4b4337b-501d-48c8-9e60-a4e81fcfc2ec"
      },
      "source": [
        "import numpy as np\n",
        "above = aapl_bar[aapl_bar.Close > np.mean(aapl_bar.Close)]\n",
        "print (above)"
      ],
      "execution_count": null,
      "outputs": [
        {
          "output_type": "stream",
          "text": [
            "              Open      High     Low   Close\n",
            "Date                                        \n",
            "2016-03-31  109.72  109.9000  108.88  108.99\n",
            "2016-08-31  105.66  106.5699  105.64  106.10\n",
            "2016-09-30  112.46  113.3700  111.80  113.05\n",
            "2016-10-31  113.65  114.2300  113.20  113.54\n",
            "2016-11-30  111.56  112.2000  110.27  110.52\n",
            "2016-12-31  116.65  117.2000  115.43  115.82\n"
          ],
          "name": "stdout"
        }
      ]
    },
    {
      "cell_type": "code",
      "metadata": {
        "colab": {
          "base_uri": "https://localhost:8080/"
        },
        "id": "-LuaVUHw8JHV",
        "outputId": "8d080999-47b1-46a3-e869-08bdd93a821d"
      },
      "source": [
        "#Mi ejemplo\n",
        "above_2 = aapl_2_bar[aapl_2_bar.Close > np.mean(aapl_2_bar.Close)]\n",
        "print (above_2)"
      ],
      "execution_count": null,
      "outputs": [
        {
          "output_type": "stream",
          "text": [
            "              Open      High      Low    Close\n",
            "Date                                          \n",
            "2015-02-28  130.00  130.5700  128.240  128.460\n",
            "2015-03-31  126.09  126.4900  124.355  124.430\n",
            "2015-04-30  127.50  127.8800  124.580  125.150\n",
            "2015-05-31  131.23  131.4500  129.900  130.280\n",
            "2015-06-30  125.57  126.1200  124.860  125.425\n",
            "2015-07-31  122.60  122.6425  120.910  121.300\n"
          ],
          "name": "stdout"
        }
      ]
    },
    {
      "cell_type": "markdown",
      "metadata": {
        "id": "mI361sdS8aeF"
      },
      "source": [
        "**Data Validation**\n",
        "\n",
        "As mentioned, all methods that apply to a Series can also be applied to a DataFrame. Here we add a new column to an existing DataFrame:"
      ]
    },
    {
      "cell_type": "code",
      "metadata": {
        "colab": {
          "base_uri": "https://localhost:8080/"
        },
        "id": "ofduaO848gj0",
        "outputId": "6b114929-d338-4ea6-d530-abbb9e456fef"
      },
      "source": [
        "aapl_bar['rate_return'] = aapl_bar.Close.pct_change()\n",
        "print (aapl_bar)"
      ],
      "execution_count": null,
      "outputs": [
        {
          "output_type": "stream",
          "text": [
            "              Open      High     Low   Close  rate_return\n",
            "Date                                                     \n",
            "2016-01-31   94.79   97.3400   94.35   97.34          NaN\n",
            "2016-02-29   96.86   98.2300   96.65   96.69    -0.006678\n",
            "2016-03-31  109.72  109.9000  108.88  108.99     0.127211\n",
            "2016-04-30   93.99   94.7200   92.51   93.74    -0.139921\n",
            "2016-05-31   99.60  100.4000   98.82   99.86     0.065287\n",
            "2016-06-30   94.44   95.7700   94.30   95.60    -0.042660\n",
            "2016-07-31  104.19  104.5500  103.68  104.21     0.090063\n",
            "2016-08-31  105.66  106.5699  105.64  106.10     0.018136\n",
            "2016-09-30  112.46  113.3700  111.80  113.05     0.065504\n",
            "2016-10-31  113.65  114.2300  113.20  113.54     0.004334\n",
            "2016-11-30  111.56  112.2000  110.27  110.52    -0.026599\n",
            "2016-12-31  116.65  117.2000  115.43  115.82     0.047955\n"
          ],
          "name": "stdout"
        },
        {
          "output_type": "stream",
          "text": [
            "/usr/local/lib/python3.7/dist-packages/ipykernel_launcher.py:1: SettingWithCopyWarning: \n",
            "A value is trying to be set on a copy of a slice from a DataFrame.\n",
            "Try using .loc[row_indexer,col_indexer] = value instead\n",
            "\n",
            "See the caveats in the documentation: https://pandas.pydata.org/pandas-docs/stable/user_guide/indexing.html#returning-a-view-versus-a-copy\n",
            "  \"\"\"Entry point for launching an IPython kernel.\n"
          ],
          "name": "stderr"
        }
      ]
    },
    {
      "cell_type": "code",
      "metadata": {
        "colab": {
          "base_uri": "https://localhost:8080/"
        },
        "id": "kKR7_r9N8jzV",
        "outputId": "e9f075ec-d6cf-4bed-b1b9-3aababb5022b"
      },
      "source": [
        "#Mi ejemplo\n",
        "aapl_2_bar['rate_return'] = aapl_2_bar.Close.pct_change()\n",
        "print (aapl_2_bar)"
      ],
      "execution_count": null,
      "outputs": [
        {
          "output_type": "stream",
          "text": [
            "              Open      High      Low    Close  rate_return\n",
            "Date                                                       \n",
            "2015-01-31  118.40  120.0000  116.850  117.160          NaN\n",
            "2015-02-28  130.00  130.5700  128.240  128.460     0.096449\n",
            "2015-03-31  126.09  126.4900  124.355  124.430    -0.031372\n",
            "2015-04-30  127.50  127.8800  124.580  125.150     0.005786\n",
            "2015-05-31  131.23  131.4500  129.900  130.280     0.040991\n",
            "2015-06-30  125.57  126.1200  124.860  125.425    -0.037266\n",
            "2015-07-31  122.60  122.6425  120.910  121.300    -0.032888\n",
            "2015-08-31  112.13  114.5300  112.000  112.760    -0.070404\n",
            "2015-09-30  110.17  111.5400  108.730  109.950    -0.024920\n",
            "2015-10-31  120.99  121.2200  119.450  119.500     0.086858\n",
            "2015-11-30  117.99  119.4100  117.750  118.300    -0.010042\n",
            "2015-12-31  107.01  107.0300  104.820  105.260    -0.110228\n"
          ],
          "name": "stdout"
        },
        {
          "output_type": "stream",
          "text": [
            "/usr/local/lib/python3.7/dist-packages/ipykernel_launcher.py:2: SettingWithCopyWarning: \n",
            "A value is trying to be set on a copy of a slice from a DataFrame.\n",
            "Try using .loc[row_indexer,col_indexer] = value instead\n",
            "\n",
            "See the caveats in the documentation: https://pandas.pydata.org/pandas-docs/stable/user_guide/indexing.html#returning-a-view-versus-a-copy\n",
            "  \n"
          ],
          "name": "stderr"
        }
      ]
    },
    {
      "cell_type": "markdown",
      "metadata": {
        "id": "k7Zt76sd8skZ"
      },
      "source": [
        "Here the calculation introduced a NaN value. If the DataFrame is large, we would not be able to observe it. **isnull()** provides a convenient way to check abnormal values."
      ]
    },
    {
      "cell_type": "code",
      "metadata": {
        "colab": {
          "base_uri": "https://localhost:8080/"
        },
        "id": "QlY1tIjQ8yaX",
        "outputId": "665f64b6-4cf7-4692-e36d-0d25947e07f6"
      },
      "source": [
        "missing = aapl_bar.isnull()\n",
        "print (missing)\n",
        "print ('---------------------------------------------')\n",
        "print (missing.describe())"
      ],
      "execution_count": null,
      "outputs": [
        {
          "output_type": "stream",
          "text": [
            "             Open   High    Low  Close  rate_return\n",
            "Date                                               \n",
            "2016-01-31  False  False  False  False         True\n",
            "2016-02-29  False  False  False  False        False\n",
            "2016-03-31  False  False  False  False        False\n",
            "2016-04-30  False  False  False  False        False\n",
            "2016-05-31  False  False  False  False        False\n",
            "2016-06-30  False  False  False  False        False\n",
            "2016-07-31  False  False  False  False        False\n",
            "2016-08-31  False  False  False  False        False\n",
            "2016-09-30  False  False  False  False        False\n",
            "2016-10-31  False  False  False  False        False\n",
            "2016-11-30  False  False  False  False        False\n",
            "2016-12-31  False  False  False  False        False\n",
            "---------------------------------------------\n",
            "         Open   High    Low  Close rate_return\n",
            "count      12     12     12     12          12\n",
            "unique      1      1      1      1           2\n",
            "top     False  False  False  False       False\n",
            "freq       12     12     12     12          11\n"
          ],
          "name": "stdout"
        }
      ]
    },
    {
      "cell_type": "code",
      "metadata": {
        "colab": {
          "base_uri": "https://localhost:8080/"
        },
        "id": "dJaJojbC861V",
        "outputId": "d3cd2496-8fe6-4b9f-f4ed-24dab0de57ad"
      },
      "source": [
        "#Mi ejemplo\n",
        "missing_2 = aapl_2_bar.isnull()\n",
        "print (missing_2)\n",
        "print ('---------------------------------------------')\n",
        "print (missing_2.describe())"
      ],
      "execution_count": null,
      "outputs": [
        {
          "output_type": "stream",
          "text": [
            "             Open   High    Low  Close  rate_return\n",
            "Date                                               \n",
            "2015-01-31  False  False  False  False         True\n",
            "2015-02-28  False  False  False  False        False\n",
            "2015-03-31  False  False  False  False        False\n",
            "2015-04-30  False  False  False  False        False\n",
            "2015-05-31  False  False  False  False        False\n",
            "2015-06-30  False  False  False  False        False\n",
            "2015-07-31  False  False  False  False        False\n",
            "2015-08-31  False  False  False  False        False\n",
            "2015-09-30  False  False  False  False        False\n",
            "2015-10-31  False  False  False  False        False\n",
            "2015-11-30  False  False  False  False        False\n",
            "2015-12-31  False  False  False  False        False\n",
            "---------------------------------------------\n",
            "         Open   High    Low  Close rate_return\n",
            "count      12     12     12     12          12\n",
            "unique      1      1      1      1           2\n",
            "top     False  False  False  False       False\n",
            "freq       12     12     12     12          11\n"
          ],
          "name": "stdout"
        }
      ]
    },
    {
      "cell_type": "markdown",
      "metadata": {
        "id": "5DCXZy7Y9E7M"
      },
      "source": [
        "The row labelled \"unique\" indicates the number of unique values in each column. Since the \"rate_return\" column has 2 unique values, it has at least one missing value.\n",
        "\n",
        "We can deduce the number of missing values by comparing \"count\" with \"freq\". There are 12 counts and 11 False values, so there is one True value which corresponds to the missing value.\n",
        "\n",
        "We can also find the rows with missing values easily:"
      ]
    },
    {
      "cell_type": "code",
      "metadata": {
        "colab": {
          "base_uri": "https://localhost:8080/"
        },
        "id": "KIj0vpNn9IzT",
        "outputId": "921671ea-d695-47f6-8848-f7f1ab90949a"
      },
      "source": [
        "print (missing[missing.rate_return == True])"
      ],
      "execution_count": null,
      "outputs": [
        {
          "output_type": "stream",
          "text": [
            "             Open   High    Low  Close  rate_return\n",
            "Date                                               \n",
            "2016-01-31  False  False  False  False         True\n"
          ],
          "name": "stdout"
        }
      ]
    },
    {
      "cell_type": "code",
      "metadata": {
        "colab": {
          "base_uri": "https://localhost:8080/"
        },
        "id": "yp4uER3s9NGd",
        "outputId": "1bbde9e3-2cfe-424f-e407-a52b455fa713"
      },
      "source": [
        "#Mi ejemplo\n",
        "print (missing_2[missing_2.rate_return == True])"
      ],
      "execution_count": null,
      "outputs": [
        {
          "output_type": "stream",
          "text": [
            "             Open   High    Low  Close  rate_return\n",
            "Date                                               \n",
            "2015-01-31  False  False  False  False         True\n"
          ],
          "name": "stdout"
        }
      ]
    },
    {
      "cell_type": "markdown",
      "metadata": {
        "id": "GW9P-eNK9S6h"
      },
      "source": [
        "Usually when dealing with missing data, we either delete the whole row or fill it with some value. As we introduced in the Series chapter, the same method **dropna()** and **fillna()** can be applied to a DataFrame."
      ]
    },
    {
      "cell_type": "code",
      "metadata": {
        "colab": {
          "base_uri": "https://localhost:8080/"
        },
        "id": "Q2hwyUMs9e5A",
        "outputId": "cc81184e-c864-4d33-817e-ee103add57c2"
      },
      "source": [
        "drop = aapl_bar.dropna()\n",
        "print (drop)\n",
        "print ('\\n--------------------------------------------------\\n')\n",
        "fill = aapl_bar.fillna(0)\n",
        "print (fill)"
      ],
      "execution_count": null,
      "outputs": [
        {
          "output_type": "stream",
          "text": [
            "              Open      High     Low   Close  rate_return\n",
            "Date                                                     \n",
            "2016-02-29   96.86   98.2300   96.65   96.69    -0.006678\n",
            "2016-03-31  109.72  109.9000  108.88  108.99     0.127211\n",
            "2016-04-30   93.99   94.7200   92.51   93.74    -0.139921\n",
            "2016-05-31   99.60  100.4000   98.82   99.86     0.065287\n",
            "2016-06-30   94.44   95.7700   94.30   95.60    -0.042660\n",
            "2016-07-31  104.19  104.5500  103.68  104.21     0.090063\n",
            "2016-08-31  105.66  106.5699  105.64  106.10     0.018136\n",
            "2016-09-30  112.46  113.3700  111.80  113.05     0.065504\n",
            "2016-10-31  113.65  114.2300  113.20  113.54     0.004334\n",
            "2016-11-30  111.56  112.2000  110.27  110.52    -0.026599\n",
            "2016-12-31  116.65  117.2000  115.43  115.82     0.047955\n",
            "\n",
            "--------------------------------------------------\n",
            "\n",
            "              Open      High     Low   Close  rate_return\n",
            "Date                                                     \n",
            "2016-01-31   94.79   97.3400   94.35   97.34     0.000000\n",
            "2016-02-29   96.86   98.2300   96.65   96.69    -0.006678\n",
            "2016-03-31  109.72  109.9000  108.88  108.99     0.127211\n",
            "2016-04-30   93.99   94.7200   92.51   93.74    -0.139921\n",
            "2016-05-31   99.60  100.4000   98.82   99.86     0.065287\n",
            "2016-06-30   94.44   95.7700   94.30   95.60    -0.042660\n",
            "2016-07-31  104.19  104.5500  103.68  104.21     0.090063\n",
            "2016-08-31  105.66  106.5699  105.64  106.10     0.018136\n",
            "2016-09-30  112.46  113.3700  111.80  113.05     0.065504\n",
            "2016-10-31  113.65  114.2300  113.20  113.54     0.004334\n",
            "2016-11-30  111.56  112.2000  110.27  110.52    -0.026599\n",
            "2016-12-31  116.65  117.2000  115.43  115.82     0.047955\n"
          ],
          "name": "stdout"
        }
      ]
    },
    {
      "cell_type": "code",
      "metadata": {
        "colab": {
          "base_uri": "https://localhost:8080/"
        },
        "id": "TjsruzEh9pAO",
        "outputId": "d8eff0cd-68f4-4d1f-8f30-538c5e0a6022"
      },
      "source": [
        "#Mi ejemplo\n",
        "drop = aapl_bar.dropna()\n",
        "print (drop)\n",
        "print ('\\n--------------------------------------------------\\n')\n",
        "fill = aapl_bar.fillna(0)\n",
        "print (fill)"
      ],
      "execution_count": null,
      "outputs": [
        {
          "output_type": "stream",
          "text": [
            "              Open      High     Low   Close  rate_return\n",
            "Date                                                     \n",
            "2016-02-29   96.86   98.2300   96.65   96.69    -0.006678\n",
            "2016-03-31  109.72  109.9000  108.88  108.99     0.127211\n",
            "2016-04-30   93.99   94.7200   92.51   93.74    -0.139921\n",
            "2016-05-31   99.60  100.4000   98.82   99.86     0.065287\n",
            "2016-06-30   94.44   95.7700   94.30   95.60    -0.042660\n",
            "2016-07-31  104.19  104.5500  103.68  104.21     0.090063\n",
            "2016-08-31  105.66  106.5699  105.64  106.10     0.018136\n",
            "2016-09-30  112.46  113.3700  111.80  113.05     0.065504\n",
            "2016-10-31  113.65  114.2300  113.20  113.54     0.004334\n",
            "2016-11-30  111.56  112.2000  110.27  110.52    -0.026599\n",
            "2016-12-31  116.65  117.2000  115.43  115.82     0.047955\n",
            "\n",
            "--------------------------------------------------\n",
            "\n",
            "              Open      High     Low   Close  rate_return\n",
            "Date                                                     \n",
            "2016-01-31   94.79   97.3400   94.35   97.34     0.000000\n",
            "2016-02-29   96.86   98.2300   96.65   96.69    -0.006678\n",
            "2016-03-31  109.72  109.9000  108.88  108.99     0.127211\n",
            "2016-04-30   93.99   94.7200   92.51   93.74    -0.139921\n",
            "2016-05-31   99.60  100.4000   98.82   99.86     0.065287\n",
            "2016-06-30   94.44   95.7700   94.30   95.60    -0.042660\n",
            "2016-07-31  104.19  104.5500  103.68  104.21     0.090063\n",
            "2016-08-31  105.66  106.5699  105.64  106.10     0.018136\n",
            "2016-09-30  112.46  113.3700  111.80  113.05     0.065504\n",
            "2016-10-31  113.65  114.2300  113.20  113.54     0.004334\n",
            "2016-11-30  111.56  112.2000  110.27  110.52    -0.026599\n",
            "2016-12-31  116.65  117.2000  115.43  115.82     0.047955\n"
          ],
          "name": "stdout"
        }
      ]
    },
    {
      "cell_type": "markdown",
      "metadata": {
        "id": "f_QbrT6_9x05"
      },
      "source": [
        "**DataFrame Concat**\n",
        "\n",
        "We have seen how to extract a Series from a dataFrame. Now we need to consider how to merge a Series or a DataFrame into another one.\n",
        "\n",
        "In Pandas, the function **concat()** allows us to merge multiple Series into a DataFrame:"
      ]
    },
    {
      "cell_type": "code",
      "metadata": {
        "colab": {
          "base_uri": "https://localhost:8080/"
        },
        "id": "IEKTsQCJ98Ij",
        "outputId": "a6e00be2-17ea-4e14-c99d-5bb24c0e2abe"
      },
      "source": [
        "s1 = pd.Series([143.5, 144.09, 142.73, 144.18, 143.77], name = 'AAPL')\n",
        "s2 = pd.Series([898.7, 911.71, 906.69, 918.59, 926.99], name = 'GOOG')\n",
        "data_frame = pd.concat([s1, s2], axis = 1)\n",
        "print (data_frame)"
      ],
      "execution_count": null,
      "outputs": [
        {
          "output_type": "stream",
          "text": [
            "     AAPL    GOOG\n",
            "0  143.50  898.70\n",
            "1  144.09  911.71\n",
            "2  142.73  906.69\n",
            "3  144.18  918.59\n",
            "4  143.77  926.99\n"
          ],
          "name": "stdout"
        }
      ]
    },
    {
      "cell_type": "code",
      "metadata": {
        "colab": {
          "base_uri": "https://localhost:8080/"
        },
        "id": "OrOjpjL4-Bh_",
        "outputId": "96e9abca-3d30-4854-c1ad-c1ea89f91ebf"
      },
      "source": [
        "#Mi ejemplo\n",
        "s3 = pd.Series([243.5, 244.09, 242.73, 244.18, 243.77], name = 'IBM')\n",
        "s4 = pd.Series([998.7, 1011.71, 1006.69, 1018.59, 1026.99], name = 'AMAZ')\n",
        "data_frame_2 = pd.concat([s3, s4], axis = 1)\n",
        "print (data_frame_2)"
      ],
      "execution_count": null,
      "outputs": [
        {
          "output_type": "stream",
          "text": [
            "      IBM     AMAZ\n",
            "0  243.50   998.70\n",
            "1  244.09  1011.71\n",
            "2  242.73  1006.69\n",
            "3  244.18  1018.59\n",
            "4  243.77  1026.99\n"
          ],
          "name": "stdout"
        }
      ]
    },
    {
      "cell_type": "markdown",
      "metadata": {
        "id": "7bDELqdu-b9-"
      },
      "source": [
        "The \"axis = 1\" parameter will join two DataFrames by columns:"
      ]
    },
    {
      "cell_type": "code",
      "metadata": {
        "colab": {
          "base_uri": "https://localhost:8080/"
        },
        "id": "wF_Mib7y-e5-",
        "outputId": "2117627a-b1d7-4d26-deb9-c07f1a521d39"
      },
      "source": [
        "log_price = np.log(aapl_bar.Close)\n",
        "log_price.name = 'log_price'\n",
        "print (log_price)\n",
        "print ('\\n--------------------------------------------\\n')\n",
        "concat = pd.concat([aapl_bar, log_price], axis = 1)\n",
        "print (concat)"
      ],
      "execution_count": null,
      "outputs": [
        {
          "output_type": "stream",
          "text": [
            "Date\n",
            "2016-01-31    4.578210\n",
            "2016-02-29    4.571510\n",
            "2016-03-31    4.691256\n",
            "2016-04-30    4.540525\n",
            "2016-05-31    4.603769\n",
            "2016-06-30    4.560173\n",
            "2016-07-31    4.646408\n",
            "2016-08-31    4.664382\n",
            "2016-09-30    4.727830\n",
            "2016-10-31    4.732155\n",
            "2016-11-30    4.705197\n",
            "2016-12-31    4.752037\n",
            "Freq: M, Name: log_price, dtype: float64\n",
            "\n",
            "--------------------------------------------\n",
            "\n",
            "              Open      High     Low   Close  rate_return  log_price\n",
            "Date                                                                \n",
            "2016-01-31   94.79   97.3400   94.35   97.34          NaN   4.578210\n",
            "2016-02-29   96.86   98.2300   96.65   96.69    -0.006678   4.571510\n",
            "2016-03-31  109.72  109.9000  108.88  108.99     0.127211   4.691256\n",
            "2016-04-30   93.99   94.7200   92.51   93.74    -0.139921   4.540525\n",
            "2016-05-31   99.60  100.4000   98.82   99.86     0.065287   4.603769\n",
            "2016-06-30   94.44   95.7700   94.30   95.60    -0.042660   4.560173\n",
            "2016-07-31  104.19  104.5500  103.68  104.21     0.090063   4.646408\n",
            "2016-08-31  105.66  106.5699  105.64  106.10     0.018136   4.664382\n",
            "2016-09-30  112.46  113.3700  111.80  113.05     0.065504   4.727830\n",
            "2016-10-31  113.65  114.2300  113.20  113.54     0.004334   4.732155\n",
            "2016-11-30  111.56  112.2000  110.27  110.52    -0.026599   4.705197\n",
            "2016-12-31  116.65  117.2000  115.43  115.82     0.047955   4.752037\n"
          ],
          "name": "stdout"
        }
      ]
    },
    {
      "cell_type": "code",
      "metadata": {
        "colab": {
          "base_uri": "https://localhost:8080/"
        },
        "id": "z_uzg_L3-mlL",
        "outputId": "0c6aa59b-2276-4860-84dc-60d03f25598e"
      },
      "source": [
        "#Mi ejemplo\n",
        "log_price_2 = np.log(aapl_2_bar.Close)\n",
        "log_price_2.name = 'log_price'\n",
        "print (log_price_2)\n",
        "print ('\\n--------------------------------------------\\n')\n",
        "concat_2 = pd.concat([aapl_2_bar, log_price_2], axis = 1)\n",
        "print (concat_2)"
      ],
      "execution_count": null,
      "outputs": [
        {
          "output_type": "stream",
          "text": [
            "Date\n",
            "2015-01-31    4.763541\n",
            "2015-02-28    4.855618\n",
            "2015-03-31    4.823743\n",
            "2015-04-30    4.829513\n",
            "2015-05-31    4.869686\n",
            "2015-06-30    4.831708\n",
            "2015-07-31    4.798267\n",
            "2015-08-31    4.725262\n",
            "2015-09-30    4.700026\n",
            "2015-10-31    4.783316\n",
            "2015-11-30    4.773224\n",
            "2015-12-31    4.656433\n",
            "Freq: M, Name: log_price, dtype: float64\n",
            "\n",
            "--------------------------------------------\n",
            "\n",
            "              Open      High      Low    Close  rate_return  log_price\n",
            "Date                                                                  \n",
            "2015-01-31  118.40  120.0000  116.850  117.160          NaN   4.763541\n",
            "2015-02-28  130.00  130.5700  128.240  128.460     0.096449   4.855618\n",
            "2015-03-31  126.09  126.4900  124.355  124.430    -0.031372   4.823743\n",
            "2015-04-30  127.50  127.8800  124.580  125.150     0.005786   4.829513\n",
            "2015-05-31  131.23  131.4500  129.900  130.280     0.040991   4.869686\n",
            "2015-06-30  125.57  126.1200  124.860  125.425    -0.037266   4.831708\n",
            "2015-07-31  122.60  122.6425  120.910  121.300    -0.032888   4.798267\n",
            "2015-08-31  112.13  114.5300  112.000  112.760    -0.070404   4.725262\n",
            "2015-09-30  110.17  111.5400  108.730  109.950    -0.024920   4.700026\n",
            "2015-10-31  120.99  121.2200  119.450  119.500     0.086858   4.783316\n",
            "2015-11-30  117.99  119.4100  117.750  118.300    -0.010042   4.773224\n",
            "2015-12-31  107.01  107.0300  104.820  105.260    -0.110228   4.656433\n"
          ],
          "name": "stdout"
        }
      ]
    },
    {
      "cell_type": "markdown",
      "metadata": {
        "id": "e095avXc_F1u"
      },
      "source": [
        "We can also join two DataFrames by rows. Consider these two DataFrames:"
      ]
    },
    {
      "cell_type": "code",
      "metadata": {
        "colab": {
          "base_uri": "https://localhost:8080/"
        },
        "id": "mntEQiLJ_I1S",
        "outputId": "37494aae-641d-4cab-8f1f-69ea28bcbc6b"
      },
      "source": [
        "df_volume = aapl_table.loc['2016-10':'2017-04', ['Volume', 'Split Ratio']].resample('M').agg(lambda x: x[-1])\n",
        "print (df_volume)\n",
        "print ('\\n-------------------------------------------\\n')\n",
        "df_2017 = aapl_table.loc['2016-10':'2017-04', ['Open', 'High', 'Low', 'Close']].resample('M').agg(lambda x: x[-1])\n",
        "print (df_2017)"
      ],
      "execution_count": null,
      "outputs": [
        {
          "output_type": "stream",
          "text": [
            "                Volume  Split Ratio\n",
            "Date                               \n",
            "2016-10-31  26419398.0          1.0\n",
            "2016-11-30  36162258.0          1.0\n",
            "2016-12-31  30586265.0          1.0\n",
            "2017-01-31  49200993.0          1.0\n",
            "2017-02-28  23482860.0          1.0\n",
            "2017-03-31  19661651.0          1.0\n",
            "2017-04-30  20247187.0          1.0\n",
            "\n",
            "-------------------------------------------\n",
            "\n",
            "              Open     High     Low   Close\n",
            "Date                                       \n",
            "2016-10-31  113.65  114.230  113.20  113.54\n",
            "2016-11-30  111.56  112.200  110.27  110.52\n",
            "2016-12-31  116.65  117.200  115.43  115.82\n",
            "2017-01-31  121.15  121.390  120.62  121.35\n",
            "2017-02-28  137.08  137.435  136.70  136.99\n",
            "2017-03-31  143.72  144.270  143.01  143.66\n",
            "2017-04-30  144.09  144.300  143.27  143.65\n"
          ],
          "name": "stdout"
        }
      ]
    },
    {
      "cell_type": "code",
      "metadata": {
        "colab": {
          "base_uri": "https://localhost:8080/"
        },
        "id": "cZmmaJeD_X61",
        "outputId": "5b4a8961-f566-4e23-9587-9e8eb5784432"
      },
      "source": [
        "#Mi ejemplo\n",
        "df_volume_2 = aapl_2_table.loc['2017-10':'2018-04', ['Volume', 'Split Ratio']].resample('M').agg(lambda x: x[-1])\n",
        "print (df_volume_2)\n",
        "print ('\\n-------------------------------------------\\n')\n",
        "df_2018 = aapl_2_table.loc['2017-10':'2018-04', ['Open', 'High', 'Low', 'Close']].resample('M').agg(lambda x: x[-1])\n",
        "print (df_2018)"
      ],
      "execution_count": null,
      "outputs": [
        {
          "output_type": "stream",
          "text": [
            "                Volume  Split Ratio\n",
            "Date                               \n",
            "2017-10-31  35474672.0          1.0\n",
            "2017-11-30  40172368.0          1.0\n",
            "2017-12-31  25643711.0          1.0\n",
            "2018-01-31  30984099.0          1.0\n",
            "2018-02-28  33604574.0          1.0\n",
            "2018-03-31  38962839.0          1.0\n",
            "\n",
            "-------------------------------------------\n",
            "\n",
            "              Open      High     Low   Close\n",
            "Date                                        \n",
            "2017-10-31  167.90  169.6499  166.94  169.04\n",
            "2017-11-30  170.43  172.1400  168.44  171.85\n",
            "2017-12-31  170.52  170.5900  169.22  169.23\n",
            "2018-01-31  166.87  168.4417  166.50  167.43\n",
            "2018-02-28  179.26  180.6150  178.05  178.12\n",
            "2018-03-31  173.68  175.1500  166.92  168.34\n"
          ],
          "name": "stdout"
        }
      ]
    },
    {
      "cell_type": "markdown",
      "metadata": {
        "id": "2CCZrxrn_U1h"
      },
      "source": [
        "Now we merge the DataFrames with our DataFrame 'aapl_bar'"
      ]
    },
    {
      "cell_type": "code",
      "metadata": {
        "colab": {
          "base_uri": "https://localhost:8080/"
        },
        "id": "nGzccdkl_0Xq",
        "outputId": "9bc70fb4-2728-4f43-d4d5-1fc3ced653c8"
      },
      "source": [
        "concat = pd.concat([aapl_bar, df_volume], axis = 1)\n",
        "print (concat)"
      ],
      "execution_count": null,
      "outputs": [
        {
          "output_type": "stream",
          "text": [
            "              Open      High     Low  ...  rate_return      Volume  Split Ratio\n",
            "Date                                  ...                                      \n",
            "2016-01-31   94.79   97.3400   94.35  ...          NaN         NaN          NaN\n",
            "2016-02-29   96.86   98.2300   96.65  ...    -0.006678         NaN          NaN\n",
            "2016-03-31  109.72  109.9000  108.88  ...     0.127211         NaN          NaN\n",
            "2016-04-30   93.99   94.7200   92.51  ...    -0.139921         NaN          NaN\n",
            "2016-05-31   99.60  100.4000   98.82  ...     0.065287         NaN          NaN\n",
            "2016-06-30   94.44   95.7700   94.30  ...    -0.042660         NaN          NaN\n",
            "2016-07-31  104.19  104.5500  103.68  ...     0.090063         NaN          NaN\n",
            "2016-08-31  105.66  106.5699  105.64  ...     0.018136         NaN          NaN\n",
            "2016-09-30  112.46  113.3700  111.80  ...     0.065504         NaN          NaN\n",
            "2016-10-31  113.65  114.2300  113.20  ...     0.004334  26419398.0          1.0\n",
            "2016-11-30  111.56  112.2000  110.27  ...    -0.026599  36162258.0          1.0\n",
            "2016-12-31  116.65  117.2000  115.43  ...     0.047955  30586265.0          1.0\n",
            "2017-01-31     NaN       NaN     NaN  ...          NaN  49200993.0          1.0\n",
            "2017-02-28     NaN       NaN     NaN  ...          NaN  23482860.0          1.0\n",
            "2017-03-31     NaN       NaN     NaN  ...          NaN  19661651.0          1.0\n",
            "2017-04-30     NaN       NaN     NaN  ...          NaN  20247187.0          1.0\n",
            "\n",
            "[16 rows x 7 columns]\n"
          ],
          "name": "stdout"
        }
      ]
    },
    {
      "cell_type": "code",
      "metadata": {
        "colab": {
          "base_uri": "https://localhost:8080/"
        },
        "id": "PB0nshPj_8yL",
        "outputId": "6e3ef57d-a450-40e5-b6d4-86098d54716d"
      },
      "source": [
        "#Mi ejemplo\n",
        "concat_2 = pd.concat([aapl_2_bar, df_volume_2], axis = 1)\n",
        "print (concat_2)"
      ],
      "execution_count": null,
      "outputs": [
        {
          "output_type": "stream",
          "text": [
            "              Open      High      Low  ...  rate_return      Volume  Split Ratio\n",
            "Date                                   ...                                      \n",
            "2015-01-31  118.40  120.0000  116.850  ...          NaN         NaN          NaN\n",
            "2015-02-28  130.00  130.5700  128.240  ...     0.096449         NaN          NaN\n",
            "2015-03-31  126.09  126.4900  124.355  ...    -0.031372         NaN          NaN\n",
            "2015-04-30  127.50  127.8800  124.580  ...     0.005786         NaN          NaN\n",
            "2015-05-31  131.23  131.4500  129.900  ...     0.040991         NaN          NaN\n",
            "2015-06-30  125.57  126.1200  124.860  ...    -0.037266         NaN          NaN\n",
            "2015-07-31  122.60  122.6425  120.910  ...    -0.032888         NaN          NaN\n",
            "2015-08-31  112.13  114.5300  112.000  ...    -0.070404         NaN          NaN\n",
            "2015-09-30  110.17  111.5400  108.730  ...    -0.024920         NaN          NaN\n",
            "2015-10-31  120.99  121.2200  119.450  ...     0.086858         NaN          NaN\n",
            "2015-11-30  117.99  119.4100  117.750  ...    -0.010042         NaN          NaN\n",
            "2015-12-31  107.01  107.0300  104.820  ...    -0.110228         NaN          NaN\n",
            "2017-10-31     NaN       NaN      NaN  ...          NaN  35474672.0          1.0\n",
            "2017-11-30     NaN       NaN      NaN  ...          NaN  40172368.0          1.0\n",
            "2017-12-31     NaN       NaN      NaN  ...          NaN  25643711.0          1.0\n",
            "2018-01-31     NaN       NaN      NaN  ...          NaN  30984099.0          1.0\n",
            "2018-02-28     NaN       NaN      NaN  ...          NaN  33604574.0          1.0\n",
            "2018-03-31     NaN       NaN      NaN  ...          NaN  38962839.0          1.0\n",
            "\n",
            "[18 rows x 7 columns]\n"
          ],
          "name": "stdout"
        }
      ]
    },
    {
      "cell_type": "markdown",
      "metadata": {
        "id": "bSh_CT4wANVJ"
      },
      "source": [
        "By default the DataFrame are joined with all of the data. This default options results in zero information loss. We can also merge them by intersection, this is called 'inner join':"
      ]
    },
    {
      "cell_type": "code",
      "metadata": {
        "colab": {
          "base_uri": "https://localhost:8080/"
        },
        "id": "CZA2jY3AAS85",
        "outputId": "f40a71ef-f928-4dd4-8550-6569eb5c790f"
      },
      "source": [
        "concat = pd.concat([aapl_bar, df_volume], axis = 1, join = 'inner')\n",
        "print (concat)"
      ],
      "execution_count": null,
      "outputs": [
        {
          "output_type": "stream",
          "text": [
            "              Open    High     Low  ...  rate_return      Volume  Split Ratio\n",
            "Date                                ...                                      \n",
            "2016-10-31  113.65  114.23  113.20  ...     0.004334  26419398.0          1.0\n",
            "2016-11-30  111.56  112.20  110.27  ...    -0.026599  36162258.0          1.0\n",
            "2016-12-31  116.65  117.20  115.43  ...     0.047955  30586265.0          1.0\n",
            "\n",
            "[3 rows x 7 columns]\n"
          ],
          "name": "stdout"
        }
      ]
    },
    {
      "cell_type": "code",
      "metadata": {
        "colab": {
          "base_uri": "https://localhost:8080/"
        },
        "id": "1lVrLR8hAV8O",
        "outputId": "3206fc57-ad1b-41d6-c0c6-70d31cce08f0"
      },
      "source": [
        "#Mi ejemplo\n",
        "concat_2 = pd.concat([aapl_2_bar, df_volume_2], axis = 1, join = 'inner')\n",
        "print (concat_2)"
      ],
      "execution_count": null,
      "outputs": [
        {
          "output_type": "stream",
          "text": [
            "Empty DataFrame\n",
            "Columns: [Open, High, Low, Close, rate_return, Volume, Split Ratio]\n",
            "Index: []\n"
          ],
          "name": "stdout"
        }
      ]
    },
    {
      "cell_type": "markdown",
      "metadata": {
        "id": "xD1-NoH0Au7O"
      },
      "source": [
        "Only the intersection part was left if use 'inner join' method. Now let's try to append a DataFrame to another one:"
      ]
    },
    {
      "cell_type": "code",
      "metadata": {
        "colab": {
          "base_uri": "https://localhost:8080/"
        },
        "id": "sKIwDbw4AzG1",
        "outputId": "d19416bc-324a-4ad7-8ed3-4cbae145feb6"
      },
      "source": [
        "append = aapl_bar.append(df_2017)\n",
        "print (append)"
      ],
      "execution_count": null,
      "outputs": [
        {
          "output_type": "stream",
          "text": [
            "              Open      High     Low   Close  rate_return\n",
            "Date                                                     \n",
            "2016-01-31   94.79   97.3400   94.35   97.34          NaN\n",
            "2016-02-29   96.86   98.2300   96.65   96.69    -0.006678\n",
            "2016-03-31  109.72  109.9000  108.88  108.99     0.127211\n",
            "2016-04-30   93.99   94.7200   92.51   93.74    -0.139921\n",
            "2016-05-31   99.60  100.4000   98.82   99.86     0.065287\n",
            "2016-06-30   94.44   95.7700   94.30   95.60    -0.042660\n",
            "2016-07-31  104.19  104.5500  103.68  104.21     0.090063\n",
            "2016-08-31  105.66  106.5699  105.64  106.10     0.018136\n",
            "2016-09-30  112.46  113.3700  111.80  113.05     0.065504\n",
            "2016-10-31  113.65  114.2300  113.20  113.54     0.004334\n",
            "2016-11-30  111.56  112.2000  110.27  110.52    -0.026599\n",
            "2016-12-31  116.65  117.2000  115.43  115.82     0.047955\n",
            "2016-10-31  113.65  114.2300  113.20  113.54          NaN\n",
            "2016-11-30  111.56  112.2000  110.27  110.52          NaN\n",
            "2016-12-31  116.65  117.2000  115.43  115.82          NaN\n",
            "2017-01-31  121.15  121.3900  120.62  121.35          NaN\n",
            "2017-02-28  137.08  137.4350  136.70  136.99          NaN\n",
            "2017-03-31  143.72  144.2700  143.01  143.66          NaN\n",
            "2017-04-30  144.09  144.3000  143.27  143.65          NaN\n"
          ],
          "name": "stdout"
        }
      ]
    },
    {
      "cell_type": "code",
      "metadata": {
        "colab": {
          "base_uri": "https://localhost:8080/"
        },
        "id": "QiVx2CiJA1vt",
        "outputId": "c29c4feb-0d85-4f6a-ee75-d75a690491ae"
      },
      "source": [
        "#Mi ejemplo\n",
        "append_2 = aapl_2_bar.append(df_2018)\n",
        "print (append_2)"
      ],
      "execution_count": null,
      "outputs": [
        {
          "output_type": "stream",
          "text": [
            "              Open      High      Low    Close  rate_return\n",
            "Date                                                       \n",
            "2015-01-31  118.40  120.0000  116.850  117.160          NaN\n",
            "2015-02-28  130.00  130.5700  128.240  128.460     0.096449\n",
            "2015-03-31  126.09  126.4900  124.355  124.430    -0.031372\n",
            "2015-04-30  127.50  127.8800  124.580  125.150     0.005786\n",
            "2015-05-31  131.23  131.4500  129.900  130.280     0.040991\n",
            "2015-06-30  125.57  126.1200  124.860  125.425    -0.037266\n",
            "2015-07-31  122.60  122.6425  120.910  121.300    -0.032888\n",
            "2015-08-31  112.13  114.5300  112.000  112.760    -0.070404\n",
            "2015-09-30  110.17  111.5400  108.730  109.950    -0.024920\n",
            "2015-10-31  120.99  121.2200  119.450  119.500     0.086858\n",
            "2015-11-30  117.99  119.4100  117.750  118.300    -0.010042\n",
            "2015-12-31  107.01  107.0300  104.820  105.260    -0.110228\n",
            "2017-10-31  167.90  169.6499  166.940  169.040          NaN\n",
            "2017-11-30  170.43  172.1400  168.440  171.850          NaN\n",
            "2017-12-31  170.52  170.5900  169.220  169.230          NaN\n",
            "2018-01-31  166.87  168.4417  166.500  167.430          NaN\n",
            "2018-02-28  179.26  180.6150  178.050  178.120          NaN\n",
            "2018-03-31  173.68  175.1500  166.920  168.340          NaN\n"
          ],
          "name": "stdout"
        }
      ]
    },
    {
      "cell_type": "markdown",
      "metadata": {
        "id": "8ge4N9djBGLn"
      },
      "source": [
        "Append' is essentially to concat two DataFrames by axis = 0, thus here is an alternative way to append:"
      ]
    },
    {
      "cell_type": "code",
      "metadata": {
        "colab": {
          "base_uri": "https://localhost:8080/"
        },
        "id": "RuHRbHKhBIbt",
        "outputId": "71e067af-2e26-42bc-f347-67385bebd4fa"
      },
      "source": [
        "concat = pd.concat([aapl_bar, df_2017], axis = 0)\n",
        "print (concat)"
      ],
      "execution_count": null,
      "outputs": [
        {
          "output_type": "stream",
          "text": [
            "              Open      High     Low   Close  rate_return\n",
            "Date                                                     \n",
            "2016-01-31   94.79   97.3400   94.35   97.34          NaN\n",
            "2016-02-29   96.86   98.2300   96.65   96.69    -0.006678\n",
            "2016-03-31  109.72  109.9000  108.88  108.99     0.127211\n",
            "2016-04-30   93.99   94.7200   92.51   93.74    -0.139921\n",
            "2016-05-31   99.60  100.4000   98.82   99.86     0.065287\n",
            "2016-06-30   94.44   95.7700   94.30   95.60    -0.042660\n",
            "2016-07-31  104.19  104.5500  103.68  104.21     0.090063\n",
            "2016-08-31  105.66  106.5699  105.64  106.10     0.018136\n",
            "2016-09-30  112.46  113.3700  111.80  113.05     0.065504\n",
            "2016-10-31  113.65  114.2300  113.20  113.54     0.004334\n",
            "2016-11-30  111.56  112.2000  110.27  110.52    -0.026599\n",
            "2016-12-31  116.65  117.2000  115.43  115.82     0.047955\n",
            "2016-10-31  113.65  114.2300  113.20  113.54          NaN\n",
            "2016-11-30  111.56  112.2000  110.27  110.52          NaN\n",
            "2016-12-31  116.65  117.2000  115.43  115.82          NaN\n",
            "2017-01-31  121.15  121.3900  120.62  121.35          NaN\n",
            "2017-02-28  137.08  137.4350  136.70  136.99          NaN\n",
            "2017-03-31  143.72  144.2700  143.01  143.66          NaN\n",
            "2017-04-30  144.09  144.3000  143.27  143.65          NaN\n"
          ],
          "name": "stdout"
        }
      ]
    },
    {
      "cell_type": "code",
      "metadata": {
        "colab": {
          "base_uri": "https://localhost:8080/"
        },
        "id": "DV6BAekwBM1G",
        "outputId": "81eda56f-b6a5-43e5-ca7e-2f136cb29042"
      },
      "source": [
        "#Mi ejemplo\n",
        "concat_2 = pd.concat([aapl_2_bar, df_2018], axis = 0)\n",
        "print (concat_2)"
      ],
      "execution_count": null,
      "outputs": [
        {
          "output_type": "stream",
          "text": [
            "              Open      High      Low    Close  rate_return\n",
            "Date                                                       \n",
            "2015-01-31  118.40  120.0000  116.850  117.160          NaN\n",
            "2015-02-28  130.00  130.5700  128.240  128.460     0.096449\n",
            "2015-03-31  126.09  126.4900  124.355  124.430    -0.031372\n",
            "2015-04-30  127.50  127.8800  124.580  125.150     0.005786\n",
            "2015-05-31  131.23  131.4500  129.900  130.280     0.040991\n",
            "2015-06-30  125.57  126.1200  124.860  125.425    -0.037266\n",
            "2015-07-31  122.60  122.6425  120.910  121.300    -0.032888\n",
            "2015-08-31  112.13  114.5300  112.000  112.760    -0.070404\n",
            "2015-09-30  110.17  111.5400  108.730  109.950    -0.024920\n",
            "2015-10-31  120.99  121.2200  119.450  119.500     0.086858\n",
            "2015-11-30  117.99  119.4100  117.750  118.300    -0.010042\n",
            "2015-12-31  107.01  107.0300  104.820  105.260    -0.110228\n",
            "2017-10-31  167.90  169.6499  166.940  169.040          NaN\n",
            "2017-11-30  170.43  172.1400  168.440  171.850          NaN\n",
            "2017-12-31  170.52  170.5900  169.220  169.230          NaN\n",
            "2018-01-31  166.87  168.4417  166.500  167.430          NaN\n",
            "2018-02-28  179.26  180.6150  178.050  178.120          NaN\n",
            "2018-03-31  173.68  175.1500  166.920  168.340          NaN\n"
          ],
          "name": "stdout"
        }
      ]
    },
    {
      "cell_type": "markdown",
      "metadata": {
        "id": "pNXhlPCCBXQS"
      },
      "source": [
        "Please note that if the two DataFrame have some columns with the same column names, these columns are considered to be the same and will be merged. It's very important to have the right column names. If we change a column names here:"
      ]
    },
    {
      "cell_type": "code",
      "metadata": {
        "colab": {
          "base_uri": "https://localhost:8080/"
        },
        "id": "uDax2urHBZ5K",
        "outputId": "64d90d7f-3434-4db3-fc9e-5b60027d2d38"
      },
      "source": [
        "df_2017.columns = ['Change', 'High', 'Low', 'Close']\n",
        "concat = pd.concat([aapl_bar, df_2017], axis = 0)\n",
        "print (concat)"
      ],
      "execution_count": null,
      "outputs": [
        {
          "output_type": "stream",
          "text": [
            "              Open      High     Low   Close  rate_return  Change\n",
            "Date                                                             \n",
            "2016-01-31   94.79   97.3400   94.35   97.34          NaN     NaN\n",
            "2016-02-29   96.86   98.2300   96.65   96.69    -0.006678     NaN\n",
            "2016-03-31  109.72  109.9000  108.88  108.99     0.127211     NaN\n",
            "2016-04-30   93.99   94.7200   92.51   93.74    -0.139921     NaN\n",
            "2016-05-31   99.60  100.4000   98.82   99.86     0.065287     NaN\n",
            "2016-06-30   94.44   95.7700   94.30   95.60    -0.042660     NaN\n",
            "2016-07-31  104.19  104.5500  103.68  104.21     0.090063     NaN\n",
            "2016-08-31  105.66  106.5699  105.64  106.10     0.018136     NaN\n",
            "2016-09-30  112.46  113.3700  111.80  113.05     0.065504     NaN\n",
            "2016-10-31  113.65  114.2300  113.20  113.54     0.004334     NaN\n",
            "2016-11-30  111.56  112.2000  110.27  110.52    -0.026599     NaN\n",
            "2016-12-31  116.65  117.2000  115.43  115.82     0.047955     NaN\n",
            "2016-10-31     NaN  114.2300  113.20  113.54          NaN  113.65\n",
            "2016-11-30     NaN  112.2000  110.27  110.52          NaN  111.56\n",
            "2016-12-31     NaN  117.2000  115.43  115.82          NaN  116.65\n",
            "2017-01-31     NaN  121.3900  120.62  121.35          NaN  121.15\n",
            "2017-02-28     NaN  137.4350  136.70  136.99          NaN  137.08\n",
            "2017-03-31     NaN  144.2700  143.01  143.66          NaN  143.72\n",
            "2017-04-30     NaN  144.3000  143.27  143.65          NaN  144.09\n"
          ],
          "name": "stdout"
        }
      ]
    },
    {
      "cell_type": "code",
      "metadata": {
        "colab": {
          "base_uri": "https://localhost:8080/"
        },
        "id": "vc23175oBcoG",
        "outputId": "bbfe97a6-5f22-4b10-83b5-8ffab1686b7e"
      },
      "source": [
        "#Mi ejemplo\n",
        "df_2018.columns = ['Change', 'High', 'Low', 'Close']\n",
        "concat_2 = pd.concat([aapl_2_bar, df_2018], axis = 0)\n",
        "print (concat_2)"
      ],
      "execution_count": null,
      "outputs": [
        {
          "output_type": "stream",
          "text": [
            "              Open      High      Low    Close  rate_return  Change\n",
            "Date                                                               \n",
            "2015-01-31  118.40  120.0000  116.850  117.160          NaN     NaN\n",
            "2015-02-28  130.00  130.5700  128.240  128.460     0.096449     NaN\n",
            "2015-03-31  126.09  126.4900  124.355  124.430    -0.031372     NaN\n",
            "2015-04-30  127.50  127.8800  124.580  125.150     0.005786     NaN\n",
            "2015-05-31  131.23  131.4500  129.900  130.280     0.040991     NaN\n",
            "2015-06-30  125.57  126.1200  124.860  125.425    -0.037266     NaN\n",
            "2015-07-31  122.60  122.6425  120.910  121.300    -0.032888     NaN\n",
            "2015-08-31  112.13  114.5300  112.000  112.760    -0.070404     NaN\n",
            "2015-09-30  110.17  111.5400  108.730  109.950    -0.024920     NaN\n",
            "2015-10-31  120.99  121.2200  119.450  119.500     0.086858     NaN\n",
            "2015-11-30  117.99  119.4100  117.750  118.300    -0.010042     NaN\n",
            "2015-12-31  107.01  107.0300  104.820  105.260    -0.110228     NaN\n",
            "2017-10-31     NaN  169.6499  166.940  169.040          NaN  167.90\n",
            "2017-11-30     NaN  172.1400  168.440  171.850          NaN  170.43\n",
            "2017-12-31     NaN  170.5900  169.220  169.230          NaN  170.52\n",
            "2018-01-31     NaN  168.4417  166.500  167.430          NaN  166.87\n",
            "2018-02-28     NaN  180.6150  178.050  178.120          NaN  179.26\n",
            "2018-03-31     NaN  175.1500  166.920  168.340          NaN  173.68\n"
          ],
          "name": "stdout"
        }
      ]
    },
    {
      "cell_type": "markdown",
      "metadata": {
        "id": "sP3c8bfkBo5e"
      },
      "source": [
        "Since the column name of 'Open' has been changed, the new DataFrame has an new column named 'Change'."
      ]
    },
    {
      "cell_type": "markdown",
      "metadata": {
        "id": "RSXkOTGTByDG"
      },
      "source": [
        "###**Summary**"
      ]
    },
    {
      "cell_type": "markdown",
      "metadata": {
        "id": "zk8hP_6iB2at"
      },
      "source": [
        "Hereby we introduced the most import part of python: resampling and DataFrame manipulation. We only introduced the most commonly used method in Financial data analysis. There are also many methods used in data mining, which are also beneficial. You can always check the Pandas official documentations for help."
      ]
    }
  ]
}
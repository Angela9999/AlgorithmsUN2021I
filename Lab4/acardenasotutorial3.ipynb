{
  "nbformat": 4,
  "nbformat_minor": 0,
  "metadata": {
    "colab": {
      "name": "acardenasotutorial3.ipynb",
      "provenance": [],
      "collapsed_sections": []
    },
    "kernelspec": {
      "name": "python3",
      "display_name": "Python 3"
    },
    "language_info": {
      "name": "python"
    }
  },
  "cells": [
    {
      "cell_type": "markdown",
      "metadata": {
        "id": "N4q1ZnSVzIbA"
      },
      "source": [
        "#**Introduction to Financial Python**\n",
        "##Functions and Objective-Oriented Programming"
      ]
    },
    {
      "cell_type": "markdown",
      "metadata": {
        "id": "9xYoOvKR0UkG"
      },
      "source": [
        "###**Introduction**"
      ]
    },
    {
      "cell_type": "markdown",
      "metadata": {
        "id": "dwZFi3M11AE-"
      },
      "source": [
        "In the last tutorial we introduced logical operations, loops and list comprehension. We will introduce functions and object-oriented programming in this chapter, which will enable us to build complex algorithms in more flexible ways."
      ]
    },
    {
      "cell_type": "markdown",
      "metadata": {
        "id": "ucPa5dwi1R6e"
      },
      "source": [
        "###**Functions**"
      ]
    },
    {
      "cell_type": "markdown",
      "metadata": {
        "id": "1AMhjhuS1R6e"
      },
      "source": [
        "A function is a reusable block of code. We can use a function to output a value, or do anything else we want. We can easily define our own function by using the keyword \"def\"."
      ]
    },
    {
      "cell_type": "code",
      "metadata": {
        "colab": {
          "base_uri": "https://localhost:8080/"
        },
        "id": "Jp3RQAap6BuR",
        "outputId": "50baa271-299d-4843-a291-a260dbcab80e"
      },
      "source": [
        "def product(x,y):\n",
        "    return x*y\n",
        "print (product(2,3))\n",
        "print (product(5,10))"
      ],
      "execution_count": 1,
      "outputs": [
        {
          "output_type": "stream",
          "text": [
            "6\n",
            "50\n"
          ],
          "name": "stdout"
        }
      ]
    },
    {
      "cell_type": "code",
      "metadata": {
        "colab": {
          "base_uri": "https://localhost:8080/"
        },
        "id": "zz1xFw1_6uPo",
        "outputId": "124e4bbf-c2b3-4df7-dfd0-706452198e2e"
      },
      "source": [
        "#Mi ejemplo\n",
        "def div(x,y):\n",
        "    return x/y\n",
        "print (div(12,3))\n",
        "print (div(10,2))"
      ],
      "execution_count": 2,
      "outputs": [
        {
          "output_type": "stream",
          "text": [
            "4.0\n",
            "5.0\n"
          ],
          "name": "stdout"
        }
      ]
    },
    {
      "cell_type": "markdown",
      "metadata": {
        "id": "pxguHPZv7MDn"
      },
      "source": [
        "The keyword \"def\" is followed by the function name and the parenthesized list of formal parameters. The statements that form the body of the function start at the next line, and must be indented. The product() function above has \"x\" and \"y\" as its parameters. A function doesn't necessarily have parameters:"
      ]
    },
    {
      "cell_type": "code",
      "metadata": {
        "colab": {
          "base_uri": "https://localhost:8080/"
        },
        "id": "8_scjFWe7WLq",
        "outputId": "ba52bd9f-15aa-438d-f5f5-4803ecbd1fca"
      },
      "source": [
        "def say_hi():\n",
        "    print (\"Welcome to QuantConnect\")\n",
        "say_hi()"
      ],
      "execution_count": 3,
      "outputs": [
        {
          "output_type": "stream",
          "text": [
            "Welcome to QuantConnect\n"
          ],
          "name": "stdout"
        }
      ]
    },
    {
      "cell_type": "code",
      "metadata": {
        "colab": {
          "base_uri": "https://localhost:8080/"
        },
        "id": "1qbe7cVp7cm3",
        "outputId": "3973f6a9-6d1a-4aa8-8c03-304f0be10ab6"
      },
      "source": [
        "#Mi ejemplo\n",
        "def say_thanks():\n",
        "    print (\"Thank you\")\n",
        "say_thanks()"
      ],
      "execution_count": 4,
      "outputs": [
        {
          "output_type": "stream",
          "text": [
            "Thank you\n"
          ],
          "name": "stdout"
        }
      ]
    },
    {
      "cell_type": "markdown",
      "metadata": {
        "id": "CKulT_iX8Xds"
      },
      "source": [
        "###**Built-in Function**"
      ]
    },
    {
      "cell_type": "markdown",
      "metadata": {
        "id": "_Y0iNnvp8mX4"
      },
      "source": [
        "**range()** is a function that creates a list containing an arithmetic sequence. It's often used in for loops. The arguments must be integers. If the \"step\" argument is omitted, it defaults to 1."
      ]
    },
    {
      "cell_type": "code",
      "metadata": {
        "colab": {
          "base_uri": "https://localhost:8080/"
        },
        "id": "QUmScbA88s1u",
        "outputId": "526fbaac-e6fb-467c-abfc-7c855b2da8cf"
      },
      "source": [
        "x = range(10)\n",
        "y = range(1, 11)\n",
        "z = range(1, 11, 2)\n",
        "for n in x:\n",
        "  print(n, end=' ')\n",
        "print(\"\")\n",
        "for n in y:\n",
        "  print(n, end=' ')\n",
        "print(\"\")\n",
        "for n in z:\n",
        "  print(n, end=' ')"
      ],
      "execution_count": 5,
      "outputs": [
        {
          "output_type": "stream",
          "text": [
            "0 1 2 3 4 5 6 7 8 9 \n",
            "1 2 3 4 5 6 7 8 9 10 \n",
            "1 3 5 7 9 "
          ],
          "name": "stdout"
        }
      ]
    },
    {
      "cell_type": "code",
      "metadata": {
        "colab": {
          "base_uri": "https://localhost:8080/"
        },
        "id": "AQikGFZD-6bQ",
        "outputId": "edd7f4d6-4a66-4d96-bcb4-3845c558bef8"
      },
      "source": [
        "#Mi ejemplo\n",
        "a = range(1, 21, 3)\n",
        "for n in a:\n",
        "  print(n, end=' ')"
      ],
      "execution_count": 6,
      "outputs": [
        {
          "output_type": "stream",
          "text": [
            "1 4 7 10 13 16 19 "
          ],
          "name": "stdout"
        }
      ]
    },
    {
      "cell_type": "markdown",
      "metadata": {
        "id": "zj6_br-K8-W3"
      },
      "source": [
        "**len()** is another function used together with range() to create a for loop. This function returns the length of an object. The argument must be a sequence or a collection."
      ]
    },
    {
      "cell_type": "code",
      "metadata": {
        "colab": {
          "base_uri": "https://localhost:8080/"
        },
        "id": "uAwC3l7a_U1w",
        "outputId": "1c655044-a9be-4fcf-df37-f20152222435"
      },
      "source": [
        "tickers = ['AAPL', 'GOOGL', 'IBM', 'FB', 'F', 'V', 'G', 'GE']\n",
        "print (\"The number of tickers is {}\".format(len(tickers)))\n",
        "for k in range(len(tickers)):\n",
        "    print (k + 1, tickers[k])"
      ],
      "execution_count": 7,
      "outputs": [
        {
          "output_type": "stream",
          "text": [
            "The number of tickers is 8\n",
            "1 AAPL\n",
            "2 GOOGL\n",
            "3 IBM\n",
            "4 FB\n",
            "5 F\n",
            "6 V\n",
            "7 G\n",
            "8 GE\n"
          ],
          "name": "stdout"
        }
      ]
    },
    {
      "cell_type": "code",
      "metadata": {
        "colab": {
          "base_uri": "https://localhost:8080/"
        },
        "id": "ow68-HWw_dg9",
        "outputId": "dd4da5ee-c501-43b2-f715-4d3818998a5a"
      },
      "source": [
        "#Mi ejemplo\n",
        "patos = [\"Hugo\", \"Paco\", \"Luis\"]\n",
        "print(\"Hay {}\". format(len(patos)) + \" patos\")"
      ],
      "execution_count": 8,
      "outputs": [
        {
          "output_type": "stream",
          "text": [
            "Hay 3 patos\n"
          ],
          "name": "stdout"
        }
      ]
    },
    {
      "cell_type": "markdown",
      "metadata": {
        "id": "l8hIQy1MAM3o"
      },
      "source": [
        "Note: If you want to print only the tickers without those numbers, then simply write \"for ticker in tickers: print ticker\""
      ]
    },
    {
      "cell_type": "markdown",
      "metadata": {
        "id": "H9OoZ4mzAS4P"
      },
      "source": [
        "**map()** is a function that applies a specific function to every item of a sequence or collection, and returns a list of the results."
      ]
    },
    {
      "cell_type": "code",
      "metadata": {
        "colab": {
          "base_uri": "https://localhost:8080/"
        },
        "id": "ISklM3KuAXJg",
        "outputId": "d29a896c-63ae-4c3a-c5d8-e79d2ef468d1"
      },
      "source": [
        "tickers = ['AAPL','GOOG','IBM','FB','F','V', 'G', 'GE']\n",
        "print(list(map(len,tickers)))"
      ],
      "execution_count": 9,
      "outputs": [
        {
          "output_type": "stream",
          "text": [
            "[4, 4, 3, 2, 1, 1, 1, 2]\n"
          ],
          "name": "stdout"
        }
      ]
    },
    {
      "cell_type": "code",
      "metadata": {
        "colab": {
          "base_uri": "https://localhost:8080/"
        },
        "id": "4OxXwxBcAfqa",
        "outputId": "28175829-3291-4220-e74f-6afa6e7ce680"
      },
      "source": [
        "#Mi ejemplo\n",
        "patos = ['Hugo','Paco','Luis', 'Daisy']\n",
        "print(list(map(len,patos)))"
      ],
      "execution_count": 10,
      "outputs": [
        {
          "output_type": "stream",
          "text": [
            "[4, 4, 4, 5]\n"
          ],
          "name": "stdout"
        }
      ]
    },
    {
      "cell_type": "markdown",
      "metadata": {
        "id": "oE0TvFhhBJG5"
      },
      "source": [
        "The **lambda operator** is a way to create small anonymous functions. These functions are just needed where they have been created. For example:"
      ]
    },
    {
      "cell_type": "code",
      "metadata": {
        "colab": {
          "base_uri": "https://localhost:8080/"
        },
        "id": "teJGHekZBOM4",
        "outputId": "3a2b17c2-8876-4ec1-b0a3-974216502e7b"
      },
      "source": [
        "print(list(map(lambda x: x**2, range(10))))"
      ],
      "execution_count": 11,
      "outputs": [
        {
          "output_type": "stream",
          "text": [
            "[0, 1, 4, 9, 16, 25, 36, 49, 64, 81]\n"
          ],
          "name": "stdout"
        }
      ]
    },
    {
      "cell_type": "code",
      "metadata": {
        "colab": {
          "base_uri": "https://localhost:8080/"
        },
        "id": "lfsF0izBBsLJ",
        "outputId": "c84824d0-b62f-41a3-b07f-83867a69ef1e"
      },
      "source": [
        "#Mi ejemplo\n",
        "print(list(map(lambda x: x*2, range(10))))"
      ],
      "execution_count": 12,
      "outputs": [
        {
          "output_type": "stream",
          "text": [
            "[0, 2, 4, 6, 8, 10, 12, 14, 16, 18]\n"
          ],
          "name": "stdout"
        }
      ]
    },
    {
      "cell_type": "markdown",
      "metadata": {
        "id": "kSn_M4_yBkGZ"
      },
      "source": [
        "map() can be applied to more than one list. The lists have to have the same length."
      ]
    },
    {
      "cell_type": "code",
      "metadata": {
        "colab": {
          "base_uri": "https://localhost:8080/"
        },
        "id": "i1bKrR3YBomR",
        "outputId": "9f35bf20-4fc3-4750-aaf0-6955ff6974ff"
      },
      "source": [
        "print(list(map(lambda x, y: x+y, [1,2,3,4,5], [5,4,3,2,1])))"
      ],
      "execution_count": 13,
      "outputs": [
        {
          "output_type": "stream",
          "text": [
            "[6, 6, 6, 6, 6]\n"
          ],
          "name": "stdout"
        }
      ]
    },
    {
      "cell_type": "code",
      "metadata": {
        "colab": {
          "base_uri": "https://localhost:8080/"
        },
        "id": "8ftbxcl1B07A",
        "outputId": "9dd24608-a919-47c7-b589-bcf536d33661"
      },
      "source": [
        "#Mi ejemplo\n",
        "print(list(map(lambda x, y: x*y, [1,2,3,4,5], [5,4,3,2,1])))"
      ],
      "execution_count": 14,
      "outputs": [
        {
          "output_type": "stream",
          "text": [
            "[5, 8, 9, 8, 5]\n"
          ],
          "name": "stdout"
        }
      ]
    },
    {
      "cell_type": "markdown",
      "metadata": {
        "id": "bX58pY87CFSP"
      },
      "source": [
        "**sorted()** takes a list or set and returns a new sorted list:"
      ]
    },
    {
      "cell_type": "code",
      "metadata": {
        "colab": {
          "base_uri": "https://localhost:8080/"
        },
        "id": "Oif0-aA9CJDw",
        "outputId": "b26a803d-b40a-4063-dbae-b8bcf6904b0f"
      },
      "source": [
        "sorted([5,2,3,4,1])"
      ],
      "execution_count": 15,
      "outputs": [
        {
          "output_type": "execute_result",
          "data": {
            "text/plain": [
              "[1, 2, 3, 4, 5]"
            ]
          },
          "metadata": {
            "tags": []
          },
          "execution_count": 15
        }
      ]
    },
    {
      "cell_type": "code",
      "metadata": {
        "colab": {
          "base_uri": "https://localhost:8080/"
        },
        "id": "xDCggJzUCLQM",
        "outputId": "774d1e8b-31b9-4b2a-ebd5-2213f97eddb2"
      },
      "source": [
        "#Mi ejemplo\n",
        "sorted([1,3,5,7,9,0,2,4,6,8])"
      ],
      "execution_count": 16,
      "outputs": [
        {
          "output_type": "execute_result",
          "data": {
            "text/plain": [
              "[0, 1, 2, 3, 4, 5, 6, 7, 8, 9]"
            ]
          },
          "metadata": {
            "tags": []
          },
          "execution_count": 16
        }
      ]
    },
    {
      "cell_type": "markdown",
      "metadata": {
        "id": "vJZFPsvMCZD5"
      },
      "source": [
        "We can add a \"key\" parameter to specify a function to be called on each list element prior to making comparisons. For example:"
      ]
    },
    {
      "cell_type": "code",
      "metadata": {
        "colab": {
          "base_uri": "https://localhost:8080/"
        },
        "id": "kL-taVAVCkbZ",
        "outputId": "6fb59746-c7b6-4e6f-9529-6e6f8035df46"
      },
      "source": [
        "price_list = [('AAPL', 144.09), ('GOOGL', 911.71), ('MSFT', 69), ('FB', 150), ('WMT', 75.32)]\n",
        "sorted(price_list, key = lambda x: x[1])"
      ],
      "execution_count": 17,
      "outputs": [
        {
          "output_type": "execute_result",
          "data": {
            "text/plain": [
              "[('MSFT', 69),\n",
              " ('WMT', 75.32),\n",
              " ('AAPL', 144.09),\n",
              " ('FB', 150),\n",
              " ('GOOGL', 911.71)]"
            ]
          },
          "metadata": {
            "tags": []
          },
          "execution_count": 17
        }
      ]
    },
    {
      "cell_type": "code",
      "metadata": {
        "colab": {
          "base_uri": "https://localhost:8080/"
        },
        "id": "hvGL3MeKCnE5",
        "outputId": "caf5e188-7849-4c38-a22d-e6cd539f040c"
      },
      "source": [
        "#Mi ejemplo\n",
        "score_list = [('E', 100), ('F', 20), ('A', 60), ('B', 80), ('I', 40)]\n",
        "sorted(score_list, key = lambda x: x[1])"
      ],
      "execution_count": 18,
      "outputs": [
        {
          "output_type": "execute_result",
          "data": {
            "text/plain": [
              "[('F', 20), ('I', 40), ('A', 60), ('B', 80), ('E', 100)]"
            ]
          },
          "metadata": {
            "tags": []
          },
          "execution_count": 18
        }
      ]
    },
    {
      "cell_type": "markdown",
      "metadata": {
        "id": "IZj7mnyYEP8Q"
      },
      "source": [
        "By default the values are sorted by ascending order. We can change it to descending by adding an optional parameter \"reverse'."
      ]
    },
    {
      "cell_type": "code",
      "metadata": {
        "colab": {
          "base_uri": "https://localhost:8080/"
        },
        "id": "tY4ROyfNETg7",
        "outputId": "f10b1428-1710-4687-9939-e27cf7d4cd24"
      },
      "source": [
        "price_list = [('AAPL', 144.09), ('GOOGL', 911.71), ('MSFT', 69), ('FB', 150), ('WMT', 75.32)]\n",
        "sorted(price_list, key = lambda x: x[1], reverse = True)"
      ],
      "execution_count": 19,
      "outputs": [
        {
          "output_type": "execute_result",
          "data": {
            "text/plain": [
              "[('GOOGL', 911.71),\n",
              " ('FB', 150),\n",
              " ('AAPL', 144.09),\n",
              " ('WMT', 75.32),\n",
              " ('MSFT', 69)]"
            ]
          },
          "metadata": {
            "tags": []
          },
          "execution_count": 19
        }
      ]
    },
    {
      "cell_type": "code",
      "metadata": {
        "colab": {
          "base_uri": "https://localhost:8080/"
        },
        "id": "tSHgFXyOEbdZ",
        "outputId": "b87c415f-f15a-4ae1-ce06-5a8e94a08a8f"
      },
      "source": [
        "#Mi ejemplo\n",
        "score_list = [('E', 100), ('F', 20), ('A', 60), ('B', 80), ('I', 40)]\n",
        "sorted(score_list, key = lambda x: x[1], reverse = True)"
      ],
      "execution_count": 20,
      "outputs": [
        {
          "output_type": "execute_result",
          "data": {
            "text/plain": [
              "[('E', 100), ('B', 80), ('A', 60), ('I', 40), ('F', 20)]"
            ]
          },
          "metadata": {
            "tags": []
          },
          "execution_count": 20
        }
      ]
    },
    {
      "cell_type": "markdown",
      "metadata": {
        "id": "FrSo1IsbEkSa"
      },
      "source": [
        "Lists also have a function list.sort(). This function takes the same \"key\" and \"reverse\" arguments as sorted(), but it doesn't return a new list."
      ]
    },
    {
      "cell_type": "code",
      "metadata": {
        "colab": {
          "base_uri": "https://localhost:8080/"
        },
        "id": "gPTU1YzzEy3i",
        "outputId": "4bb64244-2789-4acf-b415-efe2f125803f"
      },
      "source": [
        "price_list = [('AAPL', 144.09), ('GOOGL', 911.71), ('MSFT', 69), ('FB', 150), ('WMT', 75.32)]\n",
        "price_list.sort(key = lambda x: x[1])\n",
        "print (price_list)"
      ],
      "execution_count": 21,
      "outputs": [
        {
          "output_type": "stream",
          "text": [
            "[('MSFT', 69), ('WMT', 75.32), ('AAPL', 144.09), ('FB', 150), ('GOOGL', 911.71)]\n"
          ],
          "name": "stdout"
        }
      ]
    },
    {
      "cell_type": "code",
      "metadata": {
        "colab": {
          "base_uri": "https://localhost:8080/"
        },
        "id": "1ojsGui2E8rI",
        "outputId": "19f17ebc-7d13-47b8-b053-8faa122f4b23"
      },
      "source": [
        "#Mi ejemplo\n",
        "score_list = [('E', 100), ('F', 20), ('A', 60), ('B', 80), ('I', 40)]\n",
        "score_list.sort(key = lambda x: x[1])\n",
        "print (score_list)"
      ],
      "execution_count": 22,
      "outputs": [
        {
          "output_type": "stream",
          "text": [
            "[('F', 20), ('I', 40), ('A', 60), ('B', 80), ('E', 100)]\n"
          ],
          "name": "stdout"
        }
      ]
    },
    {
      "cell_type": "markdown",
      "metadata": {
        "id": "6xuIy2UPFPYZ"
      },
      "source": [
        "###**Object-Oriented Programming**"
      ]
    },
    {
      "cell_type": "markdown",
      "metadata": {
        "id": "lknwHnmSFXNW"
      },
      "source": [
        "Python is an object-oriented programming language. It's important to understand the concept of \"objects\" because almost every kind of data from QuantConnect API is an object."
      ]
    },
    {
      "cell_type": "markdown",
      "metadata": {
        "id": "aHlNsrL6FaLJ"
      },
      "source": [
        "**Class**\n",
        "\n",
        "A class is a type of data, just like a string, float, or list. When we create an object of that data type, we call it an instance of a class.\n",
        "\n",
        "In Python, everything is an object - everything is an instance of some class. The data stored inside an object are called attributes, and the functions which are associated with the object are called methods.\n",
        "\n",
        "For example, as mentioned above, a list is an object of the \"list\" class, and it has a method list.sort().\n",
        "\n",
        "We can create our own objects by defining a class. We would do this when it's helpful to group certain functions together. For example, we define a class named \"Stock\" here:"
      ]
    },
    {
      "cell_type": "code",
      "metadata": {
        "id": "kscopl-cFqGn"
      },
      "source": [
        "class Stock:\n",
        "    def __init__(self, ticker, open, close, volume):\n",
        "        self.ticker = ticker\n",
        "        self.open = open\n",
        "        self.close = close\n",
        "        self.volume = volume\n",
        "        self.rate_return = float(close)/open - 1\n",
        "\n",
        "    def update(self, open, close):\n",
        "        self.open = open\n",
        "        self.close = close\n",
        "        self.rate_return = float(self.close)/self.open - 1\n",
        "\n",
        "    def print_return(self):\n",
        "        print (self.rate_return)"
      ],
      "execution_count": 23,
      "outputs": []
    },
    {
      "cell_type": "code",
      "metadata": {
        "id": "SbJv5si_GBIR"
      },
      "source": [
        "#Mi ejemplo\n",
        "class Person:\n",
        "    def __init__(self, name, nationality, age, gender):\n",
        "        self.name = name\n",
        "        self.nationality = nationality\n",
        "        self.age = age\n",
        "        self.gender = gender\n",
        "\n",
        "    def greet(self):\n",
        "        print(\"Hello, my name is \" + self.name + \", I have \" + str(self.age))\n",
        "\n",
        "    def say_gooobye(self):\n",
        "        print (\"Adios\")"
      ],
      "execution_count": 24,
      "outputs": []
    },
    {
      "cell_type": "markdown",
      "metadata": {
        "id": "XrvpF-yFJD9S"
      },
      "source": [
        "The \"Stock\" class has attributes \"ticker\", \"open\", \"close\", \"volume\" and \"rate_return\". Inside the class body, the first method is called $__init__$, which is a special method. When we create a new instance of the class, the $__init__$ method is immediately executed with all the parameters that we pass to the \"Stock\" object. The purpose of this method is to set up a new \"Stock\" object using data we have provided.\n",
        "\n",
        "Here we create two Stock objects named \"apple\" and \"google\"."
      ]
    },
    {
      "cell_type": "code",
      "metadata": {
        "id": "ZBuHXg5PJP_b"
      },
      "source": [
        "apple  = Stock('AAPL', 143.69, 144.09, 20109375)\n",
        "google = Stock('GOOGL', 898.7, 911.7, 1561616)"
      ],
      "execution_count": 25,
      "outputs": []
    },
    {
      "cell_type": "code",
      "metadata": {
        "id": "ONKoc0siJbya"
      },
      "source": [
        "#Mi ejemplo\n",
        "peter = Person(\"Peter Parker\", \"Englishman\", 17, \"M\")\n",
        "diana = Person(\"Diana Spencer\", \"Englishman\", 36, \"F\")"
      ],
      "execution_count": 26,
      "outputs": []
    },
    {
      "cell_type": "markdown",
      "metadata": {
        "id": "dAHx-EMXKZUS"
      },
      "source": [
        "Stock objects also have two other methods: update() and print_return(). We can access the attribues of a Stock object and call its methods:"
      ]
    },
    {
      "cell_type": "code",
      "metadata": {
        "colab": {
          "base_uri": "https://localhost:8080/"
        },
        "id": "3Fr3Avu-Kh_r",
        "outputId": "e887d081-e675-4e68-ae12-38ed86919003"
      },
      "source": [
        "print(apple.ticker)\n",
        "print(google.print_return())\n",
        "print(google.update(912.8,913.4))\n",
        "print(google.print_return())"
      ],
      "execution_count": 27,
      "outputs": [
        {
          "output_type": "stream",
          "text": [
            "AAPL\n",
            "0.014465338822744034\n",
            "None\n",
            "None\n",
            "0.0006573181419806673\n",
            "None\n"
          ],
          "name": "stdout"
        }
      ]
    },
    {
      "cell_type": "code",
      "metadata": {
        "colab": {
          "base_uri": "https://localhost:8080/"
        },
        "id": "y_RdUWfOK3RD",
        "outputId": "8bc3bdc6-0390-4a53-b15b-b148d1ece255"
      },
      "source": [
        "#Mi ejemplo\n",
        "print(peter.name)\n",
        "print(diana.greet())\n",
        "print(diana.age)\n",
        "print(diana.say_gooobye())"
      ],
      "execution_count": 28,
      "outputs": [
        {
          "output_type": "stream",
          "text": [
            "Peter Parker\n",
            "Hello, my name is Diana Spencer, I have 36\n",
            "None\n",
            "36\n",
            "Adios\n",
            "None\n"
          ],
          "name": "stdout"
        }
      ]
    },
    {
      "cell_type": "markdown",
      "metadata": {
        "id": "Oaf7mnx0Mslv"
      },
      "source": [
        "By calling the update() function, we updated the open and close prices of a stock. Please note that when we use the attributes or call the methods **inside a class**, we need to specify them as self.attribute or self.method(), otherwise Python will deem them as global variables and thus raise an error.\n",
        "\n",
        "We can add an attribute to an object anywhere:"
      ]
    },
    {
      "cell_type": "code",
      "metadata": {
        "colab": {
          "base_uri": "https://localhost:8080/",
          "height": 35
        },
        "id": "8y2dWKagM7D5",
        "outputId": "e33861f9-32a0-4846-a227-6d2b2b143fba"
      },
      "source": [
        "apple.ceo = 'Tim Cook'\n",
        "apple.ceo"
      ],
      "execution_count": 29,
      "outputs": [
        {
          "output_type": "execute_result",
          "data": {
            "application/vnd.google.colaboratory.intrinsic+json": {
              "type": "string"
            },
            "text/plain": [
              "'Tim Cook'"
            ]
          },
          "metadata": {
            "tags": []
          },
          "execution_count": 29
        }
      ]
    },
    {
      "cell_type": "code",
      "metadata": {
        "colab": {
          "base_uri": "https://localhost:8080/"
        },
        "id": "7Uo5kCTyM9My",
        "outputId": "19a4ebd2-cd4b-402e-ba0d-c6778e025035"
      },
      "source": [
        "#Mi ejemplo\n",
        "peter.age = 18\n",
        "peter.age"
      ],
      "execution_count": 30,
      "outputs": [
        {
          "output_type": "execute_result",
          "data": {
            "text/plain": [
              "18"
            ]
          },
          "metadata": {
            "tags": []
          },
          "execution_count": 30
        }
      ]
    },
    {
      "cell_type": "markdown",
      "metadata": {
        "id": "CpLnehrPNRHI"
      },
      "source": [
        "We can check what names (i.e. attributes and methods) are defined on an object using the dir() function:"
      ]
    },
    {
      "cell_type": "code",
      "metadata": {
        "colab": {
          "base_uri": "https://localhost:8080/"
        },
        "id": "6WHS-_ZzNZyR",
        "outputId": "4b7bccc5-2552-480e-b4b2-9ea31c9628aa"
      },
      "source": [
        "dir(apple)"
      ],
      "execution_count": 31,
      "outputs": [
        {
          "output_type": "execute_result",
          "data": {
            "text/plain": [
              "['__class__',\n",
              " '__delattr__',\n",
              " '__dict__',\n",
              " '__dir__',\n",
              " '__doc__',\n",
              " '__eq__',\n",
              " '__format__',\n",
              " '__ge__',\n",
              " '__getattribute__',\n",
              " '__gt__',\n",
              " '__hash__',\n",
              " '__init__',\n",
              " '__init_subclass__',\n",
              " '__le__',\n",
              " '__lt__',\n",
              " '__module__',\n",
              " '__ne__',\n",
              " '__new__',\n",
              " '__reduce__',\n",
              " '__reduce_ex__',\n",
              " '__repr__',\n",
              " '__setattr__',\n",
              " '__sizeof__',\n",
              " '__str__',\n",
              " '__subclasshook__',\n",
              " '__weakref__',\n",
              " 'ceo',\n",
              " 'close',\n",
              " 'open',\n",
              " 'print_return',\n",
              " 'rate_return',\n",
              " 'ticker',\n",
              " 'update',\n",
              " 'volume']"
            ]
          },
          "metadata": {
            "tags": []
          },
          "execution_count": 31
        }
      ]
    },
    {
      "cell_type": "code",
      "metadata": {
        "colab": {
          "base_uri": "https://localhost:8080/"
        },
        "id": "vZl0e0HbNg-z",
        "outputId": "5f287380-378c-4b06-e185-f9479aa55c27"
      },
      "source": [
        "#Mi ejemplo\n",
        "dir(diana)"
      ],
      "execution_count": 32,
      "outputs": [
        {
          "output_type": "execute_result",
          "data": {
            "text/plain": [
              "['__class__',\n",
              " '__delattr__',\n",
              " '__dict__',\n",
              " '__dir__',\n",
              " '__doc__',\n",
              " '__eq__',\n",
              " '__format__',\n",
              " '__ge__',\n",
              " '__getattribute__',\n",
              " '__gt__',\n",
              " '__hash__',\n",
              " '__init__',\n",
              " '__init_subclass__',\n",
              " '__le__',\n",
              " '__lt__',\n",
              " '__module__',\n",
              " '__ne__',\n",
              " '__new__',\n",
              " '__reduce__',\n",
              " '__reduce_ex__',\n",
              " '__repr__',\n",
              " '__setattr__',\n",
              " '__sizeof__',\n",
              " '__str__',\n",
              " '__subclasshook__',\n",
              " '__weakref__',\n",
              " 'age',\n",
              " 'gender',\n",
              " 'greet',\n",
              " 'name',\n",
              " 'nationality',\n",
              " 'say_gooobye']"
            ]
          },
          "metadata": {
            "tags": []
          },
          "execution_count": 32
        }
      ]
    },
    {
      "cell_type": "markdown",
      "metadata": {
        "id": "dKlE-xGuNwMa"
      },
      "source": [
        "**Inheritance**\n",
        "\n",
        "Inheritance is a way of arranging classes in a hierarchy from the most general to the most specific. A \"child\" class is a more specific type of a \"parent\" class because a child class will inherit all the attribues and methods of its parent. For example, we define a class named \"Child\" which inherits \"Stock\":"
      ]
    },
    {
      "cell_type": "code",
      "metadata": {
        "id": "gZtEfrqQQxws"
      },
      "source": [
        "class Child(Stock):\n",
        "    def __init__(self, name):\n",
        "        self.name = name"
      ],
      "execution_count": 33,
      "outputs": []
    },
    {
      "cell_type": "code",
      "metadata": {
        "id": "Rfj7RrmXQ5kq"
      },
      "source": [
        "#Mi ejemplo\n",
        "class Student(Person):\n",
        "    def __init__(self, name, age):\n",
        "        self.name = name\n",
        "        self.age = age"
      ],
      "execution_count": 34,
      "outputs": []
    },
    {
      "cell_type": "markdown",
      "metadata": {
        "id": "Od4dmWktT3vK"
      },
      "source": [
        "Then we create an object:"
      ]
    },
    {
      "cell_type": "code",
      "metadata": {
        "colab": {
          "base_uri": "https://localhost:8080/"
        },
        "id": "jYu6JlqXT7PO",
        "outputId": "2dad72a9-751f-4bf9-cae7-69155c742f8b"
      },
      "source": [
        "aa = Child('AA')\n",
        "print (aa.name)\n",
        "aa.update(100, 102)\n",
        "print (aa.open)\n",
        "print (aa.close)\n",
        "print (aa.print_return())"
      ],
      "execution_count": 35,
      "outputs": [
        {
          "output_type": "stream",
          "text": [
            "AA\n",
            "100\n",
            "102\n",
            "0.020000000000000018\n",
            "None\n"
          ],
          "name": "stdout"
        }
      ]
    },
    {
      "cell_type": "code",
      "metadata": {
        "colab": {
          "base_uri": "https://localhost:8080/"
        },
        "id": "4bKvNpIfUS3q",
        "outputId": "6ffaed40-cc08-40c0-9cc8-742862ada7e2"
      },
      "source": [
        "#Mi ejemplo\n",
        "pepito = Student(\"Pepito Perez\", 18)\n",
        "print(pepito.name)\n",
        "print(pepito.age)\n",
        "print(pepito.greet())"
      ],
      "execution_count": 36,
      "outputs": [
        {
          "output_type": "stream",
          "text": [
            "Pepito Perez\n",
            "18\n",
            "Hello, my name is Pepito Perez, I have 18\n",
            "None\n"
          ],
          "name": "stdout"
        }
      ]
    },
    {
      "cell_type": "markdown",
      "metadata": {
        "id": "I2sTKbF6VTnL"
      },
      "source": [
        "As seen above, the new class Child has inherited the methods from Stock."
      ]
    },
    {
      "cell_type": "markdown",
      "metadata": {
        "id": "lB5dICJ5Vakb"
      },
      "source": [
        "###**Summary**"
      ]
    },
    {
      "cell_type": "markdown",
      "metadata": {
        "id": "PZP6DzOLVfge"
      },
      "source": [
        "In this chapter we have introduced functions and classes. When we write a QuantConnect algorithm, we would define our algorithm as a class (QCAlgorithm). This means our algorithm inherited the QC API methods from QCAlgorithm class.\n",
        "\n",
        "In the next chapter, we will introduce NumPy and Pandas, which enable us to conduct scientific calculations in Python."
      ]
    }
  ]
}
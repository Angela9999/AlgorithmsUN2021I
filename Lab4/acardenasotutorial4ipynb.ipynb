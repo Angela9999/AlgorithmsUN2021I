{
  "nbformat": 4,
  "nbformat_minor": 0,
  "metadata": {
    "colab": {
      "name": "acardenasotutorial4ipynb",
      "provenance": [],
      "collapsed_sections": []
    },
    "kernelspec": {
      "name": "python3",
      "display_name": "Python 3"
    },
    "language_info": {
      "name": "python"
    }
  },
  "cells": [
    {
      "cell_type": "markdown",
      "metadata": {
        "id": "N4q1ZnSVzIbA"
      },
      "source": [
        "#**Introduction to Financial Python**\n",
        "##NumPy and Basic Pandas"
      ]
    },
    {
      "cell_type": "markdown",
      "metadata": {
        "id": "YgcGJQA-Xdak"
      },
      "source": [
        "###**Introduction**"
      ]
    },
    {
      "cell_type": "markdown",
      "metadata": {
        "id": "xmgVhiVjXiKE"
      },
      "source": [
        "Now that we have introduced the fundamentals of Python, it's time to learn about NumPy and Pandas."
      ]
    },
    {
      "cell_type": "markdown",
      "metadata": {
        "id": "fTuuCxxUXmCT"
      },
      "source": [
        "###**NumPy**"
      ]
    },
    {
      "cell_type": "markdown",
      "metadata": {
        "id": "nPCmz8hwXrjr"
      },
      "source": [
        "NumPy is the core library for scientific computing in Python. It provides a high-performance multidimensional array object, and tools for working with these arrays. It also has strong integration with Pandas, which is another powerful tool for manipulating financial data.\n",
        "\n",
        "Python packages like NumPy and Pandas contain classes and methods which we can use by importing the package:"
      ]
    },
    {
      "cell_type": "code",
      "metadata": {
        "id": "VhyOGLnUXuvf"
      },
      "source": [
        "import numpy as np"
      ],
      "execution_count": 1,
      "outputs": []
    },
    {
      "cell_type": "markdown",
      "metadata": {
        "id": "VKT4OzyoXyvy"
      },
      "source": [
        "**Basic NumPy Arrays** \n",
        "\n",
        "A NumPy array is a grid of values, all of the same type, and is indexed by a tuple of nonnegative integers. Here we make an array by passing a list of Apple stock prices:"
      ]
    },
    {
      "cell_type": "code",
      "metadata": {
        "colab": {
          "base_uri": "https://localhost:8080/"
        },
        "id": "Ud2HYGGsYIlD",
        "outputId": "5eaf6bdc-de97-487e-ad7a-df084f64aa95"
      },
      "source": [
        "price_list = [143.73, 145.83, 143.68, 144.02, 143.5, 142.62]\n",
        "price_array = np.array(price_list)\n",
        "print (price_array, type(price_array))"
      ],
      "execution_count": 2,
      "outputs": [
        {
          "output_type": "stream",
          "text": [
            "[143.73 145.83 143.68 144.02 143.5  142.62] <class 'numpy.ndarray'>\n"
          ],
          "name": "stdout"
        }
      ]
    },
    {
      "cell_type": "code",
      "metadata": {
        "colab": {
          "base_uri": "https://localhost:8080/"
        },
        "id": "Oy5AuNK4YmIb",
        "outputId": "cfb2f3d0-eed8-4e9a-9da2-40fbfaf4acbe"
      },
      "source": [
        "#Mi ejemplo\n",
        "score_list = [3.5, 4, 3.4, 4.3, 2.5, 5]\n",
        "score_array = np.array(score_list)\n",
        "print (score_array, type(score_array))"
      ],
      "execution_count": 3,
      "outputs": [
        {
          "output_type": "stream",
          "text": [
            "[3.5 4.  3.4 4.3 2.5 5. ] <class 'numpy.ndarray'>\n"
          ],
          "name": "stdout"
        }
      ]
    },
    {
      "cell_type": "markdown",
      "metadata": {
        "id": "6-IYRhGWZZNW"
      },
      "source": [
        "Notice that the type of array is \"ndarray\" which is a multi-dimensional array. If we pass np.array() a list of lists, it will create a 2-dimensional array."
      ]
    },
    {
      "cell_type": "code",
      "metadata": {
        "colab": {
          "base_uri": "https://localhost:8080/"
        },
        "id": "MnMwwaQ3ZcCn",
        "outputId": "7c36b588-1952-4ca8-d8be-eafe072874d2"
      },
      "source": [
        "Ar = np.array([[1,3], [2,4]])\n",
        "print (Ar, type(Ar))"
      ],
      "execution_count": 4,
      "outputs": [
        {
          "output_type": "stream",
          "text": [
            "[[1 3]\n",
            " [2 4]] <class 'numpy.ndarray'>\n"
          ],
          "name": "stdout"
        }
      ]
    },
    {
      "cell_type": "code",
      "metadata": {
        "colab": {
          "base_uri": "https://localhost:8080/"
        },
        "id": "RlH4SzUbZfpj",
        "outputId": "57dabe6b-87fd-4ad0-e0ac-5949593102c3"
      },
      "source": [
        "#Mi ejemplo\n",
        "Ar_2 = np.array([[1,2,3], [4,5,6]])\n",
        "print (Ar_2, type(Ar_2))"
      ],
      "execution_count": 5,
      "outputs": [
        {
          "output_type": "stream",
          "text": [
            "[[1 2 3]\n",
            " [4 5 6]] <class 'numpy.ndarray'>\n"
          ],
          "name": "stdout"
        }
      ]
    },
    {
      "cell_type": "markdown",
      "metadata": {
        "id": "EyujwpivaimB"
      },
      "source": [
        "We get the dimensions of an ndarray using the .shape attribute:"
      ]
    },
    {
      "cell_type": "code",
      "metadata": {
        "colab": {
          "base_uri": "https://localhost:8080/"
        },
        "id": "H_4wV1EXanmN",
        "outputId": "88b47e2d-04b1-48aa-faba-d5081acc68ad"
      },
      "source": [
        "print (Ar.shape)"
      ],
      "execution_count": 6,
      "outputs": [
        {
          "output_type": "stream",
          "text": [
            "(2, 2)\n"
          ],
          "name": "stdout"
        }
      ]
    },
    {
      "cell_type": "code",
      "metadata": {
        "colab": {
          "base_uri": "https://localhost:8080/"
        },
        "id": "vkvCwohNaqsc",
        "outputId": "1ffdc640-23b7-43aa-b455-5f6968243ebf"
      },
      "source": [
        "#Mi ejemplo\n",
        "print (Ar_2.shape)"
      ],
      "execution_count": 7,
      "outputs": [
        {
          "output_type": "stream",
          "text": [
            "(2, 3)\n"
          ],
          "name": "stdout"
        }
      ]
    },
    {
      "cell_type": "markdown",
      "metadata": {
        "id": "cO73eH2Xazb0"
      },
      "source": [
        "If we create an 2-dimensional array (i.e. matrix), each row can be accessed by index:"
      ]
    },
    {
      "cell_type": "code",
      "metadata": {
        "colab": {
          "base_uri": "https://localhost:8080/"
        },
        "id": "MlaXXmCra2Ur",
        "outputId": "c03d9877-0828-43ad-e300-86350d534d87"
      },
      "source": [
        "print (Ar[0])\n",
        "print (Ar[1])"
      ],
      "execution_count": 8,
      "outputs": [
        {
          "output_type": "stream",
          "text": [
            "[1 3]\n",
            "[2 4]\n"
          ],
          "name": "stdout"
        }
      ]
    },
    {
      "cell_type": "code",
      "metadata": {
        "colab": {
          "base_uri": "https://localhost:8080/"
        },
        "id": "fnAn3OPca6Rz",
        "outputId": "ca53b0fc-f875-4f26-ace7-9fcf2b7c4f2d"
      },
      "source": [
        "#Mi ejemplo\n",
        "print (Ar_2[0])\n",
        "print (Ar_2[1])"
      ],
      "execution_count": 9,
      "outputs": [
        {
          "output_type": "stream",
          "text": [
            "[1 2 3]\n",
            "[4 5 6]\n"
          ],
          "name": "stdout"
        }
      ]
    },
    {
      "cell_type": "markdown",
      "metadata": {
        "id": "ks-sjgZya_i7"
      },
      "source": [
        "If we want to access the matrix by column instead:"
      ]
    },
    {
      "cell_type": "code",
      "metadata": {
        "colab": {
          "base_uri": "https://localhost:8080/"
        },
        "id": "N3a-roBNbDDj",
        "outputId": "d31fcd3f-6e5e-4f23-aa3d-4dea4604420b"
      },
      "source": [
        "print ('First column:', Ar[:,0])\n",
        "print ('Second column:', Ar[:,1])"
      ],
      "execution_count": 10,
      "outputs": [
        {
          "output_type": "stream",
          "text": [
            "First column: [1 2]\n",
            "Second column: [3 4]\n"
          ],
          "name": "stdout"
        }
      ]
    },
    {
      "cell_type": "code",
      "metadata": {
        "colab": {
          "base_uri": "https://localhost:8080/"
        },
        "id": "3KPXLAOLbIVk",
        "outputId": "790f5a18-ac9d-4a7b-d4f5-2989db77541c"
      },
      "source": [
        "#Mi ejemplo\n",
        "print ('First column:', Ar_2[:,0])\n",
        "print ('Second column:', Ar_2[:,1])\n",
        "print ('Third column:', Ar_2[:,2])"
      ],
      "execution_count": 11,
      "outputs": [
        {
          "output_type": "stream",
          "text": [
            "First column: [1 4]\n",
            "Second column: [2 5]\n",
            "Third column: [3 6]\n"
          ],
          "name": "stdout"
        }
      ]
    },
    {
      "cell_type": "markdown",
      "metadata": {
        "id": "PWum4-L0bjDN"
      },
      "source": [
        "**Array Functions**\n",
        "\n",
        "Some functions built in NumPy that allow us to perform calculations on arrays. For example, we can apply the natural logarithm to each element of an array:"
      ]
    },
    {
      "cell_type": "code",
      "metadata": {
        "colab": {
          "base_uri": "https://localhost:8080/"
        },
        "id": "GXlZv4eNboMd",
        "outputId": "7ccc799a-5b40-436b-fda5-9d0d66368e2a"
      },
      "source": [
        "np.log(price_array)"
      ],
      "execution_count": 12,
      "outputs": [
        {
          "output_type": "execute_result",
          "data": {
            "text/plain": [
              "array([4.96793654, 4.98244156, 4.9675886 , 4.96995218, 4.96633504,\n",
              "       4.96018375])"
            ]
          },
          "metadata": {
            "tags": []
          },
          "execution_count": 12
        }
      ]
    },
    {
      "cell_type": "code",
      "metadata": {
        "colab": {
          "base_uri": "https://localhost:8080/"
        },
        "id": "KcVoCSZ7bpwW",
        "outputId": "045db8ed-0c91-43ab-f5a4-5458631dcdc7"
      },
      "source": [
        "#Mi ejemplo\n",
        "np.log(score_array)"
      ],
      "execution_count": 13,
      "outputs": [
        {
          "output_type": "execute_result",
          "data": {
            "text/plain": [
              "array([1.25276297, 1.38629436, 1.22377543, 1.45861502, 0.91629073,\n",
              "       1.60943791])"
            ]
          },
          "metadata": {
            "tags": []
          },
          "execution_count": 13
        }
      ]
    },
    {
      "cell_type": "markdown",
      "metadata": {
        "id": "jXVAETHdcKiV"
      },
      "source": [
        "Other functions return a single value:"
      ]
    },
    {
      "cell_type": "code",
      "metadata": {
        "colab": {
          "base_uri": "https://localhost:8080/"
        },
        "id": "_6MV32fCcM34",
        "outputId": "5a941f52-1c5a-42fc-e1cc-f7bce669fadf"
      },
      "source": [
        "print (np.mean(price_array))\n",
        "print (np.std(price_array))\n",
        "print (np.sum(price_array))\n",
        "print (np.max(price_array))"
      ],
      "execution_count": 14,
      "outputs": [
        {
          "output_type": "stream",
          "text": [
            "143.89666666666668\n",
            "0.9673790478515796\n",
            "863.38\n",
            "145.83\n"
          ],
          "name": "stdout"
        }
      ]
    },
    {
      "cell_type": "code",
      "metadata": {
        "colab": {
          "base_uri": "https://localhost:8080/"
        },
        "id": "n_8dMgGyccZU",
        "outputId": "72e4c88f-e9da-43b5-e850-ff7b7a0b98fc"
      },
      "source": [
        "#Mi ejemplo\n",
        "print (np.mean(score_array))\n",
        "print (np.std(score_array))\n",
        "print (np.sum(score_array))\n",
        "print (np.max(score_array))"
      ],
      "execution_count": 15,
      "outputs": [
        {
          "output_type": "stream",
          "text": [
            "3.783333333333333\n",
            "0.7819136070493267\n",
            "22.7\n",
            "5.0\n"
          ],
          "name": "stdout"
        }
      ]
    },
    {
      "cell_type": "markdown",
      "metadata": {
        "id": "VSwT6QwvcttS"
      },
      "source": [
        "The functions above return the mean, standard deviation, total and maximum value of an array."
      ]
    },
    {
      "cell_type": "markdown",
      "metadata": {
        "id": "zypHLOaIc1J0"
      },
      "source": [
        "###**Pandas**"
      ]
    },
    {
      "cell_type": "markdown",
      "metadata": {
        "id": "Eh96Y9_Rc53V"
      },
      "source": [
        "Pandas is one of the most powerful tools for dealing with financial data. First we need to import Pandas:"
      ]
    },
    {
      "cell_type": "code",
      "metadata": {
        "id": "WNAfMTqSc93n"
      },
      "source": [
        "import pandas as pd"
      ],
      "execution_count": 16,
      "outputs": []
    },
    {
      "cell_type": "markdown",
      "metadata": {
        "id": "k_Xg7pw5c_yd"
      },
      "source": [
        "**Series**\n",
        "\n",
        "Series is a one-dimensional labeled array capable of holding any data type (integers, strings, float, Python object, etc.)\n",
        "\n",
        "We create a Series by calling pd.Series(data), where data can be a dictionary, an array or just a scalar value."
      ]
    },
    {
      "cell_type": "code",
      "metadata": {
        "colab": {
          "base_uri": "https://localhost:8080/"
        },
        "id": "g_l5r9vMdFhb",
        "outputId": "cd218b34-e34d-4a2c-b5da-54c787aa9fc1"
      },
      "source": [
        "price = [143.73, 145.83, 143.68, 144.02, 143.5, 142.62]\n",
        "s = pd.Series(price)\n",
        "print (s)"
      ],
      "execution_count": 17,
      "outputs": [
        {
          "output_type": "stream",
          "text": [
            "0    143.73\n",
            "1    145.83\n",
            "2    143.68\n",
            "3    144.02\n",
            "4    143.50\n",
            "5    142.62\n",
            "dtype: float64\n"
          ],
          "name": "stdout"
        }
      ]
    },
    {
      "cell_type": "code",
      "metadata": {
        "colab": {
          "base_uri": "https://localhost:8080/"
        },
        "id": "TmCMP5PodKsH",
        "outputId": "c09a8e2f-05e4-4283-9249-570a35befa56"
      },
      "source": [
        "#Mi ejemplo\n",
        "score = [3.5, 4, 3.4, 4.3, 2.5, 5]\n",
        "s_2 = pd.Series(score)\n",
        "print (s_2)"
      ],
      "execution_count": 18,
      "outputs": [
        {
          "output_type": "stream",
          "text": [
            "0    3.5\n",
            "1    4.0\n",
            "2    3.4\n",
            "3    4.3\n",
            "4    2.5\n",
            "5    5.0\n",
            "dtype: float64\n"
          ],
          "name": "stdout"
        }
      ]
    },
    {
      "cell_type": "markdown",
      "metadata": {
        "id": "Twy6WV1hdZDw"
      },
      "source": [
        "We can customize the indices of a new Series:"
      ]
    },
    {
      "cell_type": "code",
      "metadata": {
        "colab": {
          "base_uri": "https://localhost:8080/"
        },
        "id": "5VSHbX7ud4Ul",
        "outputId": "b375a7bd-17fd-4ccb-cfb5-d3fc08683b70"
      },
      "source": [
        "s = pd.Series(price, index = ['a', 'b', 'c', 'd', 'e', 'f'])\n",
        "print (s)"
      ],
      "execution_count": 19,
      "outputs": [
        {
          "output_type": "stream",
          "text": [
            "a    143.73\n",
            "b    145.83\n",
            "c    143.68\n",
            "d    144.02\n",
            "e    143.50\n",
            "f    142.62\n",
            "dtype: float64\n"
          ],
          "name": "stdout"
        }
      ]
    },
    {
      "cell_type": "code",
      "metadata": {
        "colab": {
          "base_uri": "https://localhost:8080/"
        },
        "id": "7AR-ZTjsd8FF",
        "outputId": "11333a86-20b8-4145-d720-2ac35411caf7"
      },
      "source": [
        "#Mi ejemplo\n",
        "s_2 = pd.Series(score, index = ['2016', '2017', '2018', '2019', '2020','2021'])\n",
        "print (s_2)"
      ],
      "execution_count": 20,
      "outputs": [
        {
          "output_type": "stream",
          "text": [
            "2016    3.5\n",
            "2017    4.0\n",
            "2018    3.4\n",
            "2019    4.3\n",
            "2020    2.5\n",
            "2021    5.0\n",
            "dtype: float64\n"
          ],
          "name": "stdout"
        }
      ]
    },
    {
      "cell_type": "markdown",
      "metadata": {
        "id": "JeHWgQK3ej1t"
      },
      "source": [
        "Or we can change the indices of an existing Series:"
      ]
    },
    {
      "cell_type": "code",
      "metadata": {
        "colab": {
          "base_uri": "https://localhost:8080/"
        },
        "id": "7rJtlyrheskS",
        "outputId": "6fa85461-b15e-4943-e78b-238f4bcfac4d"
      },
      "source": [
        "s.index = [6,5,4,3,2,1]\n",
        "print (s)"
      ],
      "execution_count": 21,
      "outputs": [
        {
          "output_type": "stream",
          "text": [
            "6    143.73\n",
            "5    145.83\n",
            "4    143.68\n",
            "3    144.02\n",
            "2    143.50\n",
            "1    142.62\n",
            "dtype: float64\n"
          ],
          "name": "stdout"
        }
      ]
    },
    {
      "cell_type": "code",
      "metadata": {
        "colab": {
          "base_uri": "https://localhost:8080/"
        },
        "id": "TKg-px3ofOs9",
        "outputId": "a1c206a3-c4f7-4a14-e088-1b2963b48774"
      },
      "source": [
        "#Mi ejemplo\n",
        "s_2.index = [1,2,3,4,5,6]\n",
        "print (s_2)"
      ],
      "execution_count": 22,
      "outputs": [
        {
          "output_type": "stream",
          "text": [
            "1    3.5\n",
            "2    4.0\n",
            "3    3.4\n",
            "4    4.3\n",
            "5    2.5\n",
            "6    5.0\n",
            "dtype: float64\n"
          ],
          "name": "stdout"
        }
      ]
    },
    {
      "cell_type": "markdown",
      "metadata": {
        "id": "pJBOPuxXfbS0"
      },
      "source": [
        "Series is like a list since it can be sliced by index:"
      ]
    },
    {
      "cell_type": "code",
      "metadata": {
        "colab": {
          "base_uri": "https://localhost:8080/"
        },
        "id": "2sfgQaSWfdhb",
        "outputId": "56e3eea3-d364-4fe3-dd25-bb177e70f7f7"
      },
      "source": [
        "print (s[1:])\n",
        "print (s[:-2])"
      ],
      "execution_count": 23,
      "outputs": [
        {
          "output_type": "stream",
          "text": [
            "5    145.83\n",
            "4    143.68\n",
            "3    144.02\n",
            "2    143.50\n",
            "1    142.62\n",
            "dtype: float64\n",
            "6    143.73\n",
            "5    145.83\n",
            "4    143.68\n",
            "3    144.02\n",
            "dtype: float64\n"
          ],
          "name": "stdout"
        }
      ]
    },
    {
      "cell_type": "code",
      "metadata": {
        "colab": {
          "base_uri": "https://localhost:8080/"
        },
        "id": "mVS-Wa0kfj30",
        "outputId": "6db40033-6e7d-4f04-a35e-9c3f8aa85d14"
      },
      "source": [
        "#Mi ejemplo\n",
        "print (s_2[1:])\n",
        "print (s_2[:-2])"
      ],
      "execution_count": 24,
      "outputs": [
        {
          "output_type": "stream",
          "text": [
            "2    4.0\n",
            "3    3.4\n",
            "4    4.3\n",
            "5    2.5\n",
            "6    5.0\n",
            "dtype: float64\n",
            "1    3.5\n",
            "2    4.0\n",
            "3    3.4\n",
            "4    4.3\n",
            "dtype: float64\n"
          ],
          "name": "stdout"
        }
      ]
    },
    {
      "cell_type": "markdown",
      "metadata": {
        "id": "-Kc_x5nOf16e"
      },
      "source": [
        "Series is also like a dictionary whose values can be set or fetched by index label:"
      ]
    },
    {
      "cell_type": "code",
      "metadata": {
        "colab": {
          "base_uri": "https://localhost:8080/"
        },
        "id": "1ZV8hKZRf5Tm",
        "outputId": "26e560b7-0480-4ca8-d89f-e71ce9e4b857"
      },
      "source": [
        "print (s[4])\n",
        "s[4] = 0\n",
        "print (s)"
      ],
      "execution_count": 25,
      "outputs": [
        {
          "output_type": "stream",
          "text": [
            "143.68\n",
            "6    143.73\n",
            "5    145.83\n",
            "4      0.00\n",
            "3    144.02\n",
            "2    143.50\n",
            "1    142.62\n",
            "dtype: float64\n"
          ],
          "name": "stdout"
        }
      ]
    },
    {
      "cell_type": "code",
      "metadata": {
        "colab": {
          "base_uri": "https://localhost:8080/"
        },
        "id": "nBCAy7JpgCy9",
        "outputId": "9170a50c-da51-4d7e-d191-5d26d365f3c4"
      },
      "source": [
        "#Mi ejemplo\n",
        "print (s_2[4])\n",
        "s_2[5] = 3\n",
        "print (s_2)"
      ],
      "execution_count": 26,
      "outputs": [
        {
          "output_type": "stream",
          "text": [
            "4.3\n",
            "1    3.5\n",
            "2    4.0\n",
            "3    3.4\n",
            "4    4.3\n",
            "5    3.0\n",
            "6    5.0\n",
            "dtype: float64\n"
          ],
          "name": "stdout"
        }
      ]
    },
    {
      "cell_type": "markdown",
      "metadata": {
        "id": "dBWQPEYdgSFZ"
      },
      "source": [
        "Series can also have a name attribute, which will be used when we make up a Pandas DataFrame using several series."
      ]
    },
    {
      "cell_type": "code",
      "metadata": {
        "colab": {
          "base_uri": "https://localhost:8080/"
        },
        "id": "Qzc6OFALgU4e",
        "outputId": "ee969ad4-0af7-4403-dbbf-b6aa45a67957"
      },
      "source": [
        "s = pd.Series(price, name = 'Apple Prices')\n",
        "print (s)\n",
        "print (s.name)"
      ],
      "execution_count": 27,
      "outputs": [
        {
          "output_type": "stream",
          "text": [
            "0    143.73\n",
            "1    145.83\n",
            "2    143.68\n",
            "3    144.02\n",
            "4    143.50\n",
            "5    142.62\n",
            "Name: Apple Prices, dtype: float64\n",
            "Apple Prices\n"
          ],
          "name": "stdout"
        }
      ]
    },
    {
      "cell_type": "code",
      "metadata": {
        "colab": {
          "base_uri": "https://localhost:8080/"
        },
        "id": "7tRIar0fgcT2",
        "outputId": "c73f3d49-f803-4528-84de-0ec681fd73d0"
      },
      "source": [
        "#Mi ejemplo\n",
        "s_2 = pd.Series(score, name = 'Race notes')\n",
        "print (s_2)\n",
        "print (s_2.name)"
      ],
      "execution_count": 28,
      "outputs": [
        {
          "output_type": "stream",
          "text": [
            "0    3.5\n",
            "1    4.0\n",
            "2    3.4\n",
            "3    4.3\n",
            "4    2.5\n",
            "5    5.0\n",
            "Name: Race notes, dtype: float64\n",
            "Race notes\n"
          ],
          "name": "stdout"
        }
      ]
    },
    {
      "cell_type": "markdown",
      "metadata": {
        "id": "TihNZn-Jg4T1"
      },
      "source": [
        "We can get the statistical summaries of a Series:"
      ]
    },
    {
      "cell_type": "code",
      "metadata": {
        "colab": {
          "base_uri": "https://localhost:8080/"
        },
        "id": "Cj4-28Hlg6ec",
        "outputId": "ad488c00-ebe8-4a1b-bfa2-62ab6cc088b6"
      },
      "source": [
        "print (s.describe())"
      ],
      "execution_count": 29,
      "outputs": [
        {
          "output_type": "stream",
          "text": [
            "count      6.000000\n",
            "mean     143.896667\n",
            "std        1.059711\n",
            "min      142.620000\n",
            "25%      143.545000\n",
            "50%      143.705000\n",
            "75%      143.947500\n",
            "max      145.830000\n",
            "Name: Apple Prices, dtype: float64\n"
          ],
          "name": "stdout"
        }
      ]
    },
    {
      "cell_type": "code",
      "metadata": {
        "colab": {
          "base_uri": "https://localhost:8080/"
        },
        "id": "Guneb3Vig9sF",
        "outputId": "501cc038-1bd1-448c-d2ef-e6065850513b"
      },
      "source": [
        "#Mi ejemplo\n",
        "print (s_2.describe())"
      ],
      "execution_count": 30,
      "outputs": [
        {
          "output_type": "stream",
          "text": [
            "count    6.000000\n",
            "mean     3.783333\n",
            "std      0.856543\n",
            "min      2.500000\n",
            "25%      3.425000\n",
            "50%      3.750000\n",
            "75%      4.225000\n",
            "max      5.000000\n",
            "Name: Race notes, dtype: float64\n"
          ],
          "name": "stdout"
        }
      ]
    },
    {
      "cell_type": "markdown",
      "metadata": {
        "id": "_DH_FoThhK9h"
      },
      "source": [
        "**Time Index**\n",
        "\n",
        "Pandas has a built-in function specifically for creating date indices: pd.date_range(). We use it to create a new index for our Series:"
      ]
    },
    {
      "cell_type": "code",
      "metadata": {
        "colab": {
          "base_uri": "https://localhost:8080/"
        },
        "id": "NObTqh8ghbwX",
        "outputId": "ce3d264e-8db8-4fe3-b647-417c820305b7"
      },
      "source": [
        "time_index = pd.date_range('2017-01-01', periods = len(s), freq = 'D')\n",
        "print (time_index)\n",
        "s.index = time_index\n",
        "print (s)"
      ],
      "execution_count": 31,
      "outputs": [
        {
          "output_type": "stream",
          "text": [
            "DatetimeIndex(['2017-01-01', '2017-01-02', '2017-01-03', '2017-01-04',\n",
            "               '2017-01-05', '2017-01-06'],\n",
            "              dtype='datetime64[ns]', freq='D')\n",
            "2017-01-01    143.73\n",
            "2017-01-02    145.83\n",
            "2017-01-03    143.68\n",
            "2017-01-04    144.02\n",
            "2017-01-05    143.50\n",
            "2017-01-06    142.62\n",
            "Freq: D, Name: Apple Prices, dtype: float64\n"
          ],
          "name": "stdout"
        }
      ]
    },
    {
      "cell_type": "code",
      "metadata": {
        "colab": {
          "base_uri": "https://localhost:8080/"
        },
        "id": "oUH8skG1hg3F",
        "outputId": "c3a9dc51-2deb-4be6-e221-dda877b56a90"
      },
      "source": [
        "#Mi ejemplo\n",
        "time_index_2 = pd.date_range('2020-02-07', periods = len(s), freq = 'M')\n",
        "print (time_index_2)\n",
        "s_2.index = time_index_2\n",
        "print (s_2)"
      ],
      "execution_count": 32,
      "outputs": [
        {
          "output_type": "stream",
          "text": [
            "DatetimeIndex(['2020-02-29', '2020-03-31', '2020-04-30', '2020-05-31',\n",
            "               '2020-06-30', '2020-07-31'],\n",
            "              dtype='datetime64[ns]', freq='M')\n",
            "2020-02-29    3.5\n",
            "2020-03-31    4.0\n",
            "2020-04-30    3.4\n",
            "2020-05-31    4.3\n",
            "2020-06-30    2.5\n",
            "2020-07-31    5.0\n",
            "Freq: M, Name: Race notes, dtype: float64\n"
          ],
          "name": "stdout"
        }
      ]
    },
    {
      "cell_type": "markdown",
      "metadata": {
        "id": "84X3uHRDh6Ld"
      },
      "source": [
        "Series are usually accessed using the iloc[] and loc[] methods. iloc[] is used to access elements by integer index, and loc[] is used to access the index of the series.\n",
        "\n",
        "iloc[] is necessary when the index of a series are integers, take our previous defined series as example:"
      ]
    },
    {
      "cell_type": "code",
      "metadata": {
        "colab": {
          "base_uri": "https://localhost:8080/"
        },
        "id": "iXl2eB12h-o-",
        "outputId": "8c82282c-5100-4b8e-930b-d28adc146541"
      },
      "source": [
        "s.index = [6,5,4,3,2,1]\n",
        "print (s)\n",
        "print (s[1])"
      ],
      "execution_count": 33,
      "outputs": [
        {
          "output_type": "stream",
          "text": [
            "6    143.73\n",
            "5    145.83\n",
            "4    143.68\n",
            "3    144.02\n",
            "2    143.50\n",
            "1    142.62\n",
            "Name: Apple Prices, dtype: float64\n",
            "142.62\n"
          ],
          "name": "stdout"
        }
      ]
    },
    {
      "cell_type": "code",
      "metadata": {
        "colab": {
          "base_uri": "https://localhost:8080/"
        },
        "id": "w4CSUO8kiHSL",
        "outputId": "310b3f95-0730-40e8-9934-8bade1c93fa8"
      },
      "source": [
        "#Mi ejemplo\n",
        "s_2.index = [1,2,3,4,5,6]\n",
        "print (s_2)\n",
        "print (s_2[2])"
      ],
      "execution_count": 34,
      "outputs": [
        {
          "output_type": "stream",
          "text": [
            "1    3.5\n",
            "2    4.0\n",
            "3    3.4\n",
            "4    4.3\n",
            "5    2.5\n",
            "6    5.0\n",
            "Name: Race notes, dtype: float64\n",
            "4.0\n"
          ],
          "name": "stdout"
        }
      ]
    },
    {
      "cell_type": "markdown",
      "metadata": {
        "id": "4S1bxBSQiZ35"
      },
      "source": [
        "If we intended to take the second element of the series, we would make a mistake here, because the index are integers. In order to access to the element we want, we use iloc[] here:"
      ]
    },
    {
      "cell_type": "code",
      "metadata": {
        "colab": {
          "base_uri": "https://localhost:8080/"
        },
        "id": "Ms5PIZIuicph",
        "outputId": "e3367ca4-f99e-4fb3-fdf1-1645a0ae07e0"
      },
      "source": [
        "print (s.iloc[1])"
      ],
      "execution_count": 35,
      "outputs": [
        {
          "output_type": "stream",
          "text": [
            "145.83\n"
          ],
          "name": "stdout"
        }
      ]
    },
    {
      "cell_type": "code",
      "metadata": {
        "colab": {
          "base_uri": "https://localhost:8080/"
        },
        "id": "tLfy_7LpinjO",
        "outputId": "a6406a71-0002-4e88-d9ec-6567bd3b1731"
      },
      "source": [
        "#Mi ejemplo\n",
        "print (s_2.iloc[3])"
      ],
      "execution_count": 36,
      "outputs": [
        {
          "output_type": "stream",
          "text": [
            "4.3\n"
          ],
          "name": "stdout"
        }
      ]
    },
    {
      "cell_type": "markdown",
      "metadata": {
        "id": "8_WPLn-fizif"
      },
      "source": [
        "While working with time series data, we often use time as the index. Pandas provides us with various methods to access the data by time index."
      ]
    },
    {
      "cell_type": "code",
      "metadata": {
        "colab": {
          "base_uri": "https://localhost:8080/"
        },
        "id": "IVbWU_JUi2yN",
        "outputId": "07bcd236-e539-4744-dd47-21970c076bc0"
      },
      "source": [
        "s.index = time_index\n",
        "print (s['2017-01-03'])"
      ],
      "execution_count": 37,
      "outputs": [
        {
          "output_type": "stream",
          "text": [
            "143.68\n"
          ],
          "name": "stdout"
        }
      ]
    },
    {
      "cell_type": "code",
      "metadata": {
        "colab": {
          "base_uri": "https://localhost:8080/"
        },
        "id": "1GvYDyzki56V",
        "outputId": "fffa63cf-228e-4f64-d729-b787a5631e7d"
      },
      "source": [
        "#Mi ejemplo\n",
        "s_2.index = time_index_2\n",
        "print (s_2['2020-06-30'])"
      ],
      "execution_count": 38,
      "outputs": [
        {
          "output_type": "stream",
          "text": [
            "2.5\n"
          ],
          "name": "stdout"
        }
      ]
    },
    {
      "cell_type": "markdown",
      "metadata": {
        "id": "-3zPIM8TjNjz"
      },
      "source": [
        "We can even access to a range of dates:"
      ]
    },
    {
      "cell_type": "code",
      "metadata": {
        "colab": {
          "base_uri": "https://localhost:8080/"
        },
        "id": "Sroqj_g7jRO5",
        "outputId": "35d6bcd0-f767-428c-9660-949eca995f42"
      },
      "source": [
        "print (s['2017-01-02':'2017-01-05'])"
      ],
      "execution_count": 39,
      "outputs": [
        {
          "output_type": "stream",
          "text": [
            "2017-01-02    145.83\n",
            "2017-01-03    143.68\n",
            "2017-01-04    144.02\n",
            "2017-01-05    143.50\n",
            "Freq: D, Name: Apple Prices, dtype: float64\n"
          ],
          "name": "stdout"
        }
      ]
    },
    {
      "cell_type": "code",
      "metadata": {
        "colab": {
          "base_uri": "https://localhost:8080/"
        },
        "id": "c7SE1knTjXpu",
        "outputId": "e7116536-3f32-4d6d-aa00-9c3f8d919e25"
      },
      "source": [
        "#Mi ejemplo\n",
        "print (s_2['2020-02-22':'2020-04-10'])"
      ],
      "execution_count": 40,
      "outputs": [
        {
          "output_type": "stream",
          "text": [
            "2020-02-29    3.5\n",
            "2020-03-31    4.0\n",
            "Freq: M, Name: Race notes, dtype: float64\n"
          ],
          "name": "stdout"
        }
      ]
    },
    {
      "cell_type": "markdown",
      "metadata": {
        "id": "ohM_cMPCjvUX"
      },
      "source": [
        "Series[] provides us a very flexible way to index data. We can add any condition in the square brackets:"
      ]
    },
    {
      "cell_type": "code",
      "metadata": {
        "colab": {
          "base_uri": "https://localhost:8080/"
        },
        "id": "91cbQHVXjzUz",
        "outputId": "66c8f19f-bdb9-45a9-f9d5-d5dbe0a12e48"
      },
      "source": [
        "print (s[s < np.mean(s)])\n",
        "print (s[(s > np.mean(s)) & (s < np.mean(s) + 1.64*np.std(s))])"
      ],
      "execution_count": 41,
      "outputs": [
        {
          "output_type": "stream",
          "text": [
            "2017-01-01    143.73\n",
            "2017-01-03    143.68\n",
            "2017-01-05    143.50\n",
            "2017-01-06    142.62\n",
            "Name: Apple Prices, dtype: float64\n",
            "2017-01-04    144.02\n",
            "Freq: D, Name: Apple Prices, dtype: float64\n"
          ],
          "name": "stdout"
        }
      ]
    },
    {
      "cell_type": "code",
      "metadata": {
        "colab": {
          "base_uri": "https://localhost:8080/"
        },
        "id": "P8no5KF6j56Q",
        "outputId": "d484b8ac-91f9-4a45-b19e-a1ff298539fe"
      },
      "source": [
        "#Mi ejemplo\n",
        "print (s_2[s_2 < np.mean(s_2)])\n",
        "print (s_2[(s_2 > 3) & (s_2 < 4.5)])"
      ],
      "execution_count": 42,
      "outputs": [
        {
          "output_type": "stream",
          "text": [
            "2020-02-29    3.5\n",
            "2020-04-30    3.4\n",
            "2020-06-30    2.5\n",
            "Name: Race notes, dtype: float64\n",
            "2020-02-29    3.5\n",
            "2020-03-31    4.0\n",
            "2020-04-30    3.4\n",
            "2020-05-31    4.3\n",
            "Freq: M, Name: Race notes, dtype: float64\n"
          ],
          "name": "stdout"
        }
      ]
    },
    {
      "cell_type": "markdown",
      "metadata": {
        "id": "8ohQ_fH_kpQJ"
      },
      "source": [
        "As demonstrated, we can use logical operators like & (and), | (or) and ~ (not) to group multiple conditions."
      ]
    },
    {
      "cell_type": "markdown",
      "metadata": {
        "id": "WFV_s-rHkujM"
      },
      "source": [
        "###**Summary**"
      ]
    },
    {
      "cell_type": "markdown",
      "metadata": {
        "id": "jlmHbE35kzBZ"
      },
      "source": [
        "Here we have introduced NumPy and Pandas for scientific computing in Python. In the next chapter, we will dive into Pandas to learn resampling and manipulating Pandas DataFrame, which are commonly used in financial data analysis."
      ]
    }
  ]
}
{
  "nbformat": 4,
  "nbformat_minor": 0,
  "metadata": {
    "colab": {
      "name": "acardenasotutorial6.ipynb",
      "provenance": [],
      "collapsed_sections": []
    },
    "kernelspec": {
      "name": "python3",
      "display_name": "Python 3"
    },
    "language_info": {
      "name": "python"
    }
  },
  "cells": [
    {
      "cell_type": "markdown",
      "metadata": {
        "id": "N4q1ZnSVzIbA"
      },
      "source": [
        "#**Introduction to Financial Python**\n",
        "##Rate of Return, Mean and Variance"
      ]
    },
    {
      "cell_type": "markdown",
      "metadata": {
        "id": "9xYoOvKR0UkG"
      },
      "source": [
        "###**Introduction**"
      ]
    },
    {
      "cell_type": "markdown",
      "metadata": {
        "id": "OYbM9UlnCgF-"
      },
      "source": [
        "In this chapter we are going to introduce some basic concepts in quantitative finance. We start with rate of return, mean and variance. You may think it's simple to calculate these values, however, there are number of different methods to calculate them. It's important to choose the appropriate calculation methods case by case."
      ]
    },
    {
      "cell_type": "markdown",
      "metadata": {
        "id": "jZ1BlCCnCjCd"
      },
      "source": [
        "###**Rate of Return**"
      ]
    },
    {
      "cell_type": "markdown",
      "metadata": {
        "id": "Ll_m4_kACrON"
      },
      "source": [
        "**Single-period Return**\n",
        "\n",
        "The single-period rate of return can be calculated as following:\n",
        "\\\n",
        "\t<center>$$r =\\frac{p_t}{p_0} = \\frac{p_t - p_0}{p_0}$$</center>\n",
        "\n",
        "Where $r$ is the rate of return, $p_t$ is the asset price at time $t$, and $p_0$ is the asset price at time 0.\n"
      ]
    },
    {
      "cell_type": "code",
      "metadata": {
        "colab": {
          "base_uri": "https://localhost:8080/"
        },
        "id": "dzZa2_FiFxPo",
        "outputId": "71c09bc7-56dd-45aa-cfdf-9459edc9658a"
      },
      "source": [
        "import numpy as np\n",
        "rate_return = 102.0/100 - 1\n",
        "print (rate_return)"
      ],
      "execution_count": null,
      "outputs": [
        {
          "output_type": "stream",
          "text": [
            "0.020000000000000018\n"
          ],
          "name": "stdout"
        }
      ]
    },
    {
      "cell_type": "code",
      "metadata": {
        "colab": {
          "base_uri": "https://localhost:8080/"
        },
        "id": "A64mlnAqF3FW",
        "outputId": "0711b799-7dcc-48f0-8025-dab899f9d72b"
      },
      "source": [
        "#Mi ejemplo\n",
        "result = (2/3)**9\n",
        "print(result)"
      ],
      "execution_count": null,
      "outputs": [
        {
          "output_type": "stream",
          "text": [
            "0.02601229487374891\n"
          ],
          "name": "stdout"
        }
      ]
    },
    {
      "cell_type": "markdown",
      "metadata": {
        "id": "sU8KaJ62HGfA"
      },
      "source": [
        "Let's say we bought a stock at $\\$100$, and half a year later it will grow to $\\$102$. A year later the price will come to $\\$104$. How to calculate our total return? Well, we can either deem it as a single-period:\n",
        "\\\n",
        "\t<center>$$r =\\frac{104}{100} - 1 = 0.04$$</center>\n",
        "\n",
        "or as a two-stage period:\n",
        "\\\n",
        "\t<center>$$r = (1+ r_1)*(1+r_2)- 1=\\frac{102}{100}* - \\frac{104}{102}-1 = 0.04$$</center>\n",
        "\n",
        "Here we make calculations twice a year. It's called semi-annual compounding. How about quarterly compounding? Let's assume the stock prices at the end of each quarter are $p1,p2,p3,p4$ respectively.\n",
        "\\\n",
        "\t<center>$$r = (1+ r_1)*(1+r_2)*(1+r_3)*(1+r_4)- 1$$</center>\n",
        "\n",
        "The rate of return we calculate here is called **cumulative return** or **overall return**. It measures the total return of this asset over a period of time.\n",
        "\n",
        "Now consider the following situation: we have two strategies: strategy A and strategy B. We backtested strategy A for 1 years and the cumulative return is 20%, while we backtested strategy B for 3 months(one quarter) and the cumulative return is 6%. Which strategy has a high rate of return? Our commonly used method is to convert all the returns into **compounding annual return**, regardless of the investing horizon of each strategy. We can compare the returns of strategies with different time horizon now. Since there are four quarters in a year,the annual return of strategy B is\n",
        "\\\n",
        "\t<center>$$r = (1+0.06)^{4}=1 +r$$</center>\n",
        "\t<center>$$r = 0.262$$</center>\n",
        "\n",
        "Strategy B has an higher compounding annual return when we compare 26% with 20%.\n",
        "\n",
        "**Logarithm Return**\n",
        "\n",
        "In the above example, strategy A has 6% return over three months. Nominally, the annual return would be 4*6% = 24%. This nominal annual interest rate is called the stated annual interest rate. It is calculated as the periodic interest rate times the number of periods per year. It works according to the simple interest and does not take into account the compounding periods, while the effective annual interest rate is 26% as we calculated above and it does account for intra-year compounding. The effective annual interest rate is an essential tool that allows the evaluation of the real return on investment. If we assume the number of compounding periods in one year is n, the formula to convert the stated annual interest rate to the effective annual interest rate is\n",
        "\\\n",
        "\t<center>$$r_{effective} = (1+\\frac{r_{nominal}}{n})^{n} -1$$</center>\n",
        "\n",
        "Now imagine the price of asset is changing every second or even every millisecond, the period of compounding n approaches infinite. This is called **continuous compounding**. The calculation formula is given below:\n",
        "\n",
        "<center>$$\\lim\\limits_{n\\to\\infty}(1+\\frac{r}{n})^{n}= e^{r}$$</center>\n",
        "\n",
        "From the above limitation equation, we know that if we assume continuous compounding:\n",
        "\n",
        "<center>$$e^{r_{nominal}}=1+r_{effective}= \\frac{p_t}{p_0}$$</center>\n",
        "\n",
        "Then we take $ln$\n",
        "\n",
        "<center>$${r_{nominal}}=ln\\frac{p_t}{p_0}=lnp_t-lnp_0$$</center>\n",
        "\n",
        "Here we got the **logarithmic return**, or **continuously compounded return**. This return is the nominal return with the interest compounding every millisecond. To see how it is close to effective interest rate, recall the equation above\n",
        "\n",
        "<center>$$e^{r_{nominal}}=1+r_{effective}$$</center>\n",
        "\n",
        "then we have\n",
        "\n",
        "<center>$$r_{effective}= e^{r_{nominal}} - 1\\thickapprox r_{nominal}$$</center>\n",
        "\n",
        "where the second equality holds due to Taylor Expansion and the interest rate being small. This is frequently used when calculating returns, because once we take the logarithm of asset prices, we can calculate the logarithm return by simply doing a subtraction. Here we use Apple stock prices as an example:"
      ]
    },
    {
      "cell_type": "code",
      "metadata": {
        "colab": {
          "base_uri": "https://localhost:8080/"
        },
        "id": "Nv6pE-YtNkkx",
        "outputId": "e7e78d35-0935-439f-f68e-d2d215dd516f"
      },
      "source": [
        "!pip3 install quandl"
      ],
      "execution_count": null,
      "outputs": [
        {
          "output_type": "stream",
          "text": [
            "Requirement already satisfied: quandl in /usr/local/lib/python3.7/dist-packages (3.6.1)\n",
            "Requirement already satisfied: python-dateutil in /usr/local/lib/python3.7/dist-packages (from quandl) (2.8.1)\n",
            "Requirement already satisfied: numpy>=1.8 in /usr/local/lib/python3.7/dist-packages (from quandl) (1.19.5)\n",
            "Requirement already satisfied: six in /usr/local/lib/python3.7/dist-packages (from quandl) (1.15.0)\n",
            "Requirement already satisfied: inflection>=0.3.1 in /usr/local/lib/python3.7/dist-packages (from quandl) (0.5.1)\n",
            "Requirement already satisfied: pandas>=0.14 in /usr/local/lib/python3.7/dist-packages (from quandl) (1.1.5)\n",
            "Requirement already satisfied: more-itertools in /usr/local/lib/python3.7/dist-packages (from quandl) (8.7.0)\n",
            "Requirement already satisfied: requests>=2.7.0 in /usr/local/lib/python3.7/dist-packages (from quandl) (2.23.0)\n",
            "Requirement already satisfied: pytz>=2017.2 in /usr/local/lib/python3.7/dist-packages (from pandas>=0.14->quandl) (2018.9)\n",
            "Requirement already satisfied: urllib3!=1.25.0,!=1.25.1,<1.26,>=1.21.1 in /usr/local/lib/python3.7/dist-packages (from requests>=2.7.0->quandl) (1.24.3)\n",
            "Requirement already satisfied: certifi>=2017.4.17 in /usr/local/lib/python3.7/dist-packages (from requests>=2.7.0->quandl) (2020.12.5)\n",
            "Requirement already satisfied: chardet<4,>=3.0.2 in /usr/local/lib/python3.7/dist-packages (from requests>=2.7.0->quandl) (3.0.4)\n",
            "Requirement already satisfied: idna<3,>=2.5 in /usr/local/lib/python3.7/dist-packages (from requests>=2.7.0->quandl) (2.10)\n"
          ],
          "name": "stdout"
        }
      ]
    },
    {
      "cell_type": "code",
      "metadata": {
        "colab": {
          "base_uri": "https://localhost:8080/"
        },
        "id": "VI2DO7bLNZtA",
        "outputId": "568cd486-baeb-4eb6-e2a9-66f8d27f8b3d"
      },
      "source": [
        "import quandl\n",
        "import numpy as np\n",
        "import quandl\n",
        "quandl.ApiConfig.api_key = 'TWQ9Jm65-UXz3qV75FhB'\n",
        "#get quandl data\n",
        "aapl_table = quandl.get('WIKI/AAPL')\n",
        "aapl = aapl_table.loc['2017-3',['Open','Close']]\n",
        "#take log return\n",
        "aapl['log_price'] = np.log(aapl.Close)\n",
        "aapl['log_return'] = aapl['log_price'].diff()\n",
        "print (aapl)"
      ],
      "execution_count": null,
      "outputs": [
        {
          "output_type": "stream",
          "text": [
            "               Open   Close  log_price  log_return\n",
            "Date                                              \n",
            "2017-03-01  137.890  139.79   4.940141         NaN\n",
            "2017-03-02  140.000  138.96   4.934186   -0.005955\n",
            "2017-03-03  138.780  139.78   4.940070    0.005884\n",
            "2017-03-06  139.365  139.34   4.936917   -0.003153\n",
            "2017-03-07  139.060  139.52   4.938208    0.001291\n",
            "2017-03-08  138.950  139.00   4.934474   -0.003734\n",
            "2017-03-09  138.740  138.68   4.932169   -0.002305\n",
            "2017-03-10  139.250  139.14   4.935481    0.003311\n",
            "2017-03-13  138.850  139.20   4.935912    0.000431\n",
            "2017-03-14  139.300  138.99   4.934402   -0.001510\n",
            "2017-03-15  139.410  140.46   4.944923    0.010521\n",
            "2017-03-16  140.720  140.69   4.946559    0.001636\n",
            "2017-03-17  141.000  139.99   4.941571   -0.004988\n",
            "2017-03-20  140.400  141.46   4.952017    0.010446\n",
            "2017-03-21  142.110  139.84   4.940499   -0.011518\n",
            "2017-03-22  139.845  141.42   4.951734    0.011235\n",
            "2017-03-23  141.260  140.92   4.948192   -0.003542\n",
            "2017-03-24  141.500  140.64   4.946203   -0.001989\n",
            "2017-03-27  139.390  140.88   4.947908    0.001705\n",
            "2017-03-28  140.910  143.80   4.968423    0.020515\n",
            "2017-03-29  143.680  144.12   4.970646    0.002223\n",
            "2017-03-30  144.190  143.93   4.969327   -0.001319\n",
            "2017-03-31  143.720  143.66   4.967449   -0.001878\n"
          ],
          "name": "stdout"
        }
      ]
    },
    {
      "cell_type": "code",
      "metadata": {
        "colab": {
          "base_uri": "https://localhost:8080/"
        },
        "id": "Qslk7VkhN_Zg",
        "outputId": "1cb64e77-a76d-4406-a895-0583fd9ebed5"
      },
      "source": [
        "#Mi ejemplo\n",
        "#get quandl data\n",
        "aapl_2_table = quandl.get('WIKI/AAPL')\n",
        "aapl_2 = aapl_2_table.loc['2017-4',['Open','Close']]\n",
        "#take log return\n",
        "aapl_2['log_price'] = np.log(aapl_2.Close)\n",
        "aapl_2['log_return'] = aapl_2['log_price'].diff()\n",
        "print (aapl_2)"
      ],
      "execution_count": null,
      "outputs": [
        {
          "output_type": "stream",
          "text": [
            "                Open     Close  log_price  log_return\n",
            "Date                                                 \n",
            "2017-04-03  143.7100  143.7000   4.967728         NaN\n",
            "2017-04-04  143.2500  144.7700   4.975146    0.007418\n",
            "2017-04-05  144.2200  144.0200   4.969952   -0.005194\n",
            "2017-04-06  144.2900  143.6600   4.967449   -0.002503\n",
            "2017-04-07  143.7300  143.3400   4.965219   -0.002230\n",
            "2017-04-10  143.6000  143.1700   4.964033   -0.001187\n",
            "2017-04-11  142.9400  141.6300   4.953218   -0.010815\n",
            "2017-04-12  141.6000  141.8000   4.954418    0.001200\n",
            "2017-04-13  141.9100  141.0500   4.949114   -0.005303\n",
            "2017-04-17  141.4800  141.8300   4.954629    0.005515\n",
            "2017-04-18  141.4100  141.2000   4.950177   -0.004452\n",
            "2017-04-19  141.8800  140.6800   4.946488   -0.003690\n",
            "2017-04-20  141.2200  142.4400   4.958921    0.012433\n",
            "2017-04-21  142.4400  142.2700   4.957727   -0.001194\n",
            "2017-04-24  143.5000  143.6400   4.967310    0.009584\n",
            "2017-04-25  143.9100  144.5400   4.973556    0.006246\n",
            "2017-04-26  144.4700  143.6508   4.967385   -0.006171\n",
            "2017-04-27  143.9225  143.7900   4.968354    0.000969\n",
            "2017-04-28  144.0900  143.6500   4.967380   -0.000974\n"
          ],
          "name": "stdout"
        }
      ]
    },
    {
      "cell_type": "markdown",
      "metadata": {
        "id": "6YA4Xg0MOUIJ"
      },
      "source": [
        "Here we calculated the daily logarithmic return of Apple stock. Given that we know the daily logarithm return of in this month, we can calculate the monthly return by simply sum all the daily returns up."
      ]
    },
    {
      "cell_type": "code",
      "metadata": {
        "colab": {
          "base_uri": "https://localhost:8080/"
        },
        "id": "zVLl6fckOeow",
        "outputId": "eab9b32b-5eaa-4239-f7f3-7959660f81c6"
      },
      "source": [
        "month_return = aapl.log_return.sum()\n",
        "print (month_return)"
      ],
      "execution_count": null,
      "outputs": [
        {
          "output_type": "stream",
          "text": [
            "0.0273081001636184\n"
          ],
          "name": "stdout"
        }
      ]
    },
    {
      "cell_type": "code",
      "metadata": {
        "colab": {
          "base_uri": "https://localhost:8080/"
        },
        "id": "rRIGUXIKOhTP",
        "outputId": "43b134d3-2c5f-47a8-c406-787c0b051eb7"
      },
      "source": [
        "#Mi ejemplo\n",
        "month_return_2 = aapl_2.log_return.sum()\n",
        "print (month_return_2)"
      ],
      "execution_count": null,
      "outputs": [
        {
          "output_type": "stream",
          "text": [
            "-0.0003480076596806825\n"
          ],
          "name": "stdout"
        }
      ]
    },
    {
      "cell_type": "markdown",
      "metadata": {
        "id": "OZC8Abe7OqJW"
      },
      "source": [
        "It may sounds incorrect to sum up the daily returns, but we can prove that it's mathematically correct. Let's assume the stock prices in a period of time are represented by $[p_0,p_1,p_2,p_3.....p_n]$\n",
        "\n",
        "<center>$$1+r_{effective}\\thickapprox 1+r_{nominal}=ln\\frac{p_t}{p_0}=ln\\frac{p_t}{p_{t-1}}+ln\\frac{p_{t-1}}{p_{t-2}}+ ......+ln\\frac{p_1}{p_0}$$</center>\n",
        "\n",
        "According to the equation above, we can simple sum up each logarithmic return in a period to get the cumulative return. The convenience of this method is also one of the reasons why we use logarithmic return in quantitative finance."
      ]
    },
    {
      "cell_type": "markdown",
      "metadata": {
        "id": "eOmgG93yP8DF"
      },
      "source": [
        "###**Mean**"
      ]
    },
    {
      "cell_type": "markdown",
      "metadata": {
        "id": "86klBnGlQA4T"
      },
      "source": [
        "**Arithmetic Mean**\n",
        "\n",
        "Mean is a measure of the central tendency of a data series. It capture the key character of the distribution of the data series. When we talk about mean, by default it refers to arithmetic mean. It's defined as the sum of the values divided by the number of observations:\n",
        "\n",
        "<center>$$\\mu=\\frac{\\sum_{i=1}^n x_i}{n}$$</center>\n",
        "\n",
        "Where $(x_1,x_2,x_3.....x_n)$\n",
        "\n",
        "In python we can use NumPy.mean() to do the calculation:"
      ]
    },
    {
      "cell_type": "code",
      "metadata": {
        "colab": {
          "base_uri": "https://localhost:8080/"
        },
        "id": "1m16Hya0RRWQ",
        "outputId": "d9242b14-5edb-4b16-c023-df2ac1d1d0cc"
      },
      "source": [
        "print (np.mean(aapl.log_price))"
      ],
      "execution_count": null,
      "outputs": [
        {
          "output_type": "stream",
          "text": [
            "4.94597446550658\n"
          ],
          "name": "stdout"
        }
      ]
    },
    {
      "cell_type": "code",
      "metadata": {
        "colab": {
          "base_uri": "https://localhost:8080/"
        },
        "id": "RN7jbXlURU1g",
        "outputId": "1ebf62b1-fe5a-4fee-fca4-0aaa1cb1c390"
      },
      "source": [
        "#Mi ejemplo\n",
        "print (np.mean(aapl_2.log_price))"
      ],
      "execution_count": null,
      "outputs": [
        {
          "output_type": "stream",
          "text": [
            "4.962010799550092\n"
          ],
          "name": "stdout"
        }
      ]
    },
    {
      "cell_type": "markdown",
      "metadata": {
        "id": "APsV90CPRiuL"
      },
      "source": [
        "**Geometric Mean**\n",
        "\n",
        "The geometric mean is an average that is useful for data series of positive numbers that are better interpreted according to their product, such as growth rate. It's calculated by:\n",
        "\n",
        "<center>$$\\overline{x}=\\sqrt[n]{x_1x_2x_3...x_n}$$</center>\n",
        "\n",
        "Let's calculate the geometric mean of a series of single-period return:\n",
        "\n",
        "<center>$$1+\\overline{r}=\\sqrt[t]{\\frac{p_t}{p_{t-1}}*\\frac{p_{t-1}}{p_{t-2}}* ......*\\frac{p_2}{p_1}*\\frac{p_1}{p_0}}$$</center>\n",
        "\n",
        "<center>$$(1+\\overline{r})=\\sqrt[t]{\\frac{p_t}{p_{0}}}$$</center>\n",
        "\n",
        "Now the equation becomes the form which we are familiar with:\n",
        "\n",
        "<center>$$(1+\\overline{r})={\\frac{p_t}{p_{0}}}$$</center>\n",
        "\n",
        "This is why we said it make sense when applied to growth rates."
      ]
    },
    {
      "cell_type": "markdown",
      "metadata": {
        "id": "uRniuFQOW5Dh"
      },
      "source": [
        "###**Variance and Standard Deviation**"
      ]
    },
    {
      "cell_type": "markdown",
      "metadata": {
        "id": "bKi-vCQwW_GD"
      },
      "source": [
        "**Variance**\n",
        "\n",
        "**Variance** is a measure of dispersion. In finance, most of the time variance is a synonym for risk. The higher the variance of an asset price is, the higher risk the asset bears. Variance is usually represented by $σ^{2}$\n",
        "\n",
        "<center>$$σ^{2}=\\frac{\\sum_{i=1}^n (x_i- \\mu)^2}{n}$$</center>\n",
        "\n",
        "In python we can use NumPy.var to calculate it:"
      ]
    },
    {
      "cell_type": "code",
      "metadata": {
        "colab": {
          "base_uri": "https://localhost:8080/"
        },
        "id": "XtLtD-NoXhCj",
        "outputId": "baeab82f-e8ed-41ed-bd5c-d65f43ed2c7f"
      },
      "source": [
        "print (np.var(aapl.log_price))"
      ],
      "execution_count": null,
      "outputs": [
        {
          "output_type": "stream",
          "text": [
            "0.00014203280448152512\n"
          ],
          "name": "stdout"
        }
      ]
    },
    {
      "cell_type": "code",
      "metadata": {
        "colab": {
          "base_uri": "https://localhost:8080/"
        },
        "id": "vL2CQ6xEXlKC",
        "outputId": "9e1820dd-433a-4594-b448-bb4ed5a43a0a"
      },
      "source": [
        "#Mi ejemplo\n",
        "print (np.var(aapl_2.log_price))"
      ],
      "execution_count": null,
      "outputs": [
        {
          "output_type": "stream",
          "text": [
            "7.032898268435797e-05\n"
          ],
          "name": "stdout"
        }
      ]
    },
    {
      "cell_type": "markdown",
      "metadata": {
        "id": "fKtZq9eBXtqh"
      },
      "source": [
        "**Standard Deviation**\n",
        "\n",
        "The most commonly used measure of dispersion in finance is standard deviation. It's usually represented by $σ$\n",
        "\n",
        "<center>$$σ=\\sqrt{σ^2}=\\sqrt{\\frac{\\sum_{i=1}^n (x_i- \\mu)^2}{n}}$$</center>\n",
        "\n",
        "NumPy also provides us a method to calculate standard deviation."
      ]
    },
    {
      "cell_type": "code",
      "metadata": {
        "colab": {
          "base_uri": "https://localhost:8080/"
        },
        "id": "C5vkJ1reYKNK",
        "outputId": "aa2ef7a5-36a7-4016-d624-915147b2ef78"
      },
      "source": [
        "print (np.std(aapl.log_price))"
      ],
      "execution_count": null,
      "outputs": [
        {
          "output_type": "stream",
          "text": [
            "0.011917751653794651\n"
          ],
          "name": "stdout"
        }
      ]
    },
    {
      "cell_type": "code",
      "metadata": {
        "colab": {
          "base_uri": "https://localhost:8080/"
        },
        "id": "IfX7cDb6YQta",
        "outputId": "cf98a861-92ad-4f09-c9ed-cc3e7b74eff8"
      },
      "source": [
        "#Mi ejemplo\n",
        "print (np.std(aapl_2.log_price))"
      ],
      "execution_count": null,
      "outputs": [
        {
          "output_type": "stream",
          "text": [
            "0.008386237695436373\n"
          ],
          "name": "stdout"
        }
      ]
    },
    {
      "cell_type": "markdown",
      "metadata": {
        "id": "3b4AiWdhYX8n"
      },
      "source": [
        "###**Summary**"
      ]
    },
    {
      "cell_type": "markdown",
      "metadata": {
        "id": "kYJuEIqfYcR_"
      },
      "source": [
        "We introduced different types of rate of return in this chapter, which could be a little bit tricky when we calculate them. Mean and standard deviation are also very important concepts when we conduct hypothesis test or measure the risk associated with a asset. We will use those concepts intensively in our later chapter."
      ]
    }
  ]
}
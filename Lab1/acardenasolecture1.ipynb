{
  "nbformat": 4,
  "nbformat_minor": 0,
  "metadata": {
    "kernelspec": {
      "name": "python3",
      "display_name": "Python 3"
    },
    "colab": {
      "name": "acardenasolecture1.ipynb",
      "provenance": [],
      "collapsed_sections": []
    }
  },
  "cells": [
    {
      "cell_type": "markdown",
      "metadata": {
        "id": "zenx_N08ba0E"
      },
      "source": [
        "#Introduction to the Research Environment\n",
        "\n",
        "The research environment is powered by IPython notebooks, which allow one to perform a great deal of data analysis and statistical validation. We'll demonstrate a few simple techniques here."
      ]
    },
    {
      "cell_type": "markdown",
      "metadata": {
        "id": "dFrisl2Aba0K"
      },
      "source": [
        "##Code Cells vs. Text Cells\n",
        "\n",
        "As you can see, each cell can be either code or text. To select between them, choose from the 'Cell Type' dropdown menu on the top left."
      ]
    },
    {
      "cell_type": "markdown",
      "metadata": {
        "id": "y0TIRnAiba0K"
      },
      "source": [
        "##Executing a Command\n",
        "\n",
        "A code cell will be evaluated when you press play, or when you press the shortcut, shift-enter. Evaluating a cell evaluates each line of code in sequence, and prints the results of the last line below the cell."
      ]
    },
    {
      "cell_type": "code",
      "metadata": {
        "colab": {
          "base_uri": "https://localhost:8080/"
        },
        "id": "v-CUOs97ba0L",
        "outputId": "3877d9d1-4cf9-41b6-b4c0-0f54e3a12dca"
      },
      "source": [
        "2 + 2"
      ],
      "execution_count": null,
      "outputs": [
        {
          "output_type": "execute_result",
          "data": {
            "text/plain": [
              "4"
            ]
          },
          "metadata": {
            "tags": []
          },
          "execution_count": 27
        }
      ]
    },
    {
      "cell_type": "code",
      "metadata": {
        "colab": {
          "base_uri": "https://localhost:8080/"
        },
        "id": "slb0pMHVm3dG",
        "outputId": "2059da7f-b716-4589-b096-1bf1387b098d"
      },
      "source": [
        "3 + 5 #Imprime el resultado de la suma"
      ],
      "execution_count": null,
      "outputs": [
        {
          "output_type": "execute_result",
          "data": {
            "text/plain": [
              "8"
            ]
          },
          "metadata": {
            "tags": []
          },
          "execution_count": 28
        }
      ]
    },
    {
      "cell_type": "markdown",
      "metadata": {
        "id": "NY1KHzg0ba0L"
      },
      "source": [
        "Sometimes there is no result to be printed, as is the case with assignment."
      ]
    },
    {
      "cell_type": "code",
      "metadata": {
        "collapsed": true,
        "id": "nTNNqGQpba0M"
      },
      "source": [
        "X = 2"
      ],
      "execution_count": null,
      "outputs": []
    },
    {
      "cell_type": "code",
      "metadata": {
        "id": "10jcRAv9qpWL"
      },
      "source": [
        "y = 4 #Al ejecutar no imprime nada porque estamos asignando un valor a una variable"
      ],
      "execution_count": null,
      "outputs": []
    },
    {
      "cell_type": "markdown",
      "metadata": {
        "id": "IUpgdlGpba0M"
      },
      "source": [
        "Remember that only the result from the last line is printed."
      ]
    },
    {
      "cell_type": "code",
      "metadata": {
        "colab": {
          "base_uri": "https://localhost:8080/"
        },
        "id": "qy7w1BZVba0M",
        "outputId": "e56aa9f1-65c6-4033-a85d-838a02566aed"
      },
      "source": [
        "2 + 2\n",
        "3 + 3"
      ],
      "execution_count": null,
      "outputs": [
        {
          "output_type": "execute_result",
          "data": {
            "text/plain": [
              "6"
            ]
          },
          "metadata": {
            "tags": []
          },
          "execution_count": 31
        }
      ]
    },
    {
      "cell_type": "code",
      "metadata": {
        "colab": {
          "base_uri": "https://localhost:8080/"
        },
        "id": "kZyLMU5Orl4U",
        "outputId": "81221bef-61a1-44f9-fc5f-b2687e6f2504"
      },
      "source": [
        "1-100\n",
        "2+3\n",
        "7+8 #Solo se imprime el resultado de esta linea"
      ],
      "execution_count": null,
      "outputs": [
        {
          "output_type": "execute_result",
          "data": {
            "text/plain": [
              "15"
            ]
          },
          "metadata": {
            "tags": []
          },
          "execution_count": 32
        }
      ]
    },
    {
      "cell_type": "markdown",
      "metadata": {
        "id": "ibJh92efba0M"
      },
      "source": [
        "However, you can print whichever lines you want using the `print` statement."
      ]
    },
    {
      "cell_type": "code",
      "metadata": {
        "colab": {
          "base_uri": "https://localhost:8080/"
        },
        "id": "k2MQ2TYMba0N",
        "outputId": "1a167d38-a1bb-4464-8233-01284d51d8ff"
      },
      "source": [
        "print (2 + 2)\n",
        "3 + 3"
      ],
      "execution_count": null,
      "outputs": [
        {
          "output_type": "stream",
          "text": [
            "4\n"
          ],
          "name": "stdout"
        },
        {
          "output_type": "execute_result",
          "data": {
            "text/plain": [
              "6"
            ]
          },
          "metadata": {
            "tags": []
          },
          "execution_count": 33
        }
      ]
    },
    {
      "cell_type": "code",
      "metadata": {
        "colab": {
          "base_uri": "https://localhost:8080/"
        },
        "id": "_rRYYIatvjeP",
        "outputId": "38b3880a-4a68-47a8-f728-fb62662c97fb"
      },
      "source": [
        "5 * 2\n",
        "print(6*3)\n",
        "3 + 4\n",
        "4 + 5 #Se imprime la ultima linea y las que esten utlizando el comando print"
      ],
      "execution_count": null,
      "outputs": [
        {
          "output_type": "stream",
          "text": [
            "18\n"
          ],
          "name": "stdout"
        },
        {
          "output_type": "execute_result",
          "data": {
            "text/plain": [
              "9"
            ]
          },
          "metadata": {
            "tags": []
          },
          "execution_count": 34
        }
      ]
    },
    {
      "cell_type": "markdown",
      "metadata": {
        "id": "66yOgXelba0N"
      },
      "source": [
        "##Knowing When a Cell is Running\n",
        "\n",
        "While a cell is running, a `[*]` will display on the left. When a cell has yet to be executed, `[ ]` will display. When it has been run, a number will display indicating the order in which it was run during the execution of the notebook `[5]`. Try on this cell and note it happening."
      ]
    },
    {
      "cell_type": "code",
      "metadata": {
        "colab": {
          "base_uri": "https://localhost:8080/"
        },
        "id": "y6-87u_Xba0N",
        "outputId": "f9500263-ade4-4dc8-9dbc-4535ebf15b9b"
      },
      "source": [
        "#Take some time to run something\n",
        "c = 0\n",
        "for i in range(10000000):\n",
        "    c = c + i\n",
        "c"
      ],
      "execution_count": null,
      "outputs": [
        {
          "output_type": "execute_result",
          "data": {
            "text/plain": [
              "49999995000000"
            ]
          },
          "metadata": {
            "tags": []
          },
          "execution_count": 35
        }
      ]
    },
    {
      "cell_type": "code",
      "metadata": {
        "colab": {
          "base_uri": "https://localhost:8080/"
        },
        "id": "EbdlK92k_8f8",
        "outputId": "f31dbcf5-52ca-4d54-a22b-dcf45ace1ed7"
      },
      "source": [
        "a = 6\n",
        "b = 1\n",
        "for i in range(1, a + 1): #Muestra lo que pasa mientras se ejecuta la celda, es un codigo para calcular a!\n",
        "  b = b * i\n",
        "b"
      ],
      "execution_count": null,
      "outputs": [
        {
          "output_type": "execute_result",
          "data": {
            "text/plain": [
              "720"
            ]
          },
          "metadata": {
            "tags": []
          },
          "execution_count": 36
        }
      ]
    },
    {
      "cell_type": "markdown",
      "metadata": {
        "id": "IyiqyV23ba0N"
      },
      "source": [
        "##Importing Libraries\n",
        "\n",
        "The vast majority of the time, you'll want to use functions from pre-built libraries. You can't import every library on Quantopian due to security issues, but you can import most of the common scientific ones. Here I import numpy and pandas, the two most common and useful libraries in quant finance. I recommend copying this import statement to every new notebook.\n",
        "\n",
        "Notice that you can rename libraries to whatever you want after importing. The `as` statement allows this. Here we use `np` and `pd` as aliases for `numpy` and `pandas`. This is a very common aliasing and will be found in most code snippets around the web. The point behind this is to allow you to type fewer characters when you are frequently accessing these libraries."
      ]
    },
    {
      "cell_type": "code",
      "metadata": {
        "collapsed": true,
        "id": "8KnXVeuYba0O"
      },
      "source": [
        "import numpy as np\n",
        "import pandas as pd\n",
        "\n",
        "# This is a plotting library for pretty pictures.\n",
        "import matplotlib.pyplot as plt"
      ],
      "execution_count": null,
      "outputs": []
    },
    {
      "cell_type": "code",
      "metadata": {
        "colab": {
          "base_uri": "https://localhost:8080/"
        },
        "id": "awEWXQzFVTth",
        "outputId": "37057d19-0e8c-4406-c198-6913d51ef7da"
      },
      "source": [
        "import scipy as sp #importa la libreria SciPy la cual es util para realizar integración numérica, optimización, álgebra lineal, estadística, etc.\n",
        "from scipy import linalg as li\n",
        "matriz = np.array([[7,3],[2,8]])\n",
        "li.det(matriz)"
      ],
      "execution_count": null,
      "outputs": [
        {
          "output_type": "execute_result",
          "data": {
            "text/plain": [
              "50.0"
            ]
          },
          "metadata": {
            "tags": []
          },
          "execution_count": 38
        }
      ]
    },
    {
      "cell_type": "markdown",
      "metadata": {
        "id": "ApBTyBpHba0O"
      },
      "source": [
        "##Tab Autocomplete\n",
        "\n",
        "Pressing tab will give you a list of IPython's best guesses for what you might want to type next. This is incredibly valuable and will save you a lot of time. If there is only one possible option for what you could type next, IPython will fill that in for you. Try pressing tab very frequently, it will seldom fill in anything you don't want, as if there is ambiguity a list will be shown. This is a great way to see what functions are available in a library.\n",
        "\n",
        "Try placing your cursor after the `.` and pressing tab."
      ]
    },
    {
      "cell_type": "code",
      "metadata": {
        "id": "Ec4vHK1Aba0O",
        "colab": {
          "base_uri": "https://localhost:8080/"
        },
        "outputId": "8296e640-1880-4f66-bbe4-f2c577c622a2"
      },
      "source": [
        "np.random.bytes"
      ],
      "execution_count": null,
      "outputs": [
        {
          "output_type": "execute_result",
          "data": {
            "text/plain": [
              "<function RandomState.bytes>"
            ]
          },
          "metadata": {
            "tags": []
          },
          "execution_count": 39
        }
      ]
    },
    {
      "cell_type": "code",
      "metadata": {
        "id": "dXwiCvg3ZUzZ",
        "colab": {
          "base_uri": "https://localhost:8080/"
        },
        "outputId": "f24ed7a1-e9e7-4372-f650-f75edb0a9403"
      },
      "source": [
        "sp.linalg.inv \n",
        "#En la libreria Spicy hay una sublibreria llamada linalg que tiene una función llamada \"inv\", esta sirve para calcular la inversa de una matriz"
      ],
      "execution_count": null,
      "outputs": [
        {
          "output_type": "execute_result",
          "data": {
            "text/plain": [
              "<function scipy.linalg.basic.inv>"
            ]
          },
          "metadata": {
            "tags": []
          },
          "execution_count": 40
        }
      ]
    },
    {
      "cell_type": "markdown",
      "metadata": {
        "id": "5CeNz3dTba0O"
      },
      "source": [
        "##Getting Documentation Help\n",
        "\n",
        "Placing a question mark after a function and executing that line of code will give you the documentation IPython has for that function. It's often best to do this in a new cell, as you avoid re-executing other code and running into bugs."
      ]
    },
    {
      "cell_type": "code",
      "metadata": {
        "collapsed": true,
        "id": "G1dSduvvba0P"
      },
      "source": [
        "np.random.normal?"
      ],
      "execution_count": null,
      "outputs": []
    },
    {
      "cell_type": "code",
      "metadata": {
        "id": "z9equZunO90v"
      },
      "source": [
        "np.linalg.norm?"
      ],
      "execution_count": null,
      "outputs": []
    },
    {
      "cell_type": "markdown",
      "metadata": {
        "id": "QGKbFuOSba0P"
      },
      "source": [
        "##Sampling\n",
        "\n",
        "We'll sample some random data using a function from `numpy`."
      ]
    },
    {
      "cell_type": "code",
      "metadata": {
        "id": "UjD91lEUba0P"
      },
      "source": [
        "# Sample 100 points with a mean of 0 and an std of 1. This is a standard normal distribution.\n",
        "X = np.random.normal(0, 1, 100)"
      ],
      "execution_count": null,
      "outputs": []
    },
    {
      "cell_type": "code",
      "metadata": {
        "id": "XEqDk5Fgm7pb",
        "colab": {
          "base_uri": "https://localhost:8080/"
        },
        "outputId": "f2f0d4ce-2dff-4748-8d62-f56d4c299afe"
      },
      "source": [
        "Y = np.random.gamma(2,1,5) #Muestra 5 puntos de una distribución Gamma con escala 1 y forma 2\n",
        "Y"
      ],
      "execution_count": null,
      "outputs": [
        {
          "output_type": "execute_result",
          "data": {
            "text/plain": [
              "array([1.48806533, 2.13854036, 1.89076752, 4.18560582, 1.46526912])"
            ]
          },
          "metadata": {
            "tags": []
          },
          "execution_count": 44
        }
      ]
    },
    {
      "cell_type": "markdown",
      "metadata": {
        "id": "mSbSsHYSba0P"
      },
      "source": [
        "##Plotting\n",
        "\n",
        "We can use the plotting library we imported as follows."
      ]
    },
    {
      "cell_type": "code",
      "metadata": {
        "id": "kyMXiMPUba0P",
        "colab": {
          "base_uri": "https://localhost:8080/",
          "height": 282
        },
        "outputId": "8d9bfd5b-b6c3-40a8-de60-4c958207b343"
      },
      "source": [
        "plt.plot(X)"
      ],
      "execution_count": null,
      "outputs": [
        {
          "output_type": "execute_result",
          "data": {
            "text/plain": [
              "[<matplotlib.lines.Line2D at 0x7f6c5c5ce3d0>]"
            ]
          },
          "metadata": {
            "tags": []
          },
          "execution_count": 45
        },
        {
          "output_type": "display_data",
          "data": {
            "image/png": "[encoded data removed]",
            "text/plain": [
              "<Figure size 432x288 with 1 Axes>"
            ]
          },
          "metadata": {
            "tags": [],
            "needs_background": "light"
          }
        }
      ]
    },
    {
      "cell_type": "code",
      "metadata": {
        "id": "UykJBF8Bpu23",
        "colab": {
          "base_uri": "https://localhost:8080/",
          "height": 282
        },
        "outputId": "a0b1bc2d-afda-49b2-ae93-37596ffd9a34"
      },
      "source": [
        "plt.plot(Y) #Crea una grafica a partir del conjunto de datos Y"
      ],
      "execution_count": null,
      "outputs": [
        {
          "output_type": "execute_result",
          "data": {
            "text/plain": [
              "[<matplotlib.lines.Line2D at 0x7f6c5c07ce10>]"
            ]
          },
          "metadata": {
            "tags": []
          },
          "execution_count": 46
        },
        {
          "output_type": "display_data",
          "data": {
            "image/png": "[encoded data removed]",
            "text/plain": [
              "<Figure size 432x288 with 1 Axes>"
            ]
          },
          "metadata": {
            "tags": [],
            "needs_background": "light"
          }
        }
      ]
    },
    {
      "cell_type": "markdown",
      "metadata": {
        "id": "GhT4MgFrba0Q"
      },
      "source": [
        "###Squelching Line Output\n",
        "\n",
        "You might have noticed the annoying line of the form `[<matplotlib.lines.Line2D at 0x7f72fdbc1710>]` before the plots. This is because the `.plot` function actually produces output. Sometimes we wish not to display output, we can accomplish this with the semi-colon as follows."
      ]
    },
    {
      "cell_type": "code",
      "metadata": {
        "id": "JHLN1Qb_ba0Q",
        "colab": {
          "base_uri": "https://localhost:8080/",
          "height": 265
        },
        "outputId": "28ee76ba-1fda-4e07-dc80-a82eac4c381e"
      },
      "source": [
        "plt.plot(X);"
      ],
      "execution_count": null,
      "outputs": [
        {
          "output_type": "display_data",
          "data": {
            "image/png": "[encoded data removed]",
            "text/plain": [
              "<Figure size 432x288 with 1 Axes>"
            ]
          },
          "metadata": {
            "tags": [],
            "needs_background": "light"
          }
        }
      ]
    },
    {
      "cell_type": "code",
      "metadata": {
        "id": "NhphL4rB0242",
        "colab": {
          "base_uri": "https://localhost:8080/",
          "height": 265
        },
        "outputId": "dcccd720-5103-40ad-8f6f-bffa5e88023a"
      },
      "source": [
        "plt.plot(Y);#Muestra la grafica sin el mensaje [<matplotlib.lines.Line2D at 0x7f941592e910>]"
      ],
      "execution_count": null,
      "outputs": [
        {
          "output_type": "display_data",
          "data": {
            "image/png": "[encoded data removed]",
            "text/plain": [
              "<Figure size 432x288 with 1 Axes>"
            ]
          },
          "metadata": {
            "tags": [],
            "needs_background": "light"
          }
        }
      ]
    },
    {
      "cell_type": "markdown",
      "metadata": {
        "id": "Aaj72QTsba0Q"
      },
      "source": [
        "###Adding Axis Labels\n",
        "\n",
        "No self-respecting quant leaves a graph without labeled axes. Here are some commands to help with that."
      ]
    },
    {
      "cell_type": "code",
      "metadata": {
        "id": "kAG0saFoba0Q",
        "colab": {
          "base_uri": "https://localhost:8080/",
          "height": 279
        },
        "outputId": "f26b93b2-6ada-4eec-921d-2f1cba64db64"
      },
      "source": [
        "X = np.random.normal(0, 1, 100)\n",
        "X2 = np.random.normal(0, 1, 100)\n",
        "\n",
        "plt.plot(X);\n",
        "plt.plot(X2);\n",
        "plt.xlabel('Time') # The data we generated is unitless, but don't forget units in general.\n",
        "plt.ylabel('Returns')\n",
        "plt.legend(['X', 'X2']);"
      ],
      "execution_count": null,
      "outputs": [
        {
          "output_type": "display_data",
          "data": {
            "image/png": "[encoded data removed]",
            "text/plain": [
              "<Figure size 432x288 with 1 Axes>"
            ]
          },
          "metadata": {
            "tags": [],
            "needs_background": "light"
          }
        }
      ]
    },
    {
      "cell_type": "code",
      "metadata": {
        "id": "3sXsQ7tD16Gu",
        "colab": {
          "base_uri": "https://localhost:8080/",
          "height": 279
        },
        "outputId": "89104953-cd07-4a9c-f36b-1bc8d68913b1"
      },
      "source": [
        "Y = np.random.gamma(3, 2, 100)\n",
        "Z = np.random.lognormal(3, 1, 100)\n",
        " \n",
        "plt.plot(Y);\n",
        "plt.plot(Z);\n",
        "plt.xlabel('Oferta') #Muestra los datos generados por ambas graficas con sus etiquetas para saber de que estamos hablando en la grafica\n",
        "plt.ylabel('Demanda')\n",
        "plt.legend(['Turismo', 'Alimentación']);"
      ],
      "execution_count": null,
      "outputs": [
        {
          "output_type": "display_data",
          "data": {
            "image/png": "[encoded data removed]",
            "text/plain": [
              "<Figure size 432x288 with 1 Axes>"
            ]
          },
          "metadata": {
            "tags": [],
            "needs_background": "light"
          }
        }
      ]
    },
    {
      "cell_type": "markdown",
      "metadata": {
        "id": "gEuedKmsba0Q"
      },
      "source": [
        "##Generating Statistics\n",
        "\n",
        "Let's use `numpy` to take some simple statistics."
      ]
    },
    {
      "cell_type": "code",
      "metadata": {
        "id": "4B36uaK8ba0Q",
        "colab": {
          "base_uri": "https://localhost:8080/"
        },
        "outputId": "2f7be416-f9bb-4248-ecc7-3a2529d29c17"
      },
      "source": [
        "np.mean(X)"
      ],
      "execution_count": null,
      "outputs": [
        {
          "output_type": "execute_result",
          "data": {
            "text/plain": [
              "-0.04536757581056884"
            ]
          },
          "metadata": {
            "tags": []
          },
          "execution_count": 51
        }
      ]
    },
    {
      "cell_type": "code",
      "metadata": {
        "id": "k9XDYaK6ba0R",
        "colab": {
          "base_uri": "https://localhost:8080/"
        },
        "outputId": "e1d3321d-bbd5-4bbb-efd5-f4a92b2c7eaa"
      },
      "source": [
        "np.std(X)"
      ],
      "execution_count": null,
      "outputs": [
        {
          "output_type": "execute_result",
          "data": {
            "text/plain": [
              "0.9232662086910944"
            ]
          },
          "metadata": {
            "tags": []
          },
          "execution_count": 52
        }
      ]
    },
    {
      "cell_type": "code",
      "metadata": {
        "id": "NtBmHPAHbO8k",
        "colab": {
          "base_uri": "https://localhost:8080/"
        },
        "outputId": "8d9101d8-f670-47a8-ed9d-7de0da67e33c"
      },
      "source": [
        "np.median(X) #Muestra la mediana de la distribución"
      ],
      "execution_count": null,
      "outputs": [
        {
          "output_type": "execute_result",
          "data": {
            "text/plain": [
              "-0.038490865486312184"
            ]
          },
          "metadata": {
            "tags": []
          },
          "execution_count": 53
        }
      ]
    },
    {
      "cell_type": "markdown",
      "metadata": {
        "id": "GI3qTGw7ba0R"
      },
      "source": [
        "##Getting Real Pricing Data\n",
        "\n",
        "Randomly sampled data can be great for testing ideas, but let's get some real data. We can use `get_pricing` to do that. You can use the `?` syntax as discussed above to get more information on `get_pricing`'s arguments."
      ]
    },
    {
      "cell_type": "code",
      "metadata": {
        "id": "9S1lw9hRba0R"
      },
      "source": [
        "#data = get_pricing('MSFT', start_date='2012-1-1', end_date='2015-6-1') #Esta es una función obsoleta"
      ],
      "execution_count": null,
      "outputs": []
    },
    {
      "cell_type": "code",
      "metadata": {
        "colab": {
          "base_uri": "https://localhost:8080/",
          "height": 431
        },
        "id": "MJpqX7bOtsdC",
        "outputId": "a11944ea-e0e5-434b-be74-a83b455d7556"
      },
      "source": [
        "import pandas_datareader as pdd\n",
        "import datetime as dt\n",
        "data = pdd.get_data_yahoo('MSFT', start=dt.datetime(2020,3,4), end=dt.datetime(2021,3,4))\n",
        "data"
      ],
      "execution_count": null,
      "outputs": [
        {
          "output_type": "execute_result",
          "data": {
            "text/html": [
              "<div>\n",
              "<style scoped>\n",
              "    .dataframe tbody tr th:only-of-type {\n",
              "        vertical-align: middle;\n",
              "    }\n",
              "\n",
              "    .dataframe tbody tr th {\n",
              "        vertical-align: top;\n",
              "    }\n",
              "\n",
              "    .dataframe thead th {\n",
              "        text-align: right;\n",
              "    }\n",
              "</style>\n",
              "<table border=\"1\" class=\"dataframe\">\n",
              "  <thead>\n",
              "    <tr style=\"text-align: right;\">\n",
              "      <th></th>\n",
              "      <th>High</th>\n",
              "      <th>Low</th>\n",
              "      <th>Open</th>\n",
              "      <th>Close</th>\n",
              "      <th>Volume</th>\n",
              "      <th>Adj Close</th>\n",
              "    </tr>\n",
              "    <tr>\n",
              "      <th>Date</th>\n",
              "      <th></th>\n",
              "      <th></th>\n",
              "      <th></th>\n",
              "      <th></th>\n",
              "      <th></th>\n",
              "      <th></th>\n",
              "    </tr>\n",
              "  </thead>\n",
              "  <tbody>\n",
              "    <tr>\n",
              "      <th>2020-03-04</th>\n",
              "      <td>170.699997</td>\n",
              "      <td>165.619995</td>\n",
              "      <td>168.490005</td>\n",
              "      <td>170.550003</td>\n",
              "      <td>49814400.0</td>\n",
              "      <td>168.834290</td>\n",
              "    </tr>\n",
              "    <tr>\n",
              "      <th>2020-03-05</th>\n",
              "      <td>170.869995</td>\n",
              "      <td>165.690002</td>\n",
              "      <td>166.050003</td>\n",
              "      <td>166.270004</td>\n",
              "      <td>47817300.0</td>\n",
              "      <td>164.597351</td>\n",
              "    </tr>\n",
              "    <tr>\n",
              "      <th>2020-03-06</th>\n",
              "      <td>163.110001</td>\n",
              "      <td>156.000000</td>\n",
              "      <td>162.610001</td>\n",
              "      <td>161.570007</td>\n",
              "      <td>72821100.0</td>\n",
              "      <td>159.944641</td>\n",
              "    </tr>\n",
              "    <tr>\n",
              "      <th>2020-03-09</th>\n",
              "      <td>157.750000</td>\n",
              "      <td>150.000000</td>\n",
              "      <td>151.000000</td>\n",
              "      <td>150.619995</td>\n",
              "      <td>70419300.0</td>\n",
              "      <td>149.104797</td>\n",
              "    </tr>\n",
              "    <tr>\n",
              "      <th>2020-03-10</th>\n",
              "      <td>161.029999</td>\n",
              "      <td>152.580002</td>\n",
              "      <td>158.160004</td>\n",
              "      <td>160.919998</td>\n",
              "      <td>65354400.0</td>\n",
              "      <td>159.301178</td>\n",
              "    </tr>\n",
              "    <tr>\n",
              "      <th>...</th>\n",
              "      <td>...</td>\n",
              "      <td>...</td>\n",
              "      <td>...</td>\n",
              "      <td>...</td>\n",
              "      <td>...</td>\n",
              "      <td>...</td>\n",
              "    </tr>\n",
              "    <tr>\n",
              "      <th>2021-02-26</th>\n",
              "      <td>235.369995</td>\n",
              "      <td>229.539993</td>\n",
              "      <td>231.529999</td>\n",
              "      <td>232.380005</td>\n",
              "      <td>37811200.0</td>\n",
              "      <td>232.380005</td>\n",
              "    </tr>\n",
              "    <tr>\n",
              "      <th>2021-03-01</th>\n",
              "      <td>237.470001</td>\n",
              "      <td>233.149994</td>\n",
              "      <td>235.899994</td>\n",
              "      <td>236.940002</td>\n",
              "      <td>25324000.0</td>\n",
              "      <td>236.940002</td>\n",
              "    </tr>\n",
              "    <tr>\n",
              "      <th>2021-03-02</th>\n",
              "      <td>237.300003</td>\n",
              "      <td>233.449997</td>\n",
              "      <td>237.009995</td>\n",
              "      <td>233.869995</td>\n",
              "      <td>22785500.0</td>\n",
              "      <td>233.869995</td>\n",
              "    </tr>\n",
              "    <tr>\n",
              "      <th>2021-03-03</th>\n",
              "      <td>233.580002</td>\n",
              "      <td>227.259995</td>\n",
              "      <td>232.160004</td>\n",
              "      <td>227.559998</td>\n",
              "      <td>33950400.0</td>\n",
              "      <td>227.559998</td>\n",
              "    </tr>\n",
              "    <tr>\n",
              "      <th>2021-03-04</th>\n",
              "      <td>232.490005</td>\n",
              "      <td>224.259995</td>\n",
              "      <td>226.740005</td>\n",
              "      <td>226.729996</td>\n",
              "      <td>44584200.0</td>\n",
              "      <td>226.729996</td>\n",
              "    </tr>\n",
              "  </tbody>\n",
              "</table>\n",
              "<p>253 rows × 6 columns</p>\n",
              "</div>"
            ],
            "text/plain": [
              "                  High         Low  ...      Volume   Adj Close\n",
              "Date                                ...                        \n",
              "2020-03-04  170.699997  165.619995  ...  49814400.0  168.834290\n",
              "2020-03-05  170.869995  165.690002  ...  47817300.0  164.597351\n",
              "2020-03-06  163.110001  156.000000  ...  72821100.0  159.944641\n",
              "2020-03-09  157.750000  150.000000  ...  70419300.0  149.104797\n",
              "2020-03-10  161.029999  152.580002  ...  65354400.0  159.301178\n",
              "...                ...         ...  ...         ...         ...\n",
              "2021-02-26  235.369995  229.539993  ...  37811200.0  232.380005\n",
              "2021-03-01  237.470001  233.149994  ...  25324000.0  236.940002\n",
              "2021-03-02  237.300003  233.449997  ...  22785500.0  233.869995\n",
              "2021-03-03  233.580002  227.259995  ...  33950400.0  227.559998\n",
              "2021-03-04  232.490005  224.259995  ...  44584200.0  226.729996\n",
              "\n",
              "[253 rows x 6 columns]"
            ]
          },
          "metadata": {
            "tags": []
          },
          "execution_count": 55
        }
      ]
    },
    {
      "cell_type": "code",
      "metadata": {
        "colab": {
          "base_uri": "https://localhost:8080/"
        },
        "id": "knIxhLHVoYio",
        "outputId": "76d72ea5-087a-4c05-9ec1-38d893083e31"
      },
      "source": [
        "from google.colab import drive \n",
        "drive.mount('/content/drive') #Monta Drive con la interfaz del sistema de archivos de la máquina virtual de Google Colab"
      ],
      "execution_count": null,
      "outputs": [
        {
          "output_type": "stream",
          "text": [
            "Drive already mounted at /content/drive; to attempt to forcibly remount, call drive.mount(\"/content/drive\", force_remount=True).\n"
          ],
          "name": "stdout"
        }
      ]
    },
    {
      "cell_type": "code",
      "metadata": {
        "id": "aR-eD5NYmVx4",
        "colab": {
          "base_uri": "https://localhost:8080/",
          "height": 570
        },
        "outputId": "11173bf9-f3c1-4f61-aa33-eff47f2b70cb"
      },
      "source": [
        "import pandas as pd\n",
        "data = pd.read_csv('/content/drive//MyDrive/Notebooks-Algoritmos/MSFT.csv') #Leer los datos del archivo MSFT.cvs\n",
        "data"
      ],
      "execution_count": null,
      "outputs": [
        {
          "output_type": "execute_result",
          "data": {
            "text/html": [
              "<div>\n",
              "<style scoped>\n",
              "    .dataframe tbody tr th:only-of-type {\n",
              "        vertical-align: middle;\n",
              "    }\n",
              "\n",
              "    .dataframe tbody tr th {\n",
              "        vertical-align: top;\n",
              "    }\n",
              "\n",
              "    .dataframe thead th {\n",
              "        text-align: right;\n",
              "    }\n",
              "</style>\n",
              "<table border=\"1\" class=\"dataframe\">\n",
              "  <thead>\n",
              "    <tr style=\"text-align: right;\">\n",
              "      <th></th>\n",
              "      <th>Date</th>\n",
              "      <th>Open</th>\n",
              "      <th>High</th>\n",
              "      <th>Low</th>\n",
              "      <th>Close</th>\n",
              "      <th>Adj Close</th>\n",
              "      <th>Volume</th>\n",
              "    </tr>\n",
              "  </thead>\n",
              "  <tbody>\n",
              "    <tr>\n",
              "      <th>0</th>\n",
              "      <td>2020-03-05</td>\n",
              "      <td>166.050003</td>\n",
              "      <td>170.869995</td>\n",
              "      <td>165.690002</td>\n",
              "      <td>166.270004</td>\n",
              "      <td>164.597351</td>\n",
              "      <td>47817300</td>\n",
              "    </tr>\n",
              "    <tr>\n",
              "      <th>1</th>\n",
              "      <td>2020-03-06</td>\n",
              "      <td>162.610001</td>\n",
              "      <td>163.110001</td>\n",
              "      <td>156.000000</td>\n",
              "      <td>161.570007</td>\n",
              "      <td>159.944641</td>\n",
              "      <td>72821100</td>\n",
              "    </tr>\n",
              "    <tr>\n",
              "      <th>2</th>\n",
              "      <td>2020-03-09</td>\n",
              "      <td>151.000000</td>\n",
              "      <td>157.750000</td>\n",
              "      <td>150.000000</td>\n",
              "      <td>150.619995</td>\n",
              "      <td>149.104797</td>\n",
              "      <td>70419300</td>\n",
              "    </tr>\n",
              "    <tr>\n",
              "      <th>3</th>\n",
              "      <td>2020-03-10</td>\n",
              "      <td>158.160004</td>\n",
              "      <td>161.029999</td>\n",
              "      <td>152.580002</td>\n",
              "      <td>160.919998</td>\n",
              "      <td>159.301178</td>\n",
              "      <td>65354400</td>\n",
              "    </tr>\n",
              "    <tr>\n",
              "      <th>4</th>\n",
              "      <td>2020-03-11</td>\n",
              "      <td>157.130005</td>\n",
              "      <td>157.699997</td>\n",
              "      <td>151.149994</td>\n",
              "      <td>153.630005</td>\n",
              "      <td>152.084518</td>\n",
              "      <td>56371600</td>\n",
              "    </tr>\n",
              "    <tr>\n",
              "      <th>...</th>\n",
              "      <td>...</td>\n",
              "      <td>...</td>\n",
              "      <td>...</td>\n",
              "      <td>...</td>\n",
              "      <td>...</td>\n",
              "      <td>...</td>\n",
              "      <td>...</td>\n",
              "    </tr>\n",
              "    <tr>\n",
              "      <th>247</th>\n",
              "      <td>2021-02-26</td>\n",
              "      <td>231.529999</td>\n",
              "      <td>235.369995</td>\n",
              "      <td>229.539993</td>\n",
              "      <td>232.380005</td>\n",
              "      <td>232.380005</td>\n",
              "      <td>37811200</td>\n",
              "    </tr>\n",
              "    <tr>\n",
              "      <th>248</th>\n",
              "      <td>2021-03-01</td>\n",
              "      <td>235.899994</td>\n",
              "      <td>237.470001</td>\n",
              "      <td>233.149994</td>\n",
              "      <td>236.940002</td>\n",
              "      <td>236.940002</td>\n",
              "      <td>25324000</td>\n",
              "    </tr>\n",
              "    <tr>\n",
              "      <th>249</th>\n",
              "      <td>2021-03-02</td>\n",
              "      <td>237.009995</td>\n",
              "      <td>237.300003</td>\n",
              "      <td>233.449997</td>\n",
              "      <td>233.869995</td>\n",
              "      <td>233.869995</td>\n",
              "      <td>22785500</td>\n",
              "    </tr>\n",
              "    <tr>\n",
              "      <th>250</th>\n",
              "      <td>2021-03-03</td>\n",
              "      <td>232.160004</td>\n",
              "      <td>233.580002</td>\n",
              "      <td>227.259995</td>\n",
              "      <td>227.559998</td>\n",
              "      <td>227.559998</td>\n",
              "      <td>33950400</td>\n",
              "    </tr>\n",
              "    <tr>\n",
              "      <th>251</th>\n",
              "      <td>2021-03-04</td>\n",
              "      <td>226.740005</td>\n",
              "      <td>232.490005</td>\n",
              "      <td>224.259995</td>\n",
              "      <td>226.729996</td>\n",
              "      <td>226.729996</td>\n",
              "      <td>44584200</td>\n",
              "    </tr>\n",
              "  </tbody>\n",
              "</table>\n",
              "<p>252 rows × 7 columns</p>\n",
              "</div>"
            ],
            "text/plain": [
              "           Date        Open        High  ...       Close   Adj Close    Volume\n",
              "0    2020-03-05  166.050003  170.869995  ...  166.270004  164.597351  47817300\n",
              "1    2020-03-06  162.610001  163.110001  ...  161.570007  159.944641  72821100\n",
              "2    2020-03-09  151.000000  157.750000  ...  150.619995  149.104797  70419300\n",
              "3    2020-03-10  158.160004  161.029999  ...  160.919998  159.301178  65354400\n",
              "4    2020-03-11  157.130005  157.699997  ...  153.630005  152.084518  56371600\n",
              "..          ...         ...         ...  ...         ...         ...       ...\n",
              "247  2021-02-26  231.529999  235.369995  ...  232.380005  232.380005  37811200\n",
              "248  2021-03-01  235.899994  237.470001  ...  236.940002  236.940002  25324000\n",
              "249  2021-03-02  237.009995  237.300003  ...  233.869995  233.869995  22785500\n",
              "250  2021-03-03  232.160004  233.580002  ...  227.559998  227.559998  33950400\n",
              "251  2021-03-04  226.740005  232.490005  ...  226.729996  226.729996  44584200\n",
              "\n",
              "[252 rows x 7 columns]"
            ]
          },
          "metadata": {
            "tags": []
          },
          "execution_count": 57
        }
      ]
    },
    {
      "cell_type": "markdown",
      "metadata": {
        "id": "Uj-qONqYba0R"
      },
      "source": [
        "Our data is now a dataframe. You can see the datetime index and the colums with different pricing data."
      ]
    },
    {
      "cell_type": "code",
      "metadata": {
        "id": "ryvmRnBaba0R",
        "colab": {
          "base_uri": "https://localhost:8080/",
          "height": 570
        },
        "outputId": "29b9e46c-a600-47f2-f59f-a205de9661ea"
      },
      "source": [
        "data"
      ],
      "execution_count": null,
      "outputs": [
        {
          "output_type": "execute_result",
          "data": {
            "text/html": [
              "<div>\n",
              "<style scoped>\n",
              "    .dataframe tbody tr th:only-of-type {\n",
              "        vertical-align: middle;\n",
              "    }\n",
              "\n",
              "    .dataframe tbody tr th {\n",
              "        vertical-align: top;\n",
              "    }\n",
              "\n",
              "    .dataframe thead th {\n",
              "        text-align: right;\n",
              "    }\n",
              "</style>\n",
              "<table border=\"1\" class=\"dataframe\">\n",
              "  <thead>\n",
              "    <tr style=\"text-align: right;\">\n",
              "      <th></th>\n",
              "      <th>Date</th>\n",
              "      <th>Open</th>\n",
              "      <th>High</th>\n",
              "      <th>Low</th>\n",
              "      <th>Close</th>\n",
              "      <th>Adj Close</th>\n",
              "      <th>Volume</th>\n",
              "    </tr>\n",
              "  </thead>\n",
              "  <tbody>\n",
              "    <tr>\n",
              "      <th>0</th>\n",
              "      <td>2020-03-05</td>\n",
              "      <td>166.050003</td>\n",
              "      <td>170.869995</td>\n",
              "      <td>165.690002</td>\n",
              "      <td>166.270004</td>\n",
              "      <td>164.597351</td>\n",
              "      <td>47817300</td>\n",
              "    </tr>\n",
              "    <tr>\n",
              "      <th>1</th>\n",
              "      <td>2020-03-06</td>\n",
              "      <td>162.610001</td>\n",
              "      <td>163.110001</td>\n",
              "      <td>156.000000</td>\n",
              "      <td>161.570007</td>\n",
              "      <td>159.944641</td>\n",
              "      <td>72821100</td>\n",
              "    </tr>\n",
              "    <tr>\n",
              "      <th>2</th>\n",
              "      <td>2020-03-09</td>\n",
              "      <td>151.000000</td>\n",
              "      <td>157.750000</td>\n",
              "      <td>150.000000</td>\n",
              "      <td>150.619995</td>\n",
              "      <td>149.104797</td>\n",
              "      <td>70419300</td>\n",
              "    </tr>\n",
              "    <tr>\n",
              "      <th>3</th>\n",
              "      <td>2020-03-10</td>\n",
              "      <td>158.160004</td>\n",
              "      <td>161.029999</td>\n",
              "      <td>152.580002</td>\n",
              "      <td>160.919998</td>\n",
              "      <td>159.301178</td>\n",
              "      <td>65354400</td>\n",
              "    </tr>\n",
              "    <tr>\n",
              "      <th>4</th>\n",
              "      <td>2020-03-11</td>\n",
              "      <td>157.130005</td>\n",
              "      <td>157.699997</td>\n",
              "      <td>151.149994</td>\n",
              "      <td>153.630005</td>\n",
              "      <td>152.084518</td>\n",
              "      <td>56371600</td>\n",
              "    </tr>\n",
              "    <tr>\n",
              "      <th>...</th>\n",
              "      <td>...</td>\n",
              "      <td>...</td>\n",
              "      <td>...</td>\n",
              "      <td>...</td>\n",
              "      <td>...</td>\n",
              "      <td>...</td>\n",
              "      <td>...</td>\n",
              "    </tr>\n",
              "    <tr>\n",
              "      <th>247</th>\n",
              "      <td>2021-02-26</td>\n",
              "      <td>231.529999</td>\n",
              "      <td>235.369995</td>\n",
              "      <td>229.539993</td>\n",
              "      <td>232.380005</td>\n",
              "      <td>232.380005</td>\n",
              "      <td>37811200</td>\n",
              "    </tr>\n",
              "    <tr>\n",
              "      <th>248</th>\n",
              "      <td>2021-03-01</td>\n",
              "      <td>235.899994</td>\n",
              "      <td>237.470001</td>\n",
              "      <td>233.149994</td>\n",
              "      <td>236.940002</td>\n",
              "      <td>236.940002</td>\n",
              "      <td>25324000</td>\n",
              "    </tr>\n",
              "    <tr>\n",
              "      <th>249</th>\n",
              "      <td>2021-03-02</td>\n",
              "      <td>237.009995</td>\n",
              "      <td>237.300003</td>\n",
              "      <td>233.449997</td>\n",
              "      <td>233.869995</td>\n",
              "      <td>233.869995</td>\n",
              "      <td>22785500</td>\n",
              "    </tr>\n",
              "    <tr>\n",
              "      <th>250</th>\n",
              "      <td>2021-03-03</td>\n",
              "      <td>232.160004</td>\n",
              "      <td>233.580002</td>\n",
              "      <td>227.259995</td>\n",
              "      <td>227.559998</td>\n",
              "      <td>227.559998</td>\n",
              "      <td>33950400</td>\n",
              "    </tr>\n",
              "    <tr>\n",
              "      <th>251</th>\n",
              "      <td>2021-03-04</td>\n",
              "      <td>226.740005</td>\n",
              "      <td>232.490005</td>\n",
              "      <td>224.259995</td>\n",
              "      <td>226.729996</td>\n",
              "      <td>226.729996</td>\n",
              "      <td>44584200</td>\n",
              "    </tr>\n",
              "  </tbody>\n",
              "</table>\n",
              "<p>252 rows × 7 columns</p>\n",
              "</div>"
            ],
            "text/plain": [
              "           Date        Open        High  ...       Close   Adj Close    Volume\n",
              "0    2020-03-05  166.050003  170.869995  ...  166.270004  164.597351  47817300\n",
              "1    2020-03-06  162.610001  163.110001  ...  161.570007  159.944641  72821100\n",
              "2    2020-03-09  151.000000  157.750000  ...  150.619995  149.104797  70419300\n",
              "3    2020-03-10  158.160004  161.029999  ...  160.919998  159.301178  65354400\n",
              "4    2020-03-11  157.130005  157.699997  ...  153.630005  152.084518  56371600\n",
              "..          ...         ...         ...  ...         ...         ...       ...\n",
              "247  2021-02-26  231.529999  235.369995  ...  232.380005  232.380005  37811200\n",
              "248  2021-03-01  235.899994  237.470001  ...  236.940002  236.940002  25324000\n",
              "249  2021-03-02  237.009995  237.300003  ...  233.869995  233.869995  22785500\n",
              "250  2021-03-03  232.160004  233.580002  ...  227.559998  227.559998  33950400\n",
              "251  2021-03-04  226.740005  232.490005  ...  226.729996  226.729996  44584200\n",
              "\n",
              "[252 rows x 7 columns]"
            ]
          },
          "metadata": {
            "tags": []
          },
          "execution_count": 58
        }
      ]
    },
    {
      "cell_type": "markdown",
      "metadata": {
        "id": "uUVLDKQuba0R"
      },
      "source": [
        "This is a pandas dataframe, so we can index in to just get price like this. For more info on pandas, please [click here](http://pandas.pydata.org/pandas-docs/stable/10min.html)."
      ]
    },
    {
      "cell_type": "code",
      "metadata": {
        "id": "B5zj4EEAba0S"
      },
      "source": [
        "#X = data['price'] # Ninguna de las columnas se llama \"price\" por eso imprime error"
      ],
      "execution_count": null,
      "outputs": []
    },
    {
      "cell_type": "code",
      "metadata": {
        "colab": {
          "base_uri": "https://localhost:8080/"
        },
        "id": "khDKSiBkuagu",
        "outputId": "e307f2de-9dd3-41f5-bef0-70b81e1233b0"
      },
      "source": [
        "X = data['High'] #Muestra la columna que tiene ese nombre\n",
        "X"
      ],
      "execution_count": null,
      "outputs": [
        {
          "output_type": "execute_result",
          "data": {
            "text/plain": [
              "0      170.869995\n",
              "1      163.110001\n",
              "2      157.750000\n",
              "3      161.029999\n",
              "4      157.699997\n",
              "          ...    \n",
              "247    235.369995\n",
              "248    237.470001\n",
              "249    237.300003\n",
              "250    233.580002\n",
              "251    232.490005\n",
              "Name: High, Length: 252, dtype: float64"
            ]
          },
          "metadata": {
            "tags": []
          },
          "execution_count": 60
        }
      ]
    },
    {
      "cell_type": "markdown",
      "metadata": {
        "id": "TIudjNqYba0S"
      },
      "source": [
        "Because there is now also date information in our data, we provide two series to `.plot`. `X.index` gives us the datetime index, and `X.values` gives us the pricing values. These are used as the X and Y coordinates to make a graph."
      ]
    },
    {
      "cell_type": "code",
      "metadata": {
        "id": "dt7mkWTJba0S",
        "colab": {
          "base_uri": "https://localhost:8080/",
          "height": 265
        },
        "outputId": "34da24eb-8c65-485a-ad2b-3fbe1ff67aa4"
      },
      "source": [
        "plt.plot(X.index, X.values)\n",
        "plt.ylabel('Price')\n",
        "plt.legend(['MSFT']);"
      ],
      "execution_count": null,
      "outputs": [
        {
          "output_type": "display_data",
          "data": {
            "image/png": "[encoded data removed]",
            "text/plain": [
              "<Figure size 432x288 with 1 Axes>"
            ]
          },
          "metadata": {
            "tags": [],
            "needs_background": "light"
          }
        }
      ]
    },
    {
      "cell_type": "code",
      "metadata": {
        "colab": {
          "base_uri": "https://localhost:8080/",
          "height": 265
        },
        "id": "OnySJXevoSTz",
        "outputId": "e6dfd516-8ba2-41cf-daaf-bd4483933ea4"
      },
      "source": [
        "import matplotlib.pyplot as plt\n",
        "plt.plot(X.index, X.values)\n",
        "plt.ylabel('High')\n",
        "plt.legend(['MSFT']);"
      ],
      "execution_count": null,
      "outputs": [
        {
          "output_type": "display_data",
          "data": {
            "image/png": "[encoded data removed]",
            "text/plain": [
              "<Figure size 432x288 with 1 Axes>"
            ]
          },
          "metadata": {
            "tags": [],
            "needs_background": "light"
          }
        }
      ]
    },
    {
      "cell_type": "markdown",
      "metadata": {
        "id": "IFy9HUY0ba0S"
      },
      "source": [
        "We can get statistics again on real data."
      ]
    },
    {
      "cell_type": "code",
      "metadata": {
        "id": "n3Jdgf0fba0S",
        "colab": {
          "base_uri": "https://localhost:8080/"
        },
        "outputId": "306f729e-ca59-42d7-d849-d801c554071d"
      },
      "source": [
        "np.mean(X)"
      ],
      "execution_count": null,
      "outputs": [
        {
          "output_type": "execute_result",
          "data": {
            "text/plain": [
              "205.66948409126977"
            ]
          },
          "metadata": {
            "tags": []
          },
          "execution_count": 63
        }
      ]
    },
    {
      "cell_type": "code",
      "metadata": {
        "id": "1JqC7Ae6ba0S",
        "colab": {
          "base_uri": "https://localhost:8080/"
        },
        "outputId": "5b83c5e3-e6f1-433a-a1ee-4b63fdb54729"
      },
      "source": [
        "np.std(X)"
      ],
      "execution_count": null,
      "outputs": [
        {
          "output_type": "execute_result",
          "data": {
            "text/plain": [
              "23.72650223143021"
            ]
          },
          "metadata": {
            "tags": []
          },
          "execution_count": 64
        }
      ]
    },
    {
      "cell_type": "code",
      "metadata": {
        "colab": {
          "base_uri": "https://localhost:8080/"
        },
        "id": "UD9l7cPapwZ7",
        "outputId": "a0f64eec-f4b0-47d0-f90e-6f344c49c9a3"
      },
      "source": [
        "np.median(X) #Muestra la media de los precios altos"
      ],
      "execution_count": null,
      "outputs": [
        {
          "output_type": "execute_result",
          "data": {
            "text/plain": [
              "212.04000100000002"
            ]
          },
          "metadata": {
            "tags": []
          },
          "execution_count": 65
        }
      ]
    },
    {
      "cell_type": "markdown",
      "metadata": {
        "id": "8-_-Rwv_ba0S"
      },
      "source": [
        "##Getting Returns from Prices\n",
        "\n",
        "We can use the `pct_change` function to get returns. Notice how we drop the first element after doing this, as it will be `NaN` (nothing -> something results in a NaN percent change)."
      ]
    },
    {
      "cell_type": "code",
      "metadata": {
        "id": "D6UBGvT5ba0T",
        "colab": {
          "base_uri": "https://localhost:8080/"
        },
        "outputId": "474b9517-86e2-495f-c5b8-030cb1860d35"
      },
      "source": [
        "R = X.pct_change()[1:]\n",
        "R"
      ],
      "execution_count": null,
      "outputs": [
        {
          "output_type": "execute_result",
          "data": {
            "text/plain": [
              "1     -0.045415\n",
              "2     -0.032861\n",
              "3      0.020792\n",
              "4     -0.020679\n",
              "5     -0.026823\n",
              "         ...   \n",
              "247    0.003325\n",
              "248    0.008922\n",
              "249   -0.000716\n",
              "250   -0.015676\n",
              "251   -0.004666\n",
              "Name: High, Length: 251, dtype: float64"
            ]
          },
          "metadata": {
            "tags": []
          },
          "execution_count": 66
        }
      ]
    },
    {
      "cell_type": "code",
      "metadata": {
        "colab": {
          "base_uri": "https://localhost:8080/"
        },
        "id": "PZMH1ah0q7um",
        "outputId": "bcd7ae85-ef45-45a0-c332-2f43b3e28520"
      },
      "source": [
        "D = X.pct_change()[2:] #Cambio porcentual desde el segundo dato en adelante\n",
        "D"
      ],
      "execution_count": null,
      "outputs": [
        {
          "output_type": "execute_result",
          "data": {
            "text/plain": [
              "2     -0.032861\n",
              "3      0.020792\n",
              "4     -0.020679\n",
              "5     -0.026823\n",
              "6      0.054994\n",
              "         ...   \n",
              "247    0.003325\n",
              "248    0.008922\n",
              "249   -0.000716\n",
              "250   -0.015676\n",
              "251   -0.004666\n",
              "Name: High, Length: 250, dtype: float64"
            ]
          },
          "metadata": {
            "tags": []
          },
          "execution_count": 67
        }
      ]
    },
    {
      "cell_type": "markdown",
      "metadata": {
        "id": "If94ot5kba0T"
      },
      "source": [
        "We can plot the returns distribution as a histogram."
      ]
    },
    {
      "cell_type": "code",
      "metadata": {
        "id": "QAHhyYRzba0T",
        "colab": {
          "base_uri": "https://localhost:8080/",
          "height": 279
        },
        "outputId": "2ca00aad-33c6-4bc4-ab4c-7188684592cb"
      },
      "source": [
        "plt.hist(R, bins=20)\n",
        "plt.xlabel('Return')\n",
        "plt.ylabel('Frequency')\n",
        "plt.legend(['MSFT Returns']);"
      ],
      "execution_count": null,
      "outputs": [
        {
          "output_type": "display_data",
          "data": {
            "image/png": "[encoded data removed]",
            "text/plain": [
              "<Figure size 432x288 with 1 Axes>"
            ]
          },
          "metadata": {
            "tags": [],
            "needs_background": "light"
          }
        }
      ]
    },
    {
      "cell_type": "code",
      "metadata": {
        "colab": {
          "base_uri": "https://localhost:8080/",
          "height": 282
        },
        "id": "A57sMjKpuFCx",
        "outputId": "8df1dbed-c62e-454c-e0c2-87890bfdc9c4"
      },
      "source": [
        "import matplotlib.pyplot as plt\n",
        "plt.hist(R, bins=60)\n",
        "plt.xlabel('Return')\n",
        "plt.ylabel('Frequency')\n",
        "plt.legend(['MSFT Returns']); #traza un histograma"
      ],
      "execution_count": null,
      "outputs": [
        {
          "output_type": "display_data",
          "data": {
            "image/png": "[encoded data removed]",
            "text/plain": [
              "<Figure size 432x288 with 1 Axes>"
            ]
          },
          "metadata": {
            "tags": [],
            "needs_background": "light"
          }
        }
      ]
    },
    {
      "cell_type": "markdown",
      "metadata": {
        "id": "z2MvId2pba0T"
      },
      "source": [
        "Get statistics again."
      ]
    },
    {
      "cell_type": "code",
      "metadata": {
        "id": "3E-r2EnEba0U",
        "colab": {
          "base_uri": "https://localhost:8080/"
        },
        "outputId": "04a2f086-8563-4229-c7c8-63ab4619f501"
      },
      "source": [
        "np.mean(R)"
      ],
      "execution_count": null,
      "outputs": [
        {
          "output_type": "execute_result",
          "data": {
            "text/plain": [
              "0.0013982345943233747"
            ]
          },
          "metadata": {
            "tags": []
          },
          "execution_count": 80
        }
      ]
    },
    {
      "cell_type": "code",
      "metadata": {
        "id": "Wl0b4US1ba0U",
        "colab": {
          "base_uri": "https://localhost:8080/"
        },
        "outputId": "02222ce3-0e9d-4a55-ce8b-ebf4e309d6ea"
      },
      "source": [
        "np.std(R)"
      ],
      "execution_count": null,
      "outputs": [
        {
          "output_type": "execute_result",
          "data": {
            "text/plain": [
              "0.018482214547292784"
            ]
          },
          "metadata": {
            "tags": []
          },
          "execution_count": 81
        }
      ]
    },
    {
      "cell_type": "code",
      "metadata": {
        "colab": {
          "base_uri": "https://localhost:8080/"
        },
        "id": "ARvqNunU17hS",
        "outputId": "7a4c1806-a3b1-43e4-b3d0-7f3069686831"
      },
      "source": [
        "np.median(R) #Calculo de la mediana"
      ],
      "execution_count": null,
      "outputs": [
        {
          "output_type": "execute_result",
          "data": {
            "text/plain": [
              "0.0010182403130449824"
            ]
          },
          "metadata": {
            "tags": []
          },
          "execution_count": 82
        }
      ]
    },
    {
      "cell_type": "markdown",
      "metadata": {
        "id": "g-Jf5xcrba0U"
      },
      "source": [
        "Now let's go backwards and generate data out of a normal distribution using the statistics we estimated from Microsoft's returns. We'll see that we have good reason to suspect Microsoft's returns may not be normal, as the resulting normal distribution looks far different."
      ]
    },
    {
      "cell_type": "code",
      "metadata": {
        "id": "nx6ZnWfOba0U",
        "colab": {
          "base_uri": "https://localhost:8080/",
          "height": 279
        },
        "outputId": "83fa4e52-1cfd-4297-8ab2-15d27540b436"
      },
      "source": [
        "plt.hist(np.random.normal(np.mean(R), np.std(R), 10000), bins=20)\n",
        "plt.xlabel('Return')\n",
        "plt.ylabel('Frequency')\n",
        "plt.legend(['Normally Distributed Returns']);"
      ],
      "execution_count": null,
      "outputs": [
        {
          "output_type": "display_data",
          "data": {
            "image/png": "[encoded data removed]",
            "text/plain": [
              "<Figure size 432x288 with 1 Axes>"
            ]
          },
          "metadata": {
            "tags": [],
            "needs_background": "light"
          }
        }
      ]
    },
    {
      "cell_type": "code",
      "metadata": {
        "colab": {
          "base_uri": "https://localhost:8080/",
          "height": 279
        },
        "id": "nVEaZV5q3AZv",
        "outputId": "b74ef919-ce6f-4f24-ae68-5bf06aabd0f4"
      },
      "source": [
        "plt.hist(np.random.normal(np.mean(R), np.std(R), 1000), bins=60)\n",
        "plt.xlabel('Return')\n",
        "plt.ylabel('Frequency')\n",
        "plt.legend(['Normally Distributed Returns']); #Muestra un histograma hecho con una distribución normal"
      ],
      "execution_count": null,
      "outputs": [
        {
          "output_type": "display_data",
          "data": {
            "image/png": "[encoded data removed]",
            "text/plain": [
              "<Figure size 432x288 with 1 Axes>"
            ]
          },
          "metadata": {
            "tags": [],
            "needs_background": "light"
          }
        }
      ]
    },
    {
      "cell_type": "markdown",
      "metadata": {
        "id": "Z96XMmKxba0U"
      },
      "source": [
        "##Generating a Moving Average\n",
        "\n",
        "`pandas` has some nice tools to allow us to generate rolling statistics. Here's an example. Notice how there's no moving average for the first 60 days, as we don't have 60 days of data on which to generate the statistic."
      ]
    },
    {
      "cell_type": "code",
      "metadata": {
        "id": "3QJxqeSJba0U",
        "colab": {
          "base_uri": "https://localhost:8080/",
          "height": 265
        },
        "outputId": "17899e06-c2b3-47e8-ffde-e4c29213f7ff"
      },
      "source": [
        "# Take the average of the last 60 days at each timepoint.\n",
        "MAVG = pd.DataFrame.rolling(X,window=60).mean()\n",
        "plt.plot(X.index, X.values)\n",
        "plt.plot(MAVG.index, MAVG.values)\n",
        "plt.ylabel('Price')\n",
        "plt.legend(['MSFT', '60-day MAVG']);"
      ],
      "execution_count": null,
      "outputs": [
        {
          "output_type": "display_data",
          "data": {
            "image/png": "[encoded data removed]",
            "text/plain": [
              "<Figure size 432x288 with 1 Axes>"
            ]
          },
          "metadata": {
            "tags": [],
            "needs_background": "light"
          }
        }
      ]
    },
    {
      "cell_type": "code",
      "metadata": {
        "colab": {
          "base_uri": "https://localhost:8080/",
          "height": 265
        },
        "id": "BIva-ZaAys9L",
        "outputId": "cbb2934b-7a3e-4dc1-91e2-e6d5e9e54f77"
      },
      "source": [
        "# Take the average of the last 7 days at each timepoint.\n",
        "MAVG = pd.DataFrame.rolling(X,window=7).mean()\n",
        "plt.plot(X.index, X.values)\n",
        "plt.plot(MAVG.index, MAVG.values)\n",
        "plt.ylabel('Price')\n",
        "plt.legend(['MSFT', '7-day MAVG']);"
      ],
      "execution_count": 87,
      "outputs": [
        {
          "output_type": "display_data",
          "data": {
            "image/png": "[encoded data removed]",
            "text/plain": [
              "<Figure size 432x288 with 1 Axes>"
            ]
          },
          "metadata": {
            "tags": [],
            "needs_background": "light"
          }
        }
      ]
    },
    {
      "cell_type": "markdown",
      "metadata": {
        "id": "y-5LqmsTba0V"
      },
      "source": [
        "This presentation is for informational purposes only and does not constitute an offer to sell, a solicitation to buy, or a recommendation for any security; nor does it constitute an offer to provide investment advisory or other services by Quantopian, Inc. (\"Quantopian\"). Nothing contained herein constitutes investment advice or offers any opinion with respect to the suitability of any security, and any views expressed herein should not be taken as advice to buy, sell, or hold any security or as an endorsement of any security or company. In preparing the information contained herein, Quantopian, Inc. has not taken into account the investment needs, objectives, and financial circumstances of any particular investor. Any views expressed and data illustrated herein were prepared based upon information, believed to be reliable, available to Quantopian, Inc. at the time of publication. Quantopian makes no guarantees as to their accuracy or completeness. All information is subject to change and may quickly become unreliable for various reasons, including changes in market conditions or economic circumstances."
      ]
    }
  ]
}
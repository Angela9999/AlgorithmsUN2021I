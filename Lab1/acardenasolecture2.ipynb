{
  "nbformat": 4,
  "nbformat_minor": 0,
  "metadata": {
    "kernelspec": {
      "name": "python3",
      "display_name": "Python 3"
    },
    "colab": {
      "name": "acardenasolecture2.ipynb",
      "provenance": [],
      "collapsed_sections": [],
      "toc_visible": true
    }
  },
  "cells": [
    {
      "cell_type": "markdown",
      "metadata": {
        "id": "Hm5TZCZAM4Xc"
      },
      "source": [
        "# Introduction to Python\n",
        "by Maxwell Margenot\n",
        "\n",
        "Part of the Quantopian Lecture Series:\n",
        "\n",
        "* [www.quantopian.com/lectures](https://www.quantopian.com/lectures)\n",
        "* [github.com/quantopian/research_public](https://github.com/quantopian/research_public)\n",
        "\n",
        "\n",
        "---\n",
        "\n",
        "All of the coding that you will do on the Quantopian platform will be in Python. It is also just a good, jack-of-all-trades language to know! Here we will provide you with the basics so that you can feel confident going through our other lectures and understanding what is happening."
      ]
    },
    {
      "cell_type": "markdown",
      "metadata": {
        "id": "A7vZMZuZM4Xi"
      },
      "source": [
        "## Code Comments\n",
        "\n",
        "A comment is a note made by a programmer in the source code of a program. Its purpose is to clarify the source code and make it easier for people to follow along with what is happening. Anything in a comment is generally ignored when the code is actually run, making comments useful for including explanations and reasoning as well as removing specific lines of code that you may be unsure about. Comments in Python are created by using the pound symbol (`# Insert Text Here`). Including a `#` in a line of code will comment out anything that follows it."
      ]
    },
    {
      "cell_type": "code",
      "metadata": {
        "id": "MR1bxlE0M4Xj"
      },
      "source": [
        "# This is a comment\n",
        "# These lines of code will not change any values\n",
        "# Anything following the first # is not run as code"
      ],
      "execution_count": null,
      "outputs": []
    },
    {
      "cell_type": "code",
      "metadata": {
        "id": "34u4-jEINSly"
      },
      "source": [
        "x = 4 # Esta cantidad corresponde al numero de tareas pendientes"
      ],
      "execution_count": null,
      "outputs": []
    },
    {
      "cell_type": "markdown",
      "metadata": {
        "id": "Llch1uoqM4Xj"
      },
      "source": [
        "You may hear text enclosed in triple quotes (`\"\"\" Insert Text Here \"\"\"`) referred to as multi-line comments, but this is not entirely accurate. This is a special type of `string` (a data type we will cover), called a `docstring`, used to explain the purpose of a function."
      ]
    },
    {
      "cell_type": "code",
      "metadata": {
        "id": "WTP8RGVxM4Xk"
      },
      "source": [
        "\"\"\" This is a special string \"\"\""
      ],
      "execution_count": null,
      "outputs": []
    },
    {
      "cell_type": "code",
      "metadata": {
        "colab": {
          "base_uri": "https://localhost:8080/"
        },
        "id": "doSK6l0_Px8a",
        "outputId": "79686296-1023-4dc1-9e8f-35879de7b799"
      },
      "source": [
        "import numpy as np\n",
        "matriz = np.array([[4,3],[2,5]])\n",
        "\"\"\" Calcula la inversa de la matriz \"\"\"\n",
        "np.linalg.inv(matriz)"
      ],
      "execution_count": 1,
      "outputs": [
        {
          "output_type": "execute_result",
          "data": {
            "text/plain": [
              "array([[ 0.35714286, -0.21428571],\n",
              "       [-0.14285714,  0.28571429]])"
            ]
          },
          "metadata": {
            "tags": []
          },
          "execution_count": 1
        }
      ]
    },
    {
      "cell_type": "markdown",
      "metadata": {
        "id": "2IQHGofJM4Xk"
      },
      "source": [
        "Make sure you read the comments within each code cell (if they are there). They will provide more real-time explanations of what is going on as you look at each line of code."
      ]
    },
    {
      "cell_type": "markdown",
      "metadata": {
        "id": "xJmbAlklM4Xk"
      },
      "source": [
        "## Variables\n",
        "\n",
        "Variables provide names for values in programming. If you want to save a value for later or repeated use, you give the value a name, storing the contents in a variable. Variables in programming work in a fundamentally similar way to variables in algebra, but in Python they can take on various different data types.\n",
        "\n",
        "The basic variable types that we will cover in this section are `integers`, `floating point numbers`, `booleans`, and `strings`. \n",
        "\n",
        "An `integer` in programming is the same as in mathematics, a round number with no values after the decimal point. We use the built-in `print` function here to display the values of our variables as well as their types!"
      ]
    },
    {
      "cell_type": "code",
      "metadata": {
        "colab": {
          "base_uri": "https://localhost:8080/"
        },
        "id": "E9b8yk63M4Xk",
        "outputId": "f982e3bf-2f21-4578-d9c6-3fa29b21c04a"
      },
      "source": [
        "my_integer = 50\n",
        "print (my_integer, type(my_integer))"
      ],
      "execution_count": null,
      "outputs": [
        {
          "output_type": "stream",
          "text": [
            "50 <class 'int'>\n"
          ],
          "name": "stdout"
        }
      ]
    },
    {
      "cell_type": "code",
      "metadata": {
        "colab": {
          "base_uri": "https://localhost:8080/"
        },
        "id": "yUB02Ha2RZAf",
        "outputId": "34efdc71-d57a-4608-f3f1-a0abd22cde37"
      },
      "source": [
        "entero = 38     #integer\n",
        "flotante = 5.3  #float\n",
        "cumplido = True #boolean\n",
        "nombre = \"hola\" #string\n",
        "print (entero, type(entero))\n",
        "print (flotante, type(flotante))\n",
        "print (cumplido, type(cumplido))\n",
        "print (nombre, type(nombre))"
      ],
      "execution_count": null,
      "outputs": [
        {
          "output_type": "stream",
          "text": [
            "38 <class 'int'>\n",
            "5.3 <class 'float'>\n",
            "True <class 'bool'>\n",
            "hola <class 'str'>\n"
          ],
          "name": "stdout"
        }
      ]
    },
    {
      "cell_type": "markdown",
      "metadata": {
        "id": "lSgjSPfIM4Xl"
      },
      "source": [
        "Variables, regardless of type, are assigned by using a single equals sign (`=`). Variables are case-sensitive so any changes in variation in the capitals of a variable name will reference a different variable entirely."
      ]
    },
    {
      "cell_type": "code",
      "metadata": {
        "id": "nYMooZCuM4Xl"
      },
      "source": [
        "one = 1\n",
        "print (One)"
      ],
      "execution_count": null,
      "outputs": []
    },
    {
      "cell_type": "code",
      "metadata": {
        "colab": {
          "base_uri": "https://localhost:8080/"
        },
        "id": "EwqIz6ETUpaL",
        "outputId": "74d73e04-3947-4e89-a7be-e2c472476b8e"
      },
      "source": [
        "numero = 23\n",
        "Numero = 32\n",
        "print (numero)"
      ],
      "execution_count": null,
      "outputs": [
        {
          "output_type": "stream",
          "text": [
            "23\n"
          ],
          "name": "stdout"
        }
      ]
    },
    {
      "cell_type": "markdown",
      "metadata": {
        "id": "GEH43sCLM4Xl"
      },
      "source": [
        "A `floating point` number, or a `float` is a fancy name for a real number (again as in mathematics). To define a `float`, we need to either include a decimal point or specify that the value is a float."
      ]
    },
    {
      "cell_type": "code",
      "metadata": {
        "scrolled": true,
        "colab": {
          "base_uri": "https://localhost:8080/"
        },
        "id": "SI7wCPufM4Xm",
        "outputId": "6c493f1f-09c7-4858-9fa2-0fcf359bc958"
      },
      "source": [
        "my_float = 1.0\n",
        "print (my_float, type(my_float))\n",
        "my_float = float(1)\n",
        "print (my_float, type(my_float))"
      ],
      "execution_count": null,
      "outputs": [
        {
          "output_type": "stream",
          "text": [
            "1.0 <class 'float'>\n",
            "1.0 <class 'float'>\n"
          ],
          "name": "stdout"
        }
      ]
    },
    {
      "cell_type": "code",
      "metadata": {
        "colab": {
          "base_uri": "https://localhost:8080/"
        },
        "id": "9rk0SUC_VFvX",
        "outputId": "3bbbf716-ad1a-4509-ecb5-edfd002fdc5b"
      },
      "source": [
        "flotante = 4.7\n",
        "flotante2 = float(53)\n",
        "print(flotante)\n",
        "print(flotante2)"
      ],
      "execution_count": null,
      "outputs": [
        {
          "output_type": "stream",
          "text": [
            "4.7\n",
            "53.0\n"
          ],
          "name": "stdout"
        }
      ]
    },
    {
      "cell_type": "markdown",
      "metadata": {
        "id": "Qrj6ghpAM4Xm"
      },
      "source": [
        "A variable of type `float` will not round the number that you store in it, while a variable of type `integer` will. This makes `floats` more suitable for mathematical calculations where you want more than just integers.\n",
        "\n",
        "Note that as we used the `float()` function to force an number to be considered a `float`, we can use the `int()` function to force a number to be considered an `int`."
      ]
    },
    {
      "cell_type": "code",
      "metadata": {
        "colab": {
          "base_uri": "https://localhost:8080/"
        },
        "id": "8DQAJj4IM4Xm",
        "outputId": "13abadcf-8417-4068-80bd-ad972450c236"
      },
      "source": [
        "my_int = int(3.14159)\n",
        "print (my_int, type(my_int))"
      ],
      "execution_count": null,
      "outputs": [
        {
          "output_type": "stream",
          "text": [
            "3 <class 'int'>\n"
          ],
          "name": "stdout"
        }
      ]
    },
    {
      "cell_type": "code",
      "metadata": {
        "colab": {
          "base_uri": "https://localhost:8080/"
        },
        "id": "WcDoY1PpV8Bu",
        "outputId": "2b18b50e-6a68-4e99-f299-50932e4341d1"
      },
      "source": [
        "numero_entero = int(2.986745)\n",
        "numero_flotante = 2.986745\n",
        "print(\"Numero entero:\", numero_entero)\n",
        "print(\"Numero flotante: \", numero_flotante)"
      ],
      "execution_count": null,
      "outputs": [
        {
          "output_type": "stream",
          "text": [
            "Numero entero: 2\n",
            "Numero flotante:  2.986745\n"
          ],
          "name": "stdout"
        }
      ]
    },
    {
      "cell_type": "markdown",
      "metadata": {
        "id": "mEH68gpoM4Xm"
      },
      "source": [
        "The `int()` function will also truncate any digits that a number may have after the decimal point!\n",
        "\n",
        "Strings allow you to include text as a variable to operate on. They are defined using either single quotes ('') or double quotes (\"\")."
      ]
    },
    {
      "cell_type": "code",
      "metadata": {
        "colab": {
          "base_uri": "https://localhost:8080/"
        },
        "id": "z1x9ZF_aM4Xm",
        "outputId": "7a18a282-d24c-4405-a7b3-ad5e03ee7a42"
      },
      "source": [
        "my_string = 'This is a string with single quotes'\n",
        "print (my_string)\n",
        "my_string = \"This is a string with double quotes\"\n",
        "print (my_string)"
      ],
      "execution_count": null,
      "outputs": [
        {
          "output_type": "stream",
          "text": [
            "This is a string with single quotes\n",
            "This is a string with double quotes\n"
          ],
          "name": "stdout"
        }
      ]
    },
    {
      "cell_type": "code",
      "metadata": {
        "colab": {
          "base_uri": "https://localhost:8080/"
        },
        "id": "X9bacPEcWxKO",
        "outputId": "c66e6257-1f45-40fc-f22a-ffb37a2d496a"
      },
      "source": [
        "nombre = 'Pepito'\n",
        "apellido = \"Perez\"\n",
        "print(nombre, apellido)"
      ],
      "execution_count": null,
      "outputs": [
        {
          "output_type": "stream",
          "text": [
            "Pepito Perez\n"
          ],
          "name": "stdout"
        }
      ]
    },
    {
      "cell_type": "markdown",
      "metadata": {
        "id": "9XkFqaeuM4Xn"
      },
      "source": [
        "Both are allowed so that we can include apostrophes or quotation marks in a string if we so choose."
      ]
    },
    {
      "cell_type": "code",
      "metadata": {
        "colab": {
          "base_uri": "https://localhost:8080/"
        },
        "id": "vfQ0ery9M4Xn",
        "outputId": "cf157207-29f3-4f75-bad0-2190781d34ea"
      },
      "source": [
        "my_string = '\"Jabberwocky\", by Lewis Carroll'\n",
        "print (my_string)\n",
        "my_string = \"'Twas brillig, and the slithy toves / Did gyre and gimble in the wabe;\"\n",
        "print (my_string)"
      ],
      "execution_count": null,
      "outputs": [
        {
          "output_type": "stream",
          "text": [
            "\"Jabberwocky\", by Lewis Carroll\n",
            "'Twas brillig, and the slithy toves / Did gyre and gimble in the wabe;\n"
          ],
          "name": "stdout"
        }
      ]
    },
    {
      "cell_type": "code",
      "metadata": {
        "colab": {
          "base_uri": "https://localhost:8080/"
        },
        "id": "OFa8WE2vXaX-",
        "outputId": "00cf9a94-e1b0-4650-c795-5cd42e547359"
      },
      "source": [
        "frase = '\"El exito no es la clave de la felicidad.La felicidad es la clave del exito\" Albert Schweizer'\n",
        "print(frase )"
      ],
      "execution_count": null,
      "outputs": [
        {
          "output_type": "stream",
          "text": [
            "\"El exito no es la clave de la felicidad.La felicidad es la clave del exito\" Albert Schweizer\n"
          ],
          "name": "stdout"
        }
      ]
    },
    {
      "cell_type": "markdown",
      "metadata": {
        "id": "aPkJwj0jM4Xn"
      },
      "source": [
        "Booleans, or `bools` are binary variable types. A `bool` can only take on one of two values, these being `True` or `False`. There is much more to this idea of truth values when it comes to programming, which we cover later in the [Logical Operators](#id-section5) of this notebook."
      ]
    },
    {
      "cell_type": "code",
      "metadata": {
        "id": "rB_tZETKM4Xn",
        "colab": {
          "base_uri": "https://localhost:8080/"
        },
        "outputId": "5d7e7882-1eb0-44d2-847b-f00fc8899333"
      },
      "source": [
        "my_bool = True\n",
        "print (my_bool, type(my_bool))"
      ],
      "execution_count": 3,
      "outputs": [
        {
          "output_type": "stream",
          "text": [
            "True <class 'bool'>\n"
          ],
          "name": "stdout"
        }
      ]
    },
    {
      "cell_type": "code",
      "metadata": {
        "colab": {
          "base_uri": "https://localhost:8080/"
        },
        "id": "Q_bljFkHYF-F",
        "outputId": "2300f464-46fc-4209-b3f2-632541ce8180"
      },
      "source": [
        "reprobado = False\n",
        "print (reprobado, type(reprobado))"
      ],
      "execution_count": 8,
      "outputs": [
        {
          "output_type": "stream",
          "text": [
            "False <class 'bool'>\n"
          ],
          "name": "stdout"
        }
      ]
    },
    {
      "cell_type": "markdown",
      "metadata": {
        "id": "uLf11CHPM4Xn"
      },
      "source": [
        "There are many more data types that you can assign as variables in Python, but these are the basic ones! We will cover a few more later as we move through this tutorial."
      ]
    },
    {
      "cell_type": "markdown",
      "metadata": {
        "id": "9zA75YPAM4Xo"
      },
      "source": [
        "## Basic Math\n",
        "\n",
        "Python has a number of built-in math functions. These can be extended even further by importing the **math** package or by including any number of other calculation-based packages.\n",
        "\n",
        "All of the basic arithmetic operations are supported: `+`, `-`, `/`, and `*`. You can create exponents by using `**` and modular arithmetic is introduced with the mod operator, `%`."
      ]
    },
    {
      "cell_type": "code",
      "metadata": {
        "colab": {
          "base_uri": "https://localhost:8080/"
        },
        "id": "iLYOUJAkM4Xo",
        "outputId": "12d95b80-05b6-43f2-f13a-e8f7fb814e38"
      },
      "source": [
        "print ('Addition: ', 2 + 2)\n",
        "print ('Subtraction: ', 7 - 4)\n",
        "print ('Multiplication: ', 2 * 5)\n",
        "print ('Division: ', 10 / 2)\n",
        "print ('Exponentiation: ', 3**2)"
      ],
      "execution_count": 24,
      "outputs": [
        {
          "output_type": "stream",
          "text": [
            "Addition:  4\n",
            "Subtraction:  3\n",
            "Multiplication:  10\n",
            "Division:  5.0\n",
            "Exponentiation:  9\n"
          ],
          "name": "stdout"
        }
      ]
    },
    {
      "cell_type": "code",
      "metadata": {
        "colab": {
          "base_uri": "https://localhost:8080/"
        },
        "id": "8A41lX9rZGo3",
        "outputId": "83cf5b7c-008e-4c6e-8980-2ae2b202f887"
      },
      "source": [
        "print ('Suma: ', 38 + 25)\n",
        "print ('Resta: ', 10 - 13)\n",
        "print ('Multiplicación: ', 7 * 3)\n",
        "print ('Division: ', 45 / 50)\n",
        "print ('Exponenciación: ', 2**3)"
      ],
      "execution_count": 39,
      "outputs": [
        {
          "output_type": "stream",
          "text": [
            "Suma:  63\n",
            "Resta:  -3\n",
            "Multiplicación:  21\n",
            "Division:  0.9\n",
            "Exponenciación:  8\n"
          ],
          "name": "stdout"
        }
      ]
    },
    {
      "cell_type": "markdown",
      "metadata": {
        "id": "HhjP0caAM4Xo"
      },
      "source": [
        "If you are not familiar with the the mod operator, it operates like a remainder function. If we type $15 \\ \\% \\ 4$, it will return the remainder after dividing $15$ by $4$."
      ]
    },
    {
      "cell_type": "code",
      "metadata": {
        "colab": {
          "base_uri": "https://localhost:8080/"
        },
        "id": "-xu6ufBEM4Xo",
        "outputId": "be7e432f-5abe-43e4-8673-b169e95b3c59"
      },
      "source": [
        "print ('Modulo: ', 15 % 4)"
      ],
      "execution_count": 26,
      "outputs": [
        {
          "output_type": "stream",
          "text": [
            "Modulo:  3\n"
          ],
          "name": "stdout"
        }
      ]
    },
    {
      "cell_type": "code",
      "metadata": {
        "colab": {
          "base_uri": "https://localhost:8080/"
        },
        "id": "voSiRu-vZzQv",
        "outputId": "178af7ad-3e33-4abc-ba28-6135c33e53a6"
      },
      "source": [
        "print ('Modulo: ', 8 % 2)"
      ],
      "execution_count": 27,
      "outputs": [
        {
          "output_type": "stream",
          "text": [
            "Modulo:  0\n"
          ],
          "name": "stdout"
        }
      ]
    },
    {
      "cell_type": "markdown",
      "metadata": {
        "id": "nMIfURTJM4Xo"
      },
      "source": [
        "Mathematical functions also work on variables!"
      ]
    },
    {
      "cell_type": "code",
      "metadata": {
        "scrolled": true,
        "id": "Y59z-KZsM4Xp",
        "colab": {
          "base_uri": "https://localhost:8080/"
        },
        "outputId": "78fd7e25-adb9-429c-c365-862717013664"
      },
      "source": [
        "first_integer = 4\n",
        "second_integer = 5\n",
        "print (first_integer * second_integer)"
      ],
      "execution_count": 40,
      "outputs": [
        {
          "output_type": "stream",
          "text": [
            "20\n"
          ],
          "name": "stdout"
        }
      ]
    },
    {
      "cell_type": "code",
      "metadata": {
        "colab": {
          "base_uri": "https://localhost:8080/"
        },
        "id": "2j7lc6FcaAbX",
        "outputId": "75f780fe-b0fe-4c44-848c-ec82969495db"
      },
      "source": [
        "print(34 * 23)"
      ],
      "execution_count": 41,
      "outputs": [
        {
          "output_type": "stream",
          "text": [
            "782\n"
          ],
          "name": "stdout"
        }
      ]
    },
    {
      "cell_type": "markdown",
      "metadata": {
        "id": "NyWk566XM4Xp"
      },
      "source": [
        "Make sure that your variables are floats if you want to have decimal points in your answer. If you perform math exclusively with integers, you get an integer. Including any float in the calculation will make the result a float."
      ]
    },
    {
      "cell_type": "code",
      "metadata": {
        "id": "aF9LDCtuM4Xp",
        "colab": {
          "base_uri": "https://localhost:8080/"
        },
        "outputId": "146b46c7-46e4-42fb-95ec-a8d798e14cb1"
      },
      "source": [
        "first_integer = 11\n",
        "second_integer = 3\n",
        "print (first_integer / second_integer)"
      ],
      "execution_count": 42,
      "outputs": [
        {
          "output_type": "stream",
          "text": [
            "3.6666666666666665\n"
          ],
          "name": "stdout"
        }
      ]
    },
    {
      "cell_type": "code",
      "metadata": {
        "colab": {
          "base_uri": "https://localhost:8080/"
        },
        "id": "4vi_SPWKaXMt",
        "outputId": "93e5041f-65c8-4f08-b029-c753a9f3db9f"
      },
      "source": [
        "print(1/10)"
      ],
      "execution_count": 43,
      "outputs": [
        {
          "output_type": "stream",
          "text": [
            "0.1\n"
          ],
          "name": "stdout"
        }
      ]
    },
    {
      "cell_type": "code",
      "metadata": {
        "id": "34HuTTDZM4Xq",
        "colab": {
          "base_uri": "https://localhost:8080/"
        },
        "outputId": "da1e2135-e893-4bb2-dd76-fcfcfe686813"
      },
      "source": [
        "first_number = 11.0\n",
        "second_number = 3.0\n",
        "print (first_number / second_number)"
      ],
      "execution_count": 32,
      "outputs": [
        {
          "output_type": "stream",
          "text": [
            "3.6666666666666665\n"
          ],
          "name": "stdout"
        }
      ]
    },
    {
      "cell_type": "code",
      "metadata": {
        "colab": {
          "base_uri": "https://localhost:8080/"
        },
        "id": "oXXLAE8RagtH",
        "outputId": "5a60253b-a022-4c68-e5df-34b21f01692e"
      },
      "source": [
        "print(4.5/5.5)"
      ],
      "execution_count": 33,
      "outputs": [
        {
          "output_type": "stream",
          "text": [
            "0.8181818181818182\n"
          ],
          "name": "stdout"
        }
      ]
    },
    {
      "cell_type": "markdown",
      "metadata": {
        "id": "oHpyWh9wM4Xq"
      },
      "source": [
        "Python has a few built-in math functions. The most notable of these are:\n",
        "\n",
        "* `abs()`\n",
        "* `round()`\n",
        "* `max()`\n",
        "* `min()`\n",
        "* `sum()`\n",
        "\n",
        "These functions all act as you would expect, given their names. Calling `abs()` on a number will return its absolute value. The `round()` function will round a number to a specified number of the decimal points (the default is $0$). Calling `max()` or `min()` on a collection of numbers will return, respectively, the maximum or minimum value in the collection. Calling `sum()` on a collection of numbers will add them all up. If you're not familiar with how collections of values in Python work, don't worry! We will cover collections in-depth in the next section. \n",
        "\n",
        "Additional math functionality can be added in with the `math` package."
      ]
    },
    {
      "cell_type": "code",
      "metadata": {
        "id": "5fJnLMWmM4Xq"
      },
      "source": [
        "import math"
      ],
      "execution_count": 34,
      "outputs": []
    },
    {
      "cell_type": "markdown",
      "metadata": {
        "id": "SCELnsQGM4Xq"
      },
      "source": [
        "The math library adds a long list of new mathematical functions to Python. Feel free to check out the [documentation](https://docs.python.org/2/library/math.html) for the full list and details. It concludes some mathematical constants"
      ]
    },
    {
      "cell_type": "code",
      "metadata": {
        "id": "HGLOdz1mM4Xq",
        "colab": {
          "base_uri": "https://localhost:8080/"
        },
        "outputId": "6c4debaf-e2ad-4c0b-f37c-70bd811e6234"
      },
      "source": [
        "print ('Pi: ', math.pi)\n",
        "print (\"Euler's Constant: \", math.e)"
      ],
      "execution_count": 35,
      "outputs": [
        {
          "output_type": "stream",
          "text": [
            "Pi:  3.141592653589793\n",
            "Euler's Constant:  2.718281828459045\n"
          ],
          "name": "stdout"
        }
      ]
    },
    {
      "cell_type": "code",
      "metadata": {
        "colab": {
          "base_uri": "https://localhost:8080/"
        },
        "id": "-YVU9t6ibGR1",
        "outputId": "3140239a-8ebb-4d78-a848-b2f42ec8aa0e"
      },
      "source": [
        "print (\"Infinito:\", math.inf)"
      ],
      "execution_count": 44,
      "outputs": [
        {
          "output_type": "stream",
          "text": [
            "Infinito: inf\n"
          ],
          "name": "stdout"
        }
      ]
    },
    {
      "cell_type": "markdown",
      "metadata": {
        "id": "TXXgdt2kM4Xr"
      },
      "source": [
        "As well as some commonly used math functions"
      ]
    },
    {
      "cell_type": "code",
      "metadata": {
        "id": "U-3BsiklM4Xr",
        "colab": {
          "base_uri": "https://localhost:8080/"
        },
        "outputId": "542ca887-7f52-4ec0-c7eb-19c94b76a633"
      },
      "source": [
        "print ('Cosine of pi: ', math.cos(math.pi))"
      ],
      "execution_count": 37,
      "outputs": [
        {
          "output_type": "stream",
          "text": [
            "Cosine of pi:  -1.0\n"
          ],
          "name": "stdout"
        }
      ]
    },
    {
      "cell_type": "code",
      "metadata": {
        "colab": {
          "base_uri": "https://localhost:8080/"
        },
        "id": "Gc2INJ8Sbz9b",
        "outputId": "fdf92b6f-77b5-4c83-8e35-e6aae14c7700"
      },
      "source": [
        "print ('Sinus of pi/2: ', math.sin(math.pi/2))"
      ],
      "execution_count": 38,
      "outputs": [
        {
          "output_type": "stream",
          "text": [
            "Sinus of pi/2:  1.0\n"
          ],
          "name": "stdout"
        }
      ]
    },
    {
      "cell_type": "markdown",
      "metadata": {
        "id": "ZeLCH_t6M4Xr"
      },
      "source": [
        "## Collections\n",
        "### Lists\n",
        "\n",
        "A `list` in Python is an ordered collection of objects that can contain any data type. We define a `list` using brackets (`[]`)."
      ]
    },
    {
      "cell_type": "code",
      "metadata": {
        "id": "upRSWadFM4Xr",
        "colab": {
          "base_uri": "https://localhost:8080/"
        },
        "outputId": "ff7ddd88-ce8f-41cc-cf2f-d26309b8bfda"
      },
      "source": [
        "my_list = [1, 2, 3]\n",
        "print (my_list)"
      ],
      "execution_count": 46,
      "outputs": [
        {
          "output_type": "stream",
          "text": [
            "[1, 2, 3]\n"
          ],
          "name": "stdout"
        }
      ]
    },
    {
      "cell_type": "code",
      "metadata": {
        "colab": {
          "base_uri": "https://localhost:8080/"
        },
        "id": "iBEKiZH-ccI9",
        "outputId": "ab2d8ea4-41a2-4bc9-87b5-e81f2fe343e6"
      },
      "source": [
        "lista_de_mercado = [\"Fruta\", \"Verduras\", \"Huevos\", \"Leche\" ]\n",
        "lista_de_mercado"
      ],
      "execution_count": 47,
      "outputs": [
        {
          "output_type": "execute_result",
          "data": {
            "text/plain": [
              "['Fruta', 'Verduras', 'Huevos', 'Leche']"
            ]
          },
          "metadata": {
            "tags": []
          },
          "execution_count": 47
        }
      ]
    },
    {
      "cell_type": "markdown",
      "metadata": {
        "id": "h0fcLDrAM4Xr"
      },
      "source": [
        "We can access and index the list by using brackets as well. In order to select an individual element, simply type the list name followed by the index of the item you are looking for in braces."
      ]
    },
    {
      "cell_type": "code",
      "metadata": {
        "id": "MKpuu7weM4Xr",
        "colab": {
          "base_uri": "https://localhost:8080/"
        },
        "outputId": "272a9f38-e94f-4e3c-dbf6-d38fe773dc33"
      },
      "source": [
        "print (my_list[0])\n",
        "print (my_list[2])"
      ],
      "execution_count": null,
      "outputs": [
        {
          "output_type": "stream",
          "text": [
            "1\n",
            "3\n"
          ],
          "name": "stdout"
        }
      ]
    },
    {
      "cell_type": "code",
      "metadata": {
        "colab": {
          "base_uri": "https://localhost:8080/"
        },
        "id": "MmxXmn7rc7k1",
        "outputId": "81dc711f-fd9d-42b9-a584-dd1974d3b8b6"
      },
      "source": [
        "print(lista_de_mercado[1])\n",
        "print(lista_de_mercado[3])"
      ],
      "execution_count": null,
      "outputs": [
        {
          "output_type": "stream",
          "text": [
            "Verduras\n",
            "Leche\n"
          ],
          "name": "stdout"
        }
      ]
    },
    {
      "cell_type": "markdown",
      "metadata": {
        "id": "LwmHsX-8M4Xs"
      },
      "source": [
        "Indexing in Python starts from $0$. If you have a list of length $n$, the first element of the list is at index $0$, the second element is at index $1$, and so on and so forth. The final element of the list will be at index $n-1$. Be careful! Trying to access a non-existent index will cause an error."
      ]
    },
    {
      "cell_type": "code",
      "metadata": {
        "id": "SVZAbwKLM4Xs",
        "colab": {
          "base_uri": "https://localhost:8080/"
        },
        "outputId": "f16a21b1-371b-4431-d0ad-5ceba56f5010"
      },
      "source": [
        "print ('The first, second, and third list elements: ', my_list[0], my_list[1], my_list[2])\n",
        "#print ('Accessing outside the list bounds causes an error: ', my_list[3]) # Esta linea no se puede ejecutar porque no existe ese elemento en la lista"
      ],
      "execution_count": 48,
      "outputs": [
        {
          "output_type": "stream",
          "text": [
            "The first, second, and third list elements:  1 2 3\n"
          ],
          "name": "stdout"
        }
      ]
    },
    {
      "cell_type": "code",
      "metadata": {
        "colab": {
          "base_uri": "https://localhost:8080/"
        },
        "id": "TQaGZEl2dlg2",
        "outputId": "504fe21c-3177-4482-d808-91272f4e8266"
      },
      "source": [
        "print ('El primero y el ultimo elemento de la lista son : ', lista_de_mercado[0], \"y\" ,lista_de_mercado[3])"
      ],
      "execution_count": 49,
      "outputs": [
        {
          "output_type": "stream",
          "text": [
            "El primero y el ultimo elemento de la lista son :  Fruta y Leche\n"
          ],
          "name": "stdout"
        }
      ]
    },
    {
      "cell_type": "markdown",
      "metadata": {
        "id": "7vMiBblOM4Xs"
      },
      "source": [
        "We can see the number of elements in a list by calling the `len()` function."
      ]
    },
    {
      "cell_type": "code",
      "metadata": {
        "id": "UlOIfQK9M4Xs",
        "colab": {
          "base_uri": "https://localhost:8080/"
        },
        "outputId": "2ef6852f-05d3-4fdc-ff8f-b5e7437da86d"
      },
      "source": [
        "print (len(my_list))"
      ],
      "execution_count": 51,
      "outputs": [
        {
          "output_type": "stream",
          "text": [
            "3\n"
          ],
          "name": "stdout"
        }
      ]
    },
    {
      "cell_type": "code",
      "metadata": {
        "colab": {
          "base_uri": "https://localhost:8080/"
        },
        "id": "9oXiHxeZeW_w",
        "outputId": "d25e1f0f-6119-4ea1-b426-af52860ddfcf"
      },
      "source": [
        "print(len(lista_de_mercado))"
      ],
      "execution_count": 50,
      "outputs": [
        {
          "output_type": "stream",
          "text": [
            "4\n"
          ],
          "name": "stdout"
        }
      ]
    },
    {
      "cell_type": "markdown",
      "metadata": {
        "id": "ToHCGRr4M4Xs"
      },
      "source": [
        "We can update and change a list by accessing an index and assigning new value."
      ]
    },
    {
      "cell_type": "code",
      "metadata": {
        "id": "KdcDu31wM4Xt",
        "colab": {
          "base_uri": "https://localhost:8080/"
        },
        "outputId": "208fea14-1f82-48ab-93b6-03b82538ca12"
      },
      "source": [
        "print (my_list)\n",
        "my_list[0] = 42\n",
        "print (my_list)"
      ],
      "execution_count": null,
      "outputs": [
        {
          "output_type": "stream",
          "text": [
            "[1, 2, 3]\n",
            "[42, 2, 3]\n"
          ],
          "name": "stdout"
        }
      ]
    },
    {
      "cell_type": "code",
      "metadata": {
        "colab": {
          "base_uri": "https://localhost:8080/"
        },
        "id": "9Hhph7muehvJ",
        "outputId": "8929e44f-b737-4761-cea5-27c0013d71c7"
      },
      "source": [
        "print (lista_de_mercado)\n",
        "lista_de_mercado[1] = 'Dulces'\n",
        "print (lista_de_mercado)"
      ],
      "execution_count": 52,
      "outputs": [
        {
          "output_type": "stream",
          "text": [
            "['Fruta', 'Verduras', 'Huevos', 'Leche']\n",
            "['Fruta', 'Dulces', 'Huevos', 'Leche']\n"
          ],
          "name": "stdout"
        }
      ]
    },
    {
      "cell_type": "markdown",
      "metadata": {
        "id": "H_1nhGRxM4Xt"
      },
      "source": [
        "This is fundamentally different from how strings are handled. A `list` is mutable, meaning that you can change a `list`'s elements without changing the list itself. Some data types, like `strings`, are immutable, meaning you cannot change them at all. Once a `string` or other immutable data type has been created, it cannot be directly modified without creating an entirely new object."
      ]
    },
    {
      "cell_type": "code",
      "metadata": {
        "id": "9eAGGdwHM4Xt"
      },
      "source": [
        "my_string = \"Strings never change\"\n",
        "#my_string[0] = 'Z' #No se puede acceder a un string como si fuera un arreglo"
      ],
      "execution_count": null,
      "outputs": []
    },
    {
      "cell_type": "code",
      "metadata": {
        "colab": {
          "base_uri": "https://localhost:8080/"
        },
        "id": "vbCS0JZCfKRR",
        "outputId": "a29e573f-245b-4fbb-de8c-ec2770123067"
      },
      "source": [
        "frase2 = \"Hoy es el dia\"\n",
        "print(frase2[1]) #Se puede acceder a los elementos del string pero no cambiarlos\n",
        "#frase2[1] = 'a' #No se puede ejecutar esta linea porque no se puede modificar un string\n",
        "print(frase2)"
      ],
      "execution_count": 55,
      "outputs": [
        {
          "output_type": "stream",
          "text": [
            "o\n",
            "Hoy es el dia\n"
          ],
          "name": "stdout"
        }
      ]
    },
    {
      "cell_type": "markdown",
      "metadata": {
        "id": "6MTwQIfqM4Xt"
      },
      "source": [
        "As we stated before, a list can contain any data type. Thus, lists can also contain strings."
      ]
    },
    {
      "cell_type": "code",
      "metadata": {
        "id": "aFQF8aU_M4Xt",
        "colab": {
          "base_uri": "https://localhost:8080/"
        },
        "outputId": "468af549-6207-4037-8840-bda1f8522b54"
      },
      "source": [
        "my_list_2 = ['one', 'two', 'three']\n",
        "print (my_list_2)"
      ],
      "execution_count": null,
      "outputs": [
        {
          "output_type": "stream",
          "text": [
            "['one', 'two', 'three']\n"
          ],
          "name": "stdout"
        }
      ]
    },
    {
      "cell_type": "code",
      "metadata": {
        "colab": {
          "base_uri": "https://localhost:8080/"
        },
        "id": "uFvmsjESgF4Q",
        "outputId": "fcc93d3e-2a6b-4aad-c0b2-932d96cfbe23"
      },
      "source": [
        "saludos = ['hola', 'adios', 'hasta pronto','buenos dias', 'buenas noches']\n",
        "print (saludos)"
      ],
      "execution_count": null,
      "outputs": [
        {
          "output_type": "stream",
          "text": [
            "['hola', 'adios', 'hasta pronto', 'buenos dias', 'buenas noches']\n"
          ],
          "name": "stdout"
        }
      ]
    },
    {
      "cell_type": "markdown",
      "metadata": {
        "id": "oYzHpQbLM4Xt"
      },
      "source": [
        "Lists can also contain multiple different data types at once!"
      ]
    },
    {
      "cell_type": "code",
      "metadata": {
        "id": "IzvrqkLiM4Xu"
      },
      "source": [
        "my_list_3 = [True, 'False', 42]"
      ],
      "execution_count": null,
      "outputs": []
    },
    {
      "cell_type": "code",
      "metadata": {
        "id": "dfgG8Fybga7B"
      },
      "source": [
        "estudiante = ['Pepito', 'Perez', 5, \"Ingenieria de sistemas\", True, \"sede Bogota\", 20]"
      ],
      "execution_count": null,
      "outputs": []
    },
    {
      "cell_type": "markdown",
      "metadata": {
        "id": "1wtV2DTgM4Xu"
      },
      "source": [
        "If you want to put two lists together, they can be combined with a `+` symbol."
      ]
    },
    {
      "cell_type": "code",
      "metadata": {
        "id": "2GZobPrbM4Xu",
        "colab": {
          "base_uri": "https://localhost:8080/"
        },
        "outputId": "5a4bac1b-6977-4ff7-b459-cee538448d51"
      },
      "source": [
        "my_list_4 = my_list + my_list_2 + my_list_3\n",
        "print (my_list_4)"
      ],
      "execution_count": null,
      "outputs": [
        {
          "output_type": "stream",
          "text": [
            "[42, 2, 3, 'one', 'two', 'three', True, 'False', 42]\n"
          ],
          "name": "stdout"
        }
      ]
    },
    {
      "cell_type": "code",
      "metadata": {
        "colab": {
          "base_uri": "https://localhost:8080/"
        },
        "id": "e7H4eJOhg-lX",
        "outputId": "3a1c5e16-fed9-408a-dc13-cfe6ab456da5"
      },
      "source": [
        "nueva_lista = lista_de_mercado + estudiante\n",
        "print(nueva_lista)"
      ],
      "execution_count": null,
      "outputs": [
        {
          "output_type": "stream",
          "text": [
            "['Fruta', 'Dulces', 'Huevos', 'Leche', 'Pepito', 'Perez', 5, 'Ingenieria de sistemas', True, 'sede Bogota', 20]\n"
          ],
          "name": "stdout"
        }
      ]
    },
    {
      "cell_type": "markdown",
      "metadata": {
        "id": "9nMbF5lDM4Xu"
      },
      "source": [
        "In addition to accessing individual elements of a list, we can access groups of elements through slicing."
      ]
    },
    {
      "cell_type": "code",
      "metadata": {
        "id": "9puSPmpTM4Xu"
      },
      "source": [
        "my_list = ['friends', 'romans', 'countrymen', 'lend', 'me', 'your', 'ears']"
      ],
      "execution_count": 59,
      "outputs": []
    },
    {
      "cell_type": "code",
      "metadata": {
        "id": "KfsnqhoEhYy0"
      },
      "source": [
        "amigos = ['Paola','Carlos', 'Juan Manuel', 'Daniela', 'Lucas', 'Luisa']"
      ],
      "execution_count": 58,
      "outputs": []
    },
    {
      "cell_type": "markdown",
      "metadata": {
        "id": "-y7wH7nMM4Xu"
      },
      "source": [
        "#### Slicing\n",
        "\n",
        "We use the colon (`:`) to slice lists. "
      ]
    },
    {
      "cell_type": "code",
      "metadata": {
        "scrolled": true,
        "id": "pI8wY9SGM4Xv",
        "colab": {
          "base_uri": "https://localhost:8080/"
        },
        "outputId": "9bc2a97c-f871-4607-b581-f834fb385a18"
      },
      "source": [
        "print (my_list[2:4])"
      ],
      "execution_count": 60,
      "outputs": [
        {
          "output_type": "stream",
          "text": [
            "['countrymen', 'lend']\n"
          ],
          "name": "stdout"
        }
      ]
    },
    {
      "cell_type": "code",
      "metadata": {
        "colab": {
          "base_uri": "https://localhost:8080/"
        },
        "id": "CZjzpKQYiTnA",
        "outputId": "08f6fc9a-b0c9-4ffa-dbcf-0ade4a80f81f"
      },
      "source": [
        "print(amigos[2:5])"
      ],
      "execution_count": 61,
      "outputs": [
        {
          "output_type": "stream",
          "text": [
            "['Juan Manuel', 'Daniela', 'Lucas']\n"
          ],
          "name": "stdout"
        }
      ]
    },
    {
      "cell_type": "markdown",
      "metadata": {
        "id": "FxeQpM--M4Xv"
      },
      "source": [
        "Using `:` we can select a group of elements in the list starting from the first element indicated and going up to  (but not including) the last element indicated.\n",
        "\n",
        "We can also select everything after a certain point"
      ]
    },
    {
      "cell_type": "code",
      "metadata": {
        "scrolled": true,
        "id": "Bov0kz6gM4Xv",
        "colab": {
          "base_uri": "https://localhost:8080/"
        },
        "outputId": "186b80eb-f18e-46aa-e19d-faab78902466"
      },
      "source": [
        "print (my_list[1:])"
      ],
      "execution_count": 62,
      "outputs": [
        {
          "output_type": "stream",
          "text": [
            "['romans', 'countrymen', 'lend', 'me', 'your', 'ears']\n"
          ],
          "name": "stdout"
        }
      ]
    },
    {
      "cell_type": "code",
      "metadata": {
        "colab": {
          "base_uri": "https://localhost:8080/"
        },
        "id": "F96vuABOij2-",
        "outputId": "6d7eb76a-36a8-4ad1-a3fa-e5b920336a0e"
      },
      "source": [
        "print(amigos[3:])"
      ],
      "execution_count": 63,
      "outputs": [
        {
          "output_type": "stream",
          "text": [
            "['Daniela', 'Lucas', 'Luisa']\n"
          ],
          "name": "stdout"
        }
      ]
    },
    {
      "cell_type": "markdown",
      "metadata": {
        "id": "c_8ydduWM4Xv"
      },
      "source": [
        "And everything before a certain point"
      ]
    },
    {
      "cell_type": "code",
      "metadata": {
        "scrolled": true,
        "id": "TLioMR2KM4Xv",
        "colab": {
          "base_uri": "https://localhost:8080/"
        },
        "outputId": "7ac74b64-c578-49e3-eb28-34046f06415e"
      },
      "source": [
        "print (my_list[:4])"
      ],
      "execution_count": 64,
      "outputs": [
        {
          "output_type": "stream",
          "text": [
            "['friends', 'romans', 'countrymen', 'lend']\n"
          ],
          "name": "stdout"
        }
      ]
    },
    {
      "cell_type": "code",
      "metadata": {
        "colab": {
          "base_uri": "https://localhost:8080/"
        },
        "id": "63IsXZzZizes",
        "outputId": "0d5a5626-f770-4dea-b6dd-f07603a7f26a"
      },
      "source": [
        "print(amigos[:2])"
      ],
      "execution_count": 65,
      "outputs": [
        {
          "output_type": "stream",
          "text": [
            "['Paola', 'Carlos']\n"
          ],
          "name": "stdout"
        }
      ]
    },
    {
      "cell_type": "markdown",
      "metadata": {
        "id": "vF9vWcmCM4Xv"
      },
      "source": [
        "Using negative numbers will count from the end of the indices instead of from the beginning. For example, an index of `-1` indicates the last element of the list."
      ]
    },
    {
      "cell_type": "code",
      "metadata": {
        "id": "P4JtxiGVM4Xw",
        "colab": {
          "base_uri": "https://localhost:8080/"
        },
        "outputId": "d9dbed50-71fc-4eaf-9c5a-bbf057620e34"
      },
      "source": [
        "print (my_list[-1])"
      ],
      "execution_count": 66,
      "outputs": [
        {
          "output_type": "stream",
          "text": [
            "ears\n"
          ],
          "name": "stdout"
        }
      ]
    },
    {
      "cell_type": "code",
      "metadata": {
        "colab": {
          "base_uri": "https://localhost:8080/"
        },
        "id": "dC2AmXDwjQQ_",
        "outputId": "3893b31e-d63a-4ffd-9378-102f453f6526"
      },
      "source": [
        "print (amigos[-1])"
      ],
      "execution_count": 67,
      "outputs": [
        {
          "output_type": "stream",
          "text": [
            "Luisa\n"
          ],
          "name": "stdout"
        }
      ]
    },
    {
      "cell_type": "markdown",
      "metadata": {
        "id": "ELA9xgcXM4Xw"
      },
      "source": [
        "You can also add a third component to slicing. Instead of simply indicating the first and final parts of your slice, you can specify the step size that you want to take. So instead of taking every single element, you can take every other element."
      ]
    },
    {
      "cell_type": "code",
      "metadata": {
        "id": "MFBhzH6nM4Xw",
        "colab": {
          "base_uri": "https://localhost:8080/"
        },
        "outputId": "7533670e-0c9e-4f6e-c65f-2612626b410c"
      },
      "source": [
        "print (my_list[0:7:2])"
      ],
      "execution_count": 68,
      "outputs": [
        {
          "output_type": "stream",
          "text": [
            "['friends', 'countrymen', 'me', 'ears']\n"
          ],
          "name": "stdout"
        }
      ]
    },
    {
      "cell_type": "code",
      "metadata": {
        "colab": {
          "base_uri": "https://localhost:8080/"
        },
        "id": "spy3U5mbkNCC",
        "outputId": "41da46f8-3a13-4a52-dbd0-b41f078a1ec2"
      },
      "source": [
        "print(amigos[1:7:2])"
      ],
      "execution_count": 69,
      "outputs": [
        {
          "output_type": "stream",
          "text": [
            "['Carlos', 'Daniela', 'Luisa']\n"
          ],
          "name": "stdout"
        }
      ]
    },
    {
      "cell_type": "markdown",
      "metadata": {
        "id": "sn5di7rvM4Xw"
      },
      "source": [
        "Here we have selected the entire list (because `0:7` will yield elements `0` through `6`) and we have selected a step size of `2`. So this will spit out element `0` , element `2`, element `4`, and so on through the list element selected. We can skip indicated the beginning and end of our slice, only indicating the step, if we like."
      ]
    },
    {
      "cell_type": "code",
      "metadata": {
        "id": "HokHG4ZIM4Xw",
        "colab": {
          "base_uri": "https://localhost:8080/"
        },
        "outputId": "bd9bb695-8be0-41ee-c93f-e04bc0e25101"
      },
      "source": [
        "print (my_list[::2])"
      ],
      "execution_count": 70,
      "outputs": [
        {
          "output_type": "stream",
          "text": [
            "['friends', 'countrymen', 'me', 'ears']\n"
          ],
          "name": "stdout"
        }
      ]
    },
    {
      "cell_type": "code",
      "metadata": {
        "colab": {
          "base_uri": "https://localhost:8080/"
        },
        "id": "cjJKPkBfk0hl",
        "outputId": "4f03c83f-a61d-4b35-c81f-d980762aa563"
      },
      "source": [
        "print (amigos[::3])"
      ],
      "execution_count": 71,
      "outputs": [
        {
          "output_type": "stream",
          "text": [
            "['Paola', 'Daniela']\n"
          ],
          "name": "stdout"
        }
      ]
    },
    {
      "cell_type": "markdown",
      "metadata": {
        "id": "I0IUZEGCM4Xw"
      },
      "source": [
        "Lists implictly select the beginning and end of the list when not otherwise specified."
      ]
    },
    {
      "cell_type": "code",
      "metadata": {
        "id": "djCnq2lkM4Xw",
        "colab": {
          "base_uri": "https://localhost:8080/"
        },
        "outputId": "2fd24f80-685a-4a13-9d48-18cd78db7c58"
      },
      "source": [
        "print (my_list[:])"
      ],
      "execution_count": 72,
      "outputs": [
        {
          "output_type": "stream",
          "text": [
            "['friends', 'romans', 'countrymen', 'lend', 'me', 'your', 'ears']\n"
          ],
          "name": "stdout"
        }
      ]
    },
    {
      "cell_type": "code",
      "metadata": {
        "colab": {
          "base_uri": "https://localhost:8080/"
        },
        "id": "6_s_4FwOlEqC",
        "outputId": "f8070c86-076e-4135-a9cf-07d3d4b11348"
      },
      "source": [
        "print (amigos[:])"
      ],
      "execution_count": 73,
      "outputs": [
        {
          "output_type": "stream",
          "text": [
            "['Paola', 'Carlos', 'Juan Manuel', 'Daniela', 'Lucas', 'Luisa']\n"
          ],
          "name": "stdout"
        }
      ]
    },
    {
      "cell_type": "markdown",
      "metadata": {
        "id": "3bakuZ06M4Xx"
      },
      "source": [
        "With a negative step size we can even reverse the list!"
      ]
    },
    {
      "cell_type": "code",
      "metadata": {
        "id": "zCwZw9fFM4Xx",
        "colab": {
          "base_uri": "https://localhost:8080/"
        },
        "outputId": "99c864cc-7f44-452e-a0c7-c69c50a5184e"
      },
      "source": [
        "print (my_list[::-1])"
      ],
      "execution_count": 74,
      "outputs": [
        {
          "output_type": "stream",
          "text": [
            "['ears', 'your', 'me', 'lend', 'countrymen', 'romans', 'friends']\n"
          ],
          "name": "stdout"
        }
      ]
    },
    {
      "cell_type": "code",
      "metadata": {
        "colab": {
          "base_uri": "https://localhost:8080/"
        },
        "id": "qa3M8T0KlOAx",
        "outputId": "2599b2e3-78a6-4abf-8840-93b914b0814a"
      },
      "source": [
        "print (amigos[::-1])"
      ],
      "execution_count": 75,
      "outputs": [
        {
          "output_type": "stream",
          "text": [
            "['Luisa', 'Lucas', 'Daniela', 'Juan Manuel', 'Carlos', 'Paola']\n"
          ],
          "name": "stdout"
        }
      ]
    },
    {
      "cell_type": "markdown",
      "metadata": {
        "id": "5oLFf0PsM4Xx"
      },
      "source": [
        "Python does not have native matrices, but with lists we can produce a working fascimile. Other packages, such as `numpy`, add matrices as a separate data type, but in base Python the best way to create a matrix is to use a list of lists."
      ]
    },
    {
      "cell_type": "markdown",
      "metadata": {
        "id": "4BW_hOMPM4Xx"
      },
      "source": [
        "We can also use built-in functions to generate lists. In particular we will look at `range()` (because we will be using it later!). Range can take several different inputs and will return a list."
      ]
    },
    {
      "cell_type": "code",
      "metadata": {
        "id": "Gsf6tcfSM4Xx",
        "colab": {
          "base_uri": "https://localhost:8080/"
        },
        "outputId": "b9b0a14e-3d61-4daa-de53-2f0f8f0557d0"
      },
      "source": [
        "b = 10\n",
        "my_list = range(b)\n",
        "print (my_list)"
      ],
      "execution_count": 76,
      "outputs": [
        {
          "output_type": "stream",
          "text": [
            "range(0, 10)\n"
          ],
          "name": "stdout"
        }
      ]
    },
    {
      "cell_type": "code",
      "metadata": {
        "colab": {
          "base_uri": "https://localhost:8080/"
        },
        "id": "SF3--2Xl6iw-",
        "outputId": "68ad77fc-4f8c-4147-a6f8-30ae454c0a72"
      },
      "source": [
        "mi_lista = range(100)\n",
        "print (mi_lista)"
      ],
      "execution_count": 81,
      "outputs": [
        {
          "output_type": "stream",
          "text": [
            "range(0, 100)\n"
          ],
          "name": "stdout"
        }
      ]
    },
    {
      "cell_type": "markdown",
      "metadata": {
        "id": "J0YedvT2M4Xx"
      },
      "source": [
        "Similar to our list-slicing methods from before, we can define both a start and an end for our range. This will return a list that is includes the start and excludes the end, just like a slice."
      ]
    },
    {
      "cell_type": "code",
      "metadata": {
        "id": "ODESGEpeM4Xx",
        "colab": {
          "base_uri": "https://localhost:8080/"
        },
        "outputId": "39a51def-8613-4702-ab1a-00267735c48d"
      },
      "source": [
        "a = 0\n",
        "b = 10\n",
        "my_list = range(a, b)\n",
        "print (my_list)"
      ],
      "execution_count": 79,
      "outputs": [
        {
          "output_type": "stream",
          "text": [
            "range(0, 10)\n"
          ],
          "name": "stdout"
        }
      ]
    },
    {
      "cell_type": "code",
      "metadata": {
        "colab": {
          "base_uri": "https://localhost:8080/"
        },
        "id": "5nSzf2TC6_IV",
        "outputId": "f31ef50b-099a-4e3d-a0c9-78dfa664a59e"
      },
      "source": [
        "mi_lista_2 = range(1,21)\n",
        "print (mi_lista_2)"
      ],
      "execution_count": 83,
      "outputs": [
        {
          "output_type": "stream",
          "text": [
            "range(1, 21)\n"
          ],
          "name": "stdout"
        }
      ]
    },
    {
      "cell_type": "markdown",
      "metadata": {
        "id": "oyk_rFIfM4Xy"
      },
      "source": [
        "We can also specify a step size. This again has the same behavior as a slice."
      ]
    },
    {
      "cell_type": "code",
      "metadata": {
        "scrolled": true,
        "id": "NsBiyfuCM4Xy",
        "colab": {
          "base_uri": "https://localhost:8080/"
        },
        "outputId": "15edb188-2e79-4e4b-ff1a-8f1af501b287"
      },
      "source": [
        "a = 0\n",
        "b = 10\n",
        "step = 2\n",
        "my_list = range(a, b, step)\n",
        "print (my_list)"
      ],
      "execution_count": 85,
      "outputs": [
        {
          "output_type": "stream",
          "text": [
            "range(0, 10, 2)\n"
          ],
          "name": "stdout"
        }
      ]
    },
    {
      "cell_type": "code",
      "metadata": {
        "colab": {
          "base_uri": "https://localhost:8080/"
        },
        "id": "M4ZfJTLl7blW",
        "outputId": "b4e9869f-708f-4f30-989f-55915402affc"
      },
      "source": [
        "a = 1\n",
        "b = 22\n",
        "step = 3\n",
        "mi_lista_3 = range(a, b, step)\n",
        "print (mi_lista_3)"
      ],
      "execution_count": 86,
      "outputs": [
        {
          "output_type": "stream",
          "text": [
            "range(1, 22, 3)\n"
          ],
          "name": "stdout"
        }
      ]
    },
    {
      "cell_type": "markdown",
      "metadata": {
        "id": "KcpzQRK8M4Xy"
      },
      "source": [
        "### Tuples\n",
        "\n",
        "A `tuple` is a data type similar to a list in that it can hold different kinds of data types. The key difference here is that a `tuple` is immutable. We define a `tuple` by separating the elements we want to include by commas. It is conventional to surround a `tuple` with parentheses."
      ]
    },
    {
      "cell_type": "code",
      "metadata": {
        "id": "7vOVRAAAM4Xy",
        "colab": {
          "base_uri": "https://localhost:8080/"
        },
        "outputId": "63e00a3a-d49d-41e2-d798-8cb6f6707a3c"
      },
      "source": [
        "my_tuple = 'I', 'have', 30, 'cats'\n",
        "print (my_tuple)"
      ],
      "execution_count": 90,
      "outputs": [
        {
          "output_type": "stream",
          "text": [
            "('I', 'have', 30, 'cats')\n"
          ],
          "name": "stdout"
        }
      ]
    },
    {
      "cell_type": "code",
      "metadata": {
        "colab": {
          "base_uri": "https://localhost:8080/"
        },
        "id": "x-javvAo8Edv",
        "outputId": "6b89a706-c4a7-4b86-fc58-44a846158c1c"
      },
      "source": [
        "Paciente = 'Pepito', 'Perez', 'o+', 22, 1000078564, True\n",
        "print(Paciente)"
      ],
      "execution_count": 91,
      "outputs": [
        {
          "output_type": "stream",
          "text": [
            "('Pepito', 'Perez', 'o+', 22, 1000078564, True)\n"
          ],
          "name": "stdout"
        }
      ]
    },
    {
      "cell_type": "code",
      "metadata": {
        "id": "Yy8OSpgNM4Xy",
        "colab": {
          "base_uri": "https://localhost:8080/"
        },
        "outputId": "416160be-dccf-4997-cc62-da06d3483d28"
      },
      "source": [
        "my_tuple = ('I', 'have', 30, 'cats')\n",
        "print (my_tuple)"
      ],
      "execution_count": 89,
      "outputs": [
        {
          "output_type": "stream",
          "text": [
            "('I', 'have', 30, 'cats')\n"
          ],
          "name": "stdout"
        }
      ]
    },
    {
      "cell_type": "code",
      "metadata": {
        "colab": {
          "base_uri": "https://localhost:8080/"
        },
        "id": "gexOjW8g8kvU",
        "outputId": "9d396158-5f42-47ac-9f2e-04a4d7b5866d"
      },
      "source": [
        "Paciente = ('Pepito', 'Perez', 'o+', 22, 1000078564, True)\n",
        "print(Paciente)"
      ],
      "execution_count": 92,
      "outputs": [
        {
          "output_type": "stream",
          "text": [
            "('Pepito', 'Perez', 'o+', 22, 1000078564, True)\n"
          ],
          "name": "stdout"
        }
      ]
    },
    {
      "cell_type": "markdown",
      "metadata": {
        "id": "zHRdUOeSM4Xy"
      },
      "source": [
        "As mentioned before, tuples are immutable. You can't change any part of them without defining a new tuple."
      ]
    },
    {
      "cell_type": "code",
      "metadata": {
        "id": "nsMfKc7mM4Xy"
      },
      "source": [
        "#my_tuple[3] = 'dogs' # Attempts to change the 'cats' value stored in the the tuple to 'dogs'\n",
        "#No se puede ejecutar porque una tupla es inmutable"
      ],
      "execution_count": 94,
      "outputs": []
    },
    {
      "cell_type": "code",
      "metadata": {
        "id": "GDM4ysL49b9G"
      },
      "source": [
        "#Paciente[5] = False # Attempts to change the 'True' value stored in the the tuple to 'False'\n",
        "#No se puede ejecutar porque una tupla es inmutable"
      ],
      "execution_count": 96,
      "outputs": []
    },
    {
      "cell_type": "markdown",
      "metadata": {
        "id": "x496-GNVM4Xz"
      },
      "source": [
        "You can slice tuples the same way that you slice lists!"
      ]
    },
    {
      "cell_type": "code",
      "metadata": {
        "id": "LSeCH474M4Xz",
        "colab": {
          "base_uri": "https://localhost:8080/"
        },
        "outputId": "4f8fa09f-0b06-46cf-ec8f-f216675d1e24"
      },
      "source": [
        "print (my_tuple[1:3])"
      ],
      "execution_count": 97,
      "outputs": [
        {
          "output_type": "stream",
          "text": [
            "('have', 30)\n"
          ],
          "name": "stdout"
        }
      ]
    },
    {
      "cell_type": "code",
      "metadata": {
        "colab": {
          "base_uri": "https://localhost:8080/"
        },
        "id": "GLsSje_Q9_Sj",
        "outputId": "2ca2a41e-b392-4a6b-d5ef-a99439275995"
      },
      "source": [
        "print (Paciente[2:5])"
      ],
      "execution_count": 98,
      "outputs": [
        {
          "output_type": "stream",
          "text": [
            "('o+', 22, 1000078564)\n"
          ],
          "name": "stdout"
        }
      ]
    },
    {
      "cell_type": "markdown",
      "metadata": {
        "id": "hONJZBbWM4Xz"
      },
      "source": [
        "And concatenate them the way that you would with strings!"
      ]
    },
    {
      "cell_type": "code",
      "metadata": {
        "id": "8xC7d-GfM4Xz",
        "colab": {
          "base_uri": "https://localhost:8080/"
        },
        "outputId": "15e1a4db-41bd-40dc-fa09-5cefff5aef95"
      },
      "source": [
        "my_other_tuple = ('make', 'that', 50)\n",
        "print (my_tuple + my_other_tuple)"
      ],
      "execution_count": 100,
      "outputs": [
        {
          "output_type": "stream",
          "text": [
            "('I', 'have', 30, 'cats', 'make', 'that', 50)\n"
          ],
          "name": "stdout"
        }
      ]
    },
    {
      "cell_type": "code",
      "metadata": {
        "colab": {
          "base_uri": "https://localhost:8080/"
        },
        "id": "QpS8INdX-TAi",
        "outputId": "026a8041-27a6-4bf4-9dfd-f38d61596d9e"
      },
      "source": [
        "otros_datos = ('Colombiano', 'Ingeniero Civil', 3)\n",
        "print (Paciente + otros_datos)"
      ],
      "execution_count": 103,
      "outputs": [
        {
          "output_type": "stream",
          "text": [
            "('Pepito', 'Perez', 'o+', 22, 1000078564, True, 'Colombiano', 'Ingeniero Civil', 3)\n"
          ],
          "name": "stdout"
        }
      ]
    },
    {
      "cell_type": "markdown",
      "metadata": {
        "id": "BkGWHN-KM4Xz"
      },
      "source": [
        "We can 'pack' values together, creating a tuple (as above), or we can 'unpack' values from a tuple, taking them out."
      ]
    },
    {
      "cell_type": "code",
      "metadata": {
        "id": "Z99p3N6TM4Xz",
        "colab": {
          "base_uri": "https://localhost:8080/"
        },
        "outputId": "687c314f-7c21-4fbb-b18e-cc7aef51c118"
      },
      "source": [
        "str_1, str_2, int_1 = my_other_tuple\n",
        "print (str_1, str_2, int_1)"
      ],
      "execution_count": 102,
      "outputs": [
        {
          "output_type": "stream",
          "text": [
            "make that 50\n"
          ],
          "name": "stdout"
        }
      ]
    },
    {
      "cell_type": "code",
      "metadata": {
        "colab": {
          "base_uri": "https://localhost:8080/"
        },
        "id": "yveaXU5B-4jx",
        "outputId": "5baeb356-3a51-44e3-ea9e-27e5d7863ac9"
      },
      "source": [
        "nacionalidad, profesión, estrato = otros_datos\n",
        "print (nacionalidad, profesión, estrato)"
      ],
      "execution_count": 104,
      "outputs": [
        {
          "output_type": "stream",
          "text": [
            "Colombiano Ingeniero Civil 3\n"
          ],
          "name": "stdout"
        }
      ]
    },
    {
      "cell_type": "markdown",
      "metadata": {
        "id": "eVNGVvg0M4Xz"
      },
      "source": [
        "Unpacking assigns each value of the tuple in order to each variable on the left hand side of the equals sign. Some functions, including user-defined functions, may return tuples, so we can use this to directly unpack them and access the values that we want."
      ]
    },
    {
      "cell_type": "markdown",
      "metadata": {
        "id": "wVgHm_-hM4Xz"
      },
      "source": [
        "### Sets\n",
        "\n",
        "A `set` is a collection of unordered, unique elements. It works almost exactly as you would expect a normal set of things in mathematics to work and is defined using braces (`{}`)."
      ]
    },
    {
      "cell_type": "code",
      "metadata": {
        "id": "FYPUWeyXM4X0",
        "colab": {
          "base_uri": "https://localhost:8080/"
        },
        "outputId": "1c42edb8-e41a-43f9-e504-718886ec22ba"
      },
      "source": [
        "things_i_like = {'dogs', 7, 'the number 4', 4, 4, 4, 42, 'lizards', 'man I just LOVE the number 4'}\n",
        "print (things_i_like, type(things_i_like))"
      ],
      "execution_count": 105,
      "outputs": [
        {
          "output_type": "stream",
          "text": [
            "{4, 7, 'the number 4', 42, 'lizards', 'man I just LOVE the number 4', 'dogs'} <class 'set'>\n"
          ],
          "name": "stdout"
        }
      ]
    },
    {
      "cell_type": "code",
      "metadata": {
        "colab": {
          "base_uri": "https://localhost:8080/"
        },
        "id": "HKtPKU8o_ZrH",
        "outputId": "2ec9db9b-b834-49d0-c8b8-642e8cffc8f1"
      },
      "source": [
        "materia = {'Calculo en varias variables', 'Pepito Perez', 3, '1000006-B', 'L-Mi', '16:00- 18:00', 7, True}\n",
        "print(materia)"
      ],
      "execution_count": 106,
      "outputs": [
        {
          "output_type": "stream",
          "text": [
            "{True, 'Pepito Perez', 3, '1000006-B', 7, 'Calculo en varias variables', '16:00- 18:00', 'L-Mi'}\n"
          ],
          "name": "stdout"
        }
      ]
    },
    {
      "cell_type": "markdown",
      "metadata": {
        "id": "c_m1tNfXM4X0"
      },
      "source": [
        "Note how any extra instances of the same item are removed in the final set. We can also create a `set` from a list, using the `set()` function."
      ]
    },
    {
      "cell_type": "code",
      "metadata": {
        "id": "3OoGhdAbM4X0",
        "colab": {
          "base_uri": "https://localhost:8080/"
        },
        "outputId": "43ff7fcc-dd0d-4560-debf-a3e12236b09f"
      },
      "source": [
        "animal_list = ['cats', 'dogs', 'dogs', 'dogs', 'lizards', 'sponges', 'cows', 'bats', 'sponges']\n",
        "animal_set = set(animal_list)\n",
        "print (animal_set) # Removes all extra instances from the list"
      ],
      "execution_count": 107,
      "outputs": [
        {
          "output_type": "stream",
          "text": [
            "{'cats', 'cows', 'lizards', 'dogs', 'bats', 'sponges'}\n"
          ],
          "name": "stdout"
        }
      ]
    },
    {
      "cell_type": "code",
      "metadata": {
        "colab": {
          "base_uri": "https://localhost:8080/"
        },
        "id": "m-3DhnFNA1ry",
        "outputId": "fdf80b6a-4cd7-45a6-c4d6-c6bf79c7f1b0"
      },
      "source": [
        "tipos_sangre = ['a+', 'a-', 'o+', 'o-', 'ab+', 'ab-', 'o+', 'a+', 'b+', 'b-']\n",
        "tipos_sangre = set(tipos_sangre)\n",
        "print(tipos_sangre)"
      ],
      "execution_count": 108,
      "outputs": [
        {
          "output_type": "stream",
          "text": [
            "{'b-', 'o+', 'a+', 'ab-', 'ab+', 'b+', 'a-', 'o-'}\n"
          ],
          "name": "stdout"
        }
      ]
    },
    {
      "cell_type": "markdown",
      "metadata": {
        "id": "TOajtOM3M4X0"
      },
      "source": [
        "Calling `len()` on a set will tell you how many elements are in it."
      ]
    },
    {
      "cell_type": "code",
      "metadata": {
        "id": "NTsyoWJ-M4X0",
        "colab": {
          "base_uri": "https://localhost:8080/"
        },
        "outputId": "c4eedb10-b87d-44b2-bb6b-8db1b79dd8eb"
      },
      "source": [
        "print (len(animal_set))"
      ],
      "execution_count": 111,
      "outputs": [
        {
          "output_type": "stream",
          "text": [
            "6\n"
          ],
          "name": "stdout"
        }
      ]
    },
    {
      "cell_type": "code",
      "metadata": {
        "colab": {
          "base_uri": "https://localhost:8080/"
        },
        "id": "P0pPzL22Cgm-",
        "outputId": "8af06ab6-e645-4653-ab9b-2e89d6d6e19c"
      },
      "source": [
        "print(len(tipos_sangre))"
      ],
      "execution_count": 110,
      "outputs": [
        {
          "output_type": "stream",
          "text": [
            "8\n"
          ],
          "name": "stdout"
        }
      ]
    },
    {
      "cell_type": "markdown",
      "metadata": {
        "id": "ub5K4lWjM4X0"
      },
      "source": [
        "Because a `set` is unordered, we can't access individual elements using an index. We can, however, easily check for membership (to see if something is contained in a set) and take the unions and intersections of sets by using the built-in set functions."
      ]
    },
    {
      "cell_type": "code",
      "metadata": {
        "id": "-ZdPoyO2M4X0",
        "colab": {
          "base_uri": "https://localhost:8080/"
        },
        "outputId": "a6dfc09b-78b6-400c-d761-953e017d852c"
      },
      "source": [
        "'cats' in animal_set # Here we check for membership using the `in` keyword."
      ],
      "execution_count": 112,
      "outputs": [
        {
          "output_type": "execute_result",
          "data": {
            "text/plain": [
              "True"
            ]
          },
          "metadata": {
            "tags": []
          },
          "execution_count": 112
        }
      ]
    },
    {
      "cell_type": "code",
      "metadata": {
        "colab": {
          "base_uri": "https://localhost:8080/"
        },
        "id": "JMgXf06oC2cb",
        "outputId": "2f715a60-e3e9-4ea3-c26b-08274b42cef9"
      },
      "source": [
        "'a+' in tipos_sangre"
      ],
      "execution_count": 114,
      "outputs": [
        {
          "output_type": "execute_result",
          "data": {
            "text/plain": [
              "True"
            ]
          },
          "metadata": {
            "tags": []
          },
          "execution_count": 114
        }
      ]
    },
    {
      "cell_type": "code",
      "metadata": {
        "colab": {
          "base_uri": "https://localhost:8080/"
        },
        "id": "t6f5unjgC-Lk",
        "outputId": "d512d229-b6f5-4bf4-b2b5-b986d47dc53a"
      },
      "source": [
        "'ab' in tipos_sangre "
      ],
      "execution_count": 115,
      "outputs": [
        {
          "output_type": "execute_result",
          "data": {
            "text/plain": [
              "False"
            ]
          },
          "metadata": {
            "tags": []
          },
          "execution_count": 115
        }
      ]
    },
    {
      "cell_type": "markdown",
      "metadata": {
        "id": "dOEue9WFM4X1"
      },
      "source": [
        "Here we checked to see whether the string 'cats' was contained within our `animal_set` and it returned `True`, telling us that it is indeed in our set.\n",
        "\n",
        "We can connect sets by using typical mathematical set operators, namely `|`, for union, and `&`, for intersection. Using `|` or `&` will return exactly what you would expect if you are familiar with sets in mathematics."
      ]
    },
    {
      "cell_type": "code",
      "metadata": {
        "id": "0-LDstN6M4X1",
        "colab": {
          "base_uri": "https://localhost:8080/"
        },
        "outputId": "1cf18301-ef36-4e7e-d904-31610cb85052"
      },
      "source": [
        "print (animal_set | things_i_like) # You can also write things_i_like | animal_set with no difference"
      ],
      "execution_count": 116,
      "outputs": [
        {
          "output_type": "stream",
          "text": [
            "{4, 7, 'cats', 'the number 4', 42, 'cows', 'lizards', 'man I just LOVE the number 4', 'dogs', 'bats', 'sponges'}\n"
          ],
          "name": "stdout"
        }
      ]
    },
    {
      "cell_type": "code",
      "metadata": {
        "colab": {
          "base_uri": "https://localhost:8080/"
        },
        "id": "3_vXRq8CD435",
        "outputId": "b1e53248-6b53-4755-8338-d821d3b182e0"
      },
      "source": [
        "print (tipos_sangre | materia)"
      ],
      "execution_count": 117,
      "outputs": [
        {
          "output_type": "stream",
          "text": [
            "{True, 'Pepito Perez', 3, '1000006-B', 'b-', 'o+', 7, 'Calculo en varias variables', 'a+', 'ab-', 'ab+', 'L-Mi', 'b+', '16:00- 18:00', 'a-', 'o-'}\n"
          ],
          "name": "stdout"
        }
      ]
    },
    {
      "cell_type": "markdown",
      "metadata": {
        "id": "ycWXd8N_M4X1"
      },
      "source": [
        "Pairing two sets together with `|` combines the sets, removing any repetitions to make every set element unique."
      ]
    },
    {
      "cell_type": "code",
      "metadata": {
        "id": "sHnVn4BgM4X1",
        "colab": {
          "base_uri": "https://localhost:8080/"
        },
        "outputId": "ee98cd40-cd81-4a6c-ecce-cde1861525d8"
      },
      "source": [
        "print (animal_set & things_i_like) # You can also write things_i_like & animal_set with no difference"
      ],
      "execution_count": 118,
      "outputs": [
        {
          "output_type": "stream",
          "text": [
            "{'lizards', 'dogs'}\n"
          ],
          "name": "stdout"
        }
      ]
    },
    {
      "cell_type": "code",
      "metadata": {
        "colab": {
          "base_uri": "https://localhost:8080/"
        },
        "id": "-XeCV50YEOZp",
        "outputId": "42aa9042-564f-4b61-8b82-ce65847102e3"
      },
      "source": [
        "print (tipos_sangre & materia) #No tienen ningun elemento en comun por ende se imprime un conjunto vacio"
      ],
      "execution_count": 120,
      "outputs": [
        {
          "output_type": "stream",
          "text": [
            "set()\n"
          ],
          "name": "stdout"
        }
      ]
    },
    {
      "cell_type": "markdown",
      "metadata": {
        "id": "srOShZ7FM4X1"
      },
      "source": [
        "Pairing two sets together with `&` will calculate the intersection of both sets, returning a set that only contains what they have in common.\n",
        "\n",
        "If you are interested in learning more about the built-in functions for sets, feel free to check out the [documentation](https://docs.python.org/2/library/sets.html)."
      ]
    },
    {
      "cell_type": "markdown",
      "metadata": {
        "id": "mbJokoCyM4X2"
      },
      "source": [
        "### Dictionaries\n",
        "\n",
        "Another essential data structure in Python is the dictionary. Dictionaries are defined with a combination of curly braces (`{}`) and colons (`:`). The braces define the beginning and end of a dictionary and the colons indicate key-value pairs. A dictionary is essentially a set of key-value pairs. The key of any entry must be an immutable data type. This makes both strings and tuples candidates. Keys can be both added and deleted.\n",
        "\n",
        "In the following example, we have a dictionary composed of key-value pairs where the key is a genre of fiction (`string`) and the value is a list of books (`list`) within that genre. Since a collection is still considered a single entity, we can use one to collect multiple variables or values into one key-value pair."
      ]
    },
    {
      "cell_type": "code",
      "metadata": {
        "id": "ZuSG9zP_M4X2"
      },
      "source": [
        "my_dict = {\"High Fantasy\": [\"Wheel of Time\", \"Lord of the Rings\"], \n",
        "           \"Sci-fi\": [\"Book of the New Sun\", \"Neuromancer\", \"Snow Crash\"],\n",
        "           \"Weird Fiction\": [\"At the Mountains of Madness\", \"The House on the Borderland\"]}"
      ],
      "execution_count": 121,
      "outputs": []
    },
    {
      "cell_type": "code",
      "metadata": {
        "id": "SKZCJarUGiZl"
      },
      "source": [
        "facultades = {\"Ingenieria\": [\"Ingeniería Civil\", \"Ingeniería Agrícola\", \"Ingeniería Eléctrica\", \"Ingeniería Electrónica\", \" Ingeniería de Sistemas\", \"Ingeniería Industrial\", \"Ingeniería Química\"], \n",
        "           \"Ciencias_Humanas\": [\"Filosofía\", \"Trabajo Social\", \"Antropología\", \"Sociología\", \"Geografía\", \"Historia\", \"Psicología\"],\n",
        "           \"Ciencias\": [\"Biología\", \"Estadística\", \"Farmacia\", \"Física\", \"Geología\", \"Matemáticas\", \"Química\"]}"
      ],
      "execution_count": 122,
      "outputs": []
    },
    {
      "cell_type": "markdown",
      "metadata": {
        "id": "HF7SO1q-M4X2"
      },
      "source": [
        "After defining a dictionary, we can access any individual value by indicating its key in brackets."
      ]
    },
    {
      "cell_type": "code",
      "metadata": {
        "id": "E_cssZlfM4X2",
        "colab": {
          "base_uri": "https://localhost:8080/"
        },
        "outputId": "6967386a-ea50-4a92-e587-79e333f0b2f8"
      },
      "source": [
        "print (my_dict[\"Sci-fi\"])"
      ],
      "execution_count": 123,
      "outputs": [
        {
          "output_type": "stream",
          "text": [
            "['Book of the New Sun', 'Neuromancer', 'Snow Crash']\n"
          ],
          "name": "stdout"
        }
      ]
    },
    {
      "cell_type": "code",
      "metadata": {
        "colab": {
          "base_uri": "https://localhost:8080/"
        },
        "id": "xOIxDeAlJSO8",
        "outputId": "65f45c15-c1b2-4512-eb39-6bccaa0c74b1"
      },
      "source": [
        "print (facultades[\"Ingenieria\"])"
      ],
      "execution_count": 124,
      "outputs": [
        {
          "output_type": "stream",
          "text": [
            "['Ingeniería Civil', 'Ingeniería Agrícola', 'Ingeniería Eléctrica', 'Ingeniería Electrónica', ' Ingeniería de Sistemas', 'Ingeniería Industrial', 'Ingeniería Química']\n"
          ],
          "name": "stdout"
        }
      ]
    },
    {
      "cell_type": "markdown",
      "metadata": {
        "id": "sUDnPXkWM4X2"
      },
      "source": [
        "We can also change the value associated with a given key"
      ]
    },
    {
      "cell_type": "code",
      "metadata": {
        "id": "hfaDsZJsM4X2",
        "colab": {
          "base_uri": "https://localhost:8080/"
        },
        "outputId": "5b507330-a59d-44ff-f4b5-2be86eded453"
      },
      "source": [
        "my_dict[\"Sci-fi\"] = \"I can't read\"\n",
        "print (my_dict[\"Sci-fi\"])"
      ],
      "execution_count": 125,
      "outputs": [
        {
          "output_type": "stream",
          "text": [
            "I can't read\n"
          ],
          "name": "stdout"
        }
      ]
    },
    {
      "cell_type": "code",
      "metadata": {
        "colab": {
          "base_uri": "https://localhost:8080/"
        },
        "id": "SZWzjr1MJmLY",
        "outputId": "5c2d439d-a8ab-4234-ea19-1440e2e28cb7"
      },
      "source": [
        "facultades[\"Ciencias_Humanas\"] = \"Carreras que se enfocan en el desarrollo del ser humano en la sociedad\"\n",
        "print (facultades[\"Ciencias_Humanas\"])"
      ],
      "execution_count": 126,
      "outputs": [
        {
          "output_type": "stream",
          "text": [
            "Carreras que se enfocan en el desarrollo del ser humano en la sociedad\n"
          ],
          "name": "stdout"
        }
      ]
    },
    {
      "cell_type": "markdown",
      "metadata": {
        "id": "GotOeMyBM4X3"
      },
      "source": [
        "Adding a new key-value pair is as simple as defining it."
      ]
    },
    {
      "cell_type": "code",
      "metadata": {
        "id": "9bbbCUGdM4X3",
        "colab": {
          "base_uri": "https://localhost:8080/"
        },
        "outputId": "ca8f2ddd-d6d4-4676-d6dc-5ba1bd6f08ce"
      },
      "source": [
        "my_dict[\"Historical Fiction\"] = [\"Pillars of the Earth\"]\n",
        "print (my_dict[\"Historical Fiction\"])"
      ],
      "execution_count": 127,
      "outputs": [
        {
          "output_type": "stream",
          "text": [
            "['Pillars of the Earth']\n"
          ],
          "name": "stdout"
        }
      ]
    },
    {
      "cell_type": "code",
      "metadata": {
        "id": "V3oJ829kM4X3",
        "colab": {
          "base_uri": "https://localhost:8080/"
        },
        "outputId": "e6eeb294-3d3e-4ede-89c5-e2b84de1c951"
      },
      "source": [
        "print (my_dict)"
      ],
      "execution_count": 128,
      "outputs": [
        {
          "output_type": "stream",
          "text": [
            "{'High Fantasy': ['Wheel of Time', 'Lord of the Rings'], 'Sci-fi': \"I can't read\", 'Weird Fiction': ['At the Mountains of Madness', 'The House on the Borderland'], 'Historical Fiction': ['Pillars of the Earth']}\n"
          ],
          "name": "stdout"
        }
      ]
    },
    {
      "cell_type": "code",
      "metadata": {
        "colab": {
          "base_uri": "https://localhost:8080/"
        },
        "id": "mEfn5DE4KSXY",
        "outputId": "fc1a3969-84e1-42a0-ad71-4b0d8396e0f5"
      },
      "source": [
        "facultades[\"Cinecias Agrarias\"] = [\"Agronomía\", \"Ingeniería agrícola\"]\n",
        "print (facultades[\"Cinecias Agrarias\"])"
      ],
      "execution_count": 129,
      "outputs": [
        {
          "output_type": "stream",
          "text": [
            "['Agronomía', 'Ingeniería agrícola']\n"
          ],
          "name": "stdout"
        }
      ]
    },
    {
      "cell_type": "code",
      "metadata": {
        "colab": {
          "base_uri": "https://localhost:8080/"
        },
        "id": "6aCCPi6bKy9Y",
        "outputId": "805a2779-6816-4f0c-ffc3-b4ad8b82360c"
      },
      "source": [
        "print (facultades)"
      ],
      "execution_count": 130,
      "outputs": [
        {
          "output_type": "stream",
          "text": [
            "{'Ingenieria': ['Ingeniería Civil', 'Ingeniería Agrícola', 'Ingeniería Eléctrica', 'Ingeniería Electrónica', ' Ingeniería de Sistemas', 'Ingeniería Industrial', 'Ingeniería Química'], 'Ciencias_Humanas': 'Carreras que se enfocan en el desarrollo del ser humano en la sociedad', 'Ciencias': ['Biología', 'Estadística', 'Farmacia', 'Física', 'Geología', 'Matemáticas', 'Química'], 'Cinecias Agrarias': ['Agronomía', 'Ingeniería agrícola']}\n"
          ],
          "name": "stdout"
        }
      ]
    },
    {
      "cell_type": "markdown",
      "metadata": {
        "id": "9VFoMB6uM4X3"
      },
      "source": [
        "## String Shenanigans\n",
        "\n",
        "We already know that strings are generally used for text. We can used built-in operations to combine, split, and format strings easily, depending on our needs.\n",
        "\n",
        "The `+` symbol indicates concatenation in string language. It will combine two strings into a longer string."
      ]
    },
    {
      "cell_type": "code",
      "metadata": {
        "id": "VZyiqTQfM4X3",
        "colab": {
          "base_uri": "https://localhost:8080/"
        },
        "outputId": "65060113-5aa4-40d1-cbbc-3b4e1125c309"
      },
      "source": [
        "first_string = '\"Beware the Jabberwock, my son! /The jaws that bite, the claws that catch! /'\n",
        "second_string = 'Beware the Jubjub bird, and shun /The frumious Bandersnatch!\"/'\n",
        "third_string = first_string + second_string\n",
        "print (third_string)"
      ],
      "execution_count": 131,
      "outputs": [
        {
          "output_type": "stream",
          "text": [
            "\"Beware the Jabberwock, my son! /The jaws that bite, the claws that catch! /Beware the Jubjub bird, and shun /The frumious Bandersnatch!\"/\n"
          ],
          "name": "stdout"
        }
      ]
    },
    {
      "cell_type": "code",
      "metadata": {
        "colab": {
          "base_uri": "https://localhost:8080/"
        },
        "id": "OS0Jz9qJLOuQ",
        "outputId": "bf086493-a27b-4016-a3f5-6720181464f8"
      },
      "source": [
        "saludo = 'Hola, soy '\n",
        "nombre = \"Pepito \"\n",
        "apellido = 'Perez'\n",
        "presentación = saludo + nombre + apellido\n",
        "print (presentación)"
      ],
      "execution_count": 132,
      "outputs": [
        {
          "output_type": "stream",
          "text": [
            "Hola, soy Pepito Perez\n"
          ],
          "name": "stdout"
        }
      ]
    },
    {
      "cell_type": "markdown",
      "metadata": {
        "id": "2DZ4RHrrM4X3"
      },
      "source": [
        "Strings are also indexed much in the same way that lists are."
      ]
    },
    {
      "cell_type": "code",
      "metadata": {
        "id": "FEVWruw8M4X3",
        "colab": {
          "base_uri": "https://localhost:8080/"
        },
        "outputId": "65d789ef-8f50-4acf-fa78-aa571b0ed87b"
      },
      "source": [
        "my_string = 'Supercalifragilisticexpialidocious'\n",
        "print ('The first letter is: ', my_string[0]) # Uppercase S\n",
        "print ('The last letter is: ', my_string[-1]) # lowercase s\n",
        "print ('The second to last letter is: ', my_string[-2]) # lowercase u\n",
        "print ('The first five characters are: ', my_string[0:5]) # Remember: slicing doesn't include the final element!\n",
        "print ('Reverse it!: ', my_string[::-1])"
      ],
      "execution_count": 133,
      "outputs": [
        {
          "output_type": "stream",
          "text": [
            "The first letter is:  S\n",
            "The last letter is:  s\n",
            "The second to last letter is:  u\n",
            "The first five characters are:  Super\n",
            "Reverse it!:  suoicodilaipxecitsiligarfilacrepuS\n"
          ],
          "name": "stdout"
        }
      ]
    },
    {
      "cell_type": "code",
      "metadata": {
        "colab": {
          "base_uri": "https://localhost:8080/"
        },
        "id": "7OBxncu6MEvZ",
        "outputId": "852773cd-f0c8-4661-ef9f-229c024a4d82"
      },
      "source": [
        "frase = 'No es solo vivir, es sentirse vivo'\n",
        "print ('The first letter is: ', frase[0]) # Uppercase S\n",
        "print ('The last letter is: ',frase[-1]) # lowercase s\n",
        "print ('The second to last letter is: ', frase[-2]) # lowercase u\n",
        "print ('The first five characters are: ', frase[0:5]) # Remember: slicing doesn't include the final element!\n",
        "print ('Reverse it!: ', frase[::-1])"
      ],
      "execution_count": 136,
      "outputs": [
        {
          "output_type": "stream",
          "text": [
            "The first letter is:  N\n",
            "The last letter is:  o\n",
            "The second to last letter is:  v\n",
            "The first five characters are:  No es\n",
            "Reverse it!:  oviv esritnes se ,riviv olos se oN\n"
          ],
          "name": "stdout"
        }
      ]
    },
    {
      "cell_type": "markdown",
      "metadata": {
        "id": "rQi7vvVFM4X4"
      },
      "source": [
        "Built-in objects and classes often have special functions associated with them that are called methods. We access these methods by using a period ('.'). We will cover objects and their associated methods more in another lecture!\n",
        "\n",
        "Using string methods we can count instances of a character or group of characters."
      ]
    },
    {
      "cell_type": "code",
      "metadata": {
        "scrolled": true,
        "id": "0FKkI5bHM4X4",
        "colab": {
          "base_uri": "https://localhost:8080/"
        },
        "outputId": "ea13ef7e-1c74-4e40-c416-67a4a028c187"
      },
      "source": [
        "print ('Count of the letter i in Supercalifragilisticexpialidocious: ', my_string.count('i'))\n",
        "print ('Count of \"li\" in the same word: ', my_string.count('li'))"
      ],
      "execution_count": 144,
      "outputs": [
        {
          "output_type": "stream",
          "text": [
            "Count of the letter i in Supercalifragilisticexpialidocious:  7\n",
            "Count of \"li\" in the same word:  3\n"
          ],
          "name": "stdout"
        }
      ]
    },
    {
      "cell_type": "code",
      "metadata": {
        "colab": {
          "base_uri": "https://localhost:8080/"
        },
        "id": "-fCo5_ZQPPeV",
        "outputId": "e3beb207-bb43-4b07-c117-d26ba0560b97"
      },
      "source": [
        "print ('Count of the letter o in Supercalifragilisticexpialidocious: ', frase.count('o'))\n",
        "print ('Count of \"vi\" in the same word: ', frase.count('vi'))"
      ],
      "execution_count": 141,
      "outputs": [
        {
          "output_type": "stream",
          "text": [
            "Count of the letter o in Supercalifragilisticexpialidocious:  4\n",
            "Count of \"vi\" in the same word:  3\n"
          ],
          "name": "stdout"
        }
      ]
    },
    {
      "cell_type": "markdown",
      "metadata": {
        "id": "O-93-EB4M4X4"
      },
      "source": [
        "We can also find the first instance of a character or group of characters in a string."
      ]
    },
    {
      "cell_type": "code",
      "metadata": {
        "id": "Pr58HTA7M4X4",
        "colab": {
          "base_uri": "https://localhost:8080/"
        },
        "outputId": "7595a31e-52c4-42e7-f1f6-22d8f46c0670"
      },
      "source": [
        "print ('The first time i appears is at index: ', my_string.find('i'))"
      ],
      "execution_count": 143,
      "outputs": [
        {
          "output_type": "stream",
          "text": [
            "The first time i appears is at index:  8\n"
          ],
          "name": "stdout"
        }
      ]
    },
    {
      "cell_type": "code",
      "metadata": {
        "colab": {
          "base_uri": "https://localhost:8080/"
        },
        "id": "O5FIRSCtQF7h",
        "outputId": "3a9ee67d-97cc-4c67-a7c2-838579e4af07"
      },
      "source": [
        "print ('The first time e appears is at index: ', frase.find('e'))"
      ],
      "execution_count": 145,
      "outputs": [
        {
          "output_type": "stream",
          "text": [
            "The first time e appears is at index:  3\n"
          ],
          "name": "stdout"
        }
      ]
    },
    {
      "cell_type": "markdown",
      "metadata": {
        "id": "YANC6_9aM4X4"
      },
      "source": [
        "As well as replace characters in a string."
      ]
    },
    {
      "cell_type": "code",
      "metadata": {
        "id": "vNVsKnOaM4X4",
        "colab": {
          "base_uri": "https://localhost:8080/"
        },
        "outputId": "70a7b76a-5414-4df0-9e20-d5b1d59bc43b"
      },
      "source": [
        "print (\"All i's are now a's: \", my_string.replace('i', 'a'))"
      ],
      "execution_count": 146,
      "outputs": [
        {
          "output_type": "stream",
          "text": [
            "All i's are now a's:  Supercalafragalastacexpaaladocaous\n"
          ],
          "name": "stdout"
        }
      ]
    },
    {
      "cell_type": "code",
      "metadata": {
        "colab": {
          "base_uri": "https://localhost:8080/"
        },
        "id": "keRs-w1IQYib",
        "outputId": "51e8947f-30d2-4da4-8e6e-04b0a2ba2fdb"
      },
      "source": [
        "print (\"All o's are now u's: \", frase.replace('o', 'u'))"
      ],
      "execution_count": 147,
      "outputs": [
        {
          "output_type": "stream",
          "text": [
            "All o's are now u's:  Nu es sulu vivir, es sentirse vivu\n"
          ],
          "name": "stdout"
        }
      ]
    },
    {
      "cell_type": "code",
      "metadata": {
        "id": "eWhnIAIqM4X4",
        "colab": {
          "base_uri": "https://localhost:8080/"
        },
        "outputId": "318a13ae-782a-494d-adca-2e2c86bd3dc5"
      },
      "source": [
        "print (\"It's raining cats and dogs\".replace('dogs', 'more cats'))"
      ],
      "execution_count": 148,
      "outputs": [
        {
          "output_type": "stream",
          "text": [
            "It's raining cats and more cats\n"
          ],
          "name": "stdout"
        }
      ]
    },
    {
      "cell_type": "code",
      "metadata": {
        "colab": {
          "base_uri": "https://localhost:8080/"
        },
        "id": "0dliXIwaQolS",
        "outputId": "39086bc5-4612-4484-efb0-d2da17db1b8d"
      },
      "source": [
        "print (\"Reprobaste todas las materias\".replace('Reprobaste', 'Aprobaste'))"
      ],
      "execution_count": 149,
      "outputs": [
        {
          "output_type": "stream",
          "text": [
            "Aprobaste todas las materias\n"
          ],
          "name": "stdout"
        }
      ]
    },
    {
      "cell_type": "markdown",
      "metadata": {
        "id": "uyfcQ_MTM4X5"
      },
      "source": [
        "There are also some methods that are unique to strings. The function `upper()` will convert all characters in a string to uppercase, while `lower()` will convert all characters in a string to lowercase!"
      ]
    },
    {
      "cell_type": "code",
      "metadata": {
        "id": "ZciCHEsEM4X5",
        "colab": {
          "base_uri": "https://localhost:8080/"
        },
        "outputId": "592d30a7-c6cb-473e-cf3e-a1d4baff579d"
      },
      "source": [
        "my_string = \"I can't hear you\"\n",
        "print (my_string.upper())\n",
        "my_string = \"I said HELLO\"\n",
        "print (my_string.lower())"
      ],
      "execution_count": 150,
      "outputs": [
        {
          "output_type": "stream",
          "text": [
            "I CAN'T HEAR YOU\n",
            "i said hello\n"
          ],
          "name": "stdout"
        }
      ]
    },
    {
      "cell_type": "code",
      "metadata": {
        "colab": {
          "base_uri": "https://localhost:8080/"
        },
        "id": "SnGiAdi0RCF9",
        "outputId": "1819af85-4ea1-4a9f-c30c-1cf83a4df19b"
      },
      "source": [
        "my_string_2 = \"I can think it\"\n",
        "print (my_string_2.upper())\n",
        "my_string_2 = \"I can do it \"\n",
        "print (my_string_2.lower())"
      ],
      "execution_count": 151,
      "outputs": [
        {
          "output_type": "stream",
          "text": [
            "I CAN THINK IT\n",
            "i can do it \n"
          ],
          "name": "stdout"
        }
      ]
    },
    {
      "cell_type": "markdown",
      "metadata": {
        "id": "s5oLAUrBM4X5"
      },
      "source": [
        "### String Formatting\n",
        "\n",
        "Using the `format()` method we can add in variable values and generally format our strings."
      ]
    },
    {
      "cell_type": "code",
      "metadata": {
        "id": "TzFmsTDiM4X5",
        "colab": {
          "base_uri": "https://localhost:8080/"
        },
        "outputId": "f7f01dc1-eeca-4e13-fc68-6a3117929036"
      },
      "source": [
        "my_string = \"{0} {1}\".format('Marco', 'Polo')\n",
        "print (my_string)"
      ],
      "execution_count": 152,
      "outputs": [
        {
          "output_type": "stream",
          "text": [
            "Marco Polo\n"
          ],
          "name": "stdout"
        }
      ]
    },
    {
      "cell_type": "code",
      "metadata": {
        "colab": {
          "base_uri": "https://localhost:8080/"
        },
        "id": "0Mrf2GqGR9UH",
        "outputId": "cb77955f-4159-4792-e9f6-be0537d41b03"
      },
      "source": [
        "my_string_2 = \"{0} {1} {2} {3} {4}\".format('Hugo', ',', 'Paco', 'y', 'Luis')\n",
        "print (my_string_2)"
      ],
      "execution_count": 158,
      "outputs": [
        {
          "output_type": "stream",
          "text": [
            "Hugo , Paco y Luis\n"
          ],
          "name": "stdout"
        }
      ]
    },
    {
      "cell_type": "code",
      "metadata": {
        "id": "6UbjUdDsM4X5",
        "colab": {
          "base_uri": "https://localhost:8080/"
        },
        "outputId": "a32ff9a3-d66c-41d2-f18b-a638f0691704"
      },
      "source": [
        "my_string = \"{1} {0}\".format('Marco', 'Polo')\n",
        "print (my_string)"
      ],
      "execution_count": 153,
      "outputs": [
        {
          "output_type": "stream",
          "text": [
            "Polo Marco\n"
          ],
          "name": "stdout"
        }
      ]
    },
    {
      "cell_type": "code",
      "metadata": {
        "colab": {
          "base_uri": "https://localhost:8080/"
        },
        "id": "7udcgsG5SkIS",
        "outputId": "099c1af0-7bd1-41ea-baff-6f06dbe72e2c"
      },
      "source": [
        "my_string_2 = \"{2} {1} {4} {3} {0}\".format('Hugo', ',', 'Paco', 'y', 'Luis')\n",
        "print (my_string_2)"
      ],
      "execution_count": 160,
      "outputs": [
        {
          "output_type": "stream",
          "text": [
            "Paco , Luis y Hugo\n"
          ],
          "name": "stdout"
        }
      ]
    },
    {
      "cell_type": "markdown",
      "metadata": {
        "id": "F64zWa_qM4X5"
      },
      "source": [
        "We use braces (`{}`) to indicate parts of the string that will be filled in later and we use the arguments of the `format()` function to provide the values to substitute. The numbers within the braces indicate the index of the value in the `format()` arguments."
      ]
    },
    {
      "cell_type": "markdown",
      "metadata": {
        "id": "OpEq3kQ4M4X5"
      },
      "source": [
        "See the `format()` [documentation](https://docs.python.org/2/library/string.html#format-examples) for additional examples."
      ]
    },
    {
      "cell_type": "markdown",
      "metadata": {
        "id": "HTt5eMKeM4X6"
      },
      "source": [
        "If you need some quick and dirty formatting, you can instead use the `%` symbol, called the string formatting operator. "
      ]
    },
    {
      "cell_type": "code",
      "metadata": {
        "id": "xLRa8kuWM4X6",
        "colab": {
          "base_uri": "https://localhost:8080/"
        },
        "outputId": "caa035d4-58ef-4580-b9fa-7971a07d1bbd"
      },
      "source": [
        "print ('insert %s here' % 'value')"
      ],
      "execution_count": 161,
      "outputs": [
        {
          "output_type": "stream",
          "text": [
            "insert value here\n"
          ],
          "name": "stdout"
        }
      ]
    },
    {
      "cell_type": "code",
      "metadata": {
        "colab": {
          "base_uri": "https://localhost:8080/"
        },
        "id": "SaNjN0V2TCtR",
        "outputId": "986551a6-7419-4589-c85b-348f837cb211"
      },
      "source": [
        "edad = 25\n",
        "print ('tengo %d años'% edad )"
      ],
      "execution_count": 176,
      "outputs": [
        {
          "output_type": "stream",
          "text": [
            "tengo 25 años\n"
          ],
          "name": "stdout"
        }
      ]
    },
    {
      "cell_type": "markdown",
      "metadata": {
        "id": "5SbPhHjOM4X6"
      },
      "source": [
        "The `%` symbol basically cues Python to create a placeholder. Whatever character follows the `%` (in the string) indicates what sort of type the value put into the placeholder will have. This character is called a *conversion type*. Once the string has been closed, we need another `%` that will be followed by the values to insert. In the case of one value, you can just put it there. If you are inserting more than one value, they must be enclosed in a tuple."
      ]
    },
    {
      "cell_type": "code",
      "metadata": {
        "id": "iqsoqy-DM4X6",
        "colab": {
          "base_uri": "https://localhost:8080/"
        },
        "outputId": "ab867c1b-a979-4ddc-ca1a-7d0c22bff540"
      },
      "source": [
        "print ('There are %s cats in my %s' % (13, 'apartment'))"
      ],
      "execution_count": 175,
      "outputs": [
        {
          "output_type": "stream",
          "text": [
            "There are 13 cats in my apartment\n"
          ],
          "name": "stdout"
        }
      ]
    },
    {
      "cell_type": "code",
      "metadata": {
        "colab": {
          "base_uri": "https://localhost:8080/"
        },
        "id": "OwWtq6AoVFR9",
        "outputId": "b6cece97-9930-4d3e-9706-7a510bf21593"
      },
      "source": [
        "edad = 25\n",
        "ciudad = 'Bogota'\n",
        "print ('tengo %d años y naci en %s'% (edad, ciudad))"
      ],
      "execution_count": 177,
      "outputs": [
        {
          "output_type": "stream",
          "text": [
            "tengo 25 años y naci en Bogota\n"
          ],
          "name": "stdout"
        }
      ]
    },
    {
      "cell_type": "markdown",
      "metadata": {
        "id": "Hi7DWVNLM4X6"
      },
      "source": [
        "In these examples, the `%s` indicates that Python should convert the values into strings. There are multiple conversion types that you can use to get more specific with the the formatting. See the string formatting [documentation](https://docs.python.org/2/library/stdtypes.html#string-formatting) for additional examples and more complete details on use."
      ]
    },
    {
      "cell_type": "markdown",
      "metadata": {
        "id": "dplIottEM4X6"
      },
      "source": [
        "## Logical Operators\n",
        "### Basic Logic\n",
        "\n",
        "Logical operators deal with `boolean` values, as we briefly covered before. If you recall, a `bool` takes on one of two values, `True` or `False` (or $1$ or $0$). The basic logical statements that we can make are defined using the built-in comparators. These are `==` (equal), `!=` (not equal), `<` (less than), `>` (greater than), `<=` (less than or equal to), and `>=` (greater than or equal to)."
      ]
    },
    {
      "cell_type": "code",
      "metadata": {
        "id": "ZO98Y9gOM4X6",
        "colab": {
          "base_uri": "https://localhost:8080/"
        },
        "outputId": "b69c45ff-26b3-4e03-a50e-c35474d722ae"
      },
      "source": [
        "print (5 == 5)"
      ],
      "execution_count": 178,
      "outputs": [
        {
          "output_type": "stream",
          "text": [
            "True\n"
          ],
          "name": "stdout"
        }
      ]
    },
    {
      "cell_type": "code",
      "metadata": {
        "colab": {
          "base_uri": "https://localhost:8080/"
        },
        "id": "EBJm9GQVVZ0P",
        "outputId": "b4df3004-3662-493c-d91c-aed858635ad5"
      },
      "source": [
        "print (2 == 20)"
      ],
      "execution_count": 179,
      "outputs": [
        {
          "output_type": "stream",
          "text": [
            "False\n"
          ],
          "name": "stdout"
        }
      ]
    },
    {
      "cell_type": "code",
      "metadata": {
        "id": "ETHR35GXM4X7",
        "colab": {
          "base_uri": "https://localhost:8080/"
        },
        "outputId": "eec30ede-10f0-44f6-9b03-07beac178710"
      },
      "source": [
        "print (5 > 5)"
      ],
      "execution_count": 181,
      "outputs": [
        {
          "output_type": "stream",
          "text": [
            "False\n"
          ],
          "name": "stdout"
        }
      ]
    },
    {
      "cell_type": "code",
      "metadata": {
        "colab": {
          "base_uri": "https://localhost:8080/"
        },
        "id": "4rzCT8IXVhA8",
        "outputId": "9509de07-337b-42d5-ffc8-ce22e836fc4b"
      },
      "source": [
        "print (1 < 10)"
      ],
      "execution_count": 182,
      "outputs": [
        {
          "output_type": "stream",
          "text": [
            "True\n"
          ],
          "name": "stdout"
        }
      ]
    },
    {
      "cell_type": "markdown",
      "metadata": {
        "id": "3vjtne-qM4X7"
      },
      "source": [
        "These comparators also work in conjunction with variables."
      ]
    },
    {
      "cell_type": "code",
      "metadata": {
        "id": "0qhhtmHtM4X7",
        "colab": {
          "base_uri": "https://localhost:8080/"
        },
        "outputId": "5435c35a-8d71-4d50-db2f-2c641ac8522f"
      },
      "source": [
        "m = 2\n",
        "n = 23\n",
        "print (m < n)"
      ],
      "execution_count": 183,
      "outputs": [
        {
          "output_type": "stream",
          "text": [
            "True\n"
          ],
          "name": "stdout"
        }
      ]
    },
    {
      "cell_type": "code",
      "metadata": {
        "colab": {
          "base_uri": "https://localhost:8080/"
        },
        "id": "itOqk-uCVv-W",
        "outputId": "68f30d21-fdfd-47b1-d1f1-9a18f37dafb6"
      },
      "source": [
        "a = 2\n",
        "b = 23\n",
        "print (2 == 23)"
      ],
      "execution_count": 184,
      "outputs": [
        {
          "output_type": "stream",
          "text": [
            "False\n"
          ],
          "name": "stdout"
        }
      ]
    },
    {
      "cell_type": "code",
      "metadata": {
        "colab": {
          "base_uri": "https://localhost:8080/"
        },
        "id": "uaf1BtmJV4qq",
        "outputId": "f163b53e-7ef6-4ca7-d5f3-543418d94cb6"
      },
      "source": [
        "a = 2\n",
        "b = 23\n",
        "print (2 < 23)"
      ],
      "execution_count": 185,
      "outputs": [
        {
          "output_type": "stream",
          "text": [
            "True\n"
          ],
          "name": "stdout"
        }
      ]
    },
    {
      "cell_type": "markdown",
      "metadata": {
        "id": "Ua4HA4vmM4X7"
      },
      "source": [
        "We can string these comparators together to make more complex logical statements using the logical operators `or`, `and`, and `not`. "
      ]
    },
    {
      "cell_type": "code",
      "metadata": {
        "id": "tcBRzNAlM4X7",
        "colab": {
          "base_uri": "https://localhost:8080/"
        },
        "outputId": "6ce66bed-0914-4305-d61f-a5332995627f"
      },
      "source": [
        "statement_1 = 10 > 2\n",
        "statement_2 = 4 <= 6\n",
        "print (\"Statement 1 truth value: {0}\".format(statement_1))\n",
        "print (\"Statement 2 truth value: {0}\".format(statement_2))\n",
        "print (\"Statement 1 and Statement 2: {0}\".format(statement_1 and statement_2))"
      ],
      "execution_count": 190,
      "outputs": [
        {
          "output_type": "stream",
          "text": [
            "Statement 1 truth value: True\n",
            "Statement 2 truth value: True\n",
            "Statement 1 and Statement 2: True\n"
          ],
          "name": "stdout"
        }
      ]
    },
    {
      "cell_type": "code",
      "metadata": {
        "colab": {
          "base_uri": "https://localhost:8080/"
        },
        "id": "kcgH80RDW8PU",
        "outputId": "f62762ac-c34e-4177-8cfa-9d152b674329"
      },
      "source": [
        "statement_1 = 8 > 2\n",
        "statement_2 = 5 < 5\n",
        "print (\"Statement 1 truth value: {0}\".format(statement_1))\n",
        "print (\"Statement 2 truth value: {0}\".format(statement_2))\n",
        "print (\"Statement 1 and Statement 2: {0}\".format(statement_1 or statement_2))"
      ],
      "execution_count": 191,
      "outputs": [
        {
          "output_type": "stream",
          "text": [
            "Statement 1 truth value: True\n",
            "Statement 2 truth value: False\n",
            "Statement 1 and Statement 2: True\n"
          ],
          "name": "stdout"
        }
      ]
    },
    {
      "cell_type": "markdown",
      "metadata": {
        "id": "VTqittXOM4X7"
      },
      "source": [
        "The `or` operator performs a logical `or` calculation. This is an inclusive `or`, so if either component paired together by `or` is `True`, the whole statement will be `True`. The `and` statement only outputs `True` if all components that are `and`ed together are True. Otherwise it will output `False`. The `not` statement simply inverts the truth value of whichever statement follows it. So a `True` statement will be evaluated as `False` when a `not` is placed in front of it. Similarly, a `False` statement will become `True` when a `not` is in front of it.\n",
        "\n",
        "Say that we have two logical statements, or assertions, $P$ and $Q$. The truth table for the basic logical operators is as follows:\n",
        "\n",
        "|  P  |  Q  | `not` P| P `and` Q | P `or` Q|\n",
        "|:-----:|:-----:|:---:|:---:|:---:|\n",
        "| `True` | `True` | `False` | `True` | `True` |\n",
        "| `False` | `True` | `True` | `False` | `True` |\n",
        "| `True` | `False` | `False` | `False` | `True` |\n",
        "| `False` | `False` | `True` | `False` | `False` |\n",
        "\n",
        "We can string multiple logical statements together using the logical operators."
      ]
    },
    {
      "cell_type": "code",
      "metadata": {
        "id": "dNa7R2lmM4X7",
        "colab": {
          "base_uri": "https://localhost:8080/"
        },
        "outputId": "5533e242-b0c3-4005-c5aa-d8c82b558b98"
      },
      "source": [
        "print (((2 < 3) and (3 > 0)) or ((5 > 6) and not (4 < 2)))"
      ],
      "execution_count": 201,
      "outputs": [
        {
          "output_type": "stream",
          "text": [
            "True\n"
          ],
          "name": "stdout"
        }
      ]
    },
    {
      "cell_type": "code",
      "metadata": {
        "colab": {
          "base_uri": "https://localhost:8080/"
        },
        "id": "ZNuv02ahX4OD",
        "outputId": "0f34e5ed-6af8-43cf-e781-74931780a2d6"
      },
      "source": [
        "print (((4 < 7) or not (3 > 5)) and (not (10 > 3) or (4 < 3)))"
      ],
      "execution_count": 202,
      "outputs": [
        {
          "output_type": "stream",
          "text": [
            "False\n"
          ],
          "name": "stdout"
        }
      ]
    },
    {
      "cell_type": "markdown",
      "metadata": {
        "id": "9n0tsuGvM4X8"
      },
      "source": [
        "Logical statements can be as simple or complex as we like, depending on what we need to express. Evaluating the above logical statement step by step we see that we are evaluating (`True and True`) `or` (`False and not False`). This becomes `True or (False and True`), subsequently becoming `True or False`, ultimately being evaluated as `True`."
      ]
    },
    {
      "cell_type": "markdown",
      "metadata": {
        "id": "7FtjSVbDM4X8"
      },
      "source": [
        "#### Truthiness\n",
        "\n",
        "Data types in Python have a fun characteristic called truthiness. What this means is that most built-in types will evaluate as either `True` or `False` when a boolean value is needed (such as with an if-statement). As a general rule, containers like strings, tuples, dictionaries, lists, and sets, will return `True` if they contain anything at all and `False` if they contain nothing."
      ]
    },
    {
      "cell_type": "code",
      "metadata": {
        "id": "hftt-nOYM4X8",
        "colab": {
          "base_uri": "https://localhost:8080/"
        },
        "outputId": "1cfc4500-b36a-48d5-cbdd-0d78a91ce6ed"
      },
      "source": [
        "# Similar to how float() and int() work, bool() forces a value to be considered a boolean!\n",
        "print (bool(''))"
      ],
      "execution_count": 203,
      "outputs": [
        {
          "output_type": "stream",
          "text": [
            "False\n"
          ],
          "name": "stdout"
        }
      ]
    },
    {
      "cell_type": "code",
      "metadata": {
        "colab": {
          "base_uri": "https://localhost:8080/"
        },
        "id": "Zlo0M_OyZoAl",
        "outputId": "93af2262-ca77-4476-f321-19ef90f30120"
      },
      "source": [
        "print (bool())"
      ],
      "execution_count": 208,
      "outputs": [
        {
          "output_type": "stream",
          "text": [
            "False\n"
          ],
          "name": "stdout"
        }
      ]
    },
    {
      "cell_type": "code",
      "metadata": {
        "id": "pTaEVFFFM4X8",
        "colab": {
          "base_uri": "https://localhost:8080/"
        },
        "outputId": "9b622774-b48c-4840-c15f-125a5be9821e"
      },
      "source": [
        "print (bool('I have character!'))"
      ],
      "execution_count": 204,
      "outputs": [
        {
          "output_type": "stream",
          "text": [
            "True\n"
          ],
          "name": "stdout"
        }
      ]
    },
    {
      "cell_type": "code",
      "metadata": {
        "colab": {
          "base_uri": "https://localhost:8080/"
        },
        "id": "IYKOOyyhZuO7",
        "outputId": "f693af95-c73c-4c31-c226-d20da17efcf4"
      },
      "source": [
        "print (bool(2))"
      ],
      "execution_count": 209,
      "outputs": [
        {
          "output_type": "stream",
          "text": [
            "True\n"
          ],
          "name": "stdout"
        }
      ]
    },
    {
      "cell_type": "code",
      "metadata": {
        "id": "1Urw6ArPM4X8",
        "colab": {
          "base_uri": "https://localhost:8080/"
        },
        "outputId": "99da29a0-076a-4a38-ddd4-4599d9a2dc5b"
      },
      "source": [
        "print (bool([]))"
      ],
      "execution_count": 206,
      "outputs": [
        {
          "output_type": "stream",
          "text": [
            "False\n"
          ],
          "name": "stdout"
        }
      ]
    },
    {
      "cell_type": "code",
      "metadata": {
        "colab": {
          "base_uri": "https://localhost:8080/"
        },
        "id": "WXuAuY_gZ2cU",
        "outputId": "e636057a-f10e-44ea-e0e1-7780f18f2f21"
      },
      "source": [
        "print (bool(['']))"
      ],
      "execution_count": 210,
      "outputs": [
        {
          "output_type": "stream",
          "text": [
            "True\n"
          ],
          "name": "stdout"
        }
      ]
    },
    {
      "cell_type": "code",
      "metadata": {
        "id": "Vw-BgxngM4X8",
        "colab": {
          "base_uri": "https://localhost:8080/"
        },
        "outputId": "b42f1b64-b0d8-46cb-e16f-5f8fe14353e4"
      },
      "source": [
        "print (bool([1, 2, 3]))"
      ],
      "execution_count": 207,
      "outputs": [
        {
          "output_type": "stream",
          "text": [
            "True\n"
          ],
          "name": "stdout"
        }
      ]
    },
    {
      "cell_type": "code",
      "metadata": {
        "colab": {
          "base_uri": "https://localhost:8080/"
        },
        "id": "znCXm9l3Z8o8",
        "outputId": "511ed192-2dd3-4ced-8c65-4b2256de9f38"
      },
      "source": [
        "print (bool([\"Hola\", \"Adios\", 5]))"
      ],
      "execution_count": 211,
      "outputs": [
        {
          "output_type": "stream",
          "text": [
            "True\n"
          ],
          "name": "stdout"
        }
      ]
    },
    {
      "cell_type": "markdown",
      "metadata": {
        "id": "BkGH82xxM4X9"
      },
      "source": [
        "And so on, for the other collections and containers. `None` also evaluates as `False`. The number `1` is equivalent to `True` and the number `0` is equivalent to `False` as well, in a boolean context."
      ]
    },
    {
      "cell_type": "markdown",
      "metadata": {
        "id": "tuK1DioGM4X9"
      },
      "source": [
        "### If-statements\n",
        "\n",
        "We can create segments of code that only execute if a set of conditions is met. We use if-statements in conjunction with logical statements in order to create branches in our code. \n",
        "\n",
        "An `if` block gets entered when the condition is considered to be `True`. If condition is evaluated as `False`, the `if` block will simply be skipped unless there is an `else` block to accompany it. Conditions are made using either logical operators or by using the truthiness of values in Python. An if-statement is defined with a colon and a block of indented text."
      ]
    },
    {
      "cell_type": "code",
      "metadata": {
        "id": "PwWuZFXNM4X9",
        "colab": {
          "base_uri": "https://localhost:8080/"
        },
        "outputId": "5bec3c72-6971-4ff0-d6c0-27492025e278"
      },
      "source": [
        "# This is the basic format of an if statement. This is a vacuous example. \n",
        "# The string \"Condition\" will always evaluated as True because it is a\n",
        "# non-empty string. he purpose of this code is to show the formatting of\n",
        "# an if-statement.\n",
        "if \"Condition\": \n",
        "    # This block of code will execute because the string is non-empty\n",
        "    # Everything on these indented lines\n",
        "    print (True)\n",
        "else:\n",
        "    # So if the condition that we examined with if is in fact False\n",
        "    # This block of code will execute INSTEAD of the first block of code\n",
        "    # Everything on these indented lines\n",
        "    print (False)\n",
        "# The else block here will never execute because \"Condition\" is a non-empty string."
      ],
      "execution_count": 217,
      "outputs": [
        {
          "output_type": "stream",
          "text": [
            "True\n"
          ],
          "name": "stdout"
        }
      ]
    },
    {
      "cell_type": "code",
      "metadata": {
        "colab": {
          "base_uri": "https://localhost:8080/"
        },
        "id": "YOI5yUX4aafP",
        "outputId": "72154956-97ea-4017-eeab-bd2696a9f50c"
      },
      "source": [
        "hola = 1 #Si es 0 imprime False\n",
        "if hola :\n",
        "  print(True)\n",
        "else:\n",
        "  print(False)"
      ],
      "execution_count": 221,
      "outputs": [
        {
          "output_type": "stream",
          "text": [
            "True\n"
          ],
          "name": "stdout"
        }
      ]
    },
    {
      "cell_type": "code",
      "metadata": {
        "id": "dfwRYQ8pM4X9"
      },
      "source": [
        "i = 4\n",
        "if i == 5:\n",
        "    print ('The variable i has a value of 5')"
      ],
      "execution_count": 214,
      "outputs": []
    },
    {
      "cell_type": "code",
      "metadata": {
        "colab": {
          "base_uri": "https://localhost:8080/"
        },
        "id": "68izFFfZa8M3",
        "outputId": "c60f478c-1552-4cd8-c447-3c32a508ef58"
      },
      "source": [
        "num = 18\n",
        "if num == 18:\n",
        "    print ('Eres mayor de edad oficialmente')"
      ],
      "execution_count": 224,
      "outputs": [
        {
          "output_type": "stream",
          "text": [
            "Eres mayor de edad oficialmente\n"
          ],
          "name": "stdout"
        }
      ]
    },
    {
      "cell_type": "markdown",
      "metadata": {
        "id": "FgUPZkVbM4X9"
      },
      "source": [
        "Because in this example `i = 4` and the if-statement is only looking for whether `i` is equal to `5`, the print statement will never be executed. We can add in an `else` statement to create a contingency block of code in case the condition in the if-statement is not evaluated as `True`."
      ]
    },
    {
      "cell_type": "code",
      "metadata": {
        "id": "khhqdyAOM4X9"
      },
      "source": [
        "i = 4\n",
        "if i == 5:\n",
        "    print \"All lines in this indented block are part of this block\"\n",
        "    print 'The variable i has a value of 5'\n",
        "else:\n",
        "    print \"All lines in this indented block are part of this block\"\n",
        "    print 'The variable i is not equal to 5'"
      ],
      "execution_count": null,
      "outputs": []
    },
    {
      "cell_type": "code",
      "metadata": {
        "colab": {
          "base_uri": "https://localhost:8080/"
        },
        "id": "NYC6WMXnbW30",
        "outputId": "35df73f6-f40e-4ec6-da26-65d38bb8f1bb"
      },
      "source": [
        "num = 3.1\n",
        "if num == 3.14:\n",
        "    print (\"El número es phi\")\n",
        "else:\n",
        "    print (\"El número no es phi\")"
      ],
      "execution_count": 225,
      "outputs": [
        {
          "output_type": "stream",
          "text": [
            "El número no es phi\n"
          ],
          "name": "stdout"
        }
      ]
    },
    {
      "cell_type": "markdown",
      "metadata": {
        "id": "WNKbP_u-M4X-"
      },
      "source": [
        "We can implement other branches off of the same if-statement by using `elif`, an abbreviation of \"else if\". We can include as many `elifs` as we like until we have exhausted all the logical branches of a condition."
      ]
    },
    {
      "cell_type": "code",
      "metadata": {
        "id": "oC1GhVimM4X-"
      },
      "source": [
        "i = 1\n",
        "if i == 1:\n",
        "    print 'The variable i has a value of 1'\n",
        "elif i == 2:\n",
        "    print 'The variable i has a value of 2'\n",
        "elif i == 3:\n",
        "    print 'The variable i has a value of 3'\n",
        "else:\n",
        "    print \"I don't care what i is\""
      ],
      "execution_count": null,
      "outputs": []
    },
    {
      "cell_type": "code",
      "metadata": {
        "colab": {
          "base_uri": "https://localhost:8080/"
        },
        "id": "5hYNdUZLcZI-",
        "outputId": "f2cb515e-8ae1-4e0b-c9c0-d39189580499"
      },
      "source": [
        "grupo_sanguineo = \"A+\"\n",
        "if grupo_sanguineo == \"O+\":\n",
        "    print ('Puede donar a A+, B+, AB+, O+ y recibir donaciones de O+ O-')\n",
        "elif grupo_sanguineo == \"O-\":\n",
        "    print ('Puede donar a A+, B+, AB+, O+, A-, B-, AB-, O- y recibir donaciones de O-')\n",
        "elif grupo_sanguineo == \"AB+\":\n",
        "    print ('Puede donar a AB+ y recibir donaciones de A+, B+, AB+, O+, A-, B-, AB-, O-')\n",
        "elif grupo_sanguineo == \"AB-\":\n",
        "    print ('Puede donar a AB+, AB- y recibir donaciones de A-, B-, AB-, O-')\n",
        "elif grupo_sanguineo == \"B+\":\n",
        "    print ('Puede donar a B+, AB+ y recibir donaciones de B-, B+, O+, O-')\n",
        "elif grupo_sanguineo == \"B-\":\n",
        "    print ('Puede donar a B+, AB+, B-, AB- y recibir donaciones de O-, B-')\n",
        "elif grupo_sanguineo == \"A-\":\n",
        "    print ('Puede donar a A+, AB+, A-, AB- y recibir donaciones de O-, A-')\n",
        "else:\n",
        "    print ('Puede donar a A+, AB+ y recibir donaciones de O-, O+, A+, A-')    "
      ],
      "execution_count": 229,
      "outputs": [
        {
          "output_type": "stream",
          "text": [
            "Puede donar a A+, AB+ y recibir donaciones de O-, O+, A+, A-\n"
          ],
          "name": "stdout"
        }
      ]
    },
    {
      "cell_type": "markdown",
      "metadata": {
        "id": "5-A8snxFM4X-"
      },
      "source": [
        "You can also nest if-statements within if-statements to check for further conditions."
      ]
    },
    {
      "cell_type": "code",
      "metadata": {
        "id": "NqPMrSt7M4X-"
      },
      "source": [
        "i = 10\n",
        "if i % 2 == 0:\n",
        "    if i % 3 == 0:\n",
        "        print 'i is divisible by both 2 and 3! Wow!'\n",
        "    elif i % 5 == 0:\n",
        "        print 'i is divisible by both 2 and 5! Wow!'\n",
        "    else:\n",
        "        print 'i is divisible by 2, but not 3 or 5. Meh.'\n",
        "else:\n",
        "    print 'I guess that i is an odd number. Boring.'"
      ],
      "execution_count": null,
      "outputs": []
    },
    {
      "cell_type": "code",
      "metadata": {
        "colab": {
          "base_uri": "https://localhost:8080/"
        },
        "id": "Dqf3Giwrf980",
        "outputId": "c2000fbf-844a-46d8-cf13-d4b72bbd1688"
      },
      "source": [
        "i = 10\n",
        "if i % 2 == 0:\n",
        "    print(\"Es un número par\")\n",
        "    if i % 5 == 0:\n",
        "        print (\"Termina en 0\")\n",
        "    else:\n",
        "        print(\"Puede terminar en 0, 2, 4, 6, 8\")\n",
        "else:\n",
        "    print (\"No es un número par\")"
      ],
      "execution_count": 230,
      "outputs": [
        {
          "output_type": "stream",
          "text": [
            "Es un número par\n",
            "Termina en 0\n"
          ],
          "name": "stdout"
        }
      ]
    },
    {
      "cell_type": "markdown",
      "metadata": {
        "id": "tyKzGVn1M4X-"
      },
      "source": [
        "Remember that we can group multiple conditions together by using the logical operators!"
      ]
    },
    {
      "cell_type": "code",
      "metadata": {
        "id": "2QrHUPapM4X_",
        "colab": {
          "base_uri": "https://localhost:8080/"
        },
        "outputId": "c18bf20f-eecd-473c-9f82-01f7cdb89dea"
      },
      "source": [
        "i = 5\n",
        "j = 12\n",
        "if i < 10 and j > 11:\n",
        "    print ('{0} is less than 10 and {1} is greater than 11! How novel and interesting!'.format(i, j))"
      ],
      "execution_count": 231,
      "outputs": [
        {
          "output_type": "stream",
          "text": [
            "5 is less than 10 and 12 is greater than 11! How novel and interesting!\n"
          ],
          "name": "stdout"
        }
      ]
    },
    {
      "cell_type": "code",
      "metadata": {
        "colab": {
          "base_uri": "https://localhost:8080/"
        },
        "id": "9Z0OWQZris-k",
        "outputId": "f3385faa-21ca-418c-c70a-37f08bd818af"
      },
      "source": [
        "i = 4\n",
        "j = 35\n",
        "if i < 8 and j > 8:\n",
        "    print ('{0} esta primero 8 y {1} esta despues de 8'.format(i, j))"
      ],
      "execution_count": 232,
      "outputs": [
        {
          "output_type": "stream",
          "text": [
            "4 esta primero 8 y 35 esta despues de 8\n"
          ],
          "name": "stdout"
        }
      ]
    },
    {
      "cell_type": "markdown",
      "metadata": {
        "id": "8uenczr1M4X_"
      },
      "source": [
        "You can use the logical comparators to compare strings!"
      ]
    },
    {
      "cell_type": "code",
      "metadata": {
        "id": "hLo8GRl-M4X_",
        "colab": {
          "base_uri": "https://localhost:8080/"
        },
        "outputId": "6474470d-09fd-48ef-99b6-1b3b9e621c9a"
      },
      "source": [
        "my_string = \"Carthago delenda est\"\n",
        "if my_string == \"Carthago delenda est\":\n",
        "    print ('And so it was! For the glory of Rome!')\n",
        "else:\n",
        "    print ('War elephants are TERRIFYING. I am staying home.')"
      ],
      "execution_count": 234,
      "outputs": [
        {
          "output_type": "stream",
          "text": [
            "And so it was! For the glory of Rome!\n"
          ],
          "name": "stdout"
        }
      ]
    },
    {
      "cell_type": "code",
      "metadata": {
        "colab": {
          "base_uri": "https://localhost:8080/"
        },
        "id": "dfUkisLsjYGm",
        "outputId": "e5b62e5c-4980-4bc6-be65-65e6e165f761"
      },
      "source": [
        "momento_dia = \"Mañana\"\n",
        "if momento_dia == \"Mañana\":\n",
        "    print (\"Buenos días\")\n",
        "elif momento_dia == \"Tarde\":\n",
        "    print (\"Buenas tardes\")\n",
        "else:\n",
        "    print (\"Buenos noches\")"
      ],
      "execution_count": 241,
      "outputs": [
        {
          "output_type": "stream",
          "text": [
            "Buenos días\n"
          ],
          "name": "stdout"
        }
      ]
    },
    {
      "cell_type": "markdown",
      "metadata": {
        "id": "T3_IFQd3M4X_"
      },
      "source": [
        "As with other data types, `==` will check for whether the two things on either side of it have the same value. In this case, we compare whether the value of the strings are the same. Using `>` or `<` or any of the other comparators is not quite so intuitive, however, so we will stay from using comparators with strings in this lecture. Comparators will examine the [lexicographical order](https://en.wikipedia.org/wiki/Lexicographical_order) of the strings, which might be a bit more in-depth than you might like."
      ]
    },
    {
      "cell_type": "markdown",
      "metadata": {
        "id": "rqnBMDWKM4YA"
      },
      "source": [
        "Some built-in functions return a boolean value, so they can be used as conditions in an if-statement. User-defined functions can also be constructed so that they return a boolean value. This will be covered later with function definition!\n",
        "\n",
        "The `in` keyword is generally used to check membership of a value within another value. We can check memebership in the context of an if-statement and use it to output a truth value."
      ]
    },
    {
      "cell_type": "code",
      "metadata": {
        "id": "_WWon9LdM4YA",
        "colab": {
          "base_uri": "https://localhost:8080/"
        },
        "outputId": "47c2fb57-37a0-4e83-8871-a03c91e30f5a"
      },
      "source": [
        "if 'a' in my_string or 'e' in my_string:\n",
        "    print ('Those are my favorite vowels!')"
      ],
      "execution_count": 238,
      "outputs": [
        {
          "output_type": "stream",
          "text": [
            "Those are my favorite vowels!\n"
          ],
          "name": "stdout"
        }
      ]
    },
    {
      "cell_type": "code",
      "metadata": {
        "colab": {
          "base_uri": "https://localhost:8080/"
        },
        "id": "0UFI7F_skUIv",
        "outputId": "bb0f7d4c-8d6d-44d5-8c12-58f95901d8ce"
      },
      "source": [
        "if 'a' in momento_dia and 'M' in momento_dia:\n",
        "    print ('Aún no es medio día')"
      ],
      "execution_count": 243,
      "outputs": [
        {
          "output_type": "stream",
          "text": [
            "Aún no es medio día\n"
          ],
          "name": "stdout"
        }
      ]
    },
    {
      "cell_type": "markdown",
      "metadata": {
        "id": "r1p9pkRTM4YA"
      },
      "source": [
        "Here we use `in` to check whether the variable `my_string` contains any particular letters. We will later use `in` to iterate through lists!"
      ]
    },
    {
      "cell_type": "markdown",
      "metadata": {
        "id": "hwR7lDxIM4YA"
      },
      "source": [
        "## Loop Structures\n",
        "\n",
        "Loop structures are one of the most important parts of programming. The `for` loop and the `while` loop provide a way to repeatedly run a block of code repeatedly. A `while` loop will iterate until a certain condition has been met. If at any point after an iteration that condition is no longer satisfied, the loop terminates. A `for` loop will iterate over a sequence of values and terminate when the sequence has ended. You can instead include conditions within the `for` loop to decide whether it should terminate early or you could simply let it run its course."
      ]
    },
    {
      "cell_type": "code",
      "metadata": {
        "id": "02O3YlThM4YA"
      },
      "source": [
        "i = 5\n",
        "while i > 0: # We can write this as 'while i:' because 0 is False!\n",
        "    i -= 1\n",
        "    print 'I am looping! {0} more to go!'.format(i)"
      ],
      "execution_count": null,
      "outputs": []
    },
    {
      "cell_type": "code",
      "metadata": {
        "colab": {
          "base_uri": "https://localhost:8080/"
        },
        "id": "1MOJ-ByllDl2",
        "outputId": "9604276e-ecea-46d3-9213-24c2b6036978"
      },
      "source": [
        "min = 15\n",
        "while min > 0:\n",
        "    min -= 1\n",
        "    print ('Faltan {0} minutos para terminar el examern!'.format(min))\n",
        "print(\"Hay que entregar el examen!\")"
      ],
      "execution_count": 246,
      "outputs": [
        {
          "output_type": "stream",
          "text": [
            "Faltan 14 minutos para terminar el examern!\n",
            "Faltan 13 minutos para terminar el examern!\n",
            "Faltan 12 minutos para terminar el examern!\n",
            "Faltan 11 minutos para terminar el examern!\n",
            "Faltan 10 minutos para terminar el examern!\n",
            "Faltan 9 minutos para terminar el examern!\n",
            "Faltan 8 minutos para terminar el examern!\n",
            "Faltan 7 minutos para terminar el examern!\n",
            "Faltan 6 minutos para terminar el examern!\n",
            "Faltan 5 minutos para terminar el examern!\n",
            "Faltan 4 minutos para terminar el examern!\n",
            "Faltan 3 minutos para terminar el examern!\n",
            "Faltan 2 minutos para terminar el examern!\n",
            "Faltan 1 minutos para terminar el examern!\n",
            "Faltan 0 minutos para terminar el examern!\n",
            "Hay que entregar el examen!\n"
          ],
          "name": "stdout"
        }
      ]
    },
    {
      "cell_type": "markdown",
      "metadata": {
        "id": "c8r3z11hM4YA"
      },
      "source": [
        "\n",
        "With `while` loops we need to make sure that something actually changes from iteration to iteration so that that the loop actually terminates. In this case, we use the shorthand `i -= 1` (short for `i = i - 1`) so that the value of `i` gets smaller with each iteration. Eventually `i` will be reduced to `0`, rendering the condition `False` and exiting the loop."
      ]
    },
    {
      "cell_type": "markdown",
      "metadata": {
        "id": "RNeJL3_UM4YA"
      },
      "source": [
        "A `for` loop iterates a set number of times, determined when you state the entry into the loop. In this case we are iterating over the list returned from `range()`. The `for` loop selects a value from the list, in order, and temporarily assigns the value of `i` to it so that operations can be performed with the value."
      ]
    },
    {
      "cell_type": "code",
      "metadata": {
        "id": "bmEp8hhSM4YB",
        "colab": {
          "base_uri": "https://localhost:8080/"
        },
        "outputId": "0df6cfc4-4d21-4426-f922-b59f7fefe051"
      },
      "source": [
        "for i in range(5):\n",
        "    print ('I am looping! I have looped {0} times!'.format(i + 1))"
      ],
      "execution_count": 247,
      "outputs": [
        {
          "output_type": "stream",
          "text": [
            "I am looping! I have looped 1 times!\n",
            "I am looping! I have looped 2 times!\n",
            "I am looping! I have looped 3 times!\n",
            "I am looping! I have looped 4 times!\n",
            "I am looping! I have looped 5 times!\n"
          ],
          "name": "stdout"
        }
      ]
    },
    {
      "cell_type": "code",
      "metadata": {
        "colab": {
          "base_uri": "https://localhost:8080/"
        },
        "id": "Na8zU-J4mwoK",
        "outputId": "0e49f1ec-7e18-418d-b214-bbb5aa0785f5"
      },
      "source": [
        "numero = 2\n",
        "print(\"Table del \", numero)\n",
        "for i in range(10):\n",
        "    print ('{0} x {1} = {2}'.format(numero,i + 1, numero*(i+1)))"
      ],
      "execution_count": 250,
      "outputs": [
        {
          "output_type": "stream",
          "text": [
            "Table del  2\n",
            "2 x 1 = 2\n",
            "2 x 2 = 4\n",
            "2 x 3 = 6\n",
            "2 x 4 = 8\n",
            "2 x 5 = 10\n",
            "2 x 6 = 12\n",
            "2 x 7 = 14\n",
            "2 x 8 = 16\n",
            "2 x 9 = 18\n",
            "2 x 10 = 20\n"
          ],
          "name": "stdout"
        }
      ]
    },
    {
      "cell_type": "markdown",
      "metadata": {
        "id": "KbagQDsdM4YB"
      },
      "source": [
        "Note that in this `for` loop we use the `in` keyword. Use of the `in` keyword is not limited to checking for membership as in the if-statement example. You can iterate over any collection with a `for` loop by using the `in` keyword.\n",
        "\n",
        "In this next example, we will iterate over a `set` because we want to check for containment and add to a new set."
      ]
    },
    {
      "cell_type": "code",
      "metadata": {
        "id": "XCLL2LKWM4YB",
        "colab": {
          "base_uri": "https://localhost:8080/"
        },
        "outputId": "a8858671-056b-4a64-9a25-bcdb22754fa6"
      },
      "source": [
        "my_list = {'cats', 'dogs', 'lizards', 'cows', 'bats', 'sponges', 'humans'} # Lists all the animals in the world\n",
        "mammal_list = {'cats', 'dogs', 'cows', 'bats', 'humans'} # Lists all the mammals in the world\n",
        "my_new_list = set()\n",
        "for animal in my_list:\n",
        "    if animal in mammal_list:\n",
        "        # This adds any animal that is both in my_list and mammal_list to my_new_list\n",
        "        my_new_list.add(animal)\n",
        "        \n",
        "print (my_new_list)"
      ],
      "execution_count": 252,
      "outputs": [
        {
          "output_type": "stream",
          "text": [
            "{'cats', 'humans', 'cows', 'bats', 'dogs'}\n"
          ],
          "name": "stdout"
        }
      ]
    },
    {
      "cell_type": "code",
      "metadata": {
        "colab": {
          "base_uri": "https://localhost:8080/"
        },
        "id": "Lzp7PZtcn4jf",
        "outputId": "e64caa1f-df8b-4b50-a618-4b6c97240beb"
      },
      "source": [
        "numeros = {2,22,13,45,4,50,37,68,6,34,11,8,85,0,39,63,78,23}\n",
        "digitos = {0,1,2,3,4,5,6,7,8,9}\n",
        "numeros_pares = set()\n",
        "for num in numeros:\n",
        "    if num in digitos:\n",
        "        numeros_pares.add(num)        \n",
        "print (\"Si algun número termina en alguno de los siguientes digitos es par:\",numeros_pares)"
      ],
      "execution_count": 254,
      "outputs": [
        {
          "output_type": "stream",
          "text": [
            "Si algun número termina en alguno de los siguientes digitos es par: {0, 2, 4, 6, 8}\n"
          ],
          "name": "stdout"
        }
      ]
    },
    {
      "cell_type": "markdown",
      "metadata": {
        "id": "V_L03z_ZM4YB"
      },
      "source": [
        "There are two statements that are very helpful in dealing with both `for` and `while` loops. These are `break` and `continue`. If `break` is encountered at any point while a loop is executing, the loop will immediately end."
      ]
    },
    {
      "cell_type": "code",
      "metadata": {
        "id": "pNCBNaw5M4YB",
        "colab": {
          "base_uri": "https://localhost:8080/"
        },
        "outputId": "d5c19d0e-e06f-4918-a08f-a4e5806d0f59"
      },
      "source": [
        "i = 10\n",
        "while True:\n",
        "    if i == 14:\n",
        "        break\n",
        "    i += 1 # This is shorthand for i = i + 1. It increments i with each iteration.\n",
        "    print (i)"
      ],
      "execution_count": 255,
      "outputs": [
        {
          "output_type": "stream",
          "text": [
            "11\n",
            "12\n",
            "13\n",
            "14\n"
          ],
          "name": "stdout"
        }
      ]
    },
    {
      "cell_type": "code",
      "metadata": {
        "colab": {
          "base_uri": "https://localhost:8080/"
        },
        "id": "bLnpnfXrpZ1I",
        "outputId": "ebb4ffce-9b8f-4283-950e-df1dde1ca604"
      },
      "source": [
        "cestas = 0\n",
        "while True:\n",
        "    if cestas == 3:\n",
        "        print(\"Grita VENENO\")\n",
        "        break\n",
        "    cestas += 1 \n",
        "    print (cestas)"
      ],
      "execution_count": 260,
      "outputs": [
        {
          "output_type": "stream",
          "text": [
            "1\n",
            "2\n",
            "3\n",
            "Grita VENENO\n"
          ],
          "name": "stdout"
        }
      ]
    },
    {
      "cell_type": "code",
      "metadata": {
        "id": "zrjdljryM4YB",
        "colab": {
          "base_uri": "https://localhost:8080/"
        },
        "outputId": "20414dc0-0a2b-45ca-c0f1-c26d394277f7"
      },
      "source": [
        "for i in range(5):\n",
        "    if i == 2:\n",
        "        break\n",
        "    print (i)"
      ],
      "execution_count": 261,
      "outputs": [
        {
          "output_type": "stream",
          "text": [
            "0\n",
            "1\n"
          ],
          "name": "stdout"
        }
      ]
    },
    {
      "cell_type": "code",
      "metadata": {
        "colab": {
          "base_uri": "https://localhost:8080/"
        },
        "id": "rR-di9KvqXOX",
        "outputId": "5e8c90c3-406e-4ecb-c4ea-44cdf779ecc8"
      },
      "source": [
        "for i in range(1,10):\n",
        "    if i%2 == 0 and i%3 == 0:\n",
        "        print(\"{0} Es el primer numero par divisible por 3 de la secuencia de numeros\".format(i))\n",
        "        break"
      ],
      "execution_count": 264,
      "outputs": [
        {
          "output_type": "stream",
          "text": [
            "6 Es el primer numero par divisible por 3 de la secuencia de numeros\n"
          ],
          "name": "stdout"
        }
      ]
    },
    {
      "cell_type": "markdown",
      "metadata": {
        "id": "z_HjLLR1M4YC"
      },
      "source": [
        "The `continue` statement will tell the loop to immediately end this iteration and continue onto the next iteration of the loop."
      ]
    },
    {
      "cell_type": "code",
      "metadata": {
        "id": "If-0yaTBM4YC",
        "colab": {
          "base_uri": "https://localhost:8080/"
        },
        "outputId": "919622ef-603b-47d0-ebf0-ea5e7d3cf16e"
      },
      "source": [
        "i = 0\n",
        "while i < 5:\n",
        "    i += 1\n",
        "    if i == 3:\n",
        "        continue\n",
        "    print (i)"
      ],
      "execution_count": 265,
      "outputs": [
        {
          "output_type": "stream",
          "text": [
            "1\n",
            "2\n",
            "4\n",
            "5\n"
          ],
          "name": "stdout"
        }
      ]
    },
    {
      "cell_type": "code",
      "metadata": {
        "colab": {
          "base_uri": "https://localhost:8080/"
        },
        "id": "f-ICLJAnrkeg",
        "outputId": "59216ff2-8a23-4b49-ec17-2367481d855b"
      },
      "source": [
        "i = 0\n",
        "while i < 30:\n",
        "    i += 1\n",
        "    if i%2 != 0:\n",
        "        continue\n",
        "    print (i)"
      ],
      "execution_count": 266,
      "outputs": [
        {
          "output_type": "stream",
          "text": [
            "2\n",
            "4\n",
            "6\n",
            "8\n",
            "10\n",
            "12\n",
            "14\n",
            "16\n",
            "18\n",
            "20\n",
            "22\n",
            "24\n",
            "26\n",
            "28\n",
            "30\n"
          ],
          "name": "stdout"
        }
      ]
    },
    {
      "cell_type": "markdown",
      "metadata": {
        "id": "IsAmDdtpM4YC"
      },
      "source": [
        "This loop skips printing the number $3$ because of the `continue` statement that executes when we enter the if-statement. The code never sees the command to print the number $3$ because it has already moved to the next iteration. The `break` and `continue` statements are further tools to help you control the flow of your loops and, as a result, your code."
      ]
    },
    {
      "cell_type": "markdown",
      "metadata": {
        "id": "9fjvNqJgM4YC"
      },
      "source": [
        "The variable that we use to iterate over a loop will retain its value when the loop exits. Similarly, any variables defined within the context of the loop will continue to exist outside of it."
      ]
    },
    {
      "cell_type": "code",
      "metadata": {
        "id": "_gkxko0vM4YC",
        "colab": {
          "base_uri": "https://localhost:8080/"
        },
        "outputId": "616e8df4-4271-4d77-fe59-7968aa4f77f1"
      },
      "source": [
        "for i in range(5):\n",
        "    loop_string = 'I transcend the loop!'\n",
        "    print ('I am eternal! I am {0} and I exist everywhere!'.format(i))\n",
        "\n",
        "print ('I persist! My value is {0}'.format(i))\n",
        "print (loop_string)"
      ],
      "execution_count": 268,
      "outputs": [
        {
          "output_type": "stream",
          "text": [
            "I am eternal! I am 0 and I exist everywhere!\n",
            "I am eternal! I am 1 and I exist everywhere!\n",
            "I am eternal! I am 2 and I exist everywhere!\n",
            "I am eternal! I am 3 and I exist everywhere!\n",
            "I am eternal! I am 4 and I exist everywhere!\n",
            "I persist! My value is 4\n",
            "I transcend the loop!\n"
          ],
          "name": "stdout"
        }
      ]
    },
    {
      "cell_type": "code",
      "metadata": {
        "colab": {
          "base_uri": "https://localhost:8080/"
        },
        "id": "FWprk_CHsHeS",
        "outputId": "250ccb26-f680-4500-8398-759a25bf2d5d"
      },
      "source": [
        "palabra = \"Celula\"\n",
        "for i in range(len(palabra)):\n",
        "    if palabra[i] == \"a\"or palabra[i] == \"A\": \n",
        "      break\n",
        "print (\"la primera a esta en la posición {0}\".format(i+1))"
      ],
      "execution_count": 283,
      "outputs": [
        {
          "output_type": "stream",
          "text": [
            "la primera a esta en la posición 6\n"
          ],
          "name": "stdout"
        }
      ]
    },
    {
      "cell_type": "markdown",
      "metadata": {
        "id": "Us-Tx6EZM4YD"
      },
      "source": [
        "We can also iterate over a dictionary!"
      ]
    },
    {
      "cell_type": "code",
      "metadata": {
        "id": "TdNf4k7vM4YD"
      },
      "source": [
        "my_dict = {'firstname' : 'Inigo', 'lastname' : 'Montoya', 'nemesis' : 'Rugen'}"
      ],
      "execution_count": 284,
      "outputs": []
    },
    {
      "cell_type": "code",
      "metadata": {
        "id": "numc1P0Lw-t2"
      },
      "source": [
        "persona = {'Nombre': 'Pepito', 'Apellido': 'Perez', 'Edad': 18}"
      ],
      "execution_count": 286,
      "outputs": []
    },
    {
      "cell_type": "code",
      "metadata": {
        "id": "5wXX860KM4YD",
        "colab": {
          "base_uri": "https://localhost:8080/"
        },
        "outputId": "7de30623-ad9d-4d61-dc52-fd016aea3b00"
      },
      "source": [
        "for key in my_dict:\n",
        "    print (key)"
      ],
      "execution_count": 285,
      "outputs": [
        {
          "output_type": "stream",
          "text": [
            "firstname\n",
            "lastname\n",
            "nemesis\n"
          ],
          "name": "stdout"
        }
      ]
    },
    {
      "cell_type": "code",
      "metadata": {
        "colab": {
          "base_uri": "https://localhost:8080/"
        },
        "id": "JihP4eTZxQrw",
        "outputId": "336ac228-66b5-4fba-eeab-e1411885d788"
      },
      "source": [
        "for key in persona:\n",
        "    print (key)"
      ],
      "execution_count": 289,
      "outputs": [
        {
          "output_type": "stream",
          "text": [
            "Nombre\n",
            "Apellido\n",
            "Edad\n"
          ],
          "name": "stdout"
        }
      ]
    },
    {
      "cell_type": "markdown",
      "metadata": {
        "id": "MK_UEMjBM4YE"
      },
      "source": [
        "If we just iterate over a dictionary without doing anything else, we will only get the keys. We can either use the keys to get the values, like so:"
      ]
    },
    {
      "cell_type": "code",
      "metadata": {
        "id": "odIjPsBJM4YE",
        "colab": {
          "base_uri": "https://localhost:8080/"
        },
        "outputId": "a81a78e0-6a5e-4805-a506-b6421cdbd447"
      },
      "source": [
        "for key in my_dict:\n",
        "    print (my_dict[key])"
      ],
      "execution_count": 290,
      "outputs": [
        {
          "output_type": "stream",
          "text": [
            "Inigo\n",
            "Montoya\n",
            "Rugen\n"
          ],
          "name": "stdout"
        }
      ]
    },
    {
      "cell_type": "code",
      "metadata": {
        "colab": {
          "base_uri": "https://localhost:8080/"
        },
        "id": "5fvyWjOmxeLI",
        "outputId": "8613b8c5-b676-4e5e-f7b7-5ad4f265f25f"
      },
      "source": [
        "for key in persona:\n",
        "    print (persona[key])"
      ],
      "execution_count": 291,
      "outputs": [
        {
          "output_type": "stream",
          "text": [
            "Pepito\n",
            "Perez\n",
            "18\n"
          ],
          "name": "stdout"
        }
      ]
    },
    {
      "cell_type": "markdown",
      "metadata": {
        "id": "wCP4DZC7M4YE"
      },
      "source": [
        "Or we can use the `items()` function to get both key and value at the same time."
      ]
    },
    {
      "cell_type": "code",
      "metadata": {
        "id": "lm7orUgLM4YE",
        "colab": {
          "base_uri": "https://localhost:8080/"
        },
        "outputId": "54207d99-3057-4ae2-ff3a-1b0dc3d6ea5e"
      },
      "source": [
        "for key, value in my_dict.items():\n",
        "    print (key, ':', value)"
      ],
      "execution_count": 292,
      "outputs": [
        {
          "output_type": "stream",
          "text": [
            "firstname : Inigo\n",
            "lastname : Montoya\n",
            "nemesis : Rugen\n"
          ],
          "name": "stdout"
        }
      ]
    },
    {
      "cell_type": "code",
      "metadata": {
        "colab": {
          "base_uri": "https://localhost:8080/"
        },
        "id": "b-9zlQftxoHB",
        "outputId": "20752647-6721-4f7e-d144-78e548d793a6"
      },
      "source": [
        "for key, value in persona.items():\n",
        "    print (key, ':', value)"
      ],
      "execution_count": 293,
      "outputs": [
        {
          "output_type": "stream",
          "text": [
            "Nombre : Pepito\n",
            "Apellido : Perez\n",
            "Edad : 18\n"
          ],
          "name": "stdout"
        }
      ]
    },
    {
      "cell_type": "markdown",
      "metadata": {
        "id": "_AlljihZM4YE"
      },
      "source": [
        "The `items()` function creates a tuple of each key-value pair and the for loop unpacks that tuple into `key, value` on each separate execution of the loop!"
      ]
    },
    {
      "cell_type": "markdown",
      "metadata": {
        "id": "0E5sUrTbM4YF"
      },
      "source": [
        "## Functions\n",
        "\n",
        "A function is a reusable block of code that you can call repeatedly to make calculations, output data, or really do anything that you want. This is one of the key aspects of using a programming language. To add to the built-in functions in Python, you can define your own!"
      ]
    },
    {
      "cell_type": "code",
      "metadata": {
        "id": "RzO4JGiHM4YF",
        "colab": {
          "base_uri": "https://localhost:8080/"
        },
        "outputId": "feb45518-8c61-4058-e737-487f1c294160"
      },
      "source": [
        "def hello_world():\n",
        "    \"\"\" Prints Hello, world! \"\"\"\n",
        "    print ('Hello, world!')\n",
        "\n",
        "hello_world()"
      ],
      "execution_count": 294,
      "outputs": [
        {
          "output_type": "stream",
          "text": [
            "Hello, world!\n"
          ],
          "name": "stdout"
        }
      ]
    },
    {
      "cell_type": "code",
      "metadata": {
        "colab": {
          "base_uri": "https://localhost:8080/"
        },
        "id": "BloWEvshxyEB",
        "outputId": "2fb23e63-6b8b-410b-c7ee-aa14de4450f0"
      },
      "source": [
        "def presentarse():\n",
        "    print ('Hola soy Pepito')\n",
        "\n",
        "presentarse()"
      ],
      "execution_count": 296,
      "outputs": [
        {
          "output_type": "stream",
          "text": [
            "Hola soy Pepito\n"
          ],
          "name": "stdout"
        }
      ]
    },
    {
      "cell_type": "code",
      "metadata": {
        "id": "CdleQy5vM4YF",
        "colab": {
          "base_uri": "https://localhost:8080/"
        },
        "outputId": "ce3899a5-f0bf-4759-83bb-23e755bcf08e"
      },
      "source": [
        "for i in range(5):\n",
        "    hello_world()"
      ],
      "execution_count": 295,
      "outputs": [
        {
          "output_type": "stream",
          "text": [
            "Hello, world!\n",
            "Hello, world!\n",
            "Hello, world!\n",
            "Hello, world!\n",
            "Hello, world!\n"
          ],
          "name": "stdout"
        }
      ]
    },
    {
      "cell_type": "code",
      "metadata": {
        "colab": {
          "base_uri": "https://localhost:8080/"
        },
        "id": "sDpJ4_-MyMAa",
        "outputId": "fa4a267a-8610-48cf-bdd2-13881915a0c9"
      },
      "source": [
        "for i in range(10):\n",
        "    presentarse()"
      ],
      "execution_count": 297,
      "outputs": [
        {
          "output_type": "stream",
          "text": [
            "Hola soy Pepito\n",
            "Hola soy Pepito\n",
            "Hola soy Pepito\n",
            "Hola soy Pepito\n",
            "Hola soy Pepito\n",
            "Hola soy Pepito\n",
            "Hola soy Pepito\n",
            "Hola soy Pepito\n",
            "Hola soy Pepito\n",
            "Hola soy Pepito\n"
          ],
          "name": "stdout"
        }
      ]
    },
    {
      "cell_type": "markdown",
      "metadata": {
        "id": "WE19UV_0M4YF"
      },
      "source": [
        "Functions are defined with `def`, a function name, a list of parameters, and a colon. Everything indented below the colon will be included in the definition of the function.\n",
        "\n",
        "We can have our functions do anything that you can do with a normal block of code. For example, our `hello_world()` function prints a string every time it is called. If we want to keep a value that a function calculates, we can define the function so that it will `return` the value we want. This is a very important feature of functions, as any variable defined purely within a function will not exist outside of it."
      ]
    },
    {
      "cell_type": "code",
      "metadata": {
        "id": "y0K6SqHAM4YF",
        "colab": {
          "base_uri": "https://localhost:8080/"
        },
        "outputId": "01ee4b6b-5c58-45b0-91e1-03daa72de419"
      },
      "source": [
        "def see_the_scope():\n",
        "    in_function_string = \"I'm stuck in here!\"\n",
        "\n",
        "see_the_scope()\n",
        "print (in_function_string)"
      ],
      "execution_count": 308,
      "outputs": [
        {
          "output_type": "stream",
          "text": [
            "\n"
          ],
          "name": "stdout"
        }
      ]
    },
    {
      "cell_type": "code",
      "metadata": {
        "colab": {
          "base_uri": "https://localhost:8080/"
        },
        "id": "dtfA6mkRzU9i",
        "outputId": "bd2b1341-ddc5-4eda-be6d-f2a082c75203"
      },
      "source": [
        "def saludar():\n",
        "    saludo = \"Hola\"\n",
        "    return saludo\n",
        "\n",
        "print (saludar())"
      ],
      "execution_count": 312,
      "outputs": [
        {
          "output_type": "stream",
          "text": [
            "Hola\n"
          ],
          "name": "stdout"
        }
      ]
    },
    {
      "cell_type": "markdown",
      "metadata": {
        "id": "bvSRj-aMM4YF"
      },
      "source": [
        " The **scope** of a variable is the part of a block of code where that variable is tied to a particular value. Functions in Python have an enclosed scope, making it so that variables defined within them can only be accessed directly within them. If we pass those values to a return statement we can get them out of the function. This makes it so that the function call returns values so that you can store them in variables that have a greater scope.\n",
        " \n",
        "In this case specifically, including a return statement allows us to keep the string value that we define in the function."
      ]
    },
    {
      "cell_type": "code",
      "metadata": {
        "id": "tElscN7CM4YG",
        "colab": {
          "base_uri": "https://localhost:8080/"
        },
        "outputId": "c5d35512-d9a7-4869-f1c5-7e2076e850c7"
      },
      "source": [
        "def free_the_scope():\n",
        "    in_function_string = \"Anything you can do I can do better!\"\n",
        "    return in_function_string\n",
        "my_string = free_the_scope()\n",
        "print (my_string)"
      ],
      "execution_count": 315,
      "outputs": [
        {
          "output_type": "stream",
          "text": [
            "Anything you can do I can do better!\n"
          ],
          "name": "stdout"
        }
      ]
    },
    {
      "cell_type": "code",
      "metadata": {
        "colab": {
          "base_uri": "https://localhost:8080/"
        },
        "id": "YeWoomlF0-Oq",
        "outputId": "a2b71e48-7e6f-4847-f3e9-cbfbd819cd4a"
      },
      "source": [
        "def saludar():\n",
        "    saludo = \"Hola\"\n",
        "    return saludo\n",
        "respuesta = saludar()\n",
        "print (respuesta)"
      ],
      "execution_count": 319,
      "outputs": [
        {
          "output_type": "stream",
          "text": [
            "Hola\n"
          ],
          "name": "stdout"
        }
      ]
    },
    {
      "cell_type": "markdown",
      "metadata": {
        "id": "RX3bRO3UM4YG"
      },
      "source": [
        "Just as we can get values out of a function, we can also put values into a function. We do this by defining our function with parameters."
      ]
    },
    {
      "cell_type": "code",
      "metadata": {
        "id": "lDvG0RY1M4YG",
        "colab": {
          "base_uri": "https://localhost:8080/"
        },
        "outputId": "e7c43529-9515-4d1f-bac3-e7e79f7dfb7c"
      },
      "source": [
        "def multiply_by_five(x):\n",
        "    \"\"\" Multiplies an input number by 5 \"\"\"\n",
        "    return x * 5\n",
        "\n",
        "n = 4\n",
        "print (n)\n",
        "print (multiply_by_five(n))"
      ],
      "execution_count": 324,
      "outputs": [
        {
          "output_type": "stream",
          "text": [
            "4\n",
            "20\n"
          ],
          "name": "stdout"
        }
      ]
    },
    {
      "cell_type": "code",
      "metadata": {
        "colab": {
          "base_uri": "https://localhost:8080/"
        },
        "id": "3pn-49jg1qyB",
        "outputId": "6b7036c1-8c41-44ff-9efa-27e349373bd9"
      },
      "source": [
        "def f(x):\n",
        "    return x**2\n",
        "n = 5\n",
        "print (n)\n",
        "print (f(n))"
      ],
      "execution_count": 321,
      "outputs": [
        {
          "output_type": "stream",
          "text": [
            "5\n",
            "25\n"
          ],
          "name": "stdout"
        }
      ]
    },
    {
      "cell_type": "markdown",
      "metadata": {
        "id": "-1IhDNoHM4YG"
      },
      "source": [
        "In this example we only had one parameter for our function, `x`. We can easily add more parameters, separating everything with a comma."
      ]
    },
    {
      "cell_type": "code",
      "metadata": {
        "id": "VJbuQbLiM4YG"
      },
      "source": [
        "def calculate_area(length, width):\n",
        "    \"\"\" Calculates the area of a rectangle \"\"\"\n",
        "    return length * width"
      ],
      "execution_count": 325,
      "outputs": []
    },
    {
      "cell_type": "code",
      "metadata": {
        "id": "yZQrI09T2Jkj"
      },
      "source": [
        "def calcular_perimetro_paralelogramo(ancho, largo):\n",
        "    return ancho*2 + largo*2"
      ],
      "execution_count": 329,
      "outputs": []
    },
    {
      "cell_type": "code",
      "metadata": {
        "id": "iZ8M7i4uM4YG",
        "colab": {
          "base_uri": "https://localhost:8080/"
        },
        "outputId": "c5e0d9c1-0c0e-4b59-f4be-510b3ccb7fb1"
      },
      "source": [
        "l = 5\n",
        "w = 10\n",
        "print ('Area: ', calculate_area(l, w))\n",
        "print ('Length: ', l)\n",
        "print ('Width: ', w)"
      ],
      "execution_count": 327,
      "outputs": [
        {
          "output_type": "stream",
          "text": [
            "Area:  50\n",
            "Length:  5\n",
            "Width:  10\n"
          ],
          "name": "stdout"
        }
      ]
    },
    {
      "cell_type": "code",
      "metadata": {
        "colab": {
          "base_uri": "https://localhost:8080/"
        },
        "id": "6z7f4n1-20w6",
        "outputId": "d7cc3b94-3d22-4d8a-f425-1cf7cc895749"
      },
      "source": [
        "l = 5\n",
        "w = 10\n",
        "print ('Perimetro: ', calcular_perimetro_paralelogramo(l, w))"
      ],
      "execution_count": 330,
      "outputs": [
        {
          "output_type": "stream",
          "text": [
            "Perimetro:  30\n"
          ],
          "name": "stdout"
        }
      ]
    },
    {
      "cell_type": "code",
      "metadata": {
        "id": "aQ625rW2M4YG"
      },
      "source": [
        "def calculate_volume(length, width, depth):\n",
        "    \"\"\" Calculates the volume of a rectangular prism \"\"\"\n",
        "    return length * width * depth"
      ],
      "execution_count": 328,
      "outputs": []
    },
    {
      "cell_type": "code",
      "metadata": {
        "id": "uCy5JDCV3DYz"
      },
      "source": [
        "def calcular_mayor(dato1, dato2):\n",
        "  if dato1 > dato2 :\n",
        "    return dato1\n",
        "  else:\n",
        "    return dato2"
      ],
      "execution_count": 335,
      "outputs": []
    },
    {
      "cell_type": "markdown",
      "metadata": {
        "id": "k7kOUVAAM4YH"
      },
      "source": [
        "If we want to, we can define a function so that it takes an arbitrary number of parameters. We tell Python that we want this by using an asterisk (`*`)."
      ]
    },
    {
      "cell_type": "code",
      "metadata": {
        "id": "bdpMRPsOM4YH"
      },
      "source": [
        "def sum_values(*args):\n",
        "    sum_val = 0\n",
        "    for i in args:\n",
        "        sum_val += i\n",
        "    return sum_val"
      ],
      "execution_count": 332,
      "outputs": []
    },
    {
      "cell_type": "code",
      "metadata": {
        "id": "rvTlm--w3mVN"
      },
      "source": [
        "def calcular_promedio(*args):\n",
        "    sum_val = 0\n",
        "    cont = 0\n",
        "    for i in args:\n",
        "        cont= cont+1\n",
        "        sum_val += i\n",
        "    return sum_val/cont"
      ],
      "execution_count": 343,
      "outputs": []
    },
    {
      "cell_type": "code",
      "metadata": {
        "id": "La7C8ZsmM4YH",
        "colab": {
          "base_uri": "https://localhost:8080/"
        },
        "outputId": "15bf3f23-b837-403a-ff52-c3a00d0e1d9a"
      },
      "source": [
        "print (sum_values(1, 2, 3))\n",
        "print (sum_values(10, 20, 30, 40, 50))\n",
        "print (sum_values(4, 2, 5, 1, 10, 249, 25, 24, 13, 6, 4))"
      ],
      "execution_count": 341,
      "outputs": [
        {
          "output_type": "stream",
          "text": [
            "6\n",
            "150\n",
            "343\n"
          ],
          "name": "stdout"
        }
      ]
    },
    {
      "cell_type": "code",
      "metadata": {
        "colab": {
          "base_uri": "https://localhost:8080/"
        },
        "id": "niW9EAOE3wdt",
        "outputId": "91e034b2-7bd8-4897-c3c7-107c4aefefb4"
      },
      "source": [
        "print (calcular_promedio(1, 2, 3))\n",
        "print (calcular_promedio(10, 20, 30, 40, 50))\n",
        "print (calcular_promedio(4, 2, 5, 1, 10, 249, 25, 24, 13, 6, 4))"
      ],
      "execution_count": 345,
      "outputs": [
        {
          "output_type": "stream",
          "text": [
            "2.0\n",
            "30.0\n",
            "31.181818181818183\n"
          ],
          "name": "stdout"
        }
      ]
    },
    {
      "cell_type": "markdown",
      "metadata": {
        "id": "XRfgnSifM4YI"
      },
      "source": [
        "The time to use `*args` as a parameter for your function is when you do not know how many values may be passed to it, as in the case of our sum function. The asterisk in this case is the syntax that tells Python that you are going to pass an arbitrary number of parameters into your function. These parameters are stored in the form of a tuple."
      ]
    },
    {
      "cell_type": "code",
      "metadata": {
        "id": "fP8fRzaoM4YI",
        "colab": {
          "base_uri": "https://localhost:8080/"
        },
        "outputId": "e3374280-1433-4eba-ff0e-0a65e56a69aa"
      },
      "source": [
        "def test_args(*args):\n",
        "    print (type(args))\n",
        "\n",
        "test_args(1, 2, 3, 4, 5, 6)"
      ],
      "execution_count": 347,
      "outputs": [
        {
          "output_type": "stream",
          "text": [
            "<class 'tuple'>\n"
          ],
          "name": "stdout"
        }
      ]
    },
    {
      "cell_type": "code",
      "metadata": {
        "colab": {
          "base_uri": "https://localhost:8080/"
        },
        "id": "nLiSvOH_4ybw",
        "outputId": "4e5be060-d2e4-4bc9-ad5e-ab1edfc48445"
      },
      "source": [
        "def ingresar_datos(*args):\n",
        "    print (type(args))\n",
        "\n",
        "test_args('Pepito', 'Perez',3)"
      ],
      "execution_count": 348,
      "outputs": [
        {
          "output_type": "stream",
          "text": [
            "<class 'tuple'>\n"
          ],
          "name": "stdout"
        }
      ]
    },
    {
      "cell_type": "markdown",
      "metadata": {
        "id": "pqlPSB-pM4YI"
      },
      "source": [
        "We can put as many elements into the `args` tuple as we want to when we call the function. However, because `args` is a tuple, we cannot modify it after it has been created.\n",
        "\n",
        "The `args` name of the variable is purely by convention. You could just as easily name your parameter `*vars` or `*things`. You can treat the `args` tuple like you would any other tuple, easily accessing `arg`'s values and iterating over it, as in the above `sum_values(*args)` function."
      ]
    },
    {
      "cell_type": "markdown",
      "metadata": {
        "id": "yN5w7u8bM4YJ"
      },
      "source": [
        "Our functions can return any data type. This makes it easy for us to create functions that check for conditions that we might want to monitor.\n",
        "\n",
        "Here we define a function that returns a boolean value. We can easily use this in conjunction with if-statements and  other situations that require a boolean."
      ]
    },
    {
      "cell_type": "code",
      "metadata": {
        "id": "2-nmTEBZM4YJ"
      },
      "source": [
        "def has_a_vowel(word):\n",
        "    \"\"\" \n",
        "    Checks to see whether a word contains a vowel \n",
        "    If it doesn't contain a conventional vowel, it\n",
        "    will check for the presence of 'y' or 'w'. Does\n",
        "    not check to see whether those are in the word\n",
        "    in a vowel context.\n",
        "    \"\"\"\n",
        "    vowel_list = ['a', 'e', 'i', 'o', 'u']\n",
        "    \n",
        "    for vowel in vowel_list:\n",
        "        if vowel in word:\n",
        "            return True\n",
        "    # If there is a vowel in the word, the function returns, preventing anything after this loop from running\n",
        "    return False"
      ],
      "execution_count": 349,
      "outputs": []
    },
    {
      "cell_type": "code",
      "metadata": {
        "id": "toQbaR-E52mT"
      },
      "source": [
        "def contiene_digito (num, digito):\n",
        "    numero = str(num)\n",
        "    sim = str(digito)\n",
        "    for dig in numero:\n",
        "        if dig == sim:\n",
        "            return True\n",
        "    return False"
      ],
      "execution_count": 353,
      "outputs": []
    },
    {
      "cell_type": "code",
      "metadata": {
        "id": "IHk2x3gHM4YJ",
        "colab": {
          "base_uri": "https://localhost:8080/"
        },
        "outputId": "d373f6d8-a129-49d9-a98b-838975d5842b"
      },
      "source": [
        "my_word = 'catnapping'\n",
        "if has_a_vowel(my_word):\n",
        "    print ('How surprising, an english word contains a vowel.')\n",
        "else:\n",
        "    print ('This is actually surprising.')"
      ],
      "execution_count": 351,
      "outputs": [
        {
          "output_type": "stream",
          "text": [
            "How surprising, an english word contains a vowel.\n"
          ],
          "name": "stdout"
        }
      ]
    },
    {
      "cell_type": "code",
      "metadata": {
        "colab": {
          "base_uri": "https://localhost:8080/"
        },
        "id": "xE361CYf6_lN",
        "outputId": "7a529ddb-0a4b-4f57-853a-aca92653d203"
      },
      "source": [
        "numero = 567324\n",
        "dig = 2\n",
        "if contiene_digito(numero, dig):\n",
        "    print ('El numero {0} contiene el digito {1}'.format(numero, dig))\n",
        "else:\n",
        "    print ('El numero {0} no contiene el digito {1}'.format(numero, dig))"
      ],
      "execution_count": 356,
      "outputs": [
        {
          "output_type": "stream",
          "text": [
            "El numero 567324 contiene el digito 2\n"
          ],
          "name": "stdout"
        }
      ]
    },
    {
      "cell_type": "code",
      "metadata": {
        "id": "omKQ5KjuM4YJ"
      },
      "source": [
        "def point_maker(x, y):\n",
        "    \"\"\" Groups x and y values into a point, technically a tuple \"\"\"\n",
        "    return x, y"
      ],
      "execution_count": 357,
      "outputs": []
    },
    {
      "cell_type": "code",
      "metadata": {
        "id": "Fn9vLUs8713_"
      },
      "source": [
        "def calcular_diferencia(x,y):\n",
        "  return pow(x[0]-y[0], 2), pow(x[1]-y[1], 2)"
      ],
      "execution_count": 387,
      "outputs": []
    },
    {
      "cell_type": "markdown",
      "metadata": {
        "id": "v_2FkRSxM4YK"
      },
      "source": [
        "This above function returns an ordered pair of the input parameters, stored as a tuple."
      ]
    },
    {
      "cell_type": "code",
      "metadata": {
        "scrolled": true,
        "id": "jvcE0ulkM4YK",
        "colab": {
          "base_uri": "https://localhost:8080/"
        },
        "outputId": "dd9770b5-0d97-4681-b5ce-50b541a1316c"
      },
      "source": [
        "a = point_maker(0, 10)\n",
        "b = point_maker(5, 3)\n",
        "def calculate_slope(point_a, point_b):\n",
        "    \"\"\" Calculates the linear slope between two points \"\"\"\n",
        "    return (point_b[1] - point_a[1])/(point_b[0] - point_a[0])\n",
        "print (\"The slope between a and b is {0}\".format(calculate_slope(a, b)))"
      ],
      "execution_count": 359,
      "outputs": [
        {
          "output_type": "stream",
          "text": [
            "The slope between a and b is -1.4\n"
          ],
          "name": "stdout"
        }
      ]
    },
    {
      "cell_type": "code",
      "metadata": {
        "colab": {
          "base_uri": "https://localhost:8080/"
        },
        "id": "uapbNNcG8e8S",
        "outputId": "8de99775-4f32-412f-c160-38e2768988d7"
      },
      "source": [
        "x = [0,3]\n",
        "y = [4,0]\n",
        "def calcular_distancia(dist_x, dist_y):\n",
        "  #print(calcular_diferencia(dist_x , dist_y))\n",
        "  dix, diy = calcular_diferencia(dist_x , dist_y)\n",
        "  return np.sqrt(dix + diy)\n",
        "print (\"La distancia entre x y y is {0}\".format(calcular_distancia(x, y)))"
      ],
      "execution_count": 388,
      "outputs": [
        {
          "output_type": "stream",
          "text": [
            "La distancia entre x y y is 5.0\n"
          ],
          "name": "stdout"
        }
      ]
    },
    {
      "cell_type": "markdown",
      "metadata": {
        "id": "zyRp8147M4YK"
      },
      "source": [
        "And that one calculates the slope between two points!"
      ]
    },
    {
      "cell_type": "code",
      "metadata": {
        "id": "2I4n4NiTM4YK",
        "colab": {
          "base_uri": "https://localhost:8080/"
        },
        "outputId": "5810a68c-67d9-4d33-963f-8e5c6acd1ffc"
      },
      "source": [
        "print (\"The slope-intercept form of the line between a and b, using point a, is: y - {0} = {2}(x - {1})\".format(a[1], a[0], calculate_slope(a, b)))"
      ],
      "execution_count": 389,
      "outputs": [
        {
          "output_type": "stream",
          "text": [
            "The slope-intercept form of the line between a and b, using point a, is: y - 10 = -1.4(x - 0)\n"
          ],
          "name": "stdout"
        }
      ]
    },
    {
      "cell_type": "code",
      "metadata": {
        "colab": {
          "base_uri": "https://localhost:8080/"
        },
        "id": "D6RzGuX5ALH8",
        "outputId": "4ad36f48-09ad-455b-bf73-47bd644d169b"
      },
      "source": [
        "print(\"la distancia entre {0} y {1} es {2}\".format([0,3],[4,0],calcular_distancia([0,3], [4,0])))"
      ],
      "execution_count": 390,
      "outputs": [
        {
          "output_type": "stream",
          "text": [
            "la distancia entre [0, 3] y [4, 0] es 5.0\n"
          ],
          "name": "stdout"
        }
      ]
    },
    {
      "cell_type": "markdown",
      "metadata": {
        "id": "MmFoaS2WM4YL"
      },
      "source": [
        "With the proper syntax, you can define functions to do whatever calculations you want. This makes them an indispensible part of programming in any language."
      ]
    },
    {
      "cell_type": "markdown",
      "metadata": {
        "id": "TqAMvBYVM4YL"
      },
      "source": [
        "## Next Steps\n",
        "\n",
        "This was a lot of material and there is still even more to cover! Make sure you play around with the cells in each notebook to accustom yourself to the syntax featured here and to figure out any limitations. If you want to delve even deeper into the material, the [documentation for Python](https://docs.python.org/2/) is all available online. We are in the process of developing a second part to this Python tutorial, designed to provide you with even more programming knowledge, so keep an eye on the [Quantopian Lectures Page](quantopian.com/lectures) and the [forums](quantopian.com/posts) for any new lectures."
      ]
    },
    {
      "cell_type": "markdown",
      "metadata": {
        "id": "b9W52W-xM4YL"
      },
      "source": [
        "*This presentation is for informational purposes only and does not constitute an offer to sell, a solicitation to buy, or a recommendation for any security; nor does it constitute an offer to provide investment advisory or other services by Quantopian, Inc. (\"Quantopian\"). Nothing contained herein constitutes investment advice or offers any opinion with respect to the suitability of any security, and any views expressed herein should not be taken as advice to buy, sell, or hold any security or as an endorsement of any security or company.  In preparing the information contained herein, Quantopian, Inc. has not taken into account the investment needs, objectives, and financial circumstances of any particular investor. Any views expressed and data illustrated herein were prepared based upon information, believed to be reliable, available to Quantopian, Inc. at the time of publication. Quantopian makes no guarantees as to their accuracy or completeness. All information is subject to change and may quickly become unreliable for various reasons, including changes in market conditions or economic circumstances.*"
      ]
    }
  ]
}
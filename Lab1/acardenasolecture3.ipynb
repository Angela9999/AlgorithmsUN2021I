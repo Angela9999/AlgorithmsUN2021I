{
  "nbformat": 4,
  "nbformat_minor": 0,
  "metadata": {
    "kernelspec": {
      "name": "python3",
      "display_name": "Python 3"
    },
    "colab": {
      "name": "acardenasolecture3.ipynb",
      "provenance": [],
      "collapsed_sections": [
        "xdkwzGzBBW7G"
      ],
      "toc_visible": true
    },
    "language_info": {
      "name": "python"
    }
  },
  "cells": [
    {
      "cell_type": "markdown",
      "metadata": {
        "id": "tWHpEO5XBW6x"
      },
      "source": [
        "# Introduction to NumPy\n",
        "by Maxwell Margenot\n",
        "\n",
        "Part of the Quantopian Lecture Series:\n",
        "\n",
        "* [www.quantopian.com/lectures](https://www.quantopian.com/lectures)\n",
        "* [github.com/quantopian/research_public](https://github.com/quantopian/research_public)\n",
        "\n",
        "Notebook released under the Creative Commons Attribution 4.0 License."
      ]
    },
    {
      "cell_type": "markdown",
      "metadata": {
        "id": "7g-wJLn4BW63"
      },
      "source": [
        "NumPy is an incredibly powerful package in Python that is ubiquitous throughout the Quantopian platform. It has strong integration with Pandas, another tool we will be covering in the lecture series. NumPy adds support for multi-dimensional arrays and mathematical functions that allow you to easily perform linear algebra calculations. This lecture will be a collection of linear algebra examples computed using NumPy."
      ]
    },
    {
      "cell_type": "code",
      "metadata": {
        "collapsed": true,
        "id": "Pbly2dWtBW63"
      },
      "source": [
        "import numpy as np\n",
        "import matplotlib.pyplot as plt"
      ],
      "execution_count": 1,
      "outputs": []
    },
    {
      "cell_type": "code",
      "metadata": {
        "id": "kHUNJRQMBtDU"
      },
      "source": [
        "import numpy as npt"
      ],
      "execution_count": 2,
      "outputs": []
    },
    {
      "cell_type": "markdown",
      "metadata": {
        "id": "jEDjAoPcBW64"
      },
      "source": [
        "### Basic NumPy arrays"
      ]
    },
    {
      "cell_type": "markdown",
      "metadata": {
        "id": "MMTuReKEBW64"
      },
      "source": [
        "The most basic way that we could make use of NumPy in finance is calculating the mean return of a portfolio. Say that we have a list containing the historical return of several stocks."
      ]
    },
    {
      "cell_type": "code",
      "metadata": {
        "collapsed": true,
        "id": "6ss2-dYrBW64"
      },
      "source": [
        "stock_list = [3.5, 5, 2, 8, 4.2]"
      ],
      "execution_count": 3,
      "outputs": []
    },
    {
      "cell_type": "code",
      "metadata": {
        "id": "d-_3ObtOCARb"
      },
      "source": [
        "datos =[3,7,8.5,8.4,2,4.5]"
      ],
      "execution_count": 4,
      "outputs": []
    },
    {
      "cell_type": "markdown",
      "metadata": {
        "id": "hbYafIvtBW65"
      },
      "source": [
        "We can make an array by calling a function on the list:"
      ]
    },
    {
      "cell_type": "code",
      "metadata": {
        "colab": {
          "base_uri": "https://localhost:8080/"
        },
        "id": "s-eGZ-skBW65",
        "outputId": "f3f09f5f-afb2-4788-f0b6-bc0e7820769f"
      },
      "source": [
        "returns = np.array(stock_list)\n",
        "print (returns, type(returns))"
      ],
      "execution_count": 5,
      "outputs": [
        {
          "output_type": "stream",
          "text": [
            "[3.5 5.  2.  8.  4.2] <class 'numpy.ndarray'>\n"
          ],
          "name": "stdout"
        }
      ]
    },
    {
      "cell_type": "code",
      "metadata": {
        "colab": {
          "base_uri": "https://localhost:8080/"
        },
        "id": "ZgMOtQ5BVIYg",
        "outputId": "b45b23b1-9269-4dba-eac6-ab736b01e258"
      },
      "source": [
        "returns1 = np.array(datos)\n",
        "print (returns1, type(returns))"
      ],
      "execution_count": 6,
      "outputs": [
        {
          "output_type": "stream",
          "text": [
            "[3.  7.  8.5 8.4 2.  4.5] <class 'numpy.ndarray'>\n"
          ],
          "name": "stdout"
        }
      ]
    },
    {
      "cell_type": "markdown",
      "metadata": {
        "id": "aOcWZNf9BW66"
      },
      "source": [
        "You'll notice that the type of our array is 'ndarray', not just 'array'. This is because NumPy arrays can be created with multiple dimensions. If we pass np.array() a list of lists, it will create a 2-dimensional array. If we pass a list of lists of lists, it will create a 3-dimensional array, and so on and so forth."
      ]
    },
    {
      "cell_type": "code",
      "metadata": {
        "id": "sEaSY0bKBW66",
        "colab": {
          "base_uri": "https://localhost:8080/"
        },
        "outputId": "2d5a4438-cfa0-4627-b504-9b5393c45fc9"
      },
      "source": [
        "A = np.array([[1, 2], [3, 4]])\n",
        "print (A, type(A))"
      ],
      "execution_count": 7,
      "outputs": [
        {
          "output_type": "stream",
          "text": [
            "[[1 2]\n",
            " [3 4]] <class 'numpy.ndarray'>\n"
          ],
          "name": "stdout"
        }
      ]
    },
    {
      "cell_type": "code",
      "metadata": {
        "colab": {
          "base_uri": "https://localhost:8080/"
        },
        "id": "S-3ArBlrVtVv",
        "outputId": "63f3f3bb-f6ca-466d-ff59-9c4e92711d95"
      },
      "source": [
        "B = np.array([[4, 1], [5, 3], [6,8]])\n",
        "print (B, type(B))"
      ],
      "execution_count": 8,
      "outputs": [
        {
          "output_type": "stream",
          "text": [
            "[[4 1]\n",
            " [5 3]\n",
            " [6 8]] <class 'numpy.ndarray'>\n"
          ],
          "name": "stdout"
        }
      ]
    },
    {
      "cell_type": "markdown",
      "metadata": {
        "id": "5ktEzXi9BW66"
      },
      "source": [
        "We can access the dimensions of an array by looking at its `shape` member variable."
      ]
    },
    {
      "cell_type": "code",
      "metadata": {
        "id": "jb3BdEgzBW66",
        "colab": {
          "base_uri": "https://localhost:8080/"
        },
        "outputId": "8bb34217-95f1-435a-8cf1-8dd8f4c22bc3"
      },
      "source": [
        "print (A.shape)"
      ],
      "execution_count": 9,
      "outputs": [
        {
          "output_type": "stream",
          "text": [
            "(2, 2)\n"
          ],
          "name": "stdout"
        }
      ]
    },
    {
      "cell_type": "code",
      "metadata": {
        "colab": {
          "base_uri": "https://localhost:8080/"
        },
        "id": "QhyTgoCaWDD4",
        "outputId": "7279e926-37ae-4642-ed6d-933077e5bfff"
      },
      "source": [
        "print ( B.shape)"
      ],
      "execution_count": 10,
      "outputs": [
        {
          "output_type": "stream",
          "text": [
            "(3, 2)\n"
          ],
          "name": "stdout"
        }
      ]
    },
    {
      "cell_type": "markdown",
      "metadata": {
        "id": "ohlPoLjZBW67"
      },
      "source": [
        "Arrays are indexed in much the same way as lists in Python. Elements of a list begin indexing from $0$ and end at $n - 1$, where $n$ is the length of the array."
      ]
    },
    {
      "cell_type": "code",
      "metadata": {
        "id": "67jZ17P_BW67",
        "colab": {
          "base_uri": "https://localhost:8080/"
        },
        "outputId": "cbda8fa5-808f-440e-8802-db21827a04e8"
      },
      "source": [
        "print (returns[0], returns[len(returns) - 1])"
      ],
      "execution_count": 11,
      "outputs": [
        {
          "output_type": "stream",
          "text": [
            "3.5 4.2\n"
          ],
          "name": "stdout"
        }
      ]
    },
    {
      "cell_type": "code",
      "metadata": {
        "colab": {
          "base_uri": "https://localhost:8080/"
        },
        "id": "U4ByLB_QWo1L",
        "outputId": "f887cb0b-98ae-407a-b8b1-cf907c073b2d"
      },
      "source": [
        "print (returns1[0], returns1[len(returns1) - 1])"
      ],
      "execution_count": 12,
      "outputs": [
        {
          "output_type": "stream",
          "text": [
            "3.0 4.5\n"
          ],
          "name": "stdout"
        }
      ]
    },
    {
      "cell_type": "markdown",
      "metadata": {
        "id": "AfZQ4f6MBW67"
      },
      "source": [
        "We can take a slice of an array using a colon, just like in a list."
      ]
    },
    {
      "cell_type": "code",
      "metadata": {
        "id": "qO5y300iBW67",
        "colab": {
          "base_uri": "https://localhost:8080/"
        },
        "outputId": "d7d44134-81c0-4a76-d372-1bc01168268a"
      },
      "source": [
        "print (returns[1:3])"
      ],
      "execution_count": 13,
      "outputs": [
        {
          "output_type": "stream",
          "text": [
            "[5. 2.]\n"
          ],
          "name": "stdout"
        }
      ]
    },
    {
      "cell_type": "code",
      "metadata": {
        "colab": {
          "base_uri": "https://localhost:8080/"
        },
        "id": "zzVvheyiXV0y",
        "outputId": "64e817f6-b872-4f45-8cd0-f13ec33a2df8"
      },
      "source": [
        "print (returns1[2:4])"
      ],
      "execution_count": 14,
      "outputs": [
        {
          "output_type": "stream",
          "text": [
            "[8.5 8.4]\n"
          ],
          "name": "stdout"
        }
      ]
    },
    {
      "cell_type": "markdown",
      "metadata": {
        "id": "TizsMHt9BW68"
      },
      "source": [
        "A slice of an array, like in a list, will select a group of elements in the array starting from the first element indicated and going up to (but not including) the last element indicated.\n",
        "\n",
        "In the case of multidimensional arrays, many of the same conventions with slicing and indexing hold. We can access the first column of a 2-dimensional array like so:"
      ]
    },
    {
      "cell_type": "code",
      "metadata": {
        "id": "nAqyni1UBW68",
        "colab": {
          "base_uri": "https://localhost:8080/"
        },
        "outputId": "0547df61-a266-4d9b-b45b-49199df165eb"
      },
      "source": [
        "print (A[:, 0])"
      ],
      "execution_count": 15,
      "outputs": [
        {
          "output_type": "stream",
          "text": [
            "[1 3]\n"
          ],
          "name": "stdout"
        }
      ]
    },
    {
      "cell_type": "code",
      "metadata": {
        "colab": {
          "base_uri": "https://localhost:8080/"
        },
        "id": "G0VxRmn_Xxia",
        "outputId": "9a1a73df-650a-441c-e99d-7171a828c239"
      },
      "source": [
        "print (B[:, 0])"
      ],
      "execution_count": 16,
      "outputs": [
        {
          "output_type": "stream",
          "text": [
            "[4 5 6]\n"
          ],
          "name": "stdout"
        }
      ]
    },
    {
      "cell_type": "markdown",
      "metadata": {
        "id": "HiqKEx49BW68"
      },
      "source": [
        "And the first row of a 2-dimensional array like so:"
      ]
    },
    {
      "cell_type": "code",
      "metadata": {
        "id": "J7KiPr3-BW68",
        "colab": {
          "base_uri": "https://localhost:8080/"
        },
        "outputId": "5f9df80c-acd8-47de-d4aa-b7e81e02ed35"
      },
      "source": [
        "print (A[0, :])"
      ],
      "execution_count": 17,
      "outputs": [
        {
          "output_type": "stream",
          "text": [
            "[1 2]\n"
          ],
          "name": "stdout"
        }
      ]
    },
    {
      "cell_type": "code",
      "metadata": {
        "colab": {
          "base_uri": "https://localhost:8080/"
        },
        "id": "KtOvFO0JYAC5",
        "outputId": "38644353-eaa6-4bff-9cb2-c57840b36147"
      },
      "source": [
        "print (B[0, :])"
      ],
      "execution_count": 18,
      "outputs": [
        {
          "output_type": "stream",
          "text": [
            "[4 1]\n"
          ],
          "name": "stdout"
        }
      ]
    },
    {
      "cell_type": "markdown",
      "metadata": {
        "id": "uyCH_lm2BW69"
      },
      "source": [
        "Notice that each slice of the array returns yet another array!"
      ]
    },
    {
      "cell_type": "code",
      "metadata": {
        "id": "bFAfdKwABW69",
        "colab": {
          "base_uri": "https://localhost:8080/"
        },
        "outputId": "68804634-a656-407f-d358-74a4ec61f4b7"
      },
      "source": [
        "print (type(A[0,:]))"
      ],
      "execution_count": 19,
      "outputs": [
        {
          "output_type": "stream",
          "text": [
            "<class 'numpy.ndarray'>\n"
          ],
          "name": "stdout"
        }
      ]
    },
    {
      "cell_type": "code",
      "metadata": {
        "colab": {
          "base_uri": "https://localhost:8080/"
        },
        "id": "ycSca5mCYMWt",
        "outputId": "12dd582b-ab4e-4475-9621-e68837c9205c"
      },
      "source": [
        "print (type(B[0,:]))"
      ],
      "execution_count": 20,
      "outputs": [
        {
          "output_type": "stream",
          "text": [
            "<class 'numpy.ndarray'>\n"
          ],
          "name": "stdout"
        }
      ]
    },
    {
      "cell_type": "markdown",
      "metadata": {
        "id": "lqjbIGWPBW69"
      },
      "source": [
        "Passing only one index to a 2-dimensional array will result in returning the row with the given index as well, providing us with another way to access individual rows."
      ]
    },
    {
      "cell_type": "code",
      "metadata": {
        "id": "XMpO_QkWBW69",
        "colab": {
          "base_uri": "https://localhost:8080/"
        },
        "outputId": "d8e28d99-8984-4da1-c733-7221a3448e42"
      },
      "source": [
        "print (A[0])"
      ],
      "execution_count": 21,
      "outputs": [
        {
          "output_type": "stream",
          "text": [
            "[1 2]\n"
          ],
          "name": "stdout"
        }
      ]
    },
    {
      "cell_type": "code",
      "metadata": {
        "colab": {
          "base_uri": "https://localhost:8080/"
        },
        "id": "UMi5qKxVYTfV",
        "outputId": "e47a7887-b3a0-4d09-a6af-6fa43dad77ab"
      },
      "source": [
        "print (B[0])"
      ],
      "execution_count": 22,
      "outputs": [
        {
          "output_type": "stream",
          "text": [
            "[4 1]\n"
          ],
          "name": "stdout"
        }
      ]
    },
    {
      "cell_type": "markdown",
      "metadata": {
        "id": "PY6kYbakBW69"
      },
      "source": [
        "Accessing the index of an individual element will return only the element."
      ]
    },
    {
      "cell_type": "code",
      "metadata": {
        "id": "UlhYb7JeBW6-",
        "colab": {
          "base_uri": "https://localhost:8080/"
        },
        "outputId": "44782750-4b17-4810-f87f-2541f8520196"
      },
      "source": [
        "print (A[1, 1])"
      ],
      "execution_count": 23,
      "outputs": [
        {
          "output_type": "stream",
          "text": [
            "4\n"
          ],
          "name": "stdout"
        }
      ]
    },
    {
      "cell_type": "code",
      "metadata": {
        "colab": {
          "base_uri": "https://localhost:8080/"
        },
        "id": "h77IK8h-YwUt",
        "outputId": "266d8c89-515b-4a6a-c53f-e4787e4614db"
      },
      "source": [
        "print (B[1, 1])"
      ],
      "execution_count": 24,
      "outputs": [
        {
          "output_type": "stream",
          "text": [
            "3\n"
          ],
          "name": "stdout"
        }
      ]
    },
    {
      "cell_type": "markdown",
      "metadata": {
        "id": "W5d-kl-0BW6-"
      },
      "source": [
        "#### Array functions\n",
        "\n",
        "Functions built into NumPy can be easily called on arrays. Most functions are applied to an array element-wise (as scalar multiplication is). For example, if we call `log()` on an array, the logarithm will be taken of each element."
      ]
    },
    {
      "cell_type": "code",
      "metadata": {
        "id": "vR1WmwBVBW6-",
        "colab": {
          "base_uri": "https://localhost:8080/"
        },
        "outputId": "3765dbe4-5478-4336-e77b-3909e837d5a1"
      },
      "source": [
        "print (np.log(returns))"
      ],
      "execution_count": 25,
      "outputs": [
        {
          "output_type": "stream",
          "text": [
            "[1.25276297 1.60943791 0.69314718 2.07944154 1.43508453]\n"
          ],
          "name": "stdout"
        }
      ]
    },
    {
      "cell_type": "code",
      "metadata": {
        "colab": {
          "base_uri": "https://localhost:8080/"
        },
        "id": "JeyXNQJVZC0a",
        "outputId": "3565e06d-65ab-48b0-ba9f-279c13988173"
      },
      "source": [
        "print (np.sqrt(returns1))"
      ],
      "execution_count": 26,
      "outputs": [
        {
          "output_type": "stream",
          "text": [
            "[1.73205081 2.64575131 2.91547595 2.89827535 1.41421356 2.12132034]\n"
          ],
          "name": "stdout"
        }
      ]
    },
    {
      "cell_type": "markdown",
      "metadata": {
        "id": "WgDNI7pgBW6-"
      },
      "source": [
        "Some functions return a single value. This is because they treat the array as a collection (similar to a list), performing the designated function. For example, the `mean()` function will do exactly what you expect, calculating the mean of an array."
      ]
    },
    {
      "cell_type": "code",
      "metadata": {
        "id": "F8uVyD8CBW6-",
        "colab": {
          "base_uri": "https://localhost:8080/"
        },
        "outputId": "f2122fdf-d358-4dce-c9d9-30e3d46cf035"
      },
      "source": [
        "print (np.mean(returns))"
      ],
      "execution_count": 27,
      "outputs": [
        {
          "output_type": "stream",
          "text": [
            "4.54\n"
          ],
          "name": "stdout"
        }
      ]
    },
    {
      "cell_type": "code",
      "metadata": {
        "colab": {
          "base_uri": "https://localhost:8080/"
        },
        "id": "6HKZA5CeZXwB",
        "outputId": "a772bdaa-682e-4234-f210-7b8824ec0eb2"
      },
      "source": [
        "print (np.mean(returns1))"
      ],
      "execution_count": 28,
      "outputs": [
        {
          "output_type": "stream",
          "text": [
            "5.566666666666666\n"
          ],
          "name": "stdout"
        }
      ]
    },
    {
      "cell_type": "markdown",
      "metadata": {
        "id": "eRJJuUG-BW6_"
      },
      "source": [
        "Or the `max()` function will return the maximum element of an array."
      ]
    },
    {
      "cell_type": "code",
      "metadata": {
        "id": "0fNTGFH6BW6_",
        "colab": {
          "base_uri": "https://localhost:8080/"
        },
        "outputId": "b2cd5fe3-ca4c-4777-f5e3-7112b7b0f4d3"
      },
      "source": [
        "print (np.max(returns))"
      ],
      "execution_count": 29,
      "outputs": [
        {
          "output_type": "stream",
          "text": [
            "8.0\n"
          ],
          "name": "stdout"
        }
      ]
    },
    {
      "cell_type": "code",
      "metadata": {
        "colab": {
          "base_uri": "https://localhost:8080/"
        },
        "id": "KfT0c_gVZfMV",
        "outputId": "f13ade62-b2dc-4603-9240-56e4cf251123"
      },
      "source": [
        "print (np.max(returns1))"
      ],
      "execution_count": 30,
      "outputs": [
        {
          "output_type": "stream",
          "text": [
            "8.5\n"
          ],
          "name": "stdout"
        }
      ]
    },
    {
      "cell_type": "markdown",
      "metadata": {
        "id": "VBOzb3QGBW6_"
      },
      "source": [
        "For further reading on the universal functions in NumPy, check out the [documentation](https://docs.scipy.org/doc/numpy/user/quickstart.html#universal-functions)."
      ]
    },
    {
      "cell_type": "markdown",
      "metadata": {
        "id": "vqIKNgT-BW6_"
      },
      "source": [
        "### Return to the returns\n",
        "\n",
        "Now let's modify our returns array with scalar values. If we add a scalar value to an array it will be added to every element of the array. If we multiply an array by a scalar value it will be multiplied against every element of the array. If we do both, both will happen!"
      ]
    },
    {
      "cell_type": "code",
      "metadata": {
        "scrolled": false,
        "id": "mNcGjN5bBW6_",
        "colab": {
          "base_uri": "https://localhost:8080/"
        },
        "outputId": "e12ddc2c-2907-4fcc-82a8-0a5c09fe8efd"
      },
      "source": [
        "returns*2 + 5"
      ],
      "execution_count": 31,
      "outputs": [
        {
          "output_type": "execute_result",
          "data": {
            "text/plain": [
              "array([12. , 15. ,  9. , 21. , 13.4])"
            ]
          },
          "metadata": {
            "tags": []
          },
          "execution_count": 31
        }
      ]
    },
    {
      "cell_type": "code",
      "metadata": {
        "colab": {
          "base_uri": "https://localhost:8080/"
        },
        "id": "Vpcn3cMVZvca",
        "outputId": "36cff975-8398-4c59-c7f1-c42cc80d5abf"
      },
      "source": [
        "returns1*10 - 2"
      ],
      "execution_count": 32,
      "outputs": [
        {
          "output_type": "execute_result",
          "data": {
            "text/plain": [
              "array([28., 68., 83., 82., 18., 43.])"
            ]
          },
          "metadata": {
            "tags": []
          },
          "execution_count": 32
        }
      ]
    },
    {
      "cell_type": "markdown",
      "metadata": {
        "id": "zJBveFghBW7A"
      },
      "source": [
        "NumPy also has functions specifically built to operate on arrays. Let's take the mean and standard deviation of this group of returns."
      ]
    },
    {
      "cell_type": "code",
      "metadata": {
        "id": "mISG3VE7BW7A",
        "colab": {
          "base_uri": "https://localhost:8080/"
        },
        "outputId": "afda9e3b-b813-4f0f-afc8-c2a302014c8f"
      },
      "source": [
        "print (\"Mean: \", np.mean(returns), \"Std Dev: \", np.std(returns))"
      ],
      "execution_count": 33,
      "outputs": [
        {
          "output_type": "stream",
          "text": [
            "Mean:  4.54 Std Dev:  1.9915822855207364\n"
          ],
          "name": "stdout"
        }
      ]
    },
    {
      "cell_type": "code",
      "metadata": {
        "colab": {
          "base_uri": "https://localhost:8080/"
        },
        "id": "ZAa8cHzDZ-jD",
        "outputId": "790d23d4-91b8-4277-cb69-e3a2b4b634db"
      },
      "source": [
        "print (\"Mean: \", np.mean(returns1), \"Std Dev: \", np.std(returns1), \"Median:\", np.median(returns1))"
      ],
      "execution_count": 34,
      "outputs": [
        {
          "output_type": "stream",
          "text": [
            "Mean:  5.566666666666666 Std Dev:  2.5538641745837274 Median: 5.75\n"
          ],
          "name": "stdout"
        }
      ]
    },
    {
      "cell_type": "markdown",
      "metadata": {
        "id": "h5NuWg1DBW7A"
      },
      "source": [
        "Let's simulate a universe of stocks using NumPy's functions. First we need to create the arrays to hold the assets and returns that we will use to build a portfolio. This is because arrays are created with a fixed size. Their dimensions can't be changed without creating a new array."
      ]
    },
    {
      "cell_type": "code",
      "metadata": {
        "collapsed": true,
        "id": "vV3BFuL4BW7A"
      },
      "source": [
        "N = 10\n",
        "assets = np.zeros((N, 100))\n",
        "returns = np.zeros((N, 100))"
      ],
      "execution_count": 35,
      "outputs": []
    },
    {
      "cell_type": "code",
      "metadata": {
        "id": "pREMC7_ra7Om"
      },
      "source": [
        "M = 20\n",
        "assets1 = np.zeros((M, 40))\n",
        "returns1 = np.zeros((M, 40))"
      ],
      "execution_count": 36,
      "outputs": []
    },
    {
      "cell_type": "markdown",
      "metadata": {
        "id": "L7X8U2nUBW7B"
      },
      "source": [
        "This function, `zeroes()`, creates a NumPy array with the given dimensions that is entirely filled in with $0$. We can pass a single value or a tuple of as many dimensions as we like. Passing in the tuple `(N, 100)`, will return a two-dimensional array with $N$ rows and $100$ columns. Our result is a $N \\times 100$ array.\n",
        "\n",
        "Now we will simulate a base asset. We want the universe of stocks to be correlated with each other so we will use this initial value to generate the others."
      ]
    },
    {
      "cell_type": "code",
      "metadata": {
        "id": "VamPFmI0BW7B"
      },
      "source": [
        "R_1 = np.random.normal(1.01, 0.03, 100)\n",
        "returns[0] = R_1\n",
        "assets[0] = np.cumprod(R_1)"
      ],
      "execution_count": 37,
      "outputs": []
    },
    {
      "cell_type": "code",
      "metadata": {
        "id": "aiq-F98cbih_"
      },
      "source": [
        "R_2 = np.random.normal(1.01, 0.03, 40)\n",
        "returns1[0] = R_2\n",
        "assets1[0] = np.cumprod(R_2)"
      ],
      "execution_count": 38,
      "outputs": []
    },
    {
      "cell_type": "markdown",
      "metadata": {
        "id": "trwyALfOBW7B"
      },
      "source": [
        "The `random` module in NumPy is exceedingly useful. It contains methods for sampling from many different probability distributions, some of which are covered in the [random variables lecture](https://www.quantopian.com/lectures/random-variables) in the Quantopian lecture series. In this case we draw $N = 100$ random samples from a normal distribution with mean $1.01$ and standard deviation $0.03$. We treat these as the daily percentage returns of our asset and take the cumulative product of these samples to get the current price.\n",
        "\n",
        "The way we have generated our universe, the the individual $R_i$ vectors are each 1-dimensional arrays and the `returns` and `assets` variables contain 2-dimensional arrays. Above, we set the initial row of both `returns` and `assets` to be the first $R_i$ vector and the cumulative asset price based on those returns, respectively.\n",
        "\n",
        "We will now use this base asset to create a few other random assets that are correlated with it."
      ]
    },
    {
      "cell_type": "code",
      "metadata": {
        "id": "mL0dJTxZBW7B"
      },
      "source": [
        "# Generate assets that are correlated with R_1\n",
        "for i in range(1, N):\n",
        "    R_i = R_1 + np.random.normal(0.001, 0.02, 100)\n",
        "    returns[i] = R_i # Set each row of returns equal to the new R_i array\n",
        "    assets[i] = np.cumprod(R_i)\n",
        "    \n",
        "mean_returns = [(np.mean(R) - 1)*100 for R in returns]\n",
        "return_volatilities = [np.std(R) for R in returns]"
      ],
      "execution_count": 39,
      "outputs": []
    },
    {
      "cell_type": "code",
      "metadata": {
        "id": "TWNXUTTEg3e2"
      },
      "source": [
        "for i in range(1, M):\n",
        "    R_i = R_2 + np.random.normal(0.001, 0.01, 40)\n",
        "    returns1[i] = R_i # Set each row of returns equal to the new R_i array\n",
        "    assets1[i] = np.cumprod(R_i)\n",
        "    \n",
        "mean_returns1 = [(np.mean(R) - 1)*100 for R in returns1]\n",
        "return_volatilities1 = [np.std(R) for R in returns1]"
      ],
      "execution_count": 40,
      "outputs": []
    },
    {
      "cell_type": "markdown",
      "metadata": {
        "id": "h737Ec5-BW7C"
      },
      "source": [
        "Here we generate the remaining $N - 1$ securities that we want in our universe by adding random noise to $R_1$. This ensures that our $N - 1$ other assets will be correlated with the base asset because they have some underlying information that is shared.\n",
        "\n",
        "Let's plot what the mean return of each asset looks like:"
      ]
    },
    {
      "cell_type": "code",
      "metadata": {
        "scrolled": false,
        "id": "cE0AqU6OBW7C",
        "colab": {
          "base_uri": "https://localhost:8080/",
          "height": 295
        },
        "outputId": "69a0793b-d2be-42c8-cfd0-1f119124805a"
      },
      "source": [
        "plt.bar(np.arange(len(mean_returns)), mean_returns)\n",
        "plt.xlabel('Stock')\n",
        "plt.ylabel('Returns')\n",
        "plt.title('Returns for {0} Random Assets'.format(N));"
      ],
      "execution_count": 41,
      "outputs": [
        {
          "output_type": "display_data",
          "data": {
            "image/png": "[encoded data removed]",
            "text/plain": [
              "<Figure size 432x288 with 1 Axes>"
            ]
          },
          "metadata": {
            "tags": [],
            "needs_background": "light"
          }
        }
      ]
    },
    {
      "cell_type": "code",
      "metadata": {
        "colab": {
          "base_uri": "https://localhost:8080/",
          "height": 295
        },
        "id": "ywOzc4AerSWK",
        "outputId": "b2b9bfcd-6d2d-4b5b-cf5b-5780b2619afc"
      },
      "source": [
        "plt.bar(np.arange(len(mean_returns1)), mean_returns1)\n",
        "plt.xlabel('Stock')\n",
        "plt.ylabel('Returns')\n",
        "plt.title('Returns for {0} Random Assets'.format(M));"
      ],
      "execution_count": 42,
      "outputs": [
        {
          "output_type": "display_data",
          "data": {
            "image/png": "[encoded data removed]",
            "text/plain": [
              "<Figure size 432x288 with 1 Axes>"
            ]
          },
          "metadata": {
            "tags": [],
            "needs_background": "light"
          }
        }
      ]
    },
    {
      "cell_type": "markdown",
      "metadata": {
        "id": "mfS9P9LCBW7C"
      },
      "source": [
        "### Calculating Expected Return\n",
        "\n",
        "So we have a universe of stocks. Great! Now let's put them together in a portfolio and calculate its expected return and risk.\n",
        "\n",
        "We will start off by generating $N$ random weights for each asset in our portfolio."
      ]
    },
    {
      "cell_type": "code",
      "metadata": {
        "id": "e_nYQC0WBW7C"
      },
      "source": [
        "weights = np.random.uniform(0, 1, N)\n",
        "weights = weights/np.sum(weights)"
      ],
      "execution_count": 43,
      "outputs": []
    },
    {
      "cell_type": "code",
      "metadata": {
        "id": "sKYekt0MsLe4"
      },
      "source": [
        "weights1 = np.random.uniform(0, 1, M)\n",
        "weights1 = weights1/np.sum(weights1)"
      ],
      "execution_count": 44,
      "outputs": []
    },
    {
      "cell_type": "markdown",
      "metadata": {
        "id": "VJrrbvg0BW7C"
      },
      "source": [
        "We have to rescale the weights so that they all add up to $1$. We do this by scaling the weights vector by the sum total of all the weights. This step ensures that we will be using $100\\%$ of the portfolio's cash.\n",
        "\n",
        "To calculate the mean return of the portfolio, we have to scale each asset's return by its designated weight. We can pull each element of each array and multiply them individually, but it's quicker to use NumPy's linear algebra methods. The function that we want is `dot()`. This will calculate the dot product between two arrays for us. So if $v = \\left[ 1, 2, 3 \\right]$ and $w = \\left[4, 5, 6 \\right]$, then:\n",
        "\n",
        "$$ v \\cdot w = 1 \\times 4 + 2 \\times 5 + 3 \\times 6 $$\n",
        "\n",
        "For a one-dimensional vector, the dot product will multiply each element pointwise and add all the products together! In our case, we have a vector of weights, $\\omega = \\left[ \\omega_1, \\omega_2, \\dots \\omega_N\\right]$ and a vector of returns, $\\mu = \\left[ \\mu_1, \\mu_2, \\dots, \\mu_N\\right]$. If we take the dot product of these two we will get:\n",
        "\n",
        "$$ \\omega \\cdot \\mu = \\omega_1\\mu_1 + \\omega_2\\mu_2 + \\dots + \\omega_N\\mu_N = \\mu_P $$\n",
        "\n",
        "This yields the sum of all the asset returns scaled by their respective weights. This the the portfolio's overall expected return!"
      ]
    },
    {
      "cell_type": "code",
      "metadata": {
        "id": "eq9RFsATBW7D",
        "colab": {
          "base_uri": "https://localhost:8080/"
        },
        "outputId": "fad431e9-6405-4a25-fd4d-25da7ec9474b"
      },
      "source": [
        "p_returns = np.dot(weights, mean_returns)\n",
        "print (\"Expected return of the portfolio: \", p_returns)"
      ],
      "execution_count": 45,
      "outputs": [
        {
          "output_type": "stream",
          "text": [
            "Expected return of the portfolio:  0.8453465582942894\n"
          ],
          "name": "stdout"
        }
      ]
    },
    {
      "cell_type": "code",
      "metadata": {
        "colab": {
          "base_uri": "https://localhost:8080/"
        },
        "id": "EHNLrBM4syiS",
        "outputId": "92d921d2-212d-4318-f764-43393b308975"
      },
      "source": [
        "p_returns1 = np.dot(weights1, mean_returns1)\n",
        "print (\"Expected return of the portfolio: \", p_returns1)"
      ],
      "execution_count": 46,
      "outputs": [
        {
          "output_type": "stream",
          "text": [
            "Expected return of the portfolio:  1.3654964614027998\n"
          ],
          "name": "stdout"
        }
      ]
    },
    {
      "cell_type": "markdown",
      "metadata": {
        "id": "G0ysjg1TBW7D"
      },
      "source": [
        "Calculating the mean return is fairly intuitive and does not require too much explanation of linear algebra. However, calculating the variance of our portfolio requires a bit more background."
      ]
    },
    {
      "cell_type": "markdown",
      "metadata": {
        "id": "z-fqz0GhBW7E"
      },
      "source": [
        "#### Beware of NaN values\n",
        "\n",
        "Most of the time, all of these calculations will work without an issue. However, when working with real data we run the risk of having `nan` values in our arrays. This is NumPy's way of saying that the data there is missing or doesn't exist. These `nan` values can lead to errors in mathematical calculations so it is important to be aware of whether your array contains `nan` values and to know how to drop them."
      ]
    },
    {
      "cell_type": "code",
      "metadata": {
        "id": "hA9Qs81VBW7E",
        "colab": {
          "base_uri": "https://localhost:8080/"
        },
        "outputId": "b2b97205-ab8d-473f-c8e8-ecf186f43a1c"
      },
      "source": [
        "v = np.array([1, 2, np.nan, 4, 5])\n",
        "print (v)"
      ],
      "execution_count": 47,
      "outputs": [
        {
          "output_type": "stream",
          "text": [
            "[ 1.  2. nan  4.  5.]\n"
          ],
          "name": "stdout"
        }
      ]
    },
    {
      "cell_type": "code",
      "metadata": {
        "colab": {
          "base_uri": "https://localhost:8080/"
        },
        "id": "A3fq9WzbdGdI",
        "outputId": "37a0e35c-4b8a-40b6-c63b-8d758bd1cd68"
      },
      "source": [
        "b = np.array([np.nan, 3, np.nan, 2, 9])\n",
        "print (b)"
      ],
      "execution_count": 48,
      "outputs": [
        {
          "output_type": "stream",
          "text": [
            "[nan  3. nan  2.  9.]\n"
          ],
          "name": "stdout"
        }
      ]
    },
    {
      "cell_type": "markdown",
      "metadata": {
        "id": "yOyFoJ29BW7E"
      },
      "source": [
        "Let's see what happens when we try to take the mean of this array."
      ]
    },
    {
      "cell_type": "code",
      "metadata": {
        "id": "ykHhdzU4BW7E",
        "colab": {
          "base_uri": "https://localhost:8080/"
        },
        "outputId": "5c6f39c4-b491-4c27-d278-91b02eefa339"
      },
      "source": [
        "print (np.mean(v))"
      ],
      "execution_count": 49,
      "outputs": [
        {
          "output_type": "stream",
          "text": [
            "nan\n"
          ],
          "name": "stdout"
        }
      ]
    },
    {
      "cell_type": "code",
      "metadata": {
        "colab": {
          "base_uri": "https://localhost:8080/"
        },
        "id": "LV_8_ziqdSPs",
        "outputId": "da8a8861-6ed3-46a2-d542-3bca0c2b963c"
      },
      "source": [
        "print (np.mean(b))"
      ],
      "execution_count": 50,
      "outputs": [
        {
          "output_type": "stream",
          "text": [
            "nan\n"
          ],
          "name": "stdout"
        }
      ]
    },
    {
      "cell_type": "markdown",
      "metadata": {
        "id": "hJHvqUfDBW7F"
      },
      "source": [
        "Clearly, `nan` values can have a large impact on our calculations. Fortunately, we can check for `nan` values with the `isnan()` function."
      ]
    },
    {
      "cell_type": "code",
      "metadata": {
        "id": "6h2-REc-BW7F",
        "colab": {
          "base_uri": "https://localhost:8080/"
        },
        "outputId": "c31cc012-50eb-4183-894e-999edca7a5cc"
      },
      "source": [
        "np.isnan(v)"
      ],
      "execution_count": 51,
      "outputs": [
        {
          "output_type": "execute_result",
          "data": {
            "text/plain": [
              "array([False, False,  True, False, False])"
            ]
          },
          "metadata": {
            "tags": []
          },
          "execution_count": 51
        }
      ]
    },
    {
      "cell_type": "code",
      "metadata": {
        "colab": {
          "base_uri": "https://localhost:8080/"
        },
        "id": "nSX0qjdQdYRP",
        "outputId": "08e4153b-d08e-43e3-b4ab-7910f9bb3caf"
      },
      "source": [
        "np.isnan(b)"
      ],
      "execution_count": 52,
      "outputs": [
        {
          "output_type": "execute_result",
          "data": {
            "text/plain": [
              "array([ True, False,  True, False, False])"
            ]
          },
          "metadata": {
            "tags": []
          },
          "execution_count": 52
        }
      ]
    },
    {
      "cell_type": "markdown",
      "metadata": {
        "id": "7UdtFqrJBW7F"
      },
      "source": [
        "Calling `isnan()` on an array will call the function on each value of the array, returning a value of `True` if the element is `nan` and `False` if the element is valid. Now, knowing whether your array contains `nan` values is all well and good, but how do we remove `nan`s? Handily enough, NumPy arrays can be indexed by boolean values (`True` or `False`). If we use a boolean array to index an array, we will remove all values of the array that register as `False` under the condition. We use the `isnan()` function in create a boolean array, assigning a `True` value to everything that is *not* `nan` and a `False` to the `nan`s and we use that to index the same array."
      ]
    },
    {
      "cell_type": "code",
      "metadata": {
        "id": "u-w60zCyBW7G",
        "colab": {
          "base_uri": "https://localhost:8080/"
        },
        "outputId": "357c5cf1-44f9-48f1-a79a-ef1a82f163d3"
      },
      "source": [
        "ix = ~np.isnan(v) # the ~ indicates a logical not, inverting the bools\n",
        "print (v[ix]) # We can also just write v = v[~np.isnan(v)]"
      ],
      "execution_count": 53,
      "outputs": [
        {
          "output_type": "stream",
          "text": [
            "[1. 2. 4. 5.]\n"
          ],
          "name": "stdout"
        }
      ]
    },
    {
      "cell_type": "code",
      "metadata": {
        "colab": {
          "base_uri": "https://localhost:8080/"
        },
        "id": "i1F-d7GPdyIj",
        "outputId": "925ae6ac-9f5f-4e31-c930-9988c231a7ac"
      },
      "source": [
        "iy = ~np.isnan(b)\n",
        "print (b[iy])"
      ],
      "execution_count": 54,
      "outputs": [
        {
          "output_type": "stream",
          "text": [
            "[3. 2. 9.]\n"
          ],
          "name": "stdout"
        }
      ]
    },
    {
      "cell_type": "code",
      "metadata": {
        "id": "Rub04lncBW7G",
        "colab": {
          "base_uri": "https://localhost:8080/"
        },
        "outputId": "c2070550-b77a-416f-f703-0b6e0d7130c3"
      },
      "source": [
        "print (np.mean(v[ix]))"
      ],
      "execution_count": 55,
      "outputs": [
        {
          "output_type": "stream",
          "text": [
            "3.0\n"
          ],
          "name": "stdout"
        }
      ]
    },
    {
      "cell_type": "code",
      "metadata": {
        "colab": {
          "base_uri": "https://localhost:8080/"
        },
        "id": "Db0l-asUfb58",
        "outputId": "138877b3-3847-494f-8a38-e08ce8d3f804"
      },
      "source": [
        "print(np.mean(b[iy]))"
      ],
      "execution_count": 56,
      "outputs": [
        {
          "output_type": "stream",
          "text": [
            "4.666666666666667\n"
          ],
          "name": "stdout"
        }
      ]
    },
    {
      "cell_type": "markdown",
      "metadata": {
        "id": "lIlHPSGMBW7G"
      },
      "source": [
        "There are a few shortcuts to this process in the form of NumPy functions specifically built to handle them, such as `nanmean()`."
      ]
    },
    {
      "cell_type": "code",
      "metadata": {
        "id": "2GK_GfRUBW7G",
        "colab": {
          "base_uri": "https://localhost:8080/"
        },
        "outputId": "dbd16d46-4bd2-4a6a-fa89-4100de552f16"
      },
      "source": [
        "print (np.nanmean(v))"
      ],
      "execution_count": 57,
      "outputs": [
        {
          "output_type": "stream",
          "text": [
            "3.0\n"
          ],
          "name": "stdout"
        }
      ]
    },
    {
      "cell_type": "code",
      "metadata": {
        "colab": {
          "base_uri": "https://localhost:8080/"
        },
        "id": "ApLPTUoMfsbp",
        "outputId": "75beed35-39b7-4d88-afa5-aa8abedda5d9"
      },
      "source": [
        "print (np.nanmean(b))"
      ],
      "execution_count": 58,
      "outputs": [
        {
          "output_type": "stream",
          "text": [
            "4.666666666666667\n"
          ],
          "name": "stdout"
        }
      ]
    },
    {
      "cell_type": "markdown",
      "metadata": {
        "id": "C1YzHQKPBW7G"
      },
      "source": [
        "The `nanmean()` function simply calculates the mean of the array as if there were no `nan` values at all! There are a few more of these functions, so feel free to read more about them in the [documentation](https://docs.scipy.org/doc/numpy/user/index.html). These indeterminate values are more an issue with data than linear algebra itself so it is helpful that there are ways to handle them."
      ]
    },
    {
      "cell_type": "markdown",
      "metadata": {
        "id": "xdkwzGzBBW7G"
      },
      "source": [
        "### Conclusion\n",
        "\n",
        "Linear algebra is pervasive in finance and in general. For example, the calculation of *optimal* weights according to modern portfolio theory is done using linear algebra techniques. The arrays and functions in NumPy allow us to handle these calculations in an intuitive way. For a quick intro to linear algebra and how to use NumPy to do more significant matrix calculations, proceed to the next section."
      ]
    },
    {
      "cell_type": "markdown",
      "metadata": {
        "id": "PyUdwdHaBW7G"
      },
      "source": [
        "## A brief foray into linear algebra\n",
        "\n",
        "Let's start with a basic overview of some linear algebra. Linear algebra comes down to the multiplication and composition of scalar and matrix values. A scalar value is just a real number that we multiply against an array. When we scale a matrix or array using a scalar, we multiply each individual element of that matrix or array by the scalar.\n",
        "\n",
        "A matrix is a collection of values, typically represented by an $m \\times n$ grid, where $m$ is the number of rows and $n$ is the number of columns. The edge lengths $m$ and $n$ do not necessarily have to be different. If we have $m = n$, we call this a square matrix. A particularly interesting case of a matrix is when $m = 1$ or $n = 1$. In this case we have a special case of a matrix that we call a vector. While there is a matrix object in NumPy we will be doing everything using NumPy arrays because they can have dimensions greater than $2$. For the purpose of this section, we will be using matrix and array interchangeably.\n",
        "\n",
        "We can express the matrix equation as:\n",
        "\n",
        "$$ y = A\\cdot x $$\n",
        "\n",
        "Where $A$ is an $m \\times n$ matrix, $y$ is a $m \\times 1$ vector, and $x$ is a $n \\times 1$ vector. On the right-hand side of the equation we are multiplying a matrix by a vector. This requires a little bit more clarification, lest we think that we can go about multiplying any matrices by any other matrices.\n",
        "\n",
        "#### Matrix multiplication\n",
        "\n",
        "With matrix multiplication, the order in which the matrices are multiplied matters. Multiplying a matrix on the left side by another matrix may be just fine, but multiplying on the right may be undefined."
      ]
    },
    {
      "cell_type": "code",
      "metadata": {
        "collapsed": true,
        "id": "KL-2F0JMBW7H"
      },
      "source": [
        "A = np.array([\n",
        "        [1, 2, 3, 12, 6],\n",
        "        [4, 5, 6, 15, 20],\n",
        "        [7, 8, 9, 10, 10]        \n",
        "    ])\n",
        "B = np.array([\n",
        "        [4, 4, 2],\n",
        "        [2, 3, 1],\n",
        "        [6, 5, 8],\n",
        "        [9, 9, 9]\n",
        "    ])"
      ],
      "execution_count": 59,
      "outputs": []
    },
    {
      "cell_type": "code",
      "metadata": {
        "id": "zR0IcORpgEmi"
      },
      "source": [
        "C = np.array([\n",
        "        [1, 3, 8],\n",
        "        [4, 5, 6],\n",
        "        [6, 5, 8],\n",
        "    ])\n",
        "D = np.array([\n",
        "        [2, 1],\n",
        "        [4, 3],\n",
        "        [7, 8]        \n",
        "    ])"
      ],
      "execution_count": 60,
      "outputs": []
    },
    {
      "cell_type": "markdown",
      "metadata": {
        "id": "MEmz-kTzBW7H"
      },
      "source": [
        "Notice that the above-defined matrices, $A$ and $B$, have different dimensions. $A$ is $3 \\times 5$ and $B$ is $4 \\times 3$. The general rule of what can and cannot be multiplied in which order is based on the dimensions of the matrices. Specifically, the number of columns in the matrix on the left must be equal to the number of rows in the matrix on the right. In super informal terms, let's say that we have an $m \\times n$ matrix and a $p \\times q$ matrix. If we multiply the first by the second on the right, we get the following:\n",
        "\n",
        "$$ (m \\times n) \\cdot (p \\times q) = (m \\times q) $$\n",
        "\n",
        "So the resultant product has the same number of rows as the left matrix and the same number of columns as the right matrix. This limitation of matrix multiplication with regards to dimensions is important to keep track of when writing code. To demonstrate this, we use the `dot()` function to multiply our matrices below:"
      ]
    },
    {
      "cell_type": "code",
      "metadata": {
        "id": "Do4oGoo8BW7H"
      },
      "source": [
        "#print(np.dot(A, B)) #Esta linea no se puede ejecutar porque la multiplicación A X B no es posible porque las dimensiones de A son 3x5 y las de B son 4x3 y 4 no es igual a 5"
      ],
      "execution_count": 61,
      "outputs": []
    },
    {
      "cell_type": "code",
      "metadata": {
        "id": "gCN7IP3uiQdv"
      },
      "source": [
        "#print(np.dot(D, C)) #Esta linea no se puede ejecutar porque la multiplicación D X C no es posible porque las dimensiones de D son 3x2 y las de C son 3x3 y 3 no es igual a 2"
      ],
      "execution_count": 62,
      "outputs": []
    },
    {
      "cell_type": "markdown",
      "metadata": {
        "id": "uRkrAo1hBW7H"
      },
      "source": [
        "These results make sense in accordance with our rule. Multiplying a $3 \\times 5$ matrix on the right by a $4 \\times 3$ matrix results in an error while multiplying a $4 \\times 3$ matrix on the right by a $3 \\times 5$ matrix results in a $4 \\times 5$ matrix."
      ]
    },
    {
      "cell_type": "code",
      "metadata": {
        "id": "IChisOlrBW7H",
        "colab": {
          "base_uri": "https://localhost:8080/"
        },
        "outputId": "c79122a7-87b6-4128-f677-f3dcac87f38b"
      },
      "source": [
        "print (np.dot(B, A))"
      ],
      "execution_count": 63,
      "outputs": [
        {
          "output_type": "stream",
          "text": [
            "[[ 34  44  54 128 124]\n",
            " [ 21  27  33  79  82]\n",
            " [ 82 101 120 227 216]\n",
            " [108 135 162 333 324]]\n"
          ],
          "name": "stdout"
        }
      ]
    },
    {
      "cell_type": "code",
      "metadata": {
        "colab": {
          "base_uri": "https://localhost:8080/"
        },
        "id": "k5591ArmjQ6D",
        "outputId": "70040fcd-a630-4026-8c9b-47589a74e730"
      },
      "source": [
        "print (np.dot(C, D))"
      ],
      "execution_count": 64,
      "outputs": [
        {
          "output_type": "stream",
          "text": [
            "[[70 74]\n",
            " [70 67]\n",
            " [88 85]]\n"
          ],
          "name": "stdout"
        }
      ]
    },
    {
      "cell_type": "markdown",
      "metadata": {
        "id": "IxSfb4ssBW7H"
      },
      "source": [
        "### Portfolio Variance\n",
        "\n",
        "Let's return to our portfolio example from before. We calculated the expected return of the portfolio, but how do we calculate the variance? We start by trying to evaluate the portfolio as a sum of each individual asset, scaled by it's weight.\n",
        "\n",
        "$$ VAR[P] = VAR[\\omega_1 S_1 + \\omega_2 S_2 + \\cdots + \\omega_N S_N] $$\n",
        "\n",
        "Where $S_0, \\cdots, S_N$ are the assets contained within our universe. If all of our assets were independent of each other, we could simply evaluate this as\n",
        "\n",
        "$$ VAR[P] = VAR[\\omega_1 S_1] + VAR[\\omega_2 S_2] + \\cdots + VAR[\\omega_N S_N] = \\omega_1^2\\sigma_1^2 + \\omega_2^2\\sigma_2^2 + \\cdots + \\omega_N^2\\sigma_N^2 $$\n",
        "\n",
        "However, all of our assets depend on each other by their construction. They are all in some way related to our base asset and therefore each other. We thus have to calculate the variance of the portfolio by including the individual pairwise covariances of each asset. Our formula for the variance of the portfolio:\n",
        "\n",
        "$$ VAR[P] = \\sigma_P^2 = \\sum_i \\omega_i^2\\sigma_i^2 + \\sum_i\\sum_{i\\neq j} \\omega_i\\omega_j\\sigma_i\\sigma_j\\rho_{i, j}, \\ i, j \\in \\lbrace 1, 2, \\cdots, N \\rbrace $$\n",
        "\n",
        "Where $\\rho_{i,j}$ is the correlation between $S_i$ and $S_j$, $\\rho_{i, j} = \\frac{COV[S_i, S_j]}{\\sigma_i\\sigma_j}$. This seems exceedingly complicated, but we can easily handle all of this using NumPy arrays. First, we calculate the covariance matrix that relates all the individual stocks in our universe."
      ]
    },
    {
      "cell_type": "code",
      "metadata": {
        "id": "OnBNd6K3BW7I",
        "colab": {
          "base_uri": "https://localhost:8080/"
        },
        "outputId": "da4b8424-cf4b-4426-ef3c-8b240ce28afd"
      },
      "source": [
        "cov_mat = np.cov(returns)\n",
        "print (cov_mat)"
      ],
      "execution_count": 65,
      "outputs": [
        {
          "output_type": "stream",
          "text": [
            "[[0.00094537 0.00094663 0.00101637 0.00090958 0.00090703 0.00096862\n",
            "  0.00103559 0.00089201 0.00088978 0.00091542]\n",
            " [0.00094663 0.00135668 0.0010074  0.00092322 0.00089181 0.00096227\n",
            "  0.00108763 0.0008744  0.00099377 0.0008787 ]\n",
            " [0.00101637 0.0010074  0.00142533 0.00098599 0.00096927 0.00107366\n",
            "  0.00108585 0.00091452 0.00102574 0.00095813]\n",
            " [0.00090958 0.00092322 0.00098599 0.00127447 0.00084516 0.00093537\n",
            "  0.00094638 0.00085437 0.00088406 0.0008807 ]\n",
            " [0.00090703 0.00089181 0.00096927 0.00084516 0.00116504 0.0009126\n",
            "  0.00098301 0.00084065 0.00081478 0.00092301]\n",
            " [0.00096862 0.00096227 0.00107366 0.00093537 0.0009126  0.00138965\n",
            "  0.00102182 0.00093116 0.00091259 0.00088315]\n",
            " [0.00103559 0.00108763 0.00108585 0.00094638 0.00098301 0.00102182\n",
            "  0.00160187 0.00101358 0.00101854 0.00100817]\n",
            " [0.00089201 0.0008744  0.00091452 0.00085437 0.00084065 0.00093116\n",
            "  0.00101358 0.00116784 0.00078957 0.00084398]\n",
            " [0.00088978 0.00099377 0.00102574 0.00088406 0.00081478 0.00091259\n",
            "  0.00101854 0.00078957 0.00135552 0.00087004]\n",
            " [0.00091542 0.0008787  0.00095813 0.0008807  0.00092301 0.00088315\n",
            "  0.00100817 0.00084398 0.00087004 0.00134748]]\n"
          ],
          "name": "stdout"
        }
      ]
    },
    {
      "cell_type": "code",
      "metadata": {
        "colab": {
          "base_uri": "https://localhost:8080/"
        },
        "id": "wCRJHhTLjdSH",
        "outputId": "8772e5f6-6395-41fb-f1d2-ea7b9ed91f00"
      },
      "source": [
        "cov_mat1 = np.cov(returns1)\n",
        "print (cov_mat1)"
      ],
      "execution_count": 66,
      "outputs": [
        {
          "output_type": "stream",
          "text": [
            "[[0.00090775 0.00091133 0.00093374 0.00093802 0.00096661 0.0008619\n",
            "  0.0009577  0.00087088 0.00098733 0.00092789 0.00087927 0.0007924\n",
            "  0.00086614 0.00088452 0.00091225 0.00086559 0.0009203  0.00094963\n",
            "  0.00079776 0.00083334]\n",
            " [0.00091133 0.00100255 0.00090636 0.0009405  0.00097034 0.00088025\n",
            "  0.00096761 0.00085525 0.00098088 0.00094611 0.00084425 0.000788\n",
            "  0.00087724 0.00088886 0.00093658 0.0008911  0.00090448 0.00095606\n",
            "  0.00077076 0.0008653 ]\n",
            " [0.00093374 0.00090636 0.00107617 0.00097339 0.00098022 0.00086229\n",
            "  0.00098018 0.00089595 0.00103364 0.00090637 0.00090911 0.00079465\n",
            "  0.00086404 0.00088777 0.00092735 0.00090752 0.00099524 0.00093653\n",
            "  0.0008328  0.00082994]\n",
            " [0.00093802 0.0009405  0.00097339 0.00102485 0.0010017  0.00088451\n",
            "  0.00098805 0.00088924 0.00101996 0.00094871 0.00091636 0.00081518\n",
            "  0.00090664 0.00091605 0.00093286 0.00087771 0.00094151 0.00099679\n",
            "  0.00083146 0.0008595 ]\n",
            " [0.00096661 0.00097034 0.00098022 0.0010017  0.00110415 0.00093422\n",
            "  0.00101535 0.00093174 0.00102195 0.00100975 0.00092884 0.00086138\n",
            "  0.00091817 0.00095309 0.00096893 0.00090009 0.00097509 0.00099533\n",
            "  0.00084822 0.00090564]\n",
            " [0.0008619  0.00088025 0.00086229 0.00088451 0.00093422 0.00092222\n",
            "  0.00090099 0.0008228  0.00092337 0.00088267 0.00083914 0.00075732\n",
            "  0.00082072 0.00085511 0.00087862 0.00080548 0.00086867 0.00088938\n",
            "  0.00075124 0.0008207 ]\n",
            " [0.0009577  0.00096761 0.00098018 0.00098805 0.00101535 0.00090099\n",
            "  0.00109688 0.00090348 0.00103433 0.00099061 0.00094137 0.00084146\n",
            "  0.00092952 0.00092642 0.00095934 0.00093167 0.00096715 0.00098139\n",
            "  0.00084242 0.00092434]\n",
            " [0.00087088 0.00085525 0.00089595 0.00088924 0.00093174 0.0008228\n",
            "  0.00090348 0.00090757 0.00095316 0.00088008 0.0008531  0.0007639\n",
            "  0.00080833 0.00084696 0.00088838 0.00081801 0.00087937 0.00091936\n",
            "  0.00078992 0.00077793]\n",
            " [0.00098733 0.00098088 0.00103364 0.00101996 0.00102195 0.00092337\n",
            "  0.00103433 0.00095316 0.00116579 0.00100706 0.00093489 0.00085905\n",
            "  0.00093332 0.00093114 0.00096973 0.00094694 0.00102846 0.00102322\n",
            "  0.00085862 0.00086526]\n",
            " [0.00092789 0.00094611 0.00090637 0.00094871 0.00100975 0.00088267\n",
            "  0.00099061 0.00088008 0.00100706 0.00104576 0.00089183 0.0008268\n",
            "  0.0008972  0.00091003 0.00092108 0.0008904  0.00091107 0.00100141\n",
            "  0.00078284 0.00088641]\n",
            " [0.00087927 0.00084425 0.00090911 0.00091636 0.00092884 0.00083914\n",
            "  0.00094137 0.0008531  0.00093489 0.00089183 0.00095045 0.00074483\n",
            "  0.00081554 0.0008608  0.0008903  0.00082321 0.0008791  0.00092748\n",
            "  0.0008033  0.00082426]\n",
            " [0.0007924  0.000788   0.00079465 0.00081518 0.00086138 0.00075732\n",
            "  0.00084146 0.0007639  0.00085905 0.0008268  0.00074483 0.00078861\n",
            "  0.00077485 0.00079056 0.00077172 0.00072133 0.00079253 0.00086662\n",
            "  0.00069647 0.00071792]\n",
            " [0.00086614 0.00087724 0.00086404 0.00090664 0.00091817 0.00082072\n",
            "  0.00092952 0.00080833 0.00093332 0.0008972  0.00081554 0.00077485\n",
            "  0.00091507 0.00085818 0.00084283 0.00082616 0.00086729 0.00092163\n",
            "  0.00076181 0.00081947]\n",
            " [0.00088452 0.00088886 0.00088777 0.00091605 0.00095309 0.00085511\n",
            "  0.00092642 0.00084696 0.00093114 0.00091003 0.0008608  0.00079056\n",
            "  0.00085818 0.0009299  0.00089404 0.00082314 0.00090319 0.00093425\n",
            "  0.00077461 0.000829  ]\n",
            " [0.00091225 0.00093658 0.00092735 0.00093286 0.00096893 0.00087862\n",
            "  0.00095934 0.00088838 0.00096973 0.00092108 0.0008903  0.00077172\n",
            "  0.00084283 0.00089404 0.00104711 0.00089465 0.0008943  0.00096081\n",
            "  0.00077318 0.00081534]\n",
            " [0.00086559 0.0008911  0.00090752 0.00087771 0.00090009 0.00080548\n",
            "  0.00093167 0.00081801 0.00094694 0.0008904  0.00082321 0.00072133\n",
            "  0.00082616 0.00082314 0.00089465 0.00092312 0.0008606  0.00089594\n",
            "  0.00075162 0.00082726]\n",
            " [0.0009203  0.00090448 0.00099524 0.00094151 0.00097509 0.00086867\n",
            "  0.00096715 0.00087937 0.00102846 0.00091107 0.0008791  0.00079253\n",
            "  0.00086729 0.00090319 0.0008943  0.0008606  0.0010651  0.00092666\n",
            "  0.0008102  0.00080971]\n",
            " [0.00094963 0.00095606 0.00093653 0.00099679 0.00099533 0.00088938\n",
            "  0.00098139 0.00091936 0.00102322 0.00100141 0.00092748 0.00086662\n",
            "  0.00092163 0.00093425 0.00096081 0.00089594 0.00092666 0.00112299\n",
            "  0.00083145 0.00086212]\n",
            " [0.00079776 0.00077076 0.0008328  0.00083146 0.00084822 0.00075124\n",
            "  0.00084242 0.00078992 0.00085862 0.00078284 0.0008033  0.00069647\n",
            "  0.00076181 0.00077461 0.00077318 0.00075162 0.0008102  0.00083145\n",
            "  0.00080666 0.00072356]\n",
            " [0.00083334 0.0008653  0.00082994 0.0008595  0.00090564 0.0008207\n",
            "  0.00092434 0.00077793 0.00086526 0.00088641 0.00082426 0.00071792\n",
            "  0.00081947 0.000829   0.00081534 0.00082726 0.00080971 0.00086212\n",
            "  0.00072356 0.00090367]]\n"
          ],
          "name": "stdout"
        }
      ]
    },
    {
      "cell_type": "markdown",
      "metadata": {
        "id": "m4GRh6YnBW7I"
      },
      "source": [
        "This array is not formatted particularly nicely, but a covariance matrix is a very important concept. The covariance matrix is of the form:\n",
        "\n",
        "$$ \\left[\\begin{matrix}\n",
        "VAR[S_1] & COV[S_1, S_2] & \\cdots & COV[S_1, S_N] \\\\\n",
        "COV[S_2, S_1] & VAR[S_2] & \\cdots & COV[S_2, S_N] \\\\\n",
        "\\vdots & \\vdots & \\ddots & \\vdots \\\\\n",
        "COV[S_N, S_1] & COV[S_N, S_2] & \\cdots & VAR[S_N]\n",
        "\\end{matrix}\\right] $$\n",
        "\n",
        "So each diagonal entry is the variance of that asset at that index and each off-diagonal holds the covariance of two assets indexed by the column and row number. What is important is that once we have the covariance matrix we are able to do some very quick linear algebra to calculate the variance of the overall portfolio. We can represent the variance of the portfolio in array form as:\n",
        "\n",
        "$$ \\sigma_p^2 = \\omega \\ C \\ \\omega^\\intercal$$\n",
        "\n",
        "Where $C$ is the covariance matrix of all the assets and $\\omega$ is the array containing the weights of each individual asset. The superscript $\\intercal$ on the second $\\omega$ listed above denotes the **transpose** of $\\omega$. For a reference on the evaluation of the variance of a portfolio as a matrix equation, please see the Wikipedia article on [modern portfolio theory](https://en.wikipedia.org/wiki/Modern_portfolio_theory).\n",
        "\n",
        "The transpose of an array is what you get when you switch the rows and columns of an array. This has the effect of reflecting an array across what you might imagine as a diagonal. For example, take our array $A$ from before:"
      ]
    },
    {
      "cell_type": "code",
      "metadata": {
        "id": "3Rb5pfEQBW7I",
        "colab": {
          "base_uri": "https://localhost:8080/"
        },
        "outputId": "202f088d-f8ab-4938-f9c9-efdc529a22bd"
      },
      "source": [
        "print (A)"
      ],
      "execution_count": 67,
      "outputs": [
        {
          "output_type": "stream",
          "text": [
            "[[ 1  2  3 12  6]\n",
            " [ 4  5  6 15 20]\n",
            " [ 7  8  9 10 10]]\n"
          ],
          "name": "stdout"
        }
      ]
    },
    {
      "cell_type": "code",
      "metadata": {
        "colab": {
          "base_uri": "https://localhost:8080/"
        },
        "id": "IMFeTCCAj602",
        "outputId": "a8519f4f-b1d0-4f30-f0e1-d1580a432dee"
      },
      "source": [
        "print (D)"
      ],
      "execution_count": 68,
      "outputs": [
        {
          "output_type": "stream",
          "text": [
            "[[2 1]\n",
            " [4 3]\n",
            " [7 8]]\n"
          ],
          "name": "stdout"
        }
      ]
    },
    {
      "cell_type": "markdown",
      "metadata": {
        "id": "Qwu9LLgiBW7I"
      },
      "source": [
        "The transpose looks like a mirror image of the same array."
      ]
    },
    {
      "cell_type": "code",
      "metadata": {
        "id": "_JqDL9SqBW7I",
        "colab": {
          "base_uri": "https://localhost:8080/"
        },
        "outputId": "63bd13a1-ab59-4387-b46d-d51a9ec671f7"
      },
      "source": [
        "print (np.transpose(A))"
      ],
      "execution_count": 69,
      "outputs": [
        {
          "output_type": "stream",
          "text": [
            "[[ 1  4  7]\n",
            " [ 2  5  8]\n",
            " [ 3  6  9]\n",
            " [12 15 10]\n",
            " [ 6 20 10]]\n"
          ],
          "name": "stdout"
        }
      ]
    },
    {
      "cell_type": "code",
      "metadata": {
        "colab": {
          "base_uri": "https://localhost:8080/"
        },
        "id": "qLgYklO9kCYb",
        "outputId": "335d4167-596e-49d8-b661-8e365e26a59d"
      },
      "source": [
        "print (np.transpose(D))"
      ],
      "execution_count": 70,
      "outputs": [
        {
          "output_type": "stream",
          "text": [
            "[[2 4 7]\n",
            " [1 3 8]]\n"
          ],
          "name": "stdout"
        }
      ]
    },
    {
      "cell_type": "markdown",
      "metadata": {
        "id": "rlEzYnfbBW7I"
      },
      "source": [
        "But $\\omega$ here is a 1-dimensional array, a vector! It makes perfect to take the transpose of $A$, a $3 \\times 5$ array, as the output will be a $5 \\times 3$ array, but a 1-dimensional array is not quite as intuitive. A typical 1-dimensional array can be thought of as a $1 \\times n$ horizontal vector. Thus, taking the tranpose of this array essentially means changing it into a $n \\times 1$ vertical vector. This makes sense because 1-dimensional arrays are still arrays and any multiplication done between 1-dimensional and higher dimensional arrays must keep in line with our dimensionality issue of matrix multiplication.\n",
        "\n",
        "To make a long story short, we think of $\\omega$ as $1 \\times N$ since we have $N$ securities. This makes it so that $\\omega^\\intercal$ is $N \\times 1$. Again, our covariance matrix is $N \\times N$. So the overall multiplication works out like so, in informal terms:\n",
        "\n",
        "$$ \\text{Dimensions}(\\sigma_p^2) = \\text{Dimensions}(\\omega C \\omega^\\intercal) = (1 \\times N)\\cdot (N \\times N)\\cdot (N \\times 1) = (1 \\times 1)$$\n",
        "\n",
        "Multiplying the covariance matrix on the left by the plain horizontal vector and on the right by that vector's transpose results in the calculation of a single scalar ($1 \\times 1$) value, our portfolio's variance.\n",
        "\n",
        "So knowing this, let's proceed and calculate the portfolio variance! We can easily calculate the product of these arrays by using `dot()` for matrix multiplication, though this time we have to do it twice."
      ]
    },
    {
      "cell_type": "code",
      "metadata": {
        "scrolled": false,
        "id": "wQdnCFKqBW7I",
        "colab": {
          "base_uri": "https://localhost:8080/"
        },
        "outputId": "8e006f47-c5f2-4c92-fde2-86f02091a7bf"
      },
      "source": [
        "# Calculating the portfolio volatility\n",
        "var_p = np.dot(np.dot(weights, cov_mat), weights.T)\n",
        "vol_p = np.sqrt(var_p)\n",
        "print (\"Portfolio volatility: \", vol_p)"
      ],
      "execution_count": 71,
      "outputs": [
        {
          "output_type": "stream",
          "text": [
            "Portfolio volatility:  0.031528794236262384\n"
          ],
          "name": "stdout"
        }
      ]
    },
    {
      "cell_type": "code",
      "metadata": {
        "colab": {
          "base_uri": "https://localhost:8080/"
        },
        "id": "-hQXtnbbkOjn",
        "outputId": "68e570e1-f908-40fb-c94b-6cc3f90aa3b7"
      },
      "source": [
        "var_p1 = np.dot(np.dot(weights1, cov_mat1), weights1.T)\n",
        "vol_p1 = np.sqrt(var_p1)\n",
        "print (\"Portfolio volatility: \", vol_p1)"
      ],
      "execution_count": 72,
      "outputs": [
        {
          "output_type": "stream",
          "text": [
            "Portfolio volatility:  0.02993650105208868\n"
          ],
          "name": "stdout"
        }
      ]
    },
    {
      "cell_type": "markdown",
      "metadata": {
        "id": "H7zlSoKzBW7J"
      },
      "source": [
        "To confirm this calculation, let's simply evaluate the volatility of the portfolio using only NumPy functions."
      ]
    },
    {
      "cell_type": "code",
      "metadata": {
        "id": "GXgbMVfLBW7J",
        "colab": {
          "base_uri": "https://localhost:8080/"
        },
        "outputId": "6d30f733-a059-44ea-c1b3-5a62ec4b032a"
      },
      "source": [
        "# Confirming calculation\n",
        "vol_p_alt = np.sqrt(np.var(np.dot(weights, returns), ddof=1))\n",
        "print (\"Portfolio volatility: \", vol_p_alt)"
      ],
      "execution_count": 73,
      "outputs": [
        {
          "output_type": "stream",
          "text": [
            "Portfolio volatility:  0.031528794236262384\n"
          ],
          "name": "stdout"
        }
      ]
    },
    {
      "cell_type": "code",
      "metadata": {
        "colab": {
          "base_uri": "https://localhost:8080/"
        },
        "id": "2g_DK3IekaC0",
        "outputId": "b4f7f0c9-26c0-47dc-a5ba-3bd6f4b884c6"
      },
      "source": [
        "vol_p_alt1 = np.sqrt(np.var(np.dot(weights1, returns1), ddof=1))\n",
        "print (\"Portfolio volatility: \", vol_p_alt1)"
      ],
      "execution_count": 74,
      "outputs": [
        {
          "output_type": "stream",
          "text": [
            "Portfolio volatility:  0.02993650105208871\n"
          ],
          "name": "stdout"
        }
      ]
    },
    {
      "cell_type": "markdown",
      "metadata": {
        "id": "qPC-xszgBW7J"
      },
      "source": [
        "The `ddof` parameter is a simple integer input that tells the function the number of degrees of freedom to take into account. This is a more statistical concept, but what this tells us that our matrix calculation is correct!\n",
        "\n",
        "A lot of this might not make sense at first glance. It helps to go back and forth between the theory and the code representations until you have a better grasp of the mathematics involved. It is definitely not necessary to be an expert on linear algebra and on matrix operations, but linear algebra can help to streamline the process of working with large amounts of data. For further reading on NumPy, check out the [documentation](https://docs.scipy.org/doc/numpy/user/index.html)."
      ]
    },
    {
      "cell_type": "markdown",
      "metadata": {
        "id": "PTO62tEaBW7J"
      },
      "source": [
        "*This presentation is for informational purposes only and does not constitute an offer to sell, a solicitation to buy, or a recommendation for any security; nor does it constitute an offer to provide investment advisory or other services by Quantopian, Inc. (\"Quantopian\"). Nothing contained herein constitutes investment advice or offers any opinion with respect to the suitability of any security, and any views expressed herein should not be taken as advice to buy, sell, or hold any security or as an endorsement of any security or company.  In preparing the information contained herein, Quantopian, Inc. has not taken into account the investment needs, objectives, and financial circumstances of any particular investor. Any views expressed and data illustrated herein were prepared based upon information, believed to be reliable, available to Quantopian, Inc. at the time of publication. Quantopian makes no guarantees as to their accuracy or completeness. All information is subject to change and may quickly become unreliable for various reasons, including changes in market conditions or economic circumstances.*"
      ]
    }
  ]
}